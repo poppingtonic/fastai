{
 "cells": [
  {
   "cell_type": "code",
   "execution_count": 1,
   "metadata": {},
   "outputs": [],
   "source": [
    "%matplotlib inline\n",
    "%reload_ext autoreload\n",
    "%autoreload 2"
   ]
  },
  {
   "cell_type": "code",
   "execution_count": 3,
   "metadata": {},
   "outputs": [],
   "source": [
    "from fastai.conv_learner import *\n",
    "from fastai.dataset import *\n",
    "import gzip"
   ]
  },
  {
   "cell_type": "code",
   "execution_count": 4,
   "metadata": {},
   "outputs": [],
   "source": [
    "PATH = Path('data/comix-gan')\n",
    "IMG_PATH = PATH/'images/5'\n",
    "CSV_PATH = PATH/'files.csv'\n",
    "TMP_PATH = PATH/'tmp'\n",
    "TMP_PATH.mkdir(exist_ok=True)"
   ]
  },
  {
   "cell_type": "code",
   "execution_count": 5,
   "metadata": {},
   "outputs": [],
   "source": [
    "files = PATH.glob(\"images/**/*.jpg\")\n",
    "with CSV_PATH.open('w') as fo:\n",
    "    for f in files: fo.write(f'{f.relative_to(IMG_PATH)},0\\n')"
   ]
  },
  {
   "cell_type": "code",
   "execution_count": 8,
   "metadata": {},
   "outputs": [],
   "source": [
    "def conv_2d(ni, no, ks=3, stride=1, bn=False, pad=None):\n",
    "    conv_bn = nn.Sequential(nn.Conv2d(ni, no, kernel_size=ks, bias=False, \n",
    "                                      stride=stride, padding=pad),\n",
    "                            nn.BatchNorm2d(no, momentum=0.01),\n",
    "                            nn.LeakyReLU(negative_slope=0.1, inplace=True))\n",
    "    conv_nobn = nn.Sequential(nn.Conv2d(ni, no, kernel_size=ks, bias=False, \n",
    "                                        stride=stride, padding=pad), \n",
    "                              nn.LeakyReLU(negative_slope=0.1, inplace=True))\n",
    "    if bn:\n",
    "        return conv_bn\n",
    "    else:\n",
    "        return conv_nobn"
   ]
  },
  {
   "cell_type": "code",
   "execution_count": null,
   "metadata": {},
   "outputs": [],
   "source": [
    "class ConvBlock(nn.Module):\n",
    "    def __init__(self, ni, no, ks, stride, bn=True, pad=None):\n",
    "        super().__init()\n",
    "        if pad is none: pad = ks//2//stride\n",
    "        self.conv = conv(ni, no, ks=ks, stride=stride, pad=pad, bn=bn)"
   ]
  }
 ],
 "metadata": {
  "kernelspec": {
   "display_name": "Python 3",
   "language": "python",
   "name": "python3"
  },
  "language_info": {
   "codemirror_mode": {
    "name": "ipython",
    "version": 3
   },
   "file_extension": ".py",
   "mimetype": "text/x-python",
   "name": "python",
   "nbconvert_exporter": "python",
   "pygments_lexer": "ipython3",
   "version": "3.6.4"
  }
 },
 "nbformat": 4,
 "nbformat_minor": 2
}
