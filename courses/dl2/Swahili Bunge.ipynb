{
 "cells": [
  {
   "cell_type": "code",
   "execution_count": 1,
   "metadata": {},
   "outputs": [],
   "source": [
    "%reload_ext autoreload\n",
    "%autoreload 2\n",
    "%matplotlib inline"
   ]
  },
  {
   "cell_type": "code",
   "execution_count": 2,
   "metadata": {},
   "outputs": [],
   "source": [
    "import sentencepiece as spm"
   ]
  },
  {
   "cell_type": "code",
   "execution_count": 3,
   "metadata": {},
   "outputs": [],
   "source": [
    "from fastai.text import *\n",
    "import html"
   ]
  },
  {
   "cell_type": "code",
   "execution_count": 4,
   "metadata": {},
   "outputs": [],
   "source": [
    "PATH = 'data/swahili_tz_parliament/'"
   ]
  },
  {
   "cell_type": "code",
   "execution_count": 6,
   "metadata": {},
   "outputs": [
    {
     "name": "stdout",
     "output_type": "stream",
     "text": [
      "\u001b[0m\u001b[34;42mextracted_tz_parliament\u001b[0m/                \u001b[01;32mtz_bunge_12G.model\u001b[0m*\r\n",
      "\u001b[01;32mextracted_tz_parliament.6.tar.xz\u001b[0m*       \u001b[01;32mtz_bunge_12G.txt\u001b[0m*\r\n",
      "\u001b[01;32mextracted_tz_parliament.7.tar.xz\u001b[0m*       \u001b[01;32mtz_bunge_12G.vocab\u001b[0m*\r\n",
      "\u001b[01;32mextracted_tz_parliament.tar.xz\u001b[0m*         \u001b[01;32mtz_bunge_18G_300K.model\u001b[0m*\r\n",
      "\u001b[34;42msp\u001b[0m/                                     \u001b[01;32mtz_bunge_18G_300K.vocab\u001b[0m*\r\n",
      "\u001b[01;32mtz_bunge_10G_sentencepiece_50K.tar.xz\u001b[0m*  \u001b[01;32mtz_bunge_18G_30K.model\u001b[0m*\r\n",
      "\u001b[01;32mtz_bunge_10G.txt\u001b[0m*                       \u001b[01;32mtz_bunge_18G_30K.vocab\u001b[0m*\r\n",
      "\u001b[01;32mtz_bunge_12G_10k.model\u001b[0m*                 \u001b[01;32mtz_bunge_18G_60K.model\u001b[0m*\r\n",
      "\u001b[01;32mtz_bunge_12G_10k.vocab\u001b[0m*                 \u001b[01;32mtz_bunge_18G_60K.vocab\u001b[0m*\r\n",
      "\u001b[01;32mtz_bunge_12G_500.model\u001b[0m*                 \u001b[01;32mtz_bunge_18G.txt\u001b[0m*\r\n",
      "\u001b[01;32mtz_bunge_12G_500.vocab\u001b[0m*                 \u001b[01;32mtz_bunge.tar.xz\u001b[0m*\r\n",
      "\u001b[01;32mtz_bunge_12G_60K.model\u001b[0m*                 \u001b[01;32mtz_parliament.tar.xz\u001b[0m*\r\n",
      "\u001b[01;32mtz_bunge_12G_60K.vocab\u001b[0m*\r\n"
     ]
    }
   ],
   "source": [
    "ls {PATH}"
   ]
  },
  {
   "cell_type": "code",
   "execution_count": 26,
   "metadata": {},
   "outputs": [
    {
     "data": {
      "text/plain": [
       "True"
      ]
     },
     "execution_count": 26,
     "metadata": {},
     "output_type": "execute_result"
    }
   ],
   "source": [
    "sp = spm.SentencePieceProcessor()\n",
    "sp.Load(f'{PATH}tz_bunge_25G_60K.model')"
   ]
  },
  {
   "cell_type": "code",
   "execution_count": 27,
   "metadata": {},
   "outputs": [
    {
     "data": {
      "text/plain": [
       "['▁Mheshimiwa',\n",
       " '▁Mwenyekiti',\n",
       " ',',\n",
       " '▁kwa',\n",
       " '▁niaba',\n",
       " '▁ya',\n",
       " '▁Mheshimiwa',\n",
       " '▁Waziri',\n",
       " '▁Mkuu',\n",
       " '▁naomba',\n",
       " '▁kujibu',\n",
       " '▁swali',\n",
       " '▁la',\n",
       " '▁Mheshimiwa',\n",
       " '▁Margaret',\n",
       " '▁Mkanga']"
      ]
     },
     "execution_count": 27,
     "metadata": {},
     "output_type": "execute_result"
    }
   ],
   "source": [
    "sp.EncodeAsPieces('Mheshimiwa Mwenyekiti, kwa niaba ya Mheshimiwa Waziri Mkuu naomba kujibu swali la Mheshimiwa Margaret Mkanga')"
   ]
  },
  {
   "cell_type": "code",
   "execution_count": null,
   "metadata": {},
   "outputs": [],
   "source": []
  }
 ],
 "metadata": {
  "kernelspec": {
   "display_name": "Python 3",
   "language": "python",
   "name": "python3"
  },
  "language_info": {
   "codemirror_mode": {
    "name": "ipython",
    "version": 3
   },
   "file_extension": ".py",
   "mimetype": "text/x-python",
   "name": "python",
   "nbconvert_exporter": "python",
   "pygments_lexer": "ipython3",
   "version": "3.6.4"
  }
 },
 "nbformat": 4,
 "nbformat_minor": 2
}
