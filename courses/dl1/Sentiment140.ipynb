{
 "cells": [
  {
   "cell_type": "code",
   "execution_count": 1,
   "metadata": {
    "collapsed": true
   },
   "outputs": [],
   "source": [
    "%reload_ext autoreload\n",
    "%autoreload 2\n",
    "%matplotlib inline\n",
    "\n",
    "from fastai.learner import *\n",
    "\n",
    "import torchtext\n",
    "from torchtext import vocab, data\n",
    "from torchtext.datasets import language_modeling\n",
    "\n",
    "from fastai.rnn_reg import *\n",
    "from fastai.rnn_train import *\n",
    "from fastai.nlp import *\n",
    "from fastai.lm_rnn import *\n",
    "\n",
    "import dill as pickle"
   ]
  },
  {
   "cell_type": "code",
   "execution_count": 2,
   "metadata": {},
   "outputs": [
    {
     "name": "stdout",
     "output_type": "stream",
     "text": [
      "\u001b[0m\u001b[01;32mtrain2_sentiment140.csv\u001b[0m*\r\n"
     ]
    }
   ],
   "source": [
    "PATH='data/sentiment140/'\n",
    "\n",
    "TRN_PATH = 'train/'\n",
    "VAL_PATH = 'test/'\n",
    "TRN = f'{PATH}{TRN_PATH}'\n",
    "VAL = f'{PATH}{VAL_PATH}'\n",
    "os.makedirs(TRN, exist_ok=True)\n",
    "os.makedirs(VAL, exist_ok=True)\n",
    "%ls {TRN}"
   ]
  },
  {
   "cell_type": "code",
   "execution_count": 3,
   "metadata": {},
   "outputs": [
    {
     "name": "stdout",
     "output_type": "stream",
     "text": [
      "models\t\t\t\tSentiment-Analysis-Dataset.zip\ttmp\r\n",
      "Sentiment-Analysis-Dataset.csv\ttest\t\t\t\ttrain\r\n"
     ]
    }
   ],
   "source": [
    "!ls {PATH}"
   ]
  },
  {
   "cell_type": "code",
   "execution_count": 3,
   "metadata": {
    "collapsed": true
   },
   "outputs": [],
   "source": [
    "TEXT = data.Field(lower=True, tokenize=spacy_tok) # word-level"
   ]
  },
  {
   "cell_type": "code",
   "execution_count": 3,
   "metadata": {
    "collapsed": true
   },
   "outputs": [],
   "source": [
    "TEXT = data.Field(lower=True, tokenize=list) # character-level: list('abc') = ['a', 'b', 'c']"
   ]
  },
  {
   "cell_type": "code",
   "execution_count": 4,
   "metadata": {
    "collapsed": true
   },
   "outputs": [],
   "source": [
    "bs=32; bptt=70"
   ]
  },
  {
   "cell_type": "code",
   "execution_count": 6,
   "metadata": {
    "collapsed": true
   },
   "outputs": [],
   "source": [
    "df = pd.read_csv(f'{PATH}Sentiment-Analysis-Dataset.csv', skiprows=lambda x: x in [8835, 535881])"
   ]
  },
  {
   "cell_type": "code",
   "execution_count": 7,
   "metadata": {},
   "outputs": [
    {
     "data": {
      "text/html": [
       "<div>\n",
       "<style scoped>\n",
       "    .dataframe tbody tr th:only-of-type {\n",
       "        vertical-align: middle;\n",
       "    }\n",
       "\n",
       "    .dataframe tbody tr th {\n",
       "        vertical-align: top;\n",
       "    }\n",
       "\n",
       "    .dataframe thead th {\n",
       "        text-align: right;\n",
       "    }\n",
       "</style>\n",
       "<table border=\"1\" class=\"dataframe\">\n",
       "  <thead>\n",
       "    <tr style=\"text-align: right;\">\n",
       "      <th></th>\n",
       "      <th>ItemID</th>\n",
       "      <th>Sentiment</th>\n",
       "      <th>SentimentSource</th>\n",
       "      <th>SentimentText</th>\n",
       "    </tr>\n",
       "  </thead>\n",
       "  <tbody>\n",
       "    <tr>\n",
       "      <th>0</th>\n",
       "      <td>1</td>\n",
       "      <td>0</td>\n",
       "      <td>Sentiment140</td>\n",
       "      <td>is so sad for my APL frie...</td>\n",
       "    </tr>\n",
       "    <tr>\n",
       "      <th>1</th>\n",
       "      <td>2</td>\n",
       "      <td>0</td>\n",
       "      <td>Sentiment140</td>\n",
       "      <td>I missed the New Moon trail...</td>\n",
       "    </tr>\n",
       "    <tr>\n",
       "      <th>2</th>\n",
       "      <td>3</td>\n",
       "      <td>1</td>\n",
       "      <td>Sentiment140</td>\n",
       "      <td>omg its already 7:30 :O</td>\n",
       "    </tr>\n",
       "    <tr>\n",
       "      <th>3</th>\n",
       "      <td>4</td>\n",
       "      <td>0</td>\n",
       "      <td>Sentiment140</td>\n",
       "      <td>.. Omgaga. Im sooo  im gunna CRy. I'...</td>\n",
       "    </tr>\n",
       "    <tr>\n",
       "      <th>4</th>\n",
       "      <td>5</td>\n",
       "      <td>0</td>\n",
       "      <td>Sentiment140</td>\n",
       "      <td>i think mi bf is cheating on me!!!   ...</td>\n",
       "    </tr>\n",
       "  </tbody>\n",
       "</table>\n",
       "</div>"
      ],
      "text/plain": [
       "   ItemID  Sentiment SentimentSource  \\\n",
       "0       1          0    Sentiment140   \n",
       "1       2          0    Sentiment140   \n",
       "2       3          1    Sentiment140   \n",
       "3       4          0    Sentiment140   \n",
       "4       5          0    Sentiment140   \n",
       "\n",
       "                                       SentimentText  \n",
       "0                       is so sad for my APL frie...  \n",
       "1                     I missed the New Moon trail...  \n",
       "2                            omg its already 7:30 :O  \n",
       "3            .. Omgaga. Im sooo  im gunna CRy. I'...  \n",
       "4           i think mi bf is cheating on me!!!   ...  "
      ]
     },
     "execution_count": 7,
     "metadata": {},
     "output_type": "execute_result"
    }
   ],
   "source": [
    "df.head()"
   ]
  },
  {
   "cell_type": "code",
   "execution_count": 5,
   "metadata": {},
   "outputs": [
    {
     "ename": "NameError",
     "evalue": "name 'df' is not defined",
     "output_type": "error",
     "traceback": [
      "\u001b[0;31m---------------------------------------------------------------------------\u001b[0m",
      "\u001b[0;31mNameError\u001b[0m                                 Traceback (most recent call last)",
      "\u001b[0;32m<ipython-input-5-363cc370faff>\u001b[0m in \u001b[0;36m<module>\u001b[0;34m()\u001b[0m\n\u001b[0;32m----> 1\u001b[0;31m \u001b[0mn\u001b[0m \u001b[0;34m=\u001b[0m \u001b[0mlen\u001b[0m\u001b[0;34m(\u001b[0m\u001b[0mdf\u001b[0m\u001b[0;34m)\u001b[0m\u001b[0;34m\u001b[0m\u001b[0m\n\u001b[0m",
      "\u001b[0;31mNameError\u001b[0m: name 'df' is not defined"
     ]
    }
   ],
   "source": [
    "n = len(df)"
   ]
  },
  {
   "cell_type": "code",
   "execution_count": 9,
   "metadata": {},
   "outputs": [
    {
     "data": {
      "text/plain": [
       "315722"
      ]
     },
     "execution_count": 9,
     "metadata": {},
     "output_type": "execute_result"
    }
   ],
   "source": [
    "idxs = get_cv_idxs(n)\n",
    "val_df = df.iloc[idxs].set_index(\"ItemID\")\n",
    "samp_size = len(val_df); samp_size"
   ]
  },
  {
   "cell_type": "code",
   "execution_count": 10,
   "metadata": {
    "collapsed": true
   },
   "outputs": [],
   "source": [
    "df.to_csv(f'{PATH}train/train2_sentiment140.csv')\n",
    "val_df.to_csv(f'{PATH}test/test2_sentiment140.csv')"
   ]
  },
  {
   "cell_type": "code",
   "execution_count": 7,
   "metadata": {
    "collapsed": true
   },
   "outputs": [],
   "source": [
    "df = pd.read_csv(f'{PATH}train/train2_sentiment140.csv')\n",
    "val_df = pd.read_csv(f'{PATH}test/test2_sentiment140.csv')"
   ]
  },
  {
   "cell_type": "code",
   "execution_count": 8,
   "metadata": {
    "collapsed": true
   },
   "outputs": [],
   "source": [
    "md = LanguageModelData.from_dataframes(PATH, TEXT, 'SentimentText', df, val_df, test_df=val_df, bs=bs, bptt=bptt, min_freq=10)"
   ]
  },
  {
   "cell_type": "code",
   "execution_count": 12,
   "metadata": {
    "collapsed": true
   },
   "outputs": [],
   "source": [
    "pickle.dump(TEXT, open(f'{PATH}models/TEXT_CHAR_TOKEN.pkl','wb'))"
   ]
  },
  {
   "cell_type": "code",
   "execution_count": 9,
   "metadata": {},
   "outputs": [
    {
     "data": {
      "text/plain": [
       "(57525, 153, 1, 128859390)"
      ]
     },
     "execution_count": 9,
     "metadata": {},
     "output_type": "execute_result"
    }
   ],
   "source": [
    "len(md.trn_dl), md.nt, len(md.trn_ds), len(md.trn_ds[0].text)"
   ]
  },
  {
   "cell_type": "code",
   "execution_count": 11,
   "metadata": {},
   "outputs": [
    {
     "data": {
      "text/plain": [
       "['<unk>', '<pad>', ' ', 'e', 'o', 't', 'a', 's', 'i', 'n', 'r', 'h']"
      ]
     },
     "execution_count": 11,
     "metadata": {},
     "output_type": "execute_result"
    }
   ],
   "source": [
    "TEXT.vocab.itos[:12]"
   ]
  },
  {
   "cell_type": "code",
   "execution_count": 12,
   "metadata": {},
   "outputs": [
    {
     "data": {
      "text/plain": [
       "6"
      ]
     },
     "execution_count": 12,
     "metadata": {},
     "output_type": "execute_result"
    }
   ],
   "source": [
    "TEXT.vocab.stoi['a']"
   ]
  },
  {
   "cell_type": "code",
   "execution_count": 13,
   "metadata": {},
   "outputs": [
    {
     "data": {
      "text/plain": [
       "[' ', ' ', ' ', ' ', ' ', ' ', ' ', ' ', ' ', ' ', ' ', ' ']"
      ]
     },
     "execution_count": 13,
     "metadata": {},
     "output_type": "execute_result"
    }
   ],
   "source": [
    "md.trn_ds[0].text[:12]"
   ]
  },
  {
   "cell_type": "code",
   "execution_count": 11,
   "metadata": {},
   "outputs": [
    {
     "data": {
      "text/plain": [
       "Variable containing:\n",
       " 35979\n",
       "    15\n",
       "    27\n",
       "   133\n",
       "    19\n",
       "    11\n",
       "     0\n",
       "   268\n",
       "  6624\n",
       "     3\n",
       " 33805\n",
       "     4\n",
       "[torch.cuda.LongTensor of size 12x1 (GPU 0)]"
      ]
     },
     "execution_count": 11,
     "metadata": {},
     "output_type": "execute_result"
    }
   ],
   "source": [
    "TEXT.numericalize([md.trn_ds[0].text[:12]])"
   ]
  },
  {
   "cell_type": "code",
   "execution_count": 12,
   "metadata": {},
   "outputs": [
    {
     "data": {
      "text/plain": [
       "(Variable containing:\n",
       "  35979     28     21  ...      23    758      3\n",
       "     15     86    120  ...      53      2      0\n",
       "     27      4     56  ...       7      3     55\n",
       "         ...            ⋱           ...         \n",
       "   8407    419     84  ...     148      2    251\n",
       "    125    161   2648  ...      34      3      3\n",
       "      4  10451   3724  ...     618     31    168\n",
       " [torch.cuda.LongTensor of size 81x32 (GPU 0)], Variable containing:\n",
       "     15\n",
       "     86\n",
       "    120\n",
       "   ⋮   \n",
       "     36\n",
       "    450\n",
       "     17\n",
       " [torch.cuda.LongTensor of size 2592 (GPU 0)])"
      ]
     },
     "execution_count": 12,
     "metadata": {},
     "output_type": "execute_result"
    }
   ],
   "source": [
    "next(iter(md.trn_dl))"
   ]
  },
  {
   "cell_type": "code",
   "execution_count": 10,
   "metadata": {
    "collapsed": true
   },
   "outputs": [],
   "source": [
    "em_sz = 200  # size of each embedding vector\n",
    "nh = 500     # number of hidden activations per layer\n",
    "nl = 3       # number of layers"
   ]
  },
  {
   "cell_type": "code",
   "execution_count": 11,
   "metadata": {
    "collapsed": true
   },
   "outputs": [],
   "source": [
    "opt_fn = partial(optim.Adam, betas=(0.7, 0.99))"
   ]
  },
  {
   "cell_type": "code",
   "execution_count": 12,
   "metadata": {
    "collapsed": true
   },
   "outputs": [],
   "source": [
    "learner = md.get_model(opt_fn, em_sz, nh, nl,\n",
    "               dropouti=0.2, dropout=0.2, wdrop=0.1, dropoute=0.08, dropouth=0.2)\n",
    "learner.reg_fn = partial(seq2seq_reg, alpha=2, beta=1)\n",
    "learner.clip=0.3"
   ]
  },
  {
   "cell_type": "code",
   "execution_count": 21,
   "metadata": {},
   "outputs": [
    {
     "data": {
      "application/vnd.jupyter.widget-view+json": {
       "model_id": "0bdfb486da0b485ba36dbe27a0f171ee",
       "version_major": 2,
       "version_minor": 0
      },
      "text/html": [
       "<p>Failed to display Jupyter Widget of type <code>HBox</code>.</p>\n",
       "<p>\n",
       "  If you're reading this message in the Jupyter Notebook or JupyterLab Notebook, it may mean\n",
       "  that the widgets JavaScript is still loading. If this message persists, it\n",
       "  likely means that the widgets JavaScript library is either not installed or\n",
       "  not enabled. See the <a href=\"https://ipywidgets.readthedocs.io/en/stable/user_install.html\">Jupyter\n",
       "  Widgets Documentation</a> for setup instructions.\n",
       "</p>\n",
       "<p>\n",
       "  If you're reading this message in another frontend (for example, a static\n",
       "  rendering on GitHub or <a href=\"https://nbviewer.jupyter.org/\">NBViewer</a>),\n",
       "  it may mean that your frontend doesn't currently support widgets.\n",
       "</p>\n"
      ],
      "text/plain": [
       "HBox(children=(IntProgress(value=0, description='Epoch', max=15), HTML(value='')))"
      ]
     },
     "metadata": {},
     "output_type": "display_data"
    },
    {
     "name": "stdout",
     "output_type": "stream",
     "text": [
      "epoch      trn_loss   val_loss                                  \n",
      "    0      1.463729   1.344674  \n",
      "    1      1.380259   1.368818                                  \n",
      "    2      1.378212   1.310305                                  \n",
      "    3      1.387688   1.383124                                  \n",
      "    4      1.369171   1.347126                                  \n",
      "    5      1.321014   1.326489                                    \n",
      "    6      1.350098   1.308905                                    \n",
      "    7      1.382018   1.410311                                    \n",
      "    8      1.369153   1.378009                                    \n",
      "    9      1.361054   1.352548                                    \n",
      "    10     1.344597   1.354824                                    \n",
      "    11     1.335721   1.33966                                     \n",
      "    12     1.331679   1.321919                                    \n",
      "    13     1.327359   1.311371                                    \n",
      "    14     1.32672    1.318314                                    \n",
      "\n"
     ]
    },
    {
     "data": {
      "text/plain": [
       "[1.3183138]"
      ]
     },
     "execution_count": 21,
     "metadata": {},
     "output_type": "execute_result"
    }
   ],
   "source": [
    "learner.fit(3e-3, 4, wds=1e-6, cycle_len=1, cycle_mult=2)"
   ]
  },
  {
   "cell_type": "code",
   "execution_count": 22,
   "metadata": {
    "collapsed": true
   },
   "outputs": [],
   "source": [
    "learner.save_encoder('dropout_exp_1_adam3_10_enc')"
   ]
  },
  {
   "cell_type": "code",
   "execution_count": 13,
   "metadata": {
    "collapsed": true
   },
   "outputs": [],
   "source": [
    "learner.load_encoder('dropout_exp_1_adam3_10_enc')"
   ]
  },
  {
   "cell_type": "code",
   "execution_count": 23,
   "metadata": {},
   "outputs": [
    {
     "data": {
      "application/vnd.jupyter.widget-view+json": {
       "model_id": "6895109c9b9142b3aafc77853b9dc81b",
       "version_major": 2,
       "version_minor": 0
      },
      "text/html": [
       "<p>Failed to display Jupyter Widget of type <code>HBox</code>.</p>\n",
       "<p>\n",
       "  If you're reading this message in the Jupyter Notebook or JupyterLab Notebook, it may mean\n",
       "  that the widgets JavaScript is still loading. If this message persists, it\n",
       "  likely means that the widgets JavaScript library is either not installed or\n",
       "  not enabled. See the <a href=\"https://ipywidgets.readthedocs.io/en/stable/user_install.html\">Jupyter\n",
       "  Widgets Documentation</a> for setup instructions.\n",
       "</p>\n",
       "<p>\n",
       "  If you're reading this message in another frontend (for example, a static\n",
       "  rendering on GitHub or <a href=\"https://nbviewer.jupyter.org/\">NBViewer</a>),\n",
       "  it may mean that your frontend doesn't currently support widgets.\n",
       "</p>\n"
      ],
      "text/plain": [
       "HBox(children=(IntProgress(value=0, description='Epoch', max=1), HTML(value='')))"
      ]
     },
     "metadata": {},
     "output_type": "display_data"
    },
    {
     "name": "stdout",
     "output_type": "stream",
     "text": [
      " 78%|███████▊  | 44598/57525 [1:06:09<19:10, 11.23it/s, loss=5.12]"
     ]
    }
   ],
   "source": [
    "learner.lr_find()"
   ]
  },
  {
   "cell_type": "code",
   "execution_count": 24,
   "metadata": {},
   "outputs": [
    {
     "name": "stdout",
     "output_type": "stream",
     "text": [
      "\r",
      " 78%|███████▊  | 44598/57525 [1:15:11<21:47,  9.89it/s, loss=5.12]"
     ]
    },
    {
     "data": {
      "image/png": "[encoded data removed]",
      "text/plain": [
       "<matplotlib.figure.Figure at 0x7f783720d4e0>"
      ]
     },
     "metadata": {},
     "output_type": "display_data"
    }
   ],
   "source": [
    "learner.sched.plot()"
   ]
  },
  {
   "cell_type": "code",
   "execution_count": null,
   "metadata": {
    "scrolled": true
   },
   "outputs": [
    {
     "data": {
      "application/vnd.jupyter.widget-view+json": {
       "model_id": "6887c3f8a8c04e169c99d2b299ad4761",
       "version_major": 2,
       "version_minor": 0
      },
      "text/html": [
       "<p>Failed to display Jupyter Widget of type <code>HBox</code>.</p>\n",
       "<p>\n",
       "  If you're reading this message in the Jupyter Notebook or JupyterLab Notebook, it may mean\n",
       "  that the widgets JavaScript is still loading. If this message persists, it\n",
       "  likely means that the widgets JavaScript library is either not installed or\n",
       "  not enabled. See the <a href=\"https://ipywidgets.readthedocs.io/en/stable/user_install.html\">Jupyter\n",
       "  Widgets Documentation</a> for setup instructions.\n",
       "</p>\n",
       "<p>\n",
       "  If you're reading this message in another frontend (for example, a static\n",
       "  rendering on GitHub or <a href=\"https://nbviewer.jupyter.org/\">NBViewer</a>),\n",
       "  it may mean that your frontend doesn't currently support widgets.\n",
       "</p>\n"
      ],
      "text/plain": [
       "HBox(children=(IntProgress(value=0, description='Epoch', max=10), HTML(value='')))"
      ]
     },
     "metadata": {},
     "output_type": "display_data"
    },
    {
     "name": "stdout",
     "output_type": "stream",
     "text": [
      "  0%|          | 61/57525 [00:05<1:20:26, 11.91it/s, loss=1.35]   \n",
      "  0%|          | 65/57525 [00:05<1:19:25, 12.06it/s, loss=1.35]"
     ]
    },
    {
     "name": "stderr",
     "output_type": "stream",
     "text": [
      "Exception in thread Thread-20:\n",
      "Traceback (most recent call last):\n",
      "  File \"/home/bmn/anaconda3/envs/fastai/lib/python3.6/threading.py\", line 916, in _bootstrap_inner\n",
      "    self.run()\n",
      "  File \"/home/bmn/anaconda3/envs/fastai/lib/python3.6/site-packages/tqdm/_tqdm.py\", line 144, in run\n",
      "    for instance in self.tqdm_cls._instances:\n",
      "  File \"/home/bmn/anaconda3/envs/fastai/lib/python3.6/_weakrefset.py\", line 60, in __iter__\n",
      "    for itemref in self.data:\n",
      "RuntimeError: Set changed size during iteration\n",
      "\n"
     ]
    },
    {
     "name": "stdout",
     "output_type": "stream",
     "text": [
      "epoch      trn_loss   val_loss                                    \n",
      "    0      1.318134   1.315782  \n",
      "    1      1.32731    1.316419                                    \n",
      "    2      1.321593   1.316842                                    \n",
      "    3      1.330452   1.317076                                    \n",
      "    4      1.30788    1.317535                                    \n",
      "    5      1.316006   1.319693                                    \n",
      " 84%|████████▍ | 48349/57525 [54:08<10:16, 14.88it/s, loss=1.32] "
     ]
    }
   ],
   "source": [
    "learner.fit([3e-5, 3e-4, 3e-3], 1, wds=1e-6, cycle_len=10, cycle_save_name='adam3_20')"
   ]
  },
  {
   "cell_type": "code",
   "execution_count": 49,
   "metadata": {
    "collapsed": true
   },
   "outputs": [],
   "source": [
    "learner.save_encoder('dropout_exp_2_adam3_10_enc')"
   ]
  },
  {
   "cell_type": "code",
   "execution_count": 52,
   "metadata": {
    "scrolled": true
   },
   "outputs": [
    {
     "data": {
      "application/vnd.jupyter.widget-view+json": {
       "model_id": "96593f212b2241279ebf96dae6ece043",
       "version_major": 2,
       "version_minor": 0
      },
      "text/html": [
       "<p>Failed to display Jupyter Widget of type <code>HBox</code>.</p>\n",
       "<p>\n",
       "  If you're reading this message in the Jupyter Notebook or JupyterLab Notebook, it may mean\n",
       "  that the widgets JavaScript is still loading. If this message persists, it\n",
       "  likely means that the widgets JavaScript library is either not installed or\n",
       "  not enabled. See the <a href=\"https://ipywidgets.readthedocs.io/en/stable/user_install.html\">Jupyter\n",
       "  Widgets Documentation</a> for setup instructions.\n",
       "</p>\n",
       "<p>\n",
       "  If you're reading this message in another frontend (for example, a static\n",
       "  rendering on GitHub or <a href=\"https://nbviewer.jupyter.org/\">NBViewer</a>),\n",
       "  it may mean that your frontend doesn't currently support widgets.\n",
       "</p>\n"
      ],
      "text/plain": [
       "HBox(children=(IntProgress(value=0, description='Epoch', max=40), HTML(value='')))"
      ]
     },
     "metadata": {},
     "output_type": "display_data"
    },
    {
     "name": "stdout",
     "output_type": "stream",
     "text": [
      "[ 0.       4.55263  4.57914]                                    \n",
      "[ 1.       4.63134  4.67246]                                    \n",
      "[ 2.       4.63319  4.66507]                                    \n",
      "[ 3.       4.65825  4.65508]                                    \n",
      "[ 4.       4.64992  4.65094]                                    \n",
      "[ 5.       4.64433  4.64873]                                    \n",
      "[ 6.       4.64174  4.63384]                                    \n",
      "[ 7.       4.58426  4.63529]                                    \n",
      "[ 8.       4.60742  4.62555]                                    \n",
      "[ 9.       4.59639  4.62434]                                    \n",
      "[ 10.        4.584     4.61225]                                 \n",
      "[ 11.        4.57332   4.60437]                                 \n",
      "[ 12.        4.55848   4.58865]                                 \n",
      "[ 13.        4.52542   4.58274]                                 \n",
      "[ 14.        4.56124   4.57546]                                 \n",
      "[ 15.        4.54774   4.56618]                                 \n",
      "[ 16.        4.48549   4.56754]                                 \n",
      "[ 17.        4.54505   4.56347]                                 \n",
      "[ 18.        4.51553   4.56115]                                 \n",
      "[ 19.        4.49058   4.5606 ]                                 \n",
      "[ 20.        4.66629   4.66677]                                 \n",
      "[ 21.        4.64433   4.66065]                                 \n",
      "[ 22.        4.60217   4.65885]                                 \n",
      "[ 23.        4.64185   4.66135]                                 \n",
      "[ 24.        4.63568   4.6528 ]                                 \n",
      "[ 25.        4.6433    4.64674]                                 \n",
      "[ 26.        4.6423    4.64092]                                 \n",
      "[ 27.        4.57397   4.63582]                                 \n",
      "[ 28.        4.56582   4.62291]                                 \n",
      "[ 29.        4.5698    4.62116]                                 \n",
      "[ 30.        4.58394   4.60531]                                 \n",
      "[ 31.        4.54548   4.59546]                                 \n",
      "[ 32.        4.52899   4.59617]                                 \n",
      "[ 33.        4.52746   4.581  ]                                 \n",
      "[ 34.        4.51256   4.57601]                                 \n",
      "[ 35.        4.55295   4.56974]                                 \n",
      "[ 36.        4.49946   4.5659 ]                                 \n",
      "[ 37.        4.48493   4.56559]                                 \n",
      "[ 38.        4.53878   4.56348]                                 \n",
      "[ 39.        4.5412    4.56225]                                 \n",
      "\n"
     ]
    }
   ],
   "source": [
    "learner.fit(3e-3, 2, wds=1e-6, cycle_len=20, cycle_save_name='adam3_20')"
   ]
  },
  {
   "cell_type": "code",
   "execution_count": 70,
   "metadata": {
    "collapsed": true
   },
   "outputs": [],
   "source": [
    "learner.save_encoder('dropout_exp_3_adam3_10_enc')"
   ]
  },
  {
   "cell_type": "code",
   "execution_count": 100,
   "metadata": {
    "collapsed": true
   },
   "outputs": [],
   "source": [
    "learner.save('dropout_exp_3_adam3_20_model')"
   ]
  },
  {
   "cell_type": "code",
   "execution_count": 20,
   "metadata": {
    "scrolled": true
   },
   "outputs": [
    {
     "ename": "RuntimeError",
     "evalue": "While copying the parameter named 0.encoder.weight, whose dimensions in the model are torch.Size([153, 200]) and whose dimensions in the checkpoint are torch.Size([44587, 200]).",
     "output_type": "error",
     "traceback": [
      "\u001b[0;31m---------------------------------------------------------------------------\u001b[0m",
      "\u001b[0;31mRuntimeError\u001b[0m                              Traceback (most recent call last)",
      "\u001b[0;32m~/anaconda3/envs/fastai/lib/python3.6/site-packages/torch/nn/modules/module.py\u001b[0m in \u001b[0;36mload_state_dict\u001b[0;34m(self, state_dict, strict)\u001b[0m\n\u001b[1;32m    481\u001b[0m                 \u001b[0;32mtry\u001b[0m\u001b[0;34m:\u001b[0m\u001b[0;34m\u001b[0m\u001b[0m\n\u001b[0;32m--> 482\u001b[0;31m                     \u001b[0mown_state\u001b[0m\u001b[0;34m[\u001b[0m\u001b[0mname\u001b[0m\u001b[0;34m]\u001b[0m\u001b[0;34m.\u001b[0m\u001b[0mcopy_\u001b[0m\u001b[0;34m(\u001b[0m\u001b[0mparam\u001b[0m\u001b[0;34m)\u001b[0m\u001b[0;34m\u001b[0m\u001b[0m\n\u001b[0m\u001b[1;32m    483\u001b[0m                 \u001b[0;32mexcept\u001b[0m \u001b[0mException\u001b[0m\u001b[0;34m:\u001b[0m\u001b[0;34m\u001b[0m\u001b[0m\n",
      "\u001b[0;31mRuntimeError\u001b[0m: invalid argument 2: sizes do not match at /opt/conda/conda-bld/pytorch_1512387374934/work/torch/lib/THC/generic/THCTensorCopy.c:51",
      "\nDuring handling of the above exception, another exception occurred:\n",
      "\u001b[0;31mRuntimeError\u001b[0m                              Traceback (most recent call last)",
      "\u001b[0;32m<ipython-input-20-f06d884cb0b6>\u001b[0m in \u001b[0;36m<module>\u001b[0;34m()\u001b[0m\n\u001b[0;32m----> 1\u001b[0;31m \u001b[0mlearner\u001b[0m\u001b[0;34m.\u001b[0m\u001b[0mload\u001b[0m\u001b[0;34m(\u001b[0m\u001b[0;34m'dropout_exp_3_adam3_20_model'\u001b[0m\u001b[0;34m)\u001b[0m\u001b[0;34m\u001b[0m\u001b[0m\n\u001b[0m",
      "\u001b[0;32m~/src/ai.learn/fast.ai/fastai/courses/dl1/fastai/learner.py\u001b[0m in \u001b[0;36mload\u001b[0;34m(self, name)\u001b[0m\n\u001b[1;32m     62\u001b[0m     \u001b[0;32mdef\u001b[0m \u001b[0mget_model_path\u001b[0m\u001b[0;34m(\u001b[0m\u001b[0mself\u001b[0m\u001b[0;34m,\u001b[0m \u001b[0mname\u001b[0m\u001b[0;34m)\u001b[0m\u001b[0;34m:\u001b[0m \u001b[0;32mreturn\u001b[0m \u001b[0mos\u001b[0m\u001b[0;34m.\u001b[0m\u001b[0mpath\u001b[0m\u001b[0;34m.\u001b[0m\u001b[0mjoin\u001b[0m\u001b[0;34m(\u001b[0m\u001b[0mself\u001b[0m\u001b[0;34m.\u001b[0m\u001b[0mmodels_path\u001b[0m\u001b[0;34m,\u001b[0m\u001b[0mname\u001b[0m\u001b[0;34m)\u001b[0m\u001b[0;34m+\u001b[0m\u001b[0;34m'.h5'\u001b[0m\u001b[0;34m\u001b[0m\u001b[0m\n\u001b[1;32m     63\u001b[0m     \u001b[0;32mdef\u001b[0m \u001b[0msave\u001b[0m\u001b[0;34m(\u001b[0m\u001b[0mself\u001b[0m\u001b[0;34m,\u001b[0m \u001b[0mname\u001b[0m\u001b[0;34m)\u001b[0m\u001b[0;34m:\u001b[0m \u001b[0msave_model\u001b[0m\u001b[0;34m(\u001b[0m\u001b[0mself\u001b[0m\u001b[0;34m.\u001b[0m\u001b[0mmodel\u001b[0m\u001b[0;34m,\u001b[0m \u001b[0mself\u001b[0m\u001b[0;34m.\u001b[0m\u001b[0mget_model_path\u001b[0m\u001b[0;34m(\u001b[0m\u001b[0mname\u001b[0m\u001b[0;34m)\u001b[0m\u001b[0;34m)\u001b[0m\u001b[0;34m\u001b[0m\u001b[0m\n\u001b[0;32m---> 64\u001b[0;31m     \u001b[0;32mdef\u001b[0m \u001b[0mload\u001b[0m\u001b[0;34m(\u001b[0m\u001b[0mself\u001b[0m\u001b[0;34m,\u001b[0m \u001b[0mname\u001b[0m\u001b[0;34m)\u001b[0m\u001b[0;34m:\u001b[0m \u001b[0mload_model\u001b[0m\u001b[0;34m(\u001b[0m\u001b[0mself\u001b[0m\u001b[0;34m.\u001b[0m\u001b[0mmodel\u001b[0m\u001b[0;34m,\u001b[0m \u001b[0mself\u001b[0m\u001b[0;34m.\u001b[0m\u001b[0mget_model_path\u001b[0m\u001b[0;34m(\u001b[0m\u001b[0mname\u001b[0m\u001b[0;34m)\u001b[0m\u001b[0;34m)\u001b[0m\u001b[0;34m\u001b[0m\u001b[0m\n\u001b[0m\u001b[1;32m     65\u001b[0m \u001b[0;34m\u001b[0m\u001b[0m\n\u001b[1;32m     66\u001b[0m     \u001b[0;32mdef\u001b[0m \u001b[0mset_data\u001b[0m\u001b[0;34m(\u001b[0m\u001b[0mself\u001b[0m\u001b[0;34m,\u001b[0m \u001b[0mdata\u001b[0m\u001b[0;34m)\u001b[0m\u001b[0;34m:\u001b[0m \u001b[0mself\u001b[0m\u001b[0;34m.\u001b[0m\u001b[0mdata_\u001b[0m \u001b[0;34m=\u001b[0m \u001b[0mdata\u001b[0m\u001b[0;34m\u001b[0m\u001b[0m\n",
      "\u001b[0;32m~/src/ai.learn/fast.ai/fastai/courses/dl1/fastai/torch_imports.py\u001b[0m in \u001b[0;36mload_model\u001b[0;34m(m, p)\u001b[0m\n\u001b[1;32m     25\u001b[0m \u001b[0;32mdef\u001b[0m \u001b[0mchildren\u001b[0m\u001b[0;34m(\u001b[0m\u001b[0mm\u001b[0m\u001b[0;34m)\u001b[0m\u001b[0;34m:\u001b[0m \u001b[0;32mreturn\u001b[0m \u001b[0mm\u001b[0m \u001b[0;32mif\u001b[0m \u001b[0misinstance\u001b[0m\u001b[0;34m(\u001b[0m\u001b[0mm\u001b[0m\u001b[0;34m,\u001b[0m \u001b[0;34m(\u001b[0m\u001b[0mlist\u001b[0m\u001b[0;34m,\u001b[0m \u001b[0mtuple\u001b[0m\u001b[0;34m)\u001b[0m\u001b[0;34m)\u001b[0m \u001b[0;32melse\u001b[0m \u001b[0mlist\u001b[0m\u001b[0;34m(\u001b[0m\u001b[0mm\u001b[0m\u001b[0;34m.\u001b[0m\u001b[0mchildren\u001b[0m\u001b[0;34m(\u001b[0m\u001b[0;34m)\u001b[0m\u001b[0;34m)\u001b[0m\u001b[0;34m\u001b[0m\u001b[0m\n\u001b[1;32m     26\u001b[0m \u001b[0;32mdef\u001b[0m \u001b[0msave_model\u001b[0m\u001b[0;34m(\u001b[0m\u001b[0mm\u001b[0m\u001b[0;34m,\u001b[0m \u001b[0mp\u001b[0m\u001b[0;34m)\u001b[0m\u001b[0;34m:\u001b[0m \u001b[0mtorch\u001b[0m\u001b[0;34m.\u001b[0m\u001b[0msave\u001b[0m\u001b[0;34m(\u001b[0m\u001b[0mm\u001b[0m\u001b[0;34m.\u001b[0m\u001b[0mstate_dict\u001b[0m\u001b[0;34m(\u001b[0m\u001b[0;34m)\u001b[0m\u001b[0;34m,\u001b[0m \u001b[0mp\u001b[0m\u001b[0;34m)\u001b[0m\u001b[0;34m\u001b[0m\u001b[0m\n\u001b[0;32m---> 27\u001b[0;31m \u001b[0;32mdef\u001b[0m \u001b[0mload_model\u001b[0m\u001b[0;34m(\u001b[0m\u001b[0mm\u001b[0m\u001b[0;34m,\u001b[0m \u001b[0mp\u001b[0m\u001b[0;34m)\u001b[0m\u001b[0;34m:\u001b[0m \u001b[0mm\u001b[0m\u001b[0;34m.\u001b[0m\u001b[0mload_state_dict\u001b[0m\u001b[0;34m(\u001b[0m\u001b[0mtorch\u001b[0m\u001b[0;34m.\u001b[0m\u001b[0mload\u001b[0m\u001b[0;34m(\u001b[0m\u001b[0mp\u001b[0m\u001b[0;34m,\u001b[0m \u001b[0mmap_location\u001b[0m\u001b[0;34m=\u001b[0m\u001b[0;32mlambda\u001b[0m \u001b[0mstorage\u001b[0m\u001b[0;34m,\u001b[0m \u001b[0mloc\u001b[0m\u001b[0;34m:\u001b[0m \u001b[0mstorage\u001b[0m\u001b[0;34m)\u001b[0m\u001b[0;34m)\u001b[0m\u001b[0;34m\u001b[0m\u001b[0m\n\u001b[0m\u001b[1;32m     28\u001b[0m \u001b[0;34m\u001b[0m\u001b[0m\n\u001b[1;32m     29\u001b[0m \u001b[0;32mdef\u001b[0m \u001b[0mload_pre\u001b[0m\u001b[0;34m(\u001b[0m\u001b[0mpre\u001b[0m\u001b[0;34m,\u001b[0m \u001b[0mf\u001b[0m\u001b[0;34m,\u001b[0m \u001b[0mfn\u001b[0m\u001b[0;34m)\u001b[0m\u001b[0;34m:\u001b[0m\u001b[0;34m\u001b[0m\u001b[0m\n",
      "\u001b[0;32m~/anaconda3/envs/fastai/lib/python3.6/site-packages/torch/nn/modules/module.py\u001b[0m in \u001b[0;36mload_state_dict\u001b[0;34m(self, state_dict, strict)\u001b[0m\n\u001b[1;32m    485\u001b[0m                                        \u001b[0;34m'whose dimensions in the model are {} and '\u001b[0m\u001b[0;34m\u001b[0m\u001b[0m\n\u001b[1;32m    486\u001b[0m                                        \u001b[0;34m'whose dimensions in the checkpoint are {}.'\u001b[0m\u001b[0;34m\u001b[0m\u001b[0m\n\u001b[0;32m--> 487\u001b[0;31m                                        .format(name, own_state[name].size(), param.size()))\n\u001b[0m\u001b[1;32m    488\u001b[0m             \u001b[0;32melif\u001b[0m \u001b[0mstrict\u001b[0m\u001b[0;34m:\u001b[0m\u001b[0;34m\u001b[0m\u001b[0m\n\u001b[1;32m    489\u001b[0m                 raise KeyError('unexpected key \"{}\" in state_dict'\n",
      "\u001b[0;31mRuntimeError\u001b[0m: While copying the parameter named 0.encoder.weight, whose dimensions in the model are torch.Size([153, 200]) and whose dimensions in the checkpoint are torch.Size([44587, 200])."
     ]
    }
   ],
   "source": [
    "learner.load('dropout_exp_3_adam3_20_model')"
   ]
  },
  {
   "cell_type": "code",
   "execution_count": 95,
   "metadata": {},
   "outputs": [
    {
     "data": {
      "text/plain": [
       "'omg my life is'"
      ]
     },
     "execution_count": 95,
     "metadata": {},
     "output_type": "execute_result"
    }
   ],
   "source": [
    "m=learner.model\n",
    "ss=\"\"\"omg my life is \"\"\"\n",
    "s = [spacy_tok(ss)]\n",
    "t=TEXT.numericalize(s)\n",
    "' '.join(s[0])"
   ]
  },
  {
   "cell_type": "code",
   "execution_count": 96,
   "metadata": {
    "collapsed": true
   },
   "outputs": [],
   "source": [
    "# Set batch size to 1\n",
    "m[0].bs=1\n",
    "# Turn off dropout\n",
    "m.eval()\n",
    "# Reset hidden state\n",
    "m.reset()\n",
    "# Get predictions from model\n",
    "res,*_ = m(t)\n",
    "# Put the batch size back to what it was\n",
    "m[0].bs=bs"
   ]
  },
  {
   "cell_type": "code",
   "execution_count": 97,
   "metadata": {},
   "outputs": [
    {
     "data": {
      "text/plain": [
       "['so',\n",
       " 'over',\n",
       " '<unk>',\n",
       " 'not',\n",
       " 'a',\n",
       " 'going',\n",
       " 'really',\n",
       " 'just',\n",
       " 'almost',\n",
       " 'too',\n",
       " \"n't\",\n",
       " 'the',\n",
       " 'like',\n",
       " 'good',\n",
       " 'sooo',\n",
       " 'boring',\n",
       " 'gon',\n",
       " 'always',\n",
       " 'soo',\n",
       " 'killing']"
      ]
     },
     "execution_count": 97,
     "metadata": {},
     "output_type": "execute_result"
    }
   ],
   "source": [
    "nexts = torch.topk(res[-1], 20)[1]\n",
    "[TEXT.vocab.itos[o] for o in to_np(nexts)]"
   ]
  },
  {
   "cell_type": "code",
   "execution_count": 98,
   "metadata": {
    "scrolled": true
   },
   "outputs": [
    {
     "name": "stdout",
     "output_type": "stream",
     "text": [
      "omg my life is  \n",
      "\n",
      "so boring   i 'm so sad . i 'm so sad . i 'm so sad . i 'm so sad . i 'm ...\n"
     ]
    }
   ],
   "source": [
    "print(ss,\"\\n\")\n",
    "for i in range(25):\n",
    "    n=res[-1].topk(2)[1]\n",
    "    n = n[1] if n.data[0]==0 else n[0]\n",
    "    print(TEXT.vocab.itos[n.data[0]], end=' ')\n",
    "    res,*_ = m(n[0].unsqueeze(0))\n",
    "print('...')"
   ]
  },
  {
   "cell_type": "code",
   "execution_count": 99,
   "metadata": {},
   "outputs": [
    {
     "data": {
      "text/plain": [
       "SequentialRNN(\n",
       "  (0): RNN_Encoder(\n",
       "    (encoder): Embedding(44587, 200, padding_idx=1)\n",
       "    (rnns): ModuleList(\n",
       "      (0): WeightDrop(\n",
       "        (module): LSTM(200, 500, dropout=0.2)\n",
       "      )\n",
       "      (1): WeightDrop(\n",
       "        (module): LSTM(500, 500, dropout=0.2)\n",
       "      )\n",
       "      (2): WeightDrop(\n",
       "        (module): LSTM(500, 200, dropout=0.2)\n",
       "      )\n",
       "    )\n",
       "    (dropouti): LockedDropout(\n",
       "    )\n",
       "    (dropouth): LockedDropout(\n",
       "    )\n",
       "  )\n",
       "  (1): LinearDecoder(\n",
       "    (decoder): Linear(in_features=200, out_features=44587)\n",
       "    (dropout): LockedDropout(\n",
       "    )\n",
       "  )\n",
       ")"
      ]
     },
     "execution_count": 99,
     "metadata": {},
     "output_type": "execute_result"
    }
   ],
   "source": [
    "m"
   ]
  },
  {
   "cell_type": "code",
   "execution_count": 8,
   "metadata": {
    "collapsed": true
   },
   "outputs": [],
   "source": [
    "TEXT = pickle.load(open(f'{PATH}models/TEXT.pkl','rb'))"
   ]
  },
  {
   "cell_type": "code",
   "execution_count": 14,
   "metadata": {
    "collapsed": true
   },
   "outputs": [],
   "source": [
    "SENTIMENT_LABEL = data.Field(sequential=False)"
   ]
  },
  {
   "cell_type": "code",
   "execution_count": 89,
   "metadata": {
    "collapsed": true
   },
   "outputs": [],
   "source": [
    "??LanguageModelData.from_dataframes"
   ]
  },
  {
   "cell_type": "code",
   "execution_count": 35,
   "metadata": {
    "collapsed": true
   },
   "outputs": [],
   "source": [
    "??ConcatTextDatasetFromDataFrames.splits"
   ]
  },
  {
   "cell_type": "code",
   "execution_count": 41,
   "metadata": {},
   "outputs": [
    {
     "data": {
      "text/plain": [
       "<bound method IMDB.splits of <class 'torchtext.datasets.imdb.IMDB'>>"
      ]
     },
     "execution_count": 41,
     "metadata": {},
     "output_type": "execute_result"
    }
   ],
   "source": [
    "torchtext.datasets.IMDB.splits"
   ]
  },
  {
   "cell_type": "code",
   "execution_count": 40,
   "metadata": {},
   "outputs": [
    {
     "data": {
      "text/plain": [
       "<bound method ConcatTextDatasetFromDataFrames.splits of <class 'fastai.nlp.ConcatTextDatasetFromDataFrames'>>"
      ]
     },
     "execution_count": 40,
     "metadata": {},
     "output_type": "execute_result"
    }
   ],
   "source": [
    "md.trn_ds.splits"
   ]
  },
  {
   "cell_type": "code",
   "execution_count": 10,
   "metadata": {
    "collapsed": true
   },
   "outputs": [],
   "source": [
    "class Sentiment140Dataset(torchtext.data.TabularDataset):\n",
    "    @classmethod\n",
    "    def splits(cls, train_df=None, val_df=None, test_df=None, **kwargs):\n",
    "        train_data = None if train_df is None else cls(train_df, **kwargs)\n",
    "        val_data = None if val_df is None else cls(val_df, **kwargs)\n",
    "        test_data = None if test_df is None else cls(test_df, **kwargs)\n",
    "\n",
    "        return tuple(d for d in (train_data, val_data, test_data) if d is not None)\n",
    "\n",
    "    @classmethod\n",
    "    def splits(cls, text_field, label_field, root='.data',\n",
    "               train='train', test='test', **kwargs):\n",
    "        return super().splits(\n",
    "            root, text_field=text_field, label_field=label_field,\n",
    "            train=train, validation=None, test=test, **kwargs)"
   ]
  },
  {
   "cell_type": "code",
   "execution_count": 15,
   "metadata": {
    "collapsed": true
   },
   "outputs": [],
   "source": [
    "class Sentiment140Dataset(torchtext.data.Dataset):\n",
    "    def __init__(self, df, text_field, label_field, is_test=False, **kwargs):\n",
    "        fields = [('text', text_field), ('sentiment', label_field)]\n",
    "        examples = []\n",
    "        for i, row in df.iterrows():\n",
    "            label = 'pos'\n",
    "            if not is_test and row['Sentiment']==0:\n",
    "                label = 'neg' \n",
    "            text = row['SentimentText']\n",
    "            examples.append(torchtext.data.Example.fromlist([text, label], fields))\n",
    "\n",
    "        super().__init__(examples, fields, **kwargs)\n",
    "\n",
    "    @staticmethod\n",
    "    def sort_key(ex): return len(ex.text)\n",
    "    \n",
    "    @classmethod\n",
    "    def splits(cls, text_field, label_field, train_df, val_df=None, test_df=None, **kwargs):\n",
    "        train_data, val_data, test_data = (None, None, None)\n",
    "\n",
    "        if train_df is not None:\n",
    "            train_data = cls(train_df.copy(), text_field, label_field, **kwargs)\n",
    "        if val_df is not None:\n",
    "            val_data = cls(val_df.copy(), text_field, label_field, **kwargs)\n",
    "        if test_df is not None:\n",
    "            test_data = cls(test_df.copy(), text_field, label_field, True, **kwargs)\n",
    "\n",
    "        return tuple(d for d in (train_data, val_data, test_data) if d is not None)"
   ]
  },
  {
   "cell_type": "code",
   "execution_count": 102,
   "metadata": {},
   "outputs": [
    {
     "name": "stdout",
     "output_type": "stream",
     "text": [
      "\u001b[0m\u001b[34;42mmodels\u001b[0m/               \u001b[01;32mSentiment-Analysis-Dataset.csv\u001b[0m*  \u001b[34;42mtest\u001b[0m/  \u001b[34;42mtrain\u001b[0m/\r\n",
      "\u001b[01;32msentiment140.tar.xz\u001b[0m*  \u001b[01;32mSentiment-Analysis-Dataset.zip\u001b[0m*  \u001b[34;42mtmp\u001b[0m/\r\n"
     ]
    }
   ],
   "source": [
    "ls {PATH}"
   ]
  },
  {
   "cell_type": "code",
   "execution_count": null,
   "metadata": {
    "collapsed": true
   },
   "outputs": [],
   "source": [
    "ds = Sentiment140Dataset.splits(df, TEXT, SENTIMENT_LABEL)"
   ]
  },
  {
   "cell_type": "code",
   "execution_count": 13,
   "metadata": {},
   "outputs": [
    {
     "data": {
      "text/plain": [
       "[<torchtext.data.example.Example at 0x7f9c7901c5f8>,\n",
       " <torchtext.data.example.Example at 0x7f9c7901cd68>,\n",
       " <torchtext.data.example.Example at 0x7f9c7901c0b8>,\n",
       " <torchtext.data.example.Example at 0x7f9c7901cc50>,\n",
       " <torchtext.data.example.Example at 0x7f9c7901cf28>,\n",
       " <torchtext.data.example.Example at 0x7f9c7901c940>,\n",
       " <torchtext.data.example.Example at 0x7f9c7901c3c8>,\n",
       " <torchtext.data.example.Example at 0x7f9c73919ba8>,\n",
       " <torchtext.data.example.Example at 0x7f9c73919470>,\n",
       " <torchtext.data.example.Example at 0x7f9c73919ac8>,\n",
       " <torchtext.data.example.Example at 0x7f9c73919a58>,\n",
       " <torchtext.data.example.Example at 0x7f9c73919eb8>,\n",
       " <torchtext.data.example.Example at 0x7f9c7fa06e10>,\n",
       " <torchtext.data.example.Example at 0x7f9c79030128>,\n",
       " <torchtext.data.example.Example at 0x7f9c79030b70>,\n",
       " <torchtext.data.example.Example at 0x7f9c79030208>,\n",
       " <torchtext.data.example.Example at 0x7f9c79030320>,\n",
       " <torchtext.data.example.Example at 0x7f9c79030588>,\n",
       " <torchtext.data.example.Example at 0x7f9c790307f0>,\n",
       " <torchtext.data.example.Example at 0x7f9c790302b0>,\n",
       " <torchtext.data.example.Example at 0x7f9c79030908>,\n",
       " <torchtext.data.example.Example at 0x7f9c79030eb8>,\n",
       " <torchtext.data.example.Example at 0x7f9c7393d668>,\n",
       " <torchtext.data.example.Example at 0x7f9c7393d2b0>,\n",
       " <torchtext.data.example.Example at 0x7f9c7393d710>,\n",
       " <torchtext.data.example.Example at 0x7f9c7393d2e8>,\n",
       " <torchtext.data.example.Example at 0x7f9c7393d0b8>,\n",
       " <torchtext.data.example.Example at 0x7f9c73a8deb8>,\n",
       " <torchtext.data.example.Example at 0x7f9c73a8df60>,\n",
       " <torchtext.data.example.Example at 0x7f9c78f54278>,\n",
       " <torchtext.data.example.Example at 0x7f9c78f54358>,\n",
       " <torchtext.data.example.Example at 0x7f9c78f54588>,\n",
       " <torchtext.data.example.Example at 0x7f9c7392a240>,\n",
       " <torchtext.data.example.Example at 0x7f9c7392ab00>,\n",
       " <torchtext.data.example.Example at 0x7f9c7392add8>,\n",
       " <torchtext.data.example.Example at 0x7f9c7392f6d8>,\n",
       " <torchtext.data.example.Example at 0x7f9c7392f9b0>,\n",
       " <torchtext.data.example.Example at 0x7f9c7392f240>,\n",
       " <torchtext.data.example.Example at 0x7f9c7392f940>,\n",
       " <torchtext.data.example.Example at 0x7f9c7392f278>,\n",
       " <torchtext.data.example.Example at 0x7f9c7392fc18>,\n",
       " <torchtext.data.example.Example at 0x7f9c7392f390>,\n",
       " <torchtext.data.example.Example at 0x7f9c7392fb00>,\n",
       " <torchtext.data.example.Example at 0x7f9c7392f5c0>,\n",
       " <torchtext.data.example.Example at 0x7f9c7392f128>,\n",
       " <torchtext.data.example.Example at 0x7f9c78f545c0>,\n",
       " <torchtext.data.example.Example at 0x7f9c7393dda0>,\n",
       " <torchtext.data.example.Example at 0x7f9c7393d978>,\n",
       " <torchtext.data.example.Example at 0x7f9c79030b00>,\n",
       " <torchtext.data.example.Example at 0x7f9c790303c8>,\n",
       " <torchtext.data.example.Example at 0x7f9c739198d0>,\n",
       " <torchtext.data.example.Example at 0x7f9c73919b00>,\n",
       " <torchtext.data.example.Example at 0x7f9c7901ca90>,\n",
       " <torchtext.data.example.Example at 0x7f9c73945ac8>,\n",
       " <torchtext.data.example.Example at 0x7f9c73945c18>,\n",
       " <torchtext.data.example.Example at 0x7f9c79067978>,\n",
       " <torchtext.data.example.Example at 0x7f9c79067128>,\n",
       " <torchtext.data.example.Example at 0x7f9c7905da58>,\n",
       " <torchtext.data.example.Example at 0x7f9c7905da20>,\n",
       " <torchtext.data.example.Example at 0x7f9c7905d278>,\n",
       " <torchtext.data.example.Example at 0x7f9c79379c18>,\n",
       " <torchtext.data.example.Example at 0x7f9c79379d30>,\n",
       " <torchtext.data.example.Example at 0x7f9c79379240>,\n",
       " <torchtext.data.example.Example at 0x7f9c79426048>,\n",
       " <torchtext.data.example.Example at 0x7f9c73935fd0>,\n",
       " <torchtext.data.example.Example at 0x7f9c73935d68>,\n",
       " <torchtext.data.example.Example at 0x7f9c73935ef0>,\n",
       " <torchtext.data.example.Example at 0x7f9c78f9e048>,\n",
       " <torchtext.data.example.Example at 0x7f9c78f9e2e8>,\n",
       " <torchtext.data.example.Example at 0x7f9c78f9e400>,\n",
       " <torchtext.data.example.Example at 0x7f9c78f9e780>,\n",
       " <torchtext.data.example.Example at 0x7f9c78f9e7b8>,\n",
       " <torchtext.data.example.Example at 0x7f9c78f9e978>,\n",
       " <torchtext.data.example.Example at 0x7f9c78f9eb70>,\n",
       " <torchtext.data.example.Example at 0x7f9c78f9eda0>,\n",
       " <torchtext.data.example.Example at 0x7f9c739426a0>,\n",
       " <torchtext.data.example.Example at 0x7f9c739427f0>,\n",
       " <torchtext.data.example.Example at 0x7f9c73942978>,\n",
       " <torchtext.data.example.Example at 0x7f9c73942ba8>,\n",
       " <torchtext.data.example.Example at 0x7f9c73942cf8>,\n",
       " <torchtext.data.example.Example at 0x7f9c73942eb8>,\n",
       " <torchtext.data.example.Example at 0x7f9c738dcf98>,\n",
       " <torchtext.data.example.Example at 0x7f9c738dceb8>,\n",
       " <torchtext.data.example.Example at 0x7f9c738dcdd8>,\n",
       " <torchtext.data.example.Example at 0x7f9c738dccf8>,\n",
       " <torchtext.data.example.Example at 0x7f9c738dcc18>,\n",
       " <torchtext.data.example.Example at 0x7f9c738dcb38>,\n",
       " <torchtext.data.example.Example at 0x7f9c738dca58>,\n",
       " <torchtext.data.example.Example at 0x7f9c738dc978>,\n",
       " <torchtext.data.example.Example at 0x7f9c738dc898>,\n",
       " <torchtext.data.example.Example at 0x7f9c738dc7b8>,\n",
       " <torchtext.data.example.Example at 0x7f9c738dc6d8>,\n",
       " <torchtext.data.example.Example at 0x7f9c738dc5f8>,\n",
       " <torchtext.data.example.Example at 0x7f9c738dc518>,\n",
       " <torchtext.data.example.Example at 0x7f9c738dc438>,\n",
       " <torchtext.data.example.Example at 0x7f9c738dc668>,\n",
       " <torchtext.data.example.Example at 0x7f9c738dc828>,\n",
       " <torchtext.data.example.Example at 0x7f9c738dcac8>,\n",
       " <torchtext.data.example.Example at 0x7f9c738dce48>,\n",
       " <torchtext.data.example.Example at 0x7f9c73942cc0>,\n",
       " <torchtext.data.example.Example at 0x7f9c73942470>,\n",
       " <torchtext.data.example.Example at 0x7f9c78f9e630>,\n",
       " <torchtext.data.example.Example at 0x7f9c78f9edd8>,\n",
       " <torchtext.data.example.Example at 0x7f9c79379438>,\n",
       " <torchtext.data.example.Example at 0x7f9c7905d6d8>,\n",
       " <torchtext.data.example.Example at 0x7f9c79067e10>,\n",
       " <torchtext.data.example.Example at 0x7f9c73919d68>,\n",
       " <torchtext.data.example.Example at 0x7f9c7393d7f0>,\n",
       " <torchtext.data.example.Example at 0x7f9c738d4828>,\n",
       " <torchtext.data.example.Example at 0x7f9c738d47f0>,\n",
       " <torchtext.data.example.Example at 0x7f9c738d4c18>,\n",
       " <torchtext.data.example.Example at 0x7f9c738d4a58>,\n",
       " <torchtext.data.example.Example at 0x7f9c738d4048>,\n",
       " <torchtext.data.example.Example at 0x7f9c738d4208>,\n",
       " <torchtext.data.example.Example at 0x7f9c738d43c8>,\n",
       " <torchtext.data.example.Example at 0x7f9c738d4588>,\n",
       " <torchtext.data.example.Example at 0x7f9c738d4748>,\n",
       " <torchtext.data.example.Example at 0x7f9c738d6b38>,\n",
       " <torchtext.data.example.Example at 0x7f9c738d6978>,\n",
       " <torchtext.data.example.Example at 0x7f9c738d67b8>,\n",
       " <torchtext.data.example.Example at 0x7f9c738d6588>,\n",
       " <torchtext.data.example.Example at 0x7f9c738d6358>,\n",
       " <torchtext.data.example.Example at 0x7f9c738d6198>,\n",
       " <torchtext.data.example.Example at 0x7f9c738d6ba8>,\n",
       " <torchtext.data.example.Example at 0x7f9c738d6cc0>,\n",
       " <torchtext.data.example.Example at 0x7f9c738d6da0>,\n",
       " <torchtext.data.example.Example at 0x7f9c738d6e80>,\n",
       " <torchtext.data.example.Example at 0x7f9c738d6f60>,\n",
       " <torchtext.data.example.Example at 0x7f9c738f7048>,\n",
       " <torchtext.data.example.Example at 0x7f9c738f7128>,\n",
       " <torchtext.data.example.Example at 0x7f9c738f7208>,\n",
       " <torchtext.data.example.Example at 0x7f9c738f72e8>,\n",
       " <torchtext.data.example.Example at 0x7f9c738f73c8>,\n",
       " <torchtext.data.example.Example at 0x7f9c738f74a8>,\n",
       " <torchtext.data.example.Example at 0x7f9c738f7588>,\n",
       " <torchtext.data.example.Example at 0x7f9c738e30b8>,\n",
       " <torchtext.data.example.Example at 0x7f9c738e32b0>,\n",
       " <torchtext.data.example.Example at 0x7f9c738e3390>,\n",
       " <torchtext.data.example.Example at 0x7f9c738e35f8>,\n",
       " <torchtext.data.example.Example at 0x7f9c738e37b8>,\n",
       " <torchtext.data.example.Example at 0x7f9c738e3978>,\n",
       " <torchtext.data.example.Example at 0x7f9c738e3b38>,\n",
       " <torchtext.data.example.Example at 0x7f9c738e3cf8>,\n",
       " <torchtext.data.example.Example at 0x7f9c738e3eb8>,\n",
       " <torchtext.data.example.Example at 0x7f9c738f35f8>,\n",
       " <torchtext.data.example.Example at 0x7f9c738f3550>,\n",
       " <torchtext.data.example.Example at 0x7f9c738f3470>,\n",
       " <torchtext.data.example.Example at 0x7f9c738f3390>,\n",
       " <torchtext.data.example.Example at 0x7f9c738e3c18>,\n",
       " <torchtext.data.example.Example at 0x7f9c738e3898>,\n",
       " <torchtext.data.example.Example at 0x7f9c738e33c8>,\n",
       " <torchtext.data.example.Example at 0x7f9c738f7438>,\n",
       " <torchtext.data.example.Example at 0x7f9c738f70b8>,\n",
       " <torchtext.data.example.Example at 0x7f9c738d6d30>,\n",
       " <torchtext.data.example.Example at 0x7f9c738d64a8>,\n",
       " <torchtext.data.example.Example at 0x7f9c738d6438>,\n",
       " <torchtext.data.example.Example at 0x7f9c738d4128>,\n",
       " <torchtext.data.example.Example at 0x7f9c738d4e48>,\n",
       " <torchtext.data.example.Example at 0x7f9c79067f98>,\n",
       " <torchtext.data.example.Example at 0x7f9c78f9eac8>,\n",
       " <torchtext.data.example.Example at 0x7f9c738dc908>,\n",
       " <torchtext.data.example.Example at 0x7f9c738f31d0>,\n",
       " <torchtext.data.example.Example at 0x7f9c738f3630>,\n",
       " <torchtext.data.example.Example at 0x7f9c738f30f0>,\n",
       " <torchtext.data.example.Example at 0x7f9c738f3dd8>,\n",
       " <torchtext.data.example.Example at 0x7f9c738f3eb8>,\n",
       " <torchtext.data.example.Example at 0x7f9c738f3f98>,\n",
       " <torchtext.data.example.Example at 0x7f9c738e80b8>,\n",
       " <torchtext.data.example.Example at 0x7f9c738e8198>,\n",
       " <torchtext.data.example.Example at 0x7f9c738e8278>,\n",
       " <torchtext.data.example.Example at 0x7f9c738e8358>,\n",
       " <torchtext.data.example.Example at 0x7f9c738e8438>,\n",
       " <torchtext.data.example.Example at 0x7f9c738e8518>,\n",
       " <torchtext.data.example.Example at 0x7f9c738e85f8>,\n",
       " <torchtext.data.example.Example at 0x7f9c738e86d8>,\n",
       " <torchtext.data.example.Example at 0x7f9c738e87b8>,\n",
       " <torchtext.data.example.Example at 0x7f9c738e8898>,\n",
       " <torchtext.data.example.Example at 0x7f9c738e8978>,\n",
       " <torchtext.data.example.Example at 0x7f9c738e8a58>,\n",
       " <torchtext.data.example.Example at 0x7f9c738e8b38>,\n",
       " <torchtext.data.example.Example at 0x7f9c738e8c18>,\n",
       " <torchtext.data.example.Example at 0x7f9c738e8cf8>,\n",
       " <torchtext.data.example.Example at 0x7f9c738e8dd8>,\n",
       " <torchtext.data.example.Example at 0x7f9c738e8eb8>,\n",
       " <torchtext.data.example.Example at 0x7f9c738e8f98>,\n",
       " <torchtext.data.example.Example at 0x7f9c738f40b8>,\n",
       " <torchtext.data.example.Example at 0x7f9c738f4198>,\n",
       " <torchtext.data.example.Example at 0x7f9c738f4278>,\n",
       " <torchtext.data.example.Example at 0x7f9c738f4358>,\n",
       " <torchtext.data.example.Example at 0x7f9c738f4438>,\n",
       " <torchtext.data.example.Example at 0x7f9c738f4518>,\n",
       " <torchtext.data.example.Example at 0x7f9c738f45f8>,\n",
       " <torchtext.data.example.Example at 0x7f9c738f46d8>,\n",
       " <torchtext.data.example.Example at 0x7f9c738f47b8>,\n",
       " <torchtext.data.example.Example at 0x7f9c738f4898>,\n",
       " <torchtext.data.example.Example at 0x7f9c738f4978>,\n",
       " <torchtext.data.example.Example at 0x7f9c738f4a58>,\n",
       " <torchtext.data.example.Example at 0x7f9c738f4b38>,\n",
       " <torchtext.data.example.Example at 0x7f9c738f4c18>,\n",
       " <torchtext.data.example.Example at 0x7f9c738f4cf8>,\n",
       " <torchtext.data.example.Example at 0x7f9c738f4dd8>,\n",
       " <torchtext.data.example.Example at 0x7f9c738e8d68>,\n",
       " <torchtext.data.example.Example at 0x7f9c738e8ba8>,\n",
       " <torchtext.data.example.Example at 0x7f9c738e8908>,\n",
       " <torchtext.data.example.Example at 0x7f9c738e8588>,\n",
       " <torchtext.data.example.Example at 0x7f9c738e8208>,\n",
       " <torchtext.data.example.Example at 0x7f9c738f3e48>,\n",
       " <torchtext.data.example.Example at 0x7f9c738f32b0>,\n",
       " <torchtext.data.example.Example at 0x7f9c738d4b38>,\n",
       " <torchtext.data.example.Example at 0x7f9c738d6ef0>,\n",
       " <torchtext.data.example.Example at 0x7f9c738f4e80>,\n",
       " <torchtext.data.example.Example at 0x7f9c738f4e48>,\n",
       " <torchtext.data.example.Example at 0x7f9c738f4ac8>,\n",
       " <torchtext.data.example.Example at 0x7f9c738f4748>,\n",
       " <torchtext.data.example.Example at 0x7f9c738f43c8>,\n",
       " <torchtext.data.example.Example at 0x7f9c738f4048>,\n",
       " <torchtext.data.example.Example at 0x7f9c738de0b8>,\n",
       " <torchtext.data.example.Example at 0x7f9c738de198>,\n",
       " <torchtext.data.example.Example at 0x7f9c738de278>,\n",
       " <torchtext.data.example.Example at 0x7f9c738de358>,\n",
       " <torchtext.data.example.Example at 0x7f9c738de438>,\n",
       " <torchtext.data.example.Example at 0x7f9c738de518>,\n",
       " <torchtext.data.example.Example at 0x7f9c738de5f8>,\n",
       " <torchtext.data.example.Example at 0x7f9c738de6d8>,\n",
       " <torchtext.data.example.Example at 0x7f9c738de7b8>,\n",
       " <torchtext.data.example.Example at 0x7f9c738de898>,\n",
       " <torchtext.data.example.Example at 0x7f9c738de978>,\n",
       " <torchtext.data.example.Example at 0x7f9c738dea58>,\n",
       " <torchtext.data.example.Example at 0x7f9c738deb38>,\n",
       " <torchtext.data.example.Example at 0x7f9c738dec18>,\n",
       " <torchtext.data.example.Example at 0x7f9c738decf8>,\n",
       " <torchtext.data.example.Example at 0x7f9c738dedd8>,\n",
       " <torchtext.data.example.Example at 0x7f9c738deeb8>,\n",
       " <torchtext.data.example.Example at 0x7f9c738def98>,\n",
       " <torchtext.data.example.Example at 0x7f9c738cf0b8>,\n",
       " <torchtext.data.example.Example at 0x7f9c738cf198>,\n",
       " <torchtext.data.example.Example at 0x7f9c738cf278>,\n",
       " <torchtext.data.example.Example at 0x7f9c738cf358>,\n",
       " <torchtext.data.example.Example at 0x7f9c738cf438>,\n",
       " <torchtext.data.example.Example at 0x7f9c738cf518>,\n",
       " <torchtext.data.example.Example at 0x7f9c738cf5f8>,\n",
       " <torchtext.data.example.Example at 0x7f9c738cf6d8>,\n",
       " <torchtext.data.example.Example at 0x7f9c738cf7b8>,\n",
       " <torchtext.data.example.Example at 0x7f9c738cf898>,\n",
       " <torchtext.data.example.Example at 0x7f9c738cf978>,\n",
       " <torchtext.data.example.Example at 0x7f9c738cfa58>,\n",
       " <torchtext.data.example.Example at 0x7f9c738cfb38>,\n",
       " <torchtext.data.example.Example at 0x7f9c738cfc18>,\n",
       " <torchtext.data.example.Example at 0x7f9c738cfcf8>,\n",
       " <torchtext.data.example.Example at 0x7f9c738cfdd8>,\n",
       " <torchtext.data.example.Example at 0x7f9c738cfeb8>,\n",
       " <torchtext.data.example.Example at 0x7f9c738cff98>,\n",
       " <torchtext.data.example.Example at 0x7f9c738df0b8>,\n",
       " <torchtext.data.example.Example at 0x7f9c738df198>,\n",
       " <torchtext.data.example.Example at 0x7f9c738cfd68>,\n",
       " <torchtext.data.example.Example at 0x7f9c738cfba8>,\n",
       " <torchtext.data.example.Example at 0x7f9c738cf908>,\n",
       " <torchtext.data.example.Example at 0x7f9c738cf588>,\n",
       " <torchtext.data.example.Example at 0x7f9c738cf208>,\n",
       " <torchtext.data.example.Example at 0x7f9c738dee48>,\n",
       " <torchtext.data.example.Example at 0x7f9c738deac8>,\n",
       " <torchtext.data.example.Example at 0x7f9c738de748>,\n",
       " <torchtext.data.example.Example at 0x7f9c738de3c8>,\n",
       " <torchtext.data.example.Example at 0x7f9c738de048>,\n",
       " <torchtext.data.example.Example at 0x7f9c738f4c88>,\n",
       " <torchtext.data.example.Example at 0x7f9c739358d0>,\n",
       " <torchtext.data.example.Example at 0x7f9c738e8748>,\n",
       " <torchtext.data.example.Example at 0x7f9c738df320>,\n",
       " <torchtext.data.example.Example at 0x7f9c738df048>,\n",
       " <torchtext.data.example.Example at 0x7f9c738df438>,\n",
       " <torchtext.data.example.Example at 0x7f9c738df518>,\n",
       " <torchtext.data.example.Example at 0x7f9c738df5f8>,\n",
       " <torchtext.data.example.Example at 0x7f9c738df6d8>,\n",
       " <torchtext.data.example.Example at 0x7f9c738df7b8>,\n",
       " <torchtext.data.example.Example at 0x7f9c738df898>,\n",
       " <torchtext.data.example.Example at 0x7f9c738df978>,\n",
       " <torchtext.data.example.Example at 0x7f9c738dfa58>,\n",
       " <torchtext.data.example.Example at 0x7f9c738dfb38>,\n",
       " <torchtext.data.example.Example at 0x7f9c738dfc18>,\n",
       " <torchtext.data.example.Example at 0x7f9c738dfcf8>,\n",
       " <torchtext.data.example.Example at 0x7f9c738dfdd8>,\n",
       " <torchtext.data.example.Example at 0x7f9c738dfeb8>,\n",
       " <torchtext.data.example.Example at 0x7f9c738dff98>,\n",
       " <torchtext.data.example.Example at 0x7f9c738ea0b8>,\n",
       " <torchtext.data.example.Example at 0x7f9c738ea198>,\n",
       " <torchtext.data.example.Example at 0x7f9c738ea278>,\n",
       " <torchtext.data.example.Example at 0x7f9c738ea358>,\n",
       " <torchtext.data.example.Example at 0x7f9c738ea438>,\n",
       " <torchtext.data.example.Example at 0x7f9c738ea518>,\n",
       " <torchtext.data.example.Example at 0x7f9c738ea5f8>,\n",
       " <torchtext.data.example.Example at 0x7f9c738ea6d8>,\n",
       " <torchtext.data.example.Example at 0x7f9c738ea7b8>,\n",
       " <torchtext.data.example.Example at 0x7f9c738ea898>,\n",
       " <torchtext.data.example.Example at 0x7f9c738ea978>,\n",
       " <torchtext.data.example.Example at 0x7f9c738eaa58>,\n",
       " <torchtext.data.example.Example at 0x7f9c738eab38>,\n",
       " <torchtext.data.example.Example at 0x7f9c738eac18>,\n",
       " <torchtext.data.example.Example at 0x7f9c738eacf8>,\n",
       " <torchtext.data.example.Example at 0x7f9c738eadd8>,\n",
       " <torchtext.data.example.Example at 0x7f9c738eaeb8>,\n",
       " <torchtext.data.example.Example at 0x7f9c738eaf98>,\n",
       " <torchtext.data.example.Example at 0x7f9c7381c0b8>,\n",
       " <torchtext.data.example.Example at 0x7f9c7381c198>,\n",
       " <torchtext.data.example.Example at 0x7f9c7381c278>,\n",
       " <torchtext.data.example.Example at 0x7f9c7381c358>,\n",
       " <torchtext.data.example.Example at 0x7f9c7381c438>,\n",
       " <torchtext.data.example.Example at 0x7f9c7381c518>,\n",
       " <torchtext.data.example.Example at 0x7f9c738ead68>,\n",
       " <torchtext.data.example.Example at 0x7f9c738eaba8>,\n",
       " <torchtext.data.example.Example at 0x7f9c738ea908>,\n",
       " <torchtext.data.example.Example at 0x7f9c738ea588>,\n",
       " <torchtext.data.example.Example at 0x7f9c738ea208>,\n",
       " <torchtext.data.example.Example at 0x7f9c738dfe48>,\n",
       " <torchtext.data.example.Example at 0x7f9c738dfac8>,\n",
       " <torchtext.data.example.Example at 0x7f9c738df748>,\n",
       " <torchtext.data.example.Example at 0x7f9c738df3c8>,\n",
       " <torchtext.data.example.Example at 0x7f9c738e3160>,\n",
       " <torchtext.data.example.Example at 0x7f9c738de908>,\n",
       " <torchtext.data.example.Example at 0x7f9c738cf748>,\n",
       " <torchtext.data.example.Example at 0x7f9c7381c6a0>,\n",
       " <torchtext.data.example.Example at 0x7f9c7381c3c8>,\n",
       " <torchtext.data.example.Example at 0x7f9c7381c048>,\n",
       " <torchtext.data.example.Example at 0x7f9c7381c7b8>,\n",
       " <torchtext.data.example.Example at 0x7f9c7381c898>,\n",
       " <torchtext.data.example.Example at 0x7f9c7381c978>,\n",
       " <torchtext.data.example.Example at 0x7f9c7381ca58>,\n",
       " <torchtext.data.example.Example at 0x7f9c7381cb38>,\n",
       " <torchtext.data.example.Example at 0x7f9c7381cc18>,\n",
       " <torchtext.data.example.Example at 0x7f9c7381ccf8>,\n",
       " <torchtext.data.example.Example at 0x7f9c7381cdd8>,\n",
       " <torchtext.data.example.Example at 0x7f9c7381ceb8>,\n",
       " <torchtext.data.example.Example at 0x7f9c7381cf98>,\n",
       " <torchtext.data.example.Example at 0x7f9c738dd0b8>,\n",
       " <torchtext.data.example.Example at 0x7f9c738dd198>,\n",
       " <torchtext.data.example.Example at 0x7f9c738dd278>,\n",
       " <torchtext.data.example.Example at 0x7f9c738dd358>,\n",
       " <torchtext.data.example.Example at 0x7f9c738dd438>,\n",
       " <torchtext.data.example.Example at 0x7f9c738dd518>,\n",
       " <torchtext.data.example.Example at 0x7f9c738dd5f8>,\n",
       " <torchtext.data.example.Example at 0x7f9c738dd6d8>,\n",
       " <torchtext.data.example.Example at 0x7f9c738dd7b8>,\n",
       " <torchtext.data.example.Example at 0x7f9c738dd898>,\n",
       " <torchtext.data.example.Example at 0x7f9c738dd978>,\n",
       " <torchtext.data.example.Example at 0x7f9c738dda58>,\n",
       " <torchtext.data.example.Example at 0x7f9c738ddb38>,\n",
       " <torchtext.data.example.Example at 0x7f9c738ddc18>,\n",
       " <torchtext.data.example.Example at 0x7f9c738ddcf8>,\n",
       " <torchtext.data.example.Example at 0x7f9c738dddd8>,\n",
       " <torchtext.data.example.Example at 0x7f9c738ddeb8>,\n",
       " <torchtext.data.example.Example at 0x7f9c738ddf98>,\n",
       " <torchtext.data.example.Example at 0x7f9c7381e0b8>,\n",
       " <torchtext.data.example.Example at 0x7f9c7381e198>,\n",
       " <torchtext.data.example.Example at 0x7f9c7381e278>,\n",
       " <torchtext.data.example.Example at 0x7f9c7381e358>,\n",
       " <torchtext.data.example.Example at 0x7f9c7381e438>,\n",
       " <torchtext.data.example.Example at 0x7f9c7381e518>,\n",
       " <torchtext.data.example.Example at 0x7f9c7381e5f8>,\n",
       " <torchtext.data.example.Example at 0x7f9c7381e6d8>,\n",
       " <torchtext.data.example.Example at 0x7f9c7381e7b8>,\n",
       " <torchtext.data.example.Example at 0x7f9c7381e898>,\n",
       " <torchtext.data.example.Example at 0x7f9c738ddd68>,\n",
       " <torchtext.data.example.Example at 0x7f9c738ddba8>,\n",
       " <torchtext.data.example.Example at 0x7f9c738dd908>,\n",
       " <torchtext.data.example.Example at 0x7f9c738dd588>,\n",
       " <torchtext.data.example.Example at 0x7f9c738dd208>,\n",
       " <torchtext.data.example.Example at 0x7f9c7381ce48>,\n",
       " <torchtext.data.example.Example at 0x7f9c7381cac8>,\n",
       " <torchtext.data.example.Example at 0x7f9c7381c748>,\n",
       " <torchtext.data.example.Example at 0x7f9c738cf048>,\n",
       " <torchtext.data.example.Example at 0x7f9c738df908>,\n",
       " <torchtext.data.example.Example at 0x7f9c738ea748>,\n",
       " <torchtext.data.example.Example at 0x7f9c7381ea20>,\n",
       " <torchtext.data.example.Example at 0x7f9c7381e748>,\n",
       " <torchtext.data.example.Example at 0x7f9c7381e3c8>,\n",
       " <torchtext.data.example.Example at 0x7f9c7381e048>,\n",
       " <torchtext.data.example.Example at 0x7f9c7381eb38>,\n",
       " <torchtext.data.example.Example at 0x7f9c7381ec18>,\n",
       " <torchtext.data.example.Example at 0x7f9c7381ecf8>,\n",
       " <torchtext.data.example.Example at 0x7f9c7381edd8>,\n",
       " <torchtext.data.example.Example at 0x7f9c7381eeb8>,\n",
       " <torchtext.data.example.Example at 0x7f9c7381ef98>,\n",
       " <torchtext.data.example.Example at 0x7f9c738e70b8>,\n",
       " <torchtext.data.example.Example at 0x7f9c738e7198>,\n",
       " <torchtext.data.example.Example at 0x7f9c738e7278>,\n",
       " <torchtext.data.example.Example at 0x7f9c738e7358>,\n",
       " <torchtext.data.example.Example at 0x7f9c738e7438>,\n",
       " <torchtext.data.example.Example at 0x7f9c738e7518>,\n",
       " <torchtext.data.example.Example at 0x7f9c738e75f8>,\n",
       " <torchtext.data.example.Example at 0x7f9c738e76d8>,\n",
       " <torchtext.data.example.Example at 0x7f9c738e77b8>,\n",
       " <torchtext.data.example.Example at 0x7f9c738e7898>,\n",
       " <torchtext.data.example.Example at 0x7f9c738e7978>,\n",
       " <torchtext.data.example.Example at 0x7f9c738e7a58>,\n",
       " <torchtext.data.example.Example at 0x7f9c738e7b38>,\n",
       " <torchtext.data.example.Example at 0x7f9c738e7c18>,\n",
       " <torchtext.data.example.Example at 0x7f9c738e7cf8>,\n",
       " <torchtext.data.example.Example at 0x7f9c738e7dd8>,\n",
       " <torchtext.data.example.Example at 0x7f9c738e7eb8>,\n",
       " <torchtext.data.example.Example at 0x7f9c738e7f98>,\n",
       " <torchtext.data.example.Example at 0x7f9c738d90b8>,\n",
       " <torchtext.data.example.Example at 0x7f9c738d9198>,\n",
       " <torchtext.data.example.Example at 0x7f9c738d9278>,\n",
       " <torchtext.data.example.Example at 0x7f9c738d9358>,\n",
       " <torchtext.data.example.Example at 0x7f9c738d9438>,\n",
       " <torchtext.data.example.Example at 0x7f9c738d9518>,\n",
       " <torchtext.data.example.Example at 0x7f9c738d95f8>,\n",
       " <torchtext.data.example.Example at 0x7f9c738d96d8>,\n",
       " <torchtext.data.example.Example at 0x7f9c738d97b8>,\n",
       " <torchtext.data.example.Example at 0x7f9c738d9898>,\n",
       " <torchtext.data.example.Example at 0x7f9c738d9978>,\n",
       " <torchtext.data.example.Example at 0x7f9c738d9a58>,\n",
       " <torchtext.data.example.Example at 0x7f9c738d9b38>,\n",
       " <torchtext.data.example.Example at 0x7f9c738d9c18>,\n",
       " <torchtext.data.example.Example at 0x7f9c738e7d68>,\n",
       " <torchtext.data.example.Example at 0x7f9c738e7ba8>,\n",
       " <torchtext.data.example.Example at 0x7f9c738e7908>,\n",
       " <torchtext.data.example.Example at 0x7f9c738e7588>,\n",
       " <torchtext.data.example.Example at 0x7f9c738e7208>,\n",
       " <torchtext.data.example.Example at 0x7f9c7381ee48>,\n",
       " <torchtext.data.example.Example at 0x7f9c7381eac8>,\n",
       " <torchtext.data.example.Example at 0x7f9c7381e940>,\n",
       " <torchtext.data.example.Example at 0x7f9c7381c908>,\n",
       " <torchtext.data.example.Example at 0x7f9c738dd748>,\n",
       " <torchtext.data.example.Example at 0x7f9c738d9da0>,\n",
       " <torchtext.data.example.Example at 0x7f9c738d9ac8>,\n",
       " <torchtext.data.example.Example at 0x7f9c738d9748>,\n",
       " <torchtext.data.example.Example at 0x7f9c738d93c8>,\n",
       " <torchtext.data.example.Example at 0x7f9c738d9048>,\n",
       " <torchtext.data.example.Example at 0x7f9c738d9eb8>,\n",
       " <torchtext.data.example.Example at 0x7f9c738d9f98>,\n",
       " <torchtext.data.example.Example at 0x7f9c738f00b8>,\n",
       " <torchtext.data.example.Example at 0x7f9c738f0198>,\n",
       " <torchtext.data.example.Example at 0x7f9c738f0278>,\n",
       " <torchtext.data.example.Example at 0x7f9c738f0358>,\n",
       " <torchtext.data.example.Example at 0x7f9c738f0438>,\n",
       " <torchtext.data.example.Example at 0x7f9c738f0518>,\n",
       " <torchtext.data.example.Example at 0x7f9c738f05f8>,\n",
       " <torchtext.data.example.Example at 0x7f9c738f06d8>,\n",
       " <torchtext.data.example.Example at 0x7f9c738f07b8>,\n",
       " <torchtext.data.example.Example at 0x7f9c738f0898>,\n",
       " <torchtext.data.example.Example at 0x7f9c738f0978>,\n",
       " <torchtext.data.example.Example at 0x7f9c738f0a58>,\n",
       " <torchtext.data.example.Example at 0x7f9c738f0b38>,\n",
       " <torchtext.data.example.Example at 0x7f9c738f0c18>,\n",
       " <torchtext.data.example.Example at 0x7f9c738f0cf8>,\n",
       " <torchtext.data.example.Example at 0x7f9c738f0dd8>,\n",
       " <torchtext.data.example.Example at 0x7f9c738f0eb8>,\n",
       " <torchtext.data.example.Example at 0x7f9c738f0f98>,\n",
       " <torchtext.data.example.Example at 0x7f9c738280b8>,\n",
       " <torchtext.data.example.Example at 0x7f9c73828198>,\n",
       " <torchtext.data.example.Example at 0x7f9c73828278>,\n",
       " <torchtext.data.example.Example at 0x7f9c73828358>,\n",
       " <torchtext.data.example.Example at 0x7f9c73828438>,\n",
       " <torchtext.data.example.Example at 0x7f9c73828518>,\n",
       " <torchtext.data.example.Example at 0x7f9c738285f8>,\n",
       " <torchtext.data.example.Example at 0x7f9c738286d8>,\n",
       " <torchtext.data.example.Example at 0x7f9c738287b8>,\n",
       " <torchtext.data.example.Example at 0x7f9c73828898>,\n",
       " <torchtext.data.example.Example at 0x7f9c73828978>,\n",
       " <torchtext.data.example.Example at 0x7f9c73828a58>,\n",
       " <torchtext.data.example.Example at 0x7f9c73828b38>,\n",
       " <torchtext.data.example.Example at 0x7f9c73828c18>,\n",
       " <torchtext.data.example.Example at 0x7f9c73828cf8>,\n",
       " <torchtext.data.example.Example at 0x7f9c73828dd8>,\n",
       " <torchtext.data.example.Example at 0x7f9c73828eb8>,\n",
       " <torchtext.data.example.Example at 0x7f9c73828f98>,\n",
       " <torchtext.data.example.Example at 0x7f9c73828c88>,\n",
       " <torchtext.data.example.Example at 0x7f9c73828ac8>,\n",
       " <torchtext.data.example.Example at 0x7f9c73828828>,\n",
       " <torchtext.data.example.Example at 0x7f9c738284a8>,\n",
       " <torchtext.data.example.Example at 0x7f9c73828128>,\n",
       " <torchtext.data.example.Example at 0x7f9c738f0d68>,\n",
       " <torchtext.data.example.Example at 0x7f9c738f09e8>,\n",
       " <torchtext.data.example.Example at 0x7f9c738f0668>,\n",
       " <torchtext.data.example.Example at 0x7f9c738f02e8>,\n",
       " <torchtext.data.example.Example at 0x7f9c738dd048>,\n",
       " <torchtext.data.example.Example at 0x7f9c738e7ac8>,\n",
       " <torchtext.data.example.Example at 0x7f9c738d9588>,\n",
       " <torchtext.data.example.Example at 0x7f9c738d9d68>,\n",
       " <torchtext.data.example.Example at 0x7f9c7381c668>,\n",
       " <torchtext.data.example.Example at 0x7f9c738d4eb8>,\n",
       " <torchtext.data.example.Example at 0x7f9c738e31d0>,\n",
       " <torchtext.data.example.Example at 0x7f9c7390b3c8>,\n",
       " <torchtext.data.example.Example at 0x7f9c7390b2e8>,\n",
       " <torchtext.data.example.Example at 0x7f9c7390b390>,\n",
       " <torchtext.data.example.Example at 0x7f9c7390bac8>,\n",
       " <torchtext.data.example.Example at 0x7f9c7390b7b8>,\n",
       " <torchtext.data.example.Example at 0x7f9c7390be80>,\n",
       " <torchtext.data.example.Example at 0x7f9c738f3668>,\n",
       " <torchtext.data.example.Example at 0x7f9c738f3748>,\n",
       " <torchtext.data.example.Example at 0x7f9c738f3828>,\n",
       " <torchtext.data.example.Example at 0x7f9c738f3908>,\n",
       " <torchtext.data.example.Example at 0x7f9c738f39e8>,\n",
       " <torchtext.data.example.Example at 0x7f9c738f3ac8>,\n",
       " <torchtext.data.example.Example at 0x7f9c738f3ba8>,\n",
       " <torchtext.data.example.Example at 0x7f9c738f3c88>,\n",
       " <torchtext.data.example.Example at 0x7f9c738f3d68>,\n",
       " <torchtext.data.example.Example at 0x7f9c738f7f60>,\n",
       " <torchtext.data.example.Example at 0x7f9c738f7e80>,\n",
       " <torchtext.data.example.Example at 0x7f9c738f7da0>,\n",
       " <torchtext.data.example.Example at 0x7f9c738f7cc0>,\n",
       " <torchtext.data.example.Example at 0x7f9c738f7be0>,\n",
       " <torchtext.data.example.Example at 0x7f9c738f7b00>,\n",
       " <torchtext.data.example.Example at 0x7f9c738f7a20>,\n",
       " <torchtext.data.example.Example at 0x7f9c738f7940>,\n",
       " <torchtext.data.example.Example at 0x7f9c738f7860>,\n",
       " <torchtext.data.example.Example at 0x7f9c738f7780>,\n",
       " <torchtext.data.example.Example at 0x7f9c738f76a0>,\n",
       " <torchtext.data.example.Example at 0x7f9c738dc3c8>,\n",
       " <torchtext.data.example.Example at 0x7f9c738dc128>,\n",
       " <torchtext.data.example.Example at 0x7f9c738dc208>,\n",
       " <torchtext.data.example.Example at 0x7f9c738dc2e8>,\n",
       " <torchtext.data.example.Example at 0x7f9c78ff8e80>,\n",
       " <torchtext.data.example.Example at 0x7f9c78ff8f98>,\n",
       " <torchtext.data.example.Example at 0x7f9c7900e550>,\n",
       " <torchtext.data.example.Example at 0x7f9c7900eeb8>,\n",
       " <torchtext.data.example.Example at 0x7f9c7382b198>,\n",
       " <torchtext.data.example.Example at 0x7f9c7382b240>,\n",
       " <torchtext.data.example.Example at 0x7f9c7382b320>,\n",
       " <torchtext.data.example.Example at 0x7f9c738dc358>,\n",
       " <torchtext.data.example.Example at 0x7f9c738dc198>,\n",
       " <torchtext.data.example.Example at 0x7f9c738f7710>,\n",
       " <torchtext.data.example.Example at 0x7f9c738f7a90>,\n",
       " <torchtext.data.example.Example at 0x7f9c738f7e10>,\n",
       " <torchtext.data.example.Example at 0x7f9c738f3c18>,\n",
       " <torchtext.data.example.Example at 0x7f9c738f3898>,\n",
       " <torchtext.data.example.Example at 0x7f9c7390b1d0>,\n",
       " <torchtext.data.example.Example at 0x7f9c7390bf28>,\n",
       " <torchtext.data.example.Example at 0x7f9c7381ec88>,\n",
       " <torchtext.data.example.Example at 0x7f9c738f0128>,\n",
       " <torchtext.data.example.Example at 0x7f9c738f0f28>,\n",
       " <torchtext.data.example.Example at 0x7f9c738289e8>,\n",
       " <torchtext.data.example.Example at 0x7f9c7382b4e0>,\n",
       " <torchtext.data.example.Example at 0x7f9c7382b0b8>,\n",
       " <torchtext.data.example.Example at 0x7f9c7382b5c0>,\n",
       " <torchtext.data.example.Example at 0x7f9c7382b6a0>,\n",
       " <torchtext.data.example.Example at 0x7f9c7382b780>,\n",
       " <torchtext.data.example.Example at 0x7f9c7382b860>,\n",
       " <torchtext.data.example.Example at 0x7f9c7382b940>,\n",
       " <torchtext.data.example.Example at 0x7f9c7382ba20>,\n",
       " <torchtext.data.example.Example at 0x7f9c7382bb00>,\n",
       " <torchtext.data.example.Example at 0x7f9c7382bbe0>,\n",
       " <torchtext.data.example.Example at 0x7f9c7382bcc0>,\n",
       " <torchtext.data.example.Example at 0x7f9c7382bda0>,\n",
       " <torchtext.data.example.Example at 0x7f9c7382be80>,\n",
       " <torchtext.data.example.Example at 0x7f9c7382bf60>,\n",
       " <torchtext.data.example.Example at 0x7f9c738fb080>,\n",
       " <torchtext.data.example.Example at 0x7f9c738fb160>,\n",
       " <torchtext.data.example.Example at 0x7f9c738fb240>,\n",
       " <torchtext.data.example.Example at 0x7f9c738fb320>,\n",
       " <torchtext.data.example.Example at 0x7f9c738fb400>,\n",
       " <torchtext.data.example.Example at 0x7f9c738fb4e0>,\n",
       " <torchtext.data.example.Example at 0x7f9c738fb5c0>,\n",
       " <torchtext.data.example.Example at 0x7f9c738fb6a0>,\n",
       " <torchtext.data.example.Example at 0x7f9c738fb780>,\n",
       " <torchtext.data.example.Example at 0x7f9c738fb860>,\n",
       " <torchtext.data.example.Example at 0x7f9c738fb940>,\n",
       " <torchtext.data.example.Example at 0x7f9c738fba20>,\n",
       " <torchtext.data.example.Example at 0x7f9c738fbb00>,\n",
       " <torchtext.data.example.Example at 0x7f9c738fbbe0>,\n",
       " <torchtext.data.example.Example at 0x7f9c738fbcc0>,\n",
       " <torchtext.data.example.Example at 0x7f9c738fbda0>,\n",
       " <torchtext.data.example.Example at 0x7f9c738fbe80>,\n",
       " <torchtext.data.example.Example at 0x7f9c738fbf60>,\n",
       " <torchtext.data.example.Example at 0x7f9c73827080>,\n",
       " <torchtext.data.example.Example at 0x7f9c73827160>,\n",
       " <torchtext.data.example.Example at 0x7f9c73827240>,\n",
       " <torchtext.data.example.Example at 0x7f9c73827320>,\n",
       " <torchtext.data.example.Example at 0x7f9c73827400>,\n",
       " <torchtext.data.example.Example at 0x7f9c738274e0>,\n",
       " <torchtext.data.example.Example at 0x7f9c738275c0>,\n",
       " <torchtext.data.example.Example at 0x7f9c738276a0>,\n",
       " <torchtext.data.example.Example at 0x7f9c738fbe10>,\n",
       " <torchtext.data.example.Example at 0x7f9c738fbc50>,\n",
       " <torchtext.data.example.Example at 0x7f9c738fb9b0>,\n",
       " <torchtext.data.example.Example at 0x7f9c738fb630>,\n",
       " <torchtext.data.example.Example at 0x7f9c738fb2b0>,\n",
       " <torchtext.data.example.Example at 0x7f9c7382bef0>,\n",
       " <torchtext.data.example.Example at 0x7f9c7382bb70>,\n",
       " <torchtext.data.example.Example at 0x7f9c7382b7f0>,\n",
       " <torchtext.data.example.Example at 0x7f9c7382b2b0>,\n",
       " <torchtext.data.example.Example at 0x7f9c738d9e48>,\n",
       " <torchtext.data.example.Example at 0x7f9c738f3a58>,\n",
       " <torchtext.data.example.Example at 0x7f9c738dc048>,\n",
       " <torchtext.data.example.Example at 0x7f9c73827860>,\n",
       " <torchtext.data.example.Example at 0x7f9c73827470>,\n",
       " <torchtext.data.example.Example at 0x7f9c738270f0>,\n",
       " <torchtext.data.example.Example at 0x7f9c73827940>,\n",
       " <torchtext.data.example.Example at 0x7f9c73827a20>,\n",
       " <torchtext.data.example.Example at 0x7f9c73827b00>,\n",
       " <torchtext.data.example.Example at 0x7f9c73827be0>,\n",
       " <torchtext.data.example.Example at 0x7f9c73827cc0>,\n",
       " <torchtext.data.example.Example at 0x7f9c73827da0>,\n",
       " <torchtext.data.example.Example at 0x7f9c73827e80>,\n",
       " <torchtext.data.example.Example at 0x7f9c73827f60>,\n",
       " <torchtext.data.example.Example at 0x7f9c738f9080>,\n",
       " <torchtext.data.example.Example at 0x7f9c738f9160>,\n",
       " <torchtext.data.example.Example at 0x7f9c738f9240>,\n",
       " <torchtext.data.example.Example at 0x7f9c738f9320>,\n",
       " <torchtext.data.example.Example at 0x7f9c738f9400>,\n",
       " <torchtext.data.example.Example at 0x7f9c738f94e0>,\n",
       " <torchtext.data.example.Example at 0x7f9c738f95c0>,\n",
       " <torchtext.data.example.Example at 0x7f9c738f96a0>,\n",
       " <torchtext.data.example.Example at 0x7f9c738f9780>,\n",
       " <torchtext.data.example.Example at 0x7f9c738f9860>,\n",
       " <torchtext.data.example.Example at 0x7f9c738f9940>,\n",
       " <torchtext.data.example.Example at 0x7f9c738f9a20>,\n",
       " <torchtext.data.example.Example at 0x7f9c738f9b00>,\n",
       " <torchtext.data.example.Example at 0x7f9c738f9be0>,\n",
       " <torchtext.data.example.Example at 0x7f9c738f9cc0>,\n",
       " <torchtext.data.example.Example at 0x7f9c738f9da0>,\n",
       " <torchtext.data.example.Example at 0x7f9c738f9e80>,\n",
       " <torchtext.data.example.Example at 0x7f9c738f9f60>,\n",
       " <torchtext.data.example.Example at 0x7f9c7382d080>,\n",
       " <torchtext.data.example.Example at 0x7f9c7382d160>,\n",
       " <torchtext.data.example.Example at 0x7f9c7382d240>,\n",
       " <torchtext.data.example.Example at 0x7f9c7382d320>,\n",
       " <torchtext.data.example.Example at 0x7f9c7382d400>,\n",
       " <torchtext.data.example.Example at 0x7f9c7382d4e0>,\n",
       " <torchtext.data.example.Example at 0x7f9c7382d5c0>,\n",
       " <torchtext.data.example.Example at 0x7f9c7382d6a0>,\n",
       " <torchtext.data.example.Example at 0x7f9c7382d780>,\n",
       " <torchtext.data.example.Example at 0x7f9c7382d860>,\n",
       " <torchtext.data.example.Example at 0x7f9c7382d940>,\n",
       " <torchtext.data.example.Example at 0x7f9c7382da20>,\n",
       " <torchtext.data.example.Example at 0x7f9c738f9e10>,\n",
       " <torchtext.data.example.Example at 0x7f9c738f9c50>,\n",
       " <torchtext.data.example.Example at 0x7f9c738f99b0>,\n",
       " <torchtext.data.example.Example at 0x7f9c738f9630>,\n",
       " <torchtext.data.example.Example at 0x7f9c738f92b0>,\n",
       " <torchtext.data.example.Example at 0x7f9c73827ef0>,\n",
       " <torchtext.data.example.Example at 0x7f9c73827b70>,\n",
       " <torchtext.data.example.Example at 0x7f9c738272b0>,\n",
       " <torchtext.data.example.Example at 0x7f9c7390b978>,\n",
       " <torchtext.data.example.Example at 0x7f9c7382bd30>,\n",
       " <torchtext.data.example.Example at 0x7f9c738fbb70>,\n",
       " <torchtext.data.example.Example at 0x7f9c7382dbe0>,\n",
       " <torchtext.data.example.Example at 0x7f9c7382d7f0>,\n",
       " <torchtext.data.example.Example at 0x7f9c7382d470>,\n",
       " <torchtext.data.example.Example at 0x7f9c7382d0f0>,\n",
       " <torchtext.data.example.Example at 0x7f9c7382dcc0>,\n",
       " <torchtext.data.example.Example at 0x7f9c7382dda0>,\n",
       " <torchtext.data.example.Example at 0x7f9c7382de80>,\n",
       " <torchtext.data.example.Example at 0x7f9c7382df60>,\n",
       " <torchtext.data.example.Example at 0x7f9c738e0080>,\n",
       " <torchtext.data.example.Example at 0x7f9c738e0160>,\n",
       " <torchtext.data.example.Example at 0x7f9c738e0240>,\n",
       " <torchtext.data.example.Example at 0x7f9c738e0320>,\n",
       " <torchtext.data.example.Example at 0x7f9c738e0400>,\n",
       " <torchtext.data.example.Example at 0x7f9c738e04e0>,\n",
       " <torchtext.data.example.Example at 0x7f9c738e05c0>,\n",
       " <torchtext.data.example.Example at 0x7f9c738e06a0>,\n",
       " <torchtext.data.example.Example at 0x7f9c738e0780>,\n",
       " <torchtext.data.example.Example at 0x7f9c738e0860>,\n",
       " <torchtext.data.example.Example at 0x7f9c738e0940>,\n",
       " <torchtext.data.example.Example at 0x7f9c738e0a20>,\n",
       " <torchtext.data.example.Example at 0x7f9c738e0b00>,\n",
       " <torchtext.data.example.Example at 0x7f9c738e0be0>,\n",
       " <torchtext.data.example.Example at 0x7f9c738e0cc0>,\n",
       " <torchtext.data.example.Example at 0x7f9c738e0da0>,\n",
       " <torchtext.data.example.Example at 0x7f9c738e0e80>,\n",
       " <torchtext.data.example.Example at 0x7f9c738e0f60>,\n",
       " <torchtext.data.example.Example at 0x7f9c73825080>,\n",
       " <torchtext.data.example.Example at 0x7f9c73825160>,\n",
       " <torchtext.data.example.Example at 0x7f9c73825240>,\n",
       " <torchtext.data.example.Example at 0x7f9c73825320>,\n",
       " <torchtext.data.example.Example at 0x7f9c73825400>,\n",
       " <torchtext.data.example.Example at 0x7f9c738254e0>,\n",
       " <torchtext.data.example.Example at 0x7f9c73825668>,\n",
       " <torchtext.data.example.Example at 0x7f9c738256a0>,\n",
       " <torchtext.data.example.Example at 0x7f9c73825780>,\n",
       " <torchtext.data.example.Example at 0x7f9c73825860>,\n",
       " <torchtext.data.example.Example at 0x7f9c73825940>,\n",
       " <torchtext.data.example.Example at 0x7f9c73825a20>,\n",
       " <torchtext.data.example.Example at 0x7f9c73825b00>,\n",
       " <torchtext.data.example.Example at 0x7f9c73825be0>,\n",
       " <torchtext.data.example.Example at 0x7f9c73825cc0>,\n",
       " <torchtext.data.example.Example at 0x7f9c73825da0>,\n",
       " <torchtext.data.example.Example at 0x7f9c738e0e10>,\n",
       " <torchtext.data.example.Example at 0x7f9c738e0c50>,\n",
       " <torchtext.data.example.Example at 0x7f9c738e09b0>,\n",
       " <torchtext.data.example.Example at 0x7f9c738e0630>,\n",
       " <torchtext.data.example.Example at 0x7f9c738e02b0>,\n",
       " <torchtext.data.example.Example at 0x7f9c7382def0>,\n",
       " <torchtext.data.example.Example at 0x7f9c7382d2b0>,\n",
       " <torchtext.data.example.Example at 0x7f9c738fb470>,\n",
       " <torchtext.data.example.Example at 0x7f9c73827d30>,\n",
       " <torchtext.data.example.Example at 0x7f9c738f9b70>,\n",
       " <torchtext.data.example.Example at 0x7f9c73825f60>,\n",
       " <torchtext.data.example.Example at 0x7f9c73825b70>,\n",
       " <torchtext.data.example.Example at 0x7f9c738257b8>,\n",
       " <torchtext.data.example.Example at 0x7f9c73825470>,\n",
       " <torchtext.data.example.Example at 0x7f9c738250f0>,\n",
       " <torchtext.data.example.Example at 0x7f9c738f5080>,\n",
       " <torchtext.data.example.Example at 0x7f9c738f5160>,\n",
       " <torchtext.data.example.Example at 0x7f9c738f5240>,\n",
       " <torchtext.data.example.Example at 0x7f9c738f5320>,\n",
       " <torchtext.data.example.Example at 0x7f9c738f5400>,\n",
       " <torchtext.data.example.Example at 0x7f9c738f54e0>,\n",
       " <torchtext.data.example.Example at 0x7f9c738f55c0>,\n",
       " <torchtext.data.example.Example at 0x7f9c738f56a0>,\n",
       " <torchtext.data.example.Example at 0x7f9c738f5780>,\n",
       " <torchtext.data.example.Example at 0x7f9c738f5860>,\n",
       " <torchtext.data.example.Example at 0x7f9c738f5940>,\n",
       " <torchtext.data.example.Example at 0x7f9c738f5a20>,\n",
       " <torchtext.data.example.Example at 0x7f9c738f5b00>,\n",
       " <torchtext.data.example.Example at 0x7f9c738f5be0>,\n",
       " <torchtext.data.example.Example at 0x7f9c738f5cc0>,\n",
       " <torchtext.data.example.Example at 0x7f9c738f5da0>,\n",
       " <torchtext.data.example.Example at 0x7f9c738f5e80>,\n",
       " <torchtext.data.example.Example at 0x7f9c738f5f60>,\n",
       " <torchtext.data.example.Example at 0x7f9c7381d080>,\n",
       " <torchtext.data.example.Example at 0x7f9c7381d160>,\n",
       " <torchtext.data.example.Example at 0x7f9c7381d240>,\n",
       " <torchtext.data.example.Example at 0x7f9c7381d320>,\n",
       " <torchtext.data.example.Example at 0x7f9c7381d400>,\n",
       " <torchtext.data.example.Example at 0x7f9c7381d4e0>,\n",
       " <torchtext.data.example.Example at 0x7f9c7381d5c0>,\n",
       " <torchtext.data.example.Example at 0x7f9c7381d6a0>,\n",
       " <torchtext.data.example.Example at 0x7f9c7381d780>,\n",
       " <torchtext.data.example.Example at 0x7f9c7381d860>,\n",
       " <torchtext.data.example.Example at 0x7f9c7381d940>,\n",
       " <torchtext.data.example.Example at 0x7f9c7381da20>,\n",
       " <torchtext.data.example.Example at 0x7f9c7381db00>,\n",
       " <torchtext.data.example.Example at 0x7f9c7381dbe0>,\n",
       " <torchtext.data.example.Example at 0x7f9c7381dcc0>,\n",
       " <torchtext.data.example.Example at 0x7f9c7381dda0>,\n",
       " <torchtext.data.example.Example at 0x7f9c7381de80>,\n",
       " <torchtext.data.example.Example at 0x7f9c7381df60>,\n",
       " <torchtext.data.example.Example at 0x7f9c73835080>,\n",
       " <torchtext.data.example.Example at 0x7f9c73835160>,\n",
       " <torchtext.data.example.Example at 0x7f9c7381de10>,\n",
       " <torchtext.data.example.Example at 0x7f9c7381dc50>,\n",
       " <torchtext.data.example.Example at 0x7f9c7381d9b0>,\n",
       " <torchtext.data.example.Example at 0x7f9c7381d630>,\n",
       " <torchtext.data.example.Example at 0x7f9c7381d2b0>,\n",
       " <torchtext.data.example.Example at 0x7f9c738f5ef0>,\n",
       " <torchtext.data.example.Example at 0x7f9c738f5b70>,\n",
       " <torchtext.data.example.Example at 0x7f9c738f57f0>,\n",
       " <torchtext.data.example.Example at 0x7f9c738f5470>,\n",
       " <torchtext.data.example.Example at 0x7f9c738f50f0>,\n",
       " <torchtext.data.example.Example at 0x7f9c738259b0>,\n",
       " <torchtext.data.example.Example at 0x7f9c73827780>,\n",
       " <torchtext.data.example.Example at 0x7f9c738e0470>,\n",
       " <torchtext.data.example.Example at 0x7f9c73835240>,\n",
       " <torchtext.data.example.Example at 0x7f9c738350f0>,\n",
       " <torchtext.data.example.Example at 0x7f9c73835400>,\n",
       " <torchtext.data.example.Example at 0x7f9c738354e0>,\n",
       " <torchtext.data.example.Example at 0x7f9c738355c0>,\n",
       " <torchtext.data.example.Example at 0x7f9c738356a0>,\n",
       " <torchtext.data.example.Example at 0x7f9c73835780>,\n",
       " <torchtext.data.example.Example at 0x7f9c73835860>,\n",
       " <torchtext.data.example.Example at 0x7f9c73835940>,\n",
       " <torchtext.data.example.Example at 0x7f9c73835a20>,\n",
       " <torchtext.data.example.Example at 0x7f9c73835b00>,\n",
       " <torchtext.data.example.Example at 0x7f9c73835be0>,\n",
       " <torchtext.data.example.Example at 0x7f9c73835cc0>,\n",
       " <torchtext.data.example.Example at 0x7f9c73835da0>,\n",
       " <torchtext.data.example.Example at 0x7f9c73835e80>,\n",
       " <torchtext.data.example.Example at 0x7f9c73835f60>,\n",
       " <torchtext.data.example.Example at 0x7f9c73837080>,\n",
       " <torchtext.data.example.Example at 0x7f9c73837160>,\n",
       " <torchtext.data.example.Example at 0x7f9c73837240>,\n",
       " <torchtext.data.example.Example at 0x7f9c73837320>,\n",
       " <torchtext.data.example.Example at 0x7f9c73837400>,\n",
       " <torchtext.data.example.Example at 0x7f9c738374e0>,\n",
       " <torchtext.data.example.Example at 0x7f9c738375c0>,\n",
       " <torchtext.data.example.Example at 0x7f9c738376a0>,\n",
       " <torchtext.data.example.Example at 0x7f9c73837780>,\n",
       " <torchtext.data.example.Example at 0x7f9c73837860>,\n",
       " <torchtext.data.example.Example at 0x7f9c73837940>,\n",
       " <torchtext.data.example.Example at 0x7f9c73837a20>,\n",
       " <torchtext.data.example.Example at 0x7f9c73837b00>,\n",
       " <torchtext.data.example.Example at 0x7f9c73837be0>,\n",
       " <torchtext.data.example.Example at 0x7f9c73837cc0>,\n",
       " <torchtext.data.example.Example at 0x7f9c73837da0>,\n",
       " <torchtext.data.example.Example at 0x7f9c73837e80>,\n",
       " <torchtext.data.example.Example at 0x7f9c73837f60>,\n",
       " <torchtext.data.example.Example at 0x7f9c73832080>,\n",
       " <torchtext.data.example.Example at 0x7f9c73832160>,\n",
       " <torchtext.data.example.Example at 0x7f9c73832240>,\n",
       " <torchtext.data.example.Example at 0x7f9c73832320>,\n",
       " <torchtext.data.example.Example at 0x7f9c73832400>,\n",
       " <torchtext.data.example.Example at 0x7f9c738324e0>,\n",
       " <torchtext.data.example.Example at 0x7f9c73837e10>,\n",
       " <torchtext.data.example.Example at 0x7f9c73837c50>,\n",
       " <torchtext.data.example.Example at 0x7f9c738379b0>,\n",
       " <torchtext.data.example.Example at 0x7f9c73837630>,\n",
       " <torchtext.data.example.Example at 0x7f9c738372b0>,\n",
       " <torchtext.data.example.Example at 0x7f9c73835ef0>,\n",
       " <torchtext.data.example.Example at 0x7f9c73835b70>,\n",
       " <torchtext.data.example.Example at 0x7f9c738357f0>,\n",
       " <torchtext.data.example.Example at 0x7f9c73835470>,\n",
       " <torchtext.data.example.Example at 0x7f9c7382dd30>,\n",
       " <torchtext.data.example.Example at 0x7f9c738f5630>,\n",
       " <torchtext.data.example.Example at 0x7f9c7381d470>,\n",
       " <torchtext.data.example.Example at 0x7f9c738325c0>,\n",
       " <torchtext.data.example.Example at 0x7f9c73832470>,\n",
       " <torchtext.data.example.Example at 0x7f9c738320f0>,\n",
       " <torchtext.data.example.Example at 0x7f9c73832780>,\n",
       " <torchtext.data.example.Example at 0x7f9c73832860>,\n",
       " <torchtext.data.example.Example at 0x7f9c73832940>,\n",
       " <torchtext.data.example.Example at 0x7f9c73832a20>,\n",
       " <torchtext.data.example.Example at 0x7f9c73832b00>,\n",
       " <torchtext.data.example.Example at 0x7f9c73832be0>,\n",
       " <torchtext.data.example.Example at 0x7f9c73832cc0>,\n",
       " <torchtext.data.example.Example at 0x7f9c73832da0>,\n",
       " <torchtext.data.example.Example at 0x7f9c73832e80>,\n",
       " <torchtext.data.example.Example at 0x7f9c73832f60>,\n",
       " <torchtext.data.example.Example at 0x7f9c738f1080>,\n",
       " <torchtext.data.example.Example at 0x7f9c738f1160>,\n",
       " <torchtext.data.example.Example at 0x7f9c738f1240>,\n",
       " <torchtext.data.example.Example at 0x7f9c738f1320>,\n",
       " <torchtext.data.example.Example at 0x7f9c738f1400>,\n",
       " <torchtext.data.example.Example at 0x7f9c738f14e0>,\n",
       " <torchtext.data.example.Example at 0x7f9c738f15c0>,\n",
       " <torchtext.data.example.Example at 0x7f9c738f16a0>,\n",
       " <torchtext.data.example.Example at 0x7f9c738f1780>,\n",
       " <torchtext.data.example.Example at 0x7f9c738f1860>,\n",
       " <torchtext.data.example.Example at 0x7f9c738f1940>,\n",
       " <torchtext.data.example.Example at 0x7f9c738f1a20>,\n",
       " <torchtext.data.example.Example at 0x7f9c738f1b00>,\n",
       " <torchtext.data.example.Example at 0x7f9c738f1be0>,\n",
       " <torchtext.data.example.Example at 0x7f9c738f1cc0>,\n",
       " <torchtext.data.example.Example at 0x7f9c738f1da0>,\n",
       " <torchtext.data.example.Example at 0x7f9c738f1e80>,\n",
       " <torchtext.data.example.Example at 0x7f9c738f1f60>,\n",
       " <torchtext.data.example.Example at 0x7f9c7383c080>,\n",
       " <torchtext.data.example.Example at 0x7f9c7383c160>,\n",
       " <torchtext.data.example.Example at 0x7f9c7383c240>,\n",
       " <torchtext.data.example.Example at 0x7f9c7383c320>,\n",
       " <torchtext.data.example.Example at 0x7f9c7383c400>,\n",
       " <torchtext.data.example.Example at 0x7f9c7383c4e0>,\n",
       " <torchtext.data.example.Example at 0x7f9c7383c5c0>,\n",
       " <torchtext.data.example.Example at 0x7f9c7383c6a0>,\n",
       " <torchtext.data.example.Example at 0x7f9c7383c780>,\n",
       " <torchtext.data.example.Example at 0x7f9c7383c860>,\n",
       " <torchtext.data.example.Example at 0x7f9c738f1e10>,\n",
       " <torchtext.data.example.Example at 0x7f9c738f1c50>,\n",
       " <torchtext.data.example.Example at 0x7f9c738f19b0>,\n",
       " <torchtext.data.example.Example at 0x7f9c738f1630>,\n",
       " <torchtext.data.example.Example at 0x7f9c738f12b0>,\n",
       " <torchtext.data.example.Example at 0x7f9c73832ef0>,\n",
       " <torchtext.data.example.Example at 0x7f9c73832b70>,\n",
       " <torchtext.data.example.Example at 0x7f9c738327f0>,\n",
       " <torchtext.data.example.Example at 0x7f9c7381db70>,\n",
       " <torchtext.data.example.Example at 0x7f9c73835630>,\n",
       " <torchtext.data.example.Example at 0x7f9c73837470>,\n",
       " <torchtext.data.example.Example at 0x7f9c7383c940>,\n",
       " <torchtext.data.example.Example at 0x7f9c7383c7f0>,\n",
       " <torchtext.data.example.Example at 0x7f9c7383c470>,\n",
       " <torchtext.data.example.Example at 0x7f9c7383c0f0>,\n",
       " <torchtext.data.example.Example at 0x7f9c7383cb00>,\n",
       " <torchtext.data.example.Example at 0x7f9c7383cbe0>,\n",
       " <torchtext.data.example.Example at 0x7f9c7383ccc0>,\n",
       " <torchtext.data.example.Example at 0x7f9c7383cda0>,\n",
       " <torchtext.data.example.Example at 0x7f9c7383ce80>,\n",
       " <torchtext.data.example.Example at 0x7f9c7383cf60>,\n",
       " <torchtext.data.example.Example at 0x7f9c73841080>,\n",
       " <torchtext.data.example.Example at 0x7f9c73841160>,\n",
       " <torchtext.data.example.Example at 0x7f9c73841240>,\n",
       " <torchtext.data.example.Example at 0x7f9c73841320>,\n",
       " <torchtext.data.example.Example at 0x7f9c73841400>,\n",
       " <torchtext.data.example.Example at 0x7f9c738414e0>,\n",
       " <torchtext.data.example.Example at 0x7f9c738415c0>,\n",
       " <torchtext.data.example.Example at 0x7f9c738416a0>,\n",
       " <torchtext.data.example.Example at 0x7f9c73841780>,\n",
       " <torchtext.data.example.Example at 0x7f9c73841860>,\n",
       " <torchtext.data.example.Example at 0x7f9c73841940>,\n",
       " <torchtext.data.example.Example at 0x7f9c73841a20>,\n",
       " <torchtext.data.example.Example at 0x7f9c73841b00>,\n",
       " <torchtext.data.example.Example at 0x7f9c73841be0>,\n",
       " <torchtext.data.example.Example at 0x7f9c73841cc0>,\n",
       " <torchtext.data.example.Example at 0x7f9c73841da0>,\n",
       " <torchtext.data.example.Example at 0x7f9c73841e80>,\n",
       " <torchtext.data.example.Example at 0x7f9c73841f60>,\n",
       " <torchtext.data.example.Example at 0x7f9c73833080>,\n",
       " <torchtext.data.example.Example at 0x7f9c73833160>,\n",
       " <torchtext.data.example.Example at 0x7f9c73833240>,\n",
       " <torchtext.data.example.Example at 0x7f9c73833320>,\n",
       " <torchtext.data.example.Example at 0x7f9c73833400>,\n",
       " <torchtext.data.example.Example at 0x7f9c738334e0>,\n",
       " <torchtext.data.example.Example at 0x7f9c738335c0>,\n",
       " <torchtext.data.example.Example at 0x7f9c738336a0>,\n",
       " <torchtext.data.example.Example at 0x7f9c73833780>,\n",
       " <torchtext.data.example.Example at 0x7f9c73833860>,\n",
       " <torchtext.data.example.Example at 0x7f9c73833940>,\n",
       " <torchtext.data.example.Example at 0x7f9c73833a20>,\n",
       " <torchtext.data.example.Example at 0x7f9c73833b00>,\n",
       " <torchtext.data.example.Example at 0x7f9c73833be0>,\n",
       " <torchtext.data.example.Example at 0x7f9c73841e10>,\n",
       " <torchtext.data.example.Example at 0x7f9c73841c50>,\n",
       " <torchtext.data.example.Example at 0x7f9c738419b0>,\n",
       " <torchtext.data.example.Example at 0x7f9c73841630>,\n",
       " <torchtext.data.example.Example at 0x7f9c738412b0>,\n",
       " <torchtext.data.example.Example at 0x7f9c7383cef0>,\n",
       " <torchtext.data.example.Example at 0x7f9c7383cb70>,\n",
       " <torchtext.data.example.Example at 0x7f9c7383ca20>,\n",
       " <torchtext.data.example.Example at 0x7f9c738322b0>,\n",
       " <torchtext.data.example.Example at 0x7f9c738f1470>,\n",
       " <torchtext.data.example.Example at 0x7f9c73833cc0>,\n",
       " <torchtext.data.example.Example at 0x7f9c73833b70>,\n",
       " <torchtext.data.example.Example at 0x7f9c738337f0>,\n",
       " <torchtext.data.example.Example at 0x7f9c73833470>,\n",
       " <torchtext.data.example.Example at 0x7f9c738330f0>,\n",
       " <torchtext.data.example.Example at 0x7f9c73833e80>,\n",
       " <torchtext.data.example.Example at 0x7f9c73833f60>,\n",
       " <torchtext.data.example.Example at 0x7f9c738ed080>,\n",
       " <torchtext.data.example.Example at 0x7f9c738ed160>,\n",
       " <torchtext.data.example.Example at 0x7f9c738ed240>,\n",
       " <torchtext.data.example.Example at 0x7f9c738ed320>,\n",
       " <torchtext.data.example.Example at 0x7f9c738ed400>,\n",
       " <torchtext.data.example.Example at 0x7f9c738ed4e0>,\n",
       " <torchtext.data.example.Example at 0x7f9c738ed5c0>,\n",
       " <torchtext.data.example.Example at 0x7f9c738ed6a0>,\n",
       " <torchtext.data.example.Example at 0x7f9c738ed780>,\n",
       " <torchtext.data.example.Example at 0x7f9c738ed860>,\n",
       " <torchtext.data.example.Example at 0x7f9c738ed940>,\n",
       " <torchtext.data.example.Example at 0x7f9c738eda20>,\n",
       " <torchtext.data.example.Example at 0x7f9c738edb00>,\n",
       " <torchtext.data.example.Example at 0x7f9c738edbe0>,\n",
       " <torchtext.data.example.Example at 0x7f9c738edcc0>,\n",
       " <torchtext.data.example.Example at 0x7f9c738edda0>,\n",
       " <torchtext.data.example.Example at 0x7f9c738ede80>,\n",
       " <torchtext.data.example.Example at 0x7f9c738edf60>,\n",
       " <torchtext.data.example.Example at 0x7f9c7383b080>,\n",
       " <torchtext.data.example.Example at 0x7f9c7383b160>,\n",
       " <torchtext.data.example.Example at 0x7f9c7383b240>,\n",
       " <torchtext.data.example.Example at 0x7f9c7383b320>,\n",
       " <torchtext.data.example.Example at 0x7f9c7383b400>,\n",
       " <torchtext.data.example.Example at 0x7f9c7383b4e0>,\n",
       " <torchtext.data.example.Example at 0x7f9c7383b5c0>,\n",
       " <torchtext.data.example.Example at 0x7f9c7383b6a0>,\n",
       " <torchtext.data.example.Example at 0x7f9c7383b780>,\n",
       " <torchtext.data.example.Example at 0x7f9c7383b860>,\n",
       " <torchtext.data.example.Example at 0x7f9c7383b940>,\n",
       " <torchtext.data.example.Example at 0x7f9c7383ba20>,\n",
       " <torchtext.data.example.Example at 0x7f9c7383bb00>,\n",
       " <torchtext.data.example.Example at 0x7f9c7383bbe0>,\n",
       " <torchtext.data.example.Example at 0x7f9c7383bcc0>,\n",
       " <torchtext.data.example.Example at 0x7f9c7383bda0>,\n",
       " <torchtext.data.example.Example at 0x7f9c7383be80>,\n",
       " <torchtext.data.example.Example at 0x7f9c7383bf60>,\n",
       " <torchtext.data.example.Example at 0x7f9c7383be10>,\n",
       " <torchtext.data.example.Example at 0x7f9c7383bc50>,\n",
       " <torchtext.data.example.Example at 0x7f9c7383b9b0>,\n",
       " <torchtext.data.example.Example at 0x7f9c7383b630>,\n",
       " <torchtext.data.example.Example at 0x7f9c7383b2b0>,\n",
       " <torchtext.data.example.Example at 0x7f9c738edef0>,\n",
       " <torchtext.data.example.Example at 0x7f9c738edb70>,\n",
       " <torchtext.data.example.Example at 0x7f9c738ed7f0>,\n",
       " <torchtext.data.example.Example at 0x7f9c738ed470>,\n",
       " <torchtext.data.example.Example at 0x7f9c738ed0f0>,\n",
       " <torchtext.data.example.Example at 0x7f9c738332b0>,\n",
       " <torchtext.data.example.Example at 0x7f9c738f1b70>,\n",
       " <torchtext.data.example.Example at 0x7f9c7383cd30>,\n",
       " <torchtext.data.example.Example at 0x7f9c73841b70>,\n",
       " <torchtext.data.example.Example at 0x7f9c737cc160>,\n",
       " <torchtext.data.example.Example at 0x7f9c737cc240>,\n",
       " <torchtext.data.example.Example at 0x7f9c737cc320>,\n",
       " <torchtext.data.example.Example at 0x7f9c737cc400>,\n",
       " <torchtext.data.example.Example at 0x7f9c737cc4e0>,\n",
       " <torchtext.data.example.Example at 0x7f9c737cc5c0>,\n",
       " <torchtext.data.example.Example at 0x7f9c737cc6a0>,\n",
       " <torchtext.data.example.Example at 0x7f9c737cc780>,\n",
       " <torchtext.data.example.Example at 0x7f9c737cc860>,\n",
       " <torchtext.data.example.Example at 0x7f9c737cc940>,\n",
       " <torchtext.data.example.Example at 0x7f9c737cca20>,\n",
       " <torchtext.data.example.Example at 0x7f9c737ccb00>,\n",
       " <torchtext.data.example.Example at 0x7f9c737ccbe0>,\n",
       " <torchtext.data.example.Example at 0x7f9c737cccc0>,\n",
       " <torchtext.data.example.Example at 0x7f9c737ccda0>,\n",
       " <torchtext.data.example.Example at 0x7f9c737cce80>,\n",
       " <torchtext.data.example.Example at 0x7f9c737ccf60>,\n",
       " <torchtext.data.example.Example at 0x7f9c73849080>,\n",
       " <torchtext.data.example.Example at 0x7f9c73849160>,\n",
       " <torchtext.data.example.Example at 0x7f9c73849240>,\n",
       " <torchtext.data.example.Example at 0x7f9c73849320>,\n",
       " <torchtext.data.example.Example at 0x7f9c73849400>,\n",
       " <torchtext.data.example.Example at 0x7f9c738494e0>,\n",
       " <torchtext.data.example.Example at 0x7f9c738495c0>,\n",
       " <torchtext.data.example.Example at 0x7f9c738496a0>,\n",
       " <torchtext.data.example.Example at 0x7f9c73849780>,\n",
       " <torchtext.data.example.Example at 0x7f9c73849860>,\n",
       " <torchtext.data.example.Example at 0x7f9c73849940>,\n",
       " <torchtext.data.example.Example at 0x7f9c73849a20>,\n",
       " <torchtext.data.example.Example at 0x7f9c73849b00>,\n",
       " <torchtext.data.example.Example at 0x7f9c73849be0>,\n",
       " <torchtext.data.example.Example at 0x7f9c73849cc0>,\n",
       " <torchtext.data.example.Example at 0x7f9c73849da0>,\n",
       " <torchtext.data.example.Example at 0x7f9c73849e80>,\n",
       " <torchtext.data.example.Example at 0x7f9c73849f60>,\n",
       " <torchtext.data.example.Example at 0x7f9c737ce080>,\n",
       " <torchtext.data.example.Example at 0x7f9c737ce160>,\n",
       " <torchtext.data.example.Example at 0x7f9c737ce240>,\n",
       " <torchtext.data.example.Example at 0x7f9c737ce320>,\n",
       " <torchtext.data.example.Example at 0x7f9c73849e10>,\n",
       " <torchtext.data.example.Example at 0x7f9c73849c50>,\n",
       " <torchtext.data.example.Example at 0x7f9c738499b0>,\n",
       " <torchtext.data.example.Example at 0x7f9c73849630>,\n",
       " ...]"
      ]
     },
     "execution_count": 13,
     "metadata": {},
     "output_type": "execute_result"
    }
   ],
   "source": [
    "ds.examples"
   ]
  },
  {
   "cell_type": "code",
   "execution_count": null,
   "metadata": {
    "collapsed": true
   },
   "outputs": [],
   "source": []
  }
 ],
 "metadata": {
  "kernelspec": {
   "display_name": "Python 3",
   "language": "python",
   "name": "python3"
  },
  "language_info": {
   "codemirror_mode": {
    "name": "ipython",
    "version": 3
   },
   "file_extension": ".py",
   "mimetype": "text/x-python",
   "name": "python",
   "nbconvert_exporter": "python",
   "pygments_lexer": "ipython3",
   "version": "3.6.3"
  }
 },
 "nbformat": 4,
 "nbformat_minor": 2
}
