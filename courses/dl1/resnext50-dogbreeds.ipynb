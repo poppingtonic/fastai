{
 "cells": [
  {
   "cell_type": "code",
   "execution_count": 1,
   "metadata": {},
   "outputs": [],
   "source": [
    "%reload_ext autoreload\n",
    "%autoreload 2\n",
    "%matplotlib inline"
   ]
  },
  {
   "cell_type": "code",
   "execution_count": 2,
   "metadata": {},
   "outputs": [],
   "source": [
    "from fastai.imports import *\n",
    "from fastai.transforms import *\n",
    "from fastai.conv_learner import *\n",
    "from fastai.model import *\n",
    "from fastai.dataset import *\n",
    "from fastai.sgdr import *\n",
    "from fastai.plots import *\n",
    "\n",
    "PATH='data/dogbreed/'\n",
    "sz=224\n",
    "arch=resnext50\n",
    "bs=16"
   ]
  },
  {
   "cell_type": "code",
   "execution_count": 3,
   "metadata": {},
   "outputs": [
    {
     "data": {
      "text/plain": [
       "(10222, 2044)"
      ]
     },
     "execution_count": 3,
     "metadata": {},
     "output_type": "execute_result"
    }
   ],
   "source": [
    "label_csv = f'{PATH}labels.csv'\n",
    "n = len(list(open(label_csv))) - 1\n",
    "val_idxs = get_cv_idxs(n)\n",
    "n, len(val_idxs)"
   ]
  },
  {
   "cell_type": "code",
   "execution_count": 4,
   "metadata": {},
   "outputs": [
    {
     "name": "stdout",
     "output_type": "stream",
     "text": [
      "labels.csv\tmodels\t  sample_submission.csv      subm  test.zip  train\r\n",
      "labels.csv.zip\tpreds.bc  sample_submission.csv.zip  test  tmp\t     train.zip\r\n"
     ]
    }
   ],
   "source": [
    "!ls {PATH}"
   ]
  },
  {
   "cell_type": "code",
   "execution_count": 5,
   "metadata": {
    "scrolled": false
   },
   "outputs": [
    {
     "name": "stdout",
     "output_type": "stream",
     "text": [
      "000621fb3cbb32d8935728e48679680e.jpg\r\n",
      "00102ee9d8eb90812350685311fe5890.jpg\r\n",
      "0012a730dfa437f5f3613fb75efcd4ce.jpg\r\n",
      "001510bc8570bbeee98c8d80c8a95ec1.jpg\r\n",
      "001a5f3114548acdefa3d4da05474c2e.jpg\r\n",
      "00225dcd3e4d2410dd53239f95c0352f.jpg\r\n",
      "002c2a3117c2193b4d26400ce431eebd.jpg\r\n",
      "002c58d413a521ae8d1a5daeb35fc803.jpg\r\n",
      "002f80396f1e3db687c5932d7978b196.jpg\r\n",
      "0036c6bcec6031be9e62a257b1c3c442.jpg\r\n",
      "ls: write error: Broken pipe\r\n"
     ]
    }
   ],
   "source": [
    "!ls {PATH}test | head"
   ]
  },
  {
   "cell_type": "code",
   "execution_count": 6,
   "metadata": {},
   "outputs": [],
   "source": [
    "tfms = tfms_from_model(arch, sz, aug_tfms=transforms_side_on, max_zoom=1.1)\n",
    "data = ImageClassifierData.from_csv(PATH, 'train', label_csv, tfms=tfms, suffix='.jpg', val_idxs=val_idxs, test_name='test', bs=bs)"
   ]
  },
  {
   "cell_type": "code",
   "execution_count": 7,
   "metadata": {
    "scrolled": true
   },
   "outputs": [
    {
     "ename": "NameError",
     "evalue": "name 'fn' is not defined",
     "output_type": "error",
     "traceback": [
      "\u001b[0;31m---------------------------------------------------------------------------\u001b[0m",
      "\u001b[0;31mNameError\u001b[0m                                 Traceback (most recent call last)",
      "\u001b[0;32m<ipython-input-7-de231e723b9b>\u001b[0m in \u001b[0;36m<module>\u001b[0;34m()\u001b[0m\n\u001b[0;32m----> 1\u001b[0;31m \u001b[0mimg\u001b[0m \u001b[0;34m=\u001b[0m \u001b[0mPIL\u001b[0m\u001b[0;34m.\u001b[0m\u001b[0mImage\u001b[0m\u001b[0;34m.\u001b[0m\u001b[0mopen\u001b[0m\u001b[0;34m(\u001b[0m\u001b[0mfn\u001b[0m\u001b[0;34m)\u001b[0m\u001b[0;34m;\u001b[0m \u001b[0mimg\u001b[0m\u001b[0;34m\u001b[0m\u001b[0m\n\u001b[0m",
      "\u001b[0;31mNameError\u001b[0m: name 'fn' is not defined"
     ]
    }
   ],
   "source": [
    "img = PIL.Image.open(fn); img"
   ]
  },
  {
   "cell_type": "code",
   "execution_count": 8,
   "metadata": {},
   "outputs": [
    {
     "data": {
      "text/plain": [
       "(400, 344)"
      ]
     },
     "execution_count": 8,
     "metadata": {},
     "output_type": "execute_result"
    }
   ],
   "source": [
    "img.size"
   ]
  },
  {
   "cell_type": "code",
   "execution_count": 9,
   "metadata": {},
   "outputs": [],
   "source": [
    "size_d = {k: PIL.Image.open(PATH+k).size for k in data.trn_ds.fnames}\n",
    "row_sz, col_sz = list(zip(*size_d.values()))\n",
    "row_sz = np.array(row_sz); col_sz = np.array(col_sz)"
   ]
  },
  {
   "cell_type": "code",
   "execution_count": 10,
   "metadata": {},
   "outputs": [
    {
     "data": {
      "text/plain": [
       "array([500, 500, 400, 500, 231])"
      ]
     },
     "execution_count": 10,
     "metadata": {},
     "output_type": "execute_result"
    }
   ],
   "source": [
    "row_sz[:5]"
   ]
  },
  {
   "cell_type": "code",
   "execution_count": 11,
   "metadata": {
    "scrolled": true
   },
   "outputs": [
    {
     "data": {
      "image/png": "[encoded data removed]",
      "text/plain": [
       "<matplotlib.figure.Figure at 0x7f9dc091c630>"
      ]
     },
     "metadata": {},
     "output_type": "display_data"
    }
   ],
   "source": [
    "plt.hist(row_sz[row_sz<1000]);"
   ]
  },
  {
   "cell_type": "code",
   "execution_count": 12,
   "metadata": {},
   "outputs": [
    {
     "data": {
      "text/plain": [
       "(8178, 10357)"
      ]
     },
     "execution_count": 12,
     "metadata": {},
     "output_type": "execute_result"
    }
   ],
   "source": [
    "len(data.trn_ds), len(data.test_ds)"
   ]
  },
  {
   "cell_type": "code",
   "execution_count": 13,
   "metadata": {},
   "outputs": [
    {
     "data": {
      "text/plain": [
       "(120,\n",
       " ['affenpinscher',\n",
       "  'afghan_hound',\n",
       "  'african_hunting_dog',\n",
       "  'airedale',\n",
       "  'american_staffordshire_terrier'])"
      ]
     },
     "execution_count": 13,
     "metadata": {},
     "output_type": "execute_result"
    }
   ],
   "source": [
    "len(data.classes), data.classes[:5]"
   ]
  },
  {
   "cell_type": "code",
   "execution_count": 14,
   "metadata": {},
   "outputs": [
    {
     "name": "stdout",
     "output_type": "stream",
     "text": [
      "models\ttest  tmp  train\r\n"
     ]
    }
   ],
   "source": [
    "!ls {PATH}tmp/340"
   ]
  },
  {
   "cell_type": "code",
   "execution_count": 5,
   "metadata": {},
   "outputs": [],
   "source": [
    "def get_data(sz, bs):\n",
    "    tfms = tfms_from_model(arch, sz, aug_tfms=transforms_side_on, max_zoom=1.1)\n",
    "    data = ImageClassifierData.from_csv(PATH, 'train', label_csv, \n",
    "                                        tfms=tfms, suffix='.jpg', val_idxs=val_idxs, \n",
    "                                        test_name='test', bs=bs, num_workers=4)\n",
    "    return data if sz>300 else data.resize(340, 'tmp')"
   ]
  },
  {
   "cell_type": "code",
   "execution_count": 6,
   "metadata": {},
   "outputs": [
    {
     "data": {
      "application/vnd.jupyter.widget-view+json": {
       "model_id": "ae00b627f5e34016ac5c53c977033acb",
       "version_major": 2,
       "version_minor": 0
      },
      "text/html": [
       "<p>Failed to display Jupyter Widget of type <code>HBox</code>.</p>\n",
       "<p>\n",
       "  If you're reading this message in the Jupyter Notebook or JupyterLab Notebook, it may mean\n",
       "  that the widgets JavaScript is still loading. If this message persists, it\n",
       "  likely means that the widgets JavaScript library is either not installed or\n",
       "  not enabled. See the <a href=\"https://ipywidgets.readthedocs.io/en/stable/user_install.html\">Jupyter\n",
       "  Widgets Documentation</a> for setup instructions.\n",
       "</p>\n",
       "<p>\n",
       "  If you're reading this message in another frontend (for example, a static\n",
       "  rendering on GitHub or <a href=\"https://nbviewer.jupyter.org/\">NBViewer</a>),\n",
       "  it may mean that your frontend doesn't currently support widgets.\n",
       "</p>\n"
      ],
      "text/plain": [
       "HBox(children=(IntProgress(value=0, max=6), HTML(value='')))"
      ]
     },
     "metadata": {},
     "output_type": "display_data"
    },
    {
     "name": "stdout",
     "output_type": "stream",
     "text": [
      "\n"
     ]
    }
   ],
   "source": [
    "data = get_data(sz, bs)"
   ]
  },
  {
   "cell_type": "code",
   "execution_count": 7,
   "metadata": {},
   "outputs": [],
   "source": [
    "learn = ConvLearner.pretrained(arch, data, precompute=True, ps=0.5)"
   ]
  },
  {
   "cell_type": "code",
   "execution_count": null,
   "metadata": {},
   "outputs": [],
   "source": [
    "learn.fit()"
   ]
  },
  {
   "cell_type": "code",
   "execution_count": null,
   "metadata": {},
   "outputs": [],
   "source": [
    "learn.lr_find()"
   ]
  },
  {
   "cell_type": "code",
   "execution_count": 8,
   "metadata": {
    "scrolled": true
   },
   "outputs": [
    {
     "data": {
      "image/png": "[encoded data removed]",
      "text/plain": [
       "<matplotlib.figure.Figure at 0x7fa87068a2e8>"
      ]
     },
     "metadata": {},
     "output_type": "display_data"
    }
   ],
   "source": [
    "learn.sched.plot()"
   ]
  },
  {
   "cell_type": "code",
   "execution_count": 7,
   "metadata": {},
   "outputs": [
    {
     "data": {
      "text/plain": [
       "0.0001"
      ]
     },
     "execution_count": 7,
     "metadata": {},
     "output_type": "execute_result"
    }
   ],
   "source": [
    "1e-4"
   ]
  },
  {
   "cell_type": "code",
   "execution_count": 9,
   "metadata": {
    "scrolled": true
   },
   "outputs": [
    {
     "data": {
      "application/vnd.jupyter.widget-view+json": {
       "model_id": "b1d213fc50d24cd6b01e8d03412ebef3",
       "version_major": 2,
       "version_minor": 0
      },
      "text/plain": [
       "A Jupyter Widget"
      ]
     },
     "metadata": {},
     "output_type": "display_data"
    },
    {
     "name": "stdout",
     "output_type": "stream",
     "text": [
      "\n",
      "  0%|          | 0/512 [00:00<?, ?it/s]\u001b[A\n",
      "  0%|          | 0/512 [00:00<?, ?it/s, loss=5.94]\u001b[A\n",
      "  0%|          | 0/512 [00:00<?, ?it/s, loss=5.62]\u001b[A\n",
      "  0%|          | 0/512 [00:00<?, ?it/s, loss=5.8] \u001b[A\n",
      "  0%|          | 0/512 [00:00<?, ?it/s, loss=5.69]\u001b[A\n",
      "  0%|          | 0/512 [00:00<?, ?it/s, loss=5.5] \u001b[A\n",
      "  0%|          | 0/512 [00:00<?, ?it/s, loss=5.48]\u001b[A\n",
      "  0%|          | 0/512 [00:00<?, ?it/s, loss=5.36]\u001b[A\n",
      "  0%|          | 0/512 [00:00<?, ?it/s, loss=5.33]\u001b[A\n",
      "  2%|▏         | 8/512 [00:00<00:06, 73.89it/s, loss=5.33]\u001b[A\n",
      "  2%|▏         | 8/512 [00:00<00:07, 68.49it/s, loss=5.2] \u001b[A\n",
      "  2%|▏         | 8/512 [00:00<00:08, 62.09it/s, loss=5.17]\u001b[A\n",
      "  2%|▏         | 8/512 [00:00<00:08, 57.55it/s, loss=5.17]\u001b[A\n",
      "  2%|▏         | 8/512 [00:00<00:09, 52.81it/s, loss=5.1] \u001b[A\n",
      "  2%|▏         | 8/512 [00:00<00:10, 49.61it/s, loss=5.03]\u001b[A\n",
      "  2%|▏         | 8/512 [00:00<00:10, 46.76it/s, loss=4.97]\u001b[A\n",
      "  2%|▏         | 8/512 [00:00<00:11, 44.29it/s, loss=4.93]\u001b[A\n",
      "  2%|▏         | 8/512 [00:00<00:12, 41.76it/s, loss=4.86]\u001b[A\n",
      "  2%|▏         | 8/512 [00:00<00:12, 39.29it/s, loss=4.82]\u001b[A\n",
      "  3%|▎         | 17/512 [00:00<00:06, 81.70it/s, loss=4.82]\u001b[A\n",
      "  3%|▎         | 17/512 [00:00<00:06, 77.50it/s, loss=4.79]\u001b[A"
     ]
    },
    {
     "name": "stderr",
     "output_type": "stream",
     "text": [
      "/home/bmn/anaconda3/envs/fastai/lib/python3.6/site-packages/torch/nn/modules/container.py:72: UserWarning: Implicit dimension choice for log_softmax has been deprecated. Change the call to include dim=X as an argument.\n",
      "  input = module(input)\n"
     ]
    },
    {
     "name": "stdout",
     "output_type": "stream",
     "text": [
      "\n",
      "  3%|▎         | 17/512 [00:00<00:06, 72.97it/s, loss=4.82]\u001b[A\n",
      "  3%|▎         | 17/512 [00:00<00:07, 70.01it/s, loss=4.77]\u001b[A\n",
      "  3%|▎         | 17/512 [00:00<00:07, 65.82it/s, loss=4.72]\u001b[A\n",
      "  3%|▎         | 17/512 [00:00<00:08, 61.78it/s, loss=4.67]\u001b[A\n",
      "  3%|▎         | 17/512 [00:00<00:08, 58.70it/s, loss=4.62]\u001b[A\n",
      "  3%|▎         | 17/512 [00:00<00:09, 54.27it/s, loss=4.56]\u001b[A\n",
      "  5%|▍         | 24/512 [00:00<00:06, 73.76it/s, loss=4.56]\u001b[A\n",
      "  5%|▍         | 24/512 [00:00<00:07, 68.62it/s, loss=4.54]\u001b[A\n",
      "  5%|▍         | 24/512 [00:00<00:07, 63.70it/s, loss=4.49]\u001b[A\n",
      "  5%|▍         | 24/512 [00:00<00:08, 59.44it/s, loss=4.43]\u001b[A\n",
      "  5%|▍         | 24/512 [00:00<00:08, 56.09it/s, loss=4.39]\u001b[A\n",
      "  5%|▍         | 24/512 [00:00<00:09, 52.30it/s, loss=4.36]\u001b[A\n",
      "  6%|▌         | 29/512 [00:00<00:07, 61.74it/s, loss=4.36]\u001b[A\n",
      "  6%|▌         | 29/512 [00:00<00:08, 59.01it/s, loss=4.32]\u001b[A\n",
      "  6%|▌         | 29/512 [00:00<00:08, 56.90it/s, loss=4.27]\u001b[A\n",
      "  6%|▌         | 29/512 [00:00<00:08, 54.44it/s, loss=4.25]\u001b[A\n",
      "  6%|▌         | 29/512 [00:00<00:09, 52.00it/s, loss=4.21]\u001b[A\n",
      "  6%|▌         | 29/512 [00:00<00:09, 49.47it/s, loss=4.15]\u001b[A\n",
      "  7%|▋         | 34/512 [00:00<00:08, 57.08it/s, loss=4.15]\u001b[A\n",
      "  7%|▋         | 34/512 [00:00<00:08, 54.93it/s, loss=4.09]\u001b[A\n",
      "  7%|▋         | 34/512 [00:00<00:09, 52.77it/s, loss=4.06]\u001b[A\n",
      "  7%|▋         | 34/512 [00:00<00:09, 51.12it/s, loss=4.03]\u001b[A\n",
      "  7%|▋         | 34/512 [00:00<00:09, 49.05it/s, loss=3.96]\u001b[A\n",
      "  7%|▋         | 34/512 [00:00<00:10, 47.32it/s, loss=3.93]\u001b[A\n",
      "  8%|▊         | 39/512 [00:00<00:08, 53.39it/s, loss=3.93]\u001b[A\n",
      "  8%|▊         | 39/512 [00:00<00:09, 51.57it/s, loss=3.89]\u001b[A\n",
      "  8%|▊         | 39/512 [00:00<00:09, 50.00it/s, loss=3.85]\u001b[A\n",
      "  8%|▊         | 39/512 [00:00<00:09, 48.19it/s, loss=3.8] \u001b[A\n",
      "  8%|▊         | 39/512 [00:00<00:10, 46.74it/s, loss=3.75]\u001b[A\n",
      "  8%|▊         | 39/512 [00:00<00:10, 45.74it/s, loss=3.7] \u001b[A\n",
      "  9%|▊         | 44/512 [00:00<00:09, 50.89it/s, loss=3.7]\u001b[A\n",
      "  9%|▊         | 44/512 [00:00<00:09, 49.28it/s, loss=3.67]\u001b[A\n",
      "  9%|▊         | 44/512 [00:00<00:09, 47.94it/s, loss=3.62]\u001b[A\n",
      "  9%|▊         | 44/512 [00:00<00:10, 46.63it/s, loss=3.6] \u001b[A\n",
      "  9%|▊         | 44/512 [00:00<00:10, 45.51it/s, loss=3.58]\u001b[A\n",
      "  9%|▉         | 48/512 [00:00<00:09, 49.10it/s, loss=3.58]\u001b[A\n",
      "  9%|▉         | 48/512 [00:01<00:09, 47.85it/s, loss=3.55]\u001b[A\n",
      "  9%|▉         | 48/512 [00:01<00:09, 47.20it/s, loss=3.53]\u001b[A\n",
      "  9%|▉         | 48/512 [00:01<00:10, 46.25it/s, loss=3.49]\u001b[A\n",
      "  9%|▉         | 48/512 [00:01<00:10, 45.11it/s, loss=3.47]\u001b[A\n",
      "  9%|▉         | 48/512 [00:01<00:10, 44.00it/s, loss=3.44]\u001b[A\n",
      " 10%|█         | 53/512 [00:01<00:09, 48.03it/s, loss=3.44]\u001b[A\n",
      " 10%|█         | 53/512 [00:01<00:09, 46.97it/s, loss=3.4] \u001b[A\n",
      " 10%|█         | 53/512 [00:01<00:10, 45.82it/s, loss=3.37]\u001b[A\n",
      " 10%|█         | 53/512 [00:01<00:10, 44.88it/s, loss=3.33]\u001b[A\n",
      " 10%|█         | 53/512 [00:01<00:10, 43.94it/s, loss=3.3] \u001b[A\n",
      " 11%|█         | 57/512 [00:01<00:09, 46.85it/s, loss=3.3]\u001b[A\n",
      " 11%|█         | 57/512 [00:01<00:09, 46.12it/s, loss=3.27]\u001b[A\n",
      " 11%|█         | 57/512 [00:01<00:10, 45.40it/s, loss=3.24]\u001b[A\n",
      " 11%|█         | 57/512 [00:01<00:10, 44.41it/s, loss=3.22]\u001b[A\n",
      " 11%|█         | 57/512 [00:01<00:10, 43.39it/s, loss=3.18]\u001b[A\n",
      " 12%|█▏        | 61/512 [00:01<00:09, 45.87it/s, loss=3.18]\u001b[A\n",
      " 12%|█▏        | 61/512 [00:01<00:10, 44.92it/s, loss=3.16]\u001b[A\n",
      " 12%|█▏        | 61/512 [00:01<00:10, 44.04it/s, loss=3.14]\u001b[A\n",
      " 12%|█▏        | 61/512 [00:01<00:10, 43.45it/s, loss=3.1] \u001b[A\n",
      " 12%|█▏        | 61/512 [00:01<00:10, 42.79it/s, loss=3.08]\u001b[A\n",
      " 13%|█▎        | 65/512 [00:01<00:09, 45.38it/s, loss=3.08]\u001b[A\n",
      " 13%|█▎        | 65/512 [00:01<00:10, 44.68it/s, loss=3.05]\u001b[A\n",
      " 13%|█▎        | 65/512 [00:01<00:10, 43.90it/s, loss=3.01]\u001b[A\n",
      " 13%|█▎        | 65/512 [00:01<00:10, 43.16it/s, loss=2.99]\u001b[A\n",
      " 13%|█▎        | 65/512 [00:01<00:10, 42.53it/s, loss=2.97]\u001b[A\n",
      " 13%|█▎        | 69/512 [00:01<00:09, 44.79it/s, loss=2.97]\u001b[A\n",
      " 13%|█▎        | 69/512 [00:01<00:10, 44.07it/s, loss=2.94]\u001b[A\n",
      " 13%|█▎        | 69/512 [00:01<00:10, 43.45it/s, loss=2.92]\u001b[A\n",
      " 13%|█▎        | 69/512 [00:01<00:10, 42.64it/s, loss=2.89]\u001b[A\n",
      " 13%|█▎        | 69/512 [00:01<00:10, 42.00it/s, loss=2.87]\u001b[A\n",
      " 14%|█▍        | 73/512 [00:01<00:09, 44.10it/s, loss=2.87]\u001b[A\n",
      " 14%|█▍        | 73/512 [00:01<00:10, 43.47it/s, loss=2.84]\u001b[A\n",
      " 14%|█▍        | 73/512 [00:01<00:10, 42.83it/s, loss=2.82]\u001b[A\n",
      " 14%|█▍        | 73/512 [00:01<00:10, 42.27it/s, loss=2.79]\u001b[A\n",
      " 14%|█▍        | 73/512 [00:01<00:10, 41.55it/s, loss=2.78]\u001b[A\n",
      " 15%|█▌        | 77/512 [00:01<00:10, 43.43it/s, loss=2.78]\u001b[A\n",
      " 15%|█▌        | 77/512 [00:01<00:10, 42.69it/s, loss=2.74]\u001b[A\n",
      " 15%|█▌        | 77/512 [00:01<00:10, 42.21it/s, loss=2.71]\u001b[A\n",
      " 15%|█▌        | 77/512 [00:01<00:10, 41.72it/s, loss=2.68]\u001b[A\n",
      " 15%|█▌        | 77/512 [00:01<00:10, 41.18it/s, loss=2.67]\u001b[A\n",
      " 16%|█▌        | 81/512 [00:01<00:09, 43.13it/s, loss=2.67]\u001b[A\n",
      " 16%|█▌        | 81/512 [00:01<00:10, 42.60it/s, loss=2.64]\u001b[A\n",
      " 16%|█▌        | 81/512 [00:01<00:10, 42.01it/s, loss=2.63]\u001b[A\n",
      " 16%|█▌        | 81/512 [00:01<00:10, 41.50it/s, loss=2.61]\u001b[A\n",
      " 16%|█▌        | 81/512 [00:01<00:10, 40.96it/s, loss=2.59]\u001b[A\n",
      " 17%|█▋        | 85/512 [00:01<00:09, 42.73it/s, loss=2.59]\u001b[A\n",
      " 17%|█▋        | 85/512 [00:02<00:10, 42.10it/s, loss=2.59]\u001b[A\n",
      " 17%|█▋        | 85/512 [00:02<00:10, 41.54it/s, loss=2.57]\u001b[A\n",
      " 17%|█▋        | 85/512 [00:02<00:10, 40.94it/s, loss=2.55]\u001b[A\n",
      " 17%|█▋        | 85/512 [00:02<00:10, 40.38it/s, loss=2.53]\u001b[A\n",
      " 17%|█▋        | 89/512 [00:02<00:10, 42.06it/s, loss=2.53]\u001b[A\n",
      " 17%|█▋        | 89/512 [00:02<00:10, 41.69it/s, loss=2.5] \u001b[A\n",
      " 17%|█▋        | 89/512 [00:02<00:10, 41.20it/s, loss=2.49]\u001b[A\n",
      " 17%|█▋        | 89/512 [00:02<00:10, 40.74it/s, loss=2.47]\u001b[A\n",
      " 17%|█▋        | 89/512 [00:02<00:10, 40.18it/s, loss=2.44]\u001b[A\n",
      " 18%|█▊        | 93/512 [00:02<00:10, 41.76it/s, loss=2.44]\u001b[A\n",
      " 18%|█▊        | 93/512 [00:02<00:10, 41.25it/s, loss=2.42]\u001b[A\n",
      " 18%|█▊        | 93/512 [00:02<00:10, 40.84it/s, loss=2.39]\u001b[A\n",
      " 18%|█▊        | 93/512 [00:02<00:10, 40.36it/s, loss=2.37]\u001b[A\n",
      " 18%|█▊        | 93/512 [00:02<00:10, 39.82it/s, loss=2.35]\u001b[A\n",
      " 19%|█▉        | 97/512 [00:02<00:10, 41.31it/s, loss=2.35]\u001b[A\n",
      " 19%|█▉        | 97/512 [00:02<00:10, 40.88it/s, loss=2.32]\u001b[A\n",
      " 19%|█▉        | 97/512 [00:02<00:10, 40.48it/s, loss=2.3] \u001b[A\n",
      " 19%|█▉        | 97/512 [00:02<00:10, 40.00it/s, loss=2.28]\u001b[A\n",
      " 19%|█▉        | 97/512 [00:02<00:10, 39.63it/s, loss=2.25]\u001b[A\n",
      " 20%|█▉        | 101/512 [00:02<00:10, 41.09it/s, loss=2.25]\u001b[A\n",
      " 20%|█▉        | 101/512 [00:02<00:10, 40.64it/s, loss=2.23]\u001b[A\n",
      " 20%|█▉        | 101/512 [00:02<00:10, 40.25it/s, loss=2.24]\u001b[A\n",
      " 20%|█▉        | 101/512 [00:02<00:10, 40.07it/s, loss=2.22]\u001b[A\n",
      " 20%|█▉        | 101/512 [00:02<00:10, 39.88it/s, loss=2.19]\u001b[A\n",
      " 20%|█▉        | 101/512 [00:02<00:10, 39.49it/s, loss=2.18]\u001b[A\n",
      " 21%|██        | 106/512 [00:02<00:09, 41.26it/s, loss=2.18]\u001b[A\n",
      " 21%|██        | 106/512 [00:02<00:09, 40.85it/s, loss=2.15]\u001b[A\n",
      " 21%|██        | 106/512 [00:02<00:10, 40.35it/s, loss=2.13]\u001b[A\n",
      " 21%|██        | 106/512 [00:02<00:10, 40.03it/s, loss=2.12]\u001b[A\n",
      " 21%|██        | 106/512 [00:02<00:10, 39.68it/s, loss=2.1] \u001b[A\n",
      " 21%|██▏       | 110/512 [00:02<00:09, 41.02it/s, loss=2.1]\u001b[A\n",
      " 21%|██▏       | 110/512 [00:02<00:09, 40.68it/s, loss=2.08]\u001b[A\n",
      " 21%|██▏       | 110/512 [00:02<00:09, 40.33it/s, loss=2.06]\u001b[A\n",
      " 21%|██▏       | 110/512 [00:02<00:10, 40.00it/s, loss=2.05]\u001b[A\n",
      " 21%|██▏       | 110/512 [00:02<00:10, 39.73it/s, loss=2.04]\u001b[A\n",
      " 22%|██▏       | 114/512 [00:02<00:09, 40.94it/s, loss=2.04]\u001b[A\n",
      " 22%|██▏       | 114/512 [00:02<00:09, 40.54it/s, loss=2.03]\u001b[A\n",
      " 22%|██▏       | 114/512 [00:02<00:09, 40.21it/s, loss=2.02]\u001b[A\n",
      " 22%|██▏       | 114/512 [00:02<00:09, 39.90it/s, loss=2]   \u001b[A\n",
      " 22%|██▏       | 114/512 [00:02<00:10, 39.60it/s, loss=2]\u001b[A\n",
      " 23%|██▎       | 118/512 [00:02<00:09, 40.86it/s, loss=2]\u001b[A\n",
      " 23%|██▎       | 118/512 [00:02<00:09, 40.54it/s, loss=1.99]\u001b[A\n",
      " 23%|██▎       | 118/512 [00:02<00:09, 40.20it/s, loss=1.97]\u001b[A\n",
      " 23%|██▎       | 118/512 [00:02<00:09, 39.88it/s, loss=1.96]\u001b[A\n",
      " 23%|██▎       | 118/512 [00:02<00:09, 39.52it/s, loss=1.94]\u001b[A\n",
      " 24%|██▍       | 122/512 [00:02<00:09, 40.78it/s, loss=1.94]\u001b[A\n",
      " 24%|██▍       | 122/512 [00:03<00:09, 40.41it/s, loss=1.93]\u001b[A\n",
      " 24%|██▍       | 122/512 [00:03<00:09, 40.07it/s, loss=1.92]\u001b[A\n",
      " 24%|██▍       | 122/512 [00:03<00:09, 39.82it/s, loss=1.92]\u001b[A\n",
      " 24%|██▍       | 122/512 [00:03<00:09, 39.51it/s, loss=1.91]\u001b[A\n",
      " 25%|██▍       | 126/512 [00:03<00:09, 40.64it/s, loss=1.91]\u001b[A\n",
      " 25%|██▍       | 126/512 [00:03<00:09, 40.33it/s, loss=1.88]\u001b[A\n",
      " 25%|██▍       | 126/512 [00:03<00:09, 40.07it/s, loss=1.87]\u001b[A\n",
      " 25%|██▍       | 126/512 [00:03<00:09, 39.74it/s, loss=1.86]\u001b[A\n",
      " 25%|██▍       | 126/512 [00:03<00:09, 39.43it/s, loss=1.85]\u001b[A\n",
      " 25%|██▌       | 130/512 [00:03<00:09, 40.55it/s, loss=1.85]\u001b[A\n",
      " 25%|██▌       | 130/512 [00:03<00:09, 40.10it/s, loss=1.83]\u001b[A\n",
      " 25%|██▌       | 130/512 [00:03<00:09, 39.75it/s, loss=1.82]\u001b[A\n",
      " 25%|██▌       | 130/512 [00:03<00:09, 39.36it/s, loss=1.81]\u001b[A\n",
      " 25%|██▌       | 130/512 [00:03<00:09, 39.19it/s, loss=1.8] \u001b[A\n",
      " 26%|██▌       | 134/512 [00:03<00:09, 40.29it/s, loss=1.8]\u001b[A\n",
      " 26%|██▌       | 134/512 [00:03<00:09, 39.96it/s, loss=1.8]\u001b[A\n",
      " 26%|██▌       | 134/512 [00:03<00:09, 39.72it/s, loss=1.79]\u001b[A\n",
      " 26%|██▌       | 134/512 [00:03<00:09, 39.43it/s, loss=1.78]\u001b[A\n",
      " 26%|██▌       | 134/512 [00:03<00:09, 39.13it/s, loss=1.77]\u001b[A\n",
      " 27%|██▋       | 138/512 [00:03<00:09, 40.22it/s, loss=1.77]\u001b[A\n",
      " 27%|██▋       | 138/512 [00:03<00:09, 40.01it/s, loss=1.77]\u001b[A\n",
      " 27%|██▋       | 138/512 [00:03<00:09, 39.71it/s, loss=1.77]\u001b[A\n",
      " 27%|██▋       | 138/512 [00:03<00:09, 39.39it/s, loss=1.75]\u001b[A\n",
      " 27%|██▋       | 138/512 [00:03<00:09, 39.18it/s, loss=1.75]\u001b[A\n",
      " 27%|██▋       | 138/512 [00:03<00:09, 38.91it/s, loss=1.74]\u001b[A\n",
      " 28%|██▊       | 143/512 [00:03<00:09, 40.20it/s, loss=1.74]\u001b[A\n",
      " 28%|██▊       | 143/512 [00:03<00:09, 39.99it/s, loss=1.73]\u001b[A\n",
      " 28%|██▊       | 143/512 [00:03<00:09, 39.86it/s, loss=1.72]\u001b[A\n",
      " 28%|██▊       | 143/512 [00:03<00:09, 39.77it/s, loss=1.7] \u001b[A\n",
      " 28%|██▊       | 143/512 [00:03<00:09, 39.69it/s, loss=1.69]\u001b[A\n",
      " 28%|██▊       | 143/512 [00:03<00:09, 39.62it/s, loss=1.68]\u001b[A\n",
      " 28%|██▊       | 143/512 [00:03<00:09, 39.54it/s, loss=1.67]\u001b[A\n",
      " 28%|██▊       | 143/512 [00:03<00:09, 39.45it/s, loss=1.65]\u001b[A\n",
      " 28%|██▊       | 143/512 [00:03<00:09, 39.38it/s, loss=1.64]\u001b[A\n",
      " 28%|██▊       | 143/512 [00:03<00:09, 39.30it/s, loss=1.63]\u001b[A\n",
      " 28%|██▊       | 143/512 [00:03<00:09, 39.20it/s, loss=1.62]\u001b[A\n",
      " 28%|██▊       | 143/512 [00:03<00:09, 39.10it/s, loss=1.61]\u001b[A\n",
      " 30%|███       | 154/512 [00:03<00:08, 42.06it/s, loss=1.61]\u001b[A\n",
      " 30%|███       | 154/512 [00:03<00:08, 41.97it/s, loss=1.61]\u001b[A\n",
      " 30%|███       | 154/512 [00:03<00:08, 41.87it/s, loss=1.59]\u001b[A\n",
      " 30%|███       | 154/512 [00:03<00:08, 41.77it/s, loss=1.58]\u001b[A\n",
      " 30%|███       | 154/512 [00:03<00:08, 41.69it/s, loss=1.57]\u001b[A\n",
      " 30%|███       | 154/512 [00:03<00:08, 41.60it/s, loss=1.56]\u001b[A\n",
      " 30%|███       | 154/512 [00:03<00:08, 41.52it/s, loss=1.55]\u001b[A\n",
      " 30%|███       | 154/512 [00:03<00:08, 41.42it/s, loss=1.55]\u001b[A\n",
      " 30%|███       | 154/512 [00:03<00:08, 41.34it/s, loss=1.55]\u001b[A\n",
      " 30%|███       | 154/512 [00:03<00:08, 41.26it/s, loss=1.54]\u001b[A\n",
      " 30%|███       | 154/512 [00:03<00:08, 41.17it/s, loss=1.54]\u001b[A\n",
      " 30%|███       | 154/512 [00:03<00:08, 41.05it/s, loss=1.53]\u001b[A\n",
      " 30%|███       | 154/512 [00:03<00:08, 40.97it/s, loss=1.52]\u001b[A\n",
      " 32%|███▏      | 166/512 [00:03<00:07, 44.13it/s, loss=1.52]\u001b[A\n",
      " 32%|███▏      | 166/512 [00:03<00:07, 44.05it/s, loss=1.51]\u001b[A\n",
      " 32%|███▏      | 166/512 [00:03<00:07, 43.98it/s, loss=1.5] \u001b[A\n",
      " 32%|███▏      | 166/512 [00:03<00:07, 43.89it/s, loss=1.49]\u001b[A\n",
      " 32%|███▏      | 166/512 [00:03<00:07, 43.81it/s, loss=1.49]\u001b[A\n",
      " 32%|███▏      | 166/512 [00:03<00:07, 43.74it/s, loss=1.47]\u001b[A\n",
      " 32%|███▏      | 166/512 [00:03<00:07, 43.64it/s, loss=1.47]\u001b[A\n",
      " 32%|███▏      | 166/512 [00:03<00:07, 43.54it/s, loss=1.46]\u001b[A\n",
      " 32%|███▏      | 166/512 [00:03<00:07, 43.46it/s, loss=1.45]\u001b[A\n",
      " 32%|███▏      | 166/512 [00:03<00:07, 43.38it/s, loss=1.44]\u001b[A\n",
      " 32%|███▏      | 166/512 [00:03<00:07, 43.29it/s, loss=1.43]\u001b[A\n",
      " 32%|███▏      | 166/512 [00:03<00:08, 43.20it/s, loss=1.42]\u001b[A\n",
      " 32%|███▏      | 166/512 [00:03<00:08, 43.08it/s, loss=1.41]\u001b[A\n",
      " 32%|███▏      | 166/512 [00:03<00:08, 43.01it/s, loss=1.4] \u001b[A\n",
      " 35%|███▍      | 179/512 [00:03<00:07, 46.31it/s, loss=1.4]\u001b[A\n",
      " 35%|███▍      | 179/512 [00:03<00:07, 46.20it/s, loss=1.39]\u001b[A\n",
      " 35%|███▍      | 179/512 [00:03<00:07, 46.10it/s, loss=1.39]\u001b[A\n",
      " 35%|███▍      | 179/512 [00:03<00:07, 46.00it/s, loss=1.38]\u001b[A\n",
      " 35%|███▍      | 179/512 [00:03<00:07, 45.91it/s, loss=1.36]\u001b[A\n",
      " 35%|███▍      | 179/512 [00:03<00:07, 45.82it/s, loss=1.35]\u001b[A\n",
      " 35%|███▍      | 179/512 [00:03<00:07, 45.72it/s, loss=1.34]\u001b[A\n",
      " 35%|███▍      | 179/512 [00:03<00:07, 45.61it/s, loss=1.33]\u001b[A\n",
      " 35%|███▍      | 179/512 [00:03<00:07, 45.51it/s, loss=1.33]\u001b[A\n",
      " 35%|███▍      | 179/512 [00:03<00:07, 45.43it/s, loss=1.33]\u001b[A\n",
      " 35%|███▍      | 179/512 [00:03<00:07, 45.35it/s, loss=1.32]\u001b[A\n",
      " 35%|███▍      | 179/512 [00:03<00:07, 45.25it/s, loss=1.31]\u001b[A\n",
      " 35%|███▍      | 179/512 [00:03<00:07, 45.14it/s, loss=1.3] \u001b[A\n",
      " 37%|███▋      | 191/512 [00:03<00:06, 48.12it/s, loss=1.3]\u001b[A\n",
      " 37%|███▋      | 191/512 [00:03<00:06, 48.03it/s, loss=1.3]\u001b[A\n",
      " 37%|███▋      | 191/512 [00:03<00:06, 47.95it/s, loss=1.29]\u001b[A\n",
      " 37%|███▋      | 191/512 [00:03<00:06, 47.85it/s, loss=1.28]\u001b[A\n",
      " 37%|███▋      | 191/512 [00:03<00:06, 47.76it/s, loss=1.29]\u001b[A\n",
      " 37%|███▋      | 191/512 [00:04<00:06, 47.69it/s, loss=1.28]\u001b[A\n",
      " 37%|███▋      | 191/512 [00:04<00:06, 47.60it/s, loss=1.26]\u001b[A\n",
      " 37%|███▋      | 191/512 [00:04<00:06, 47.51it/s, loss=1.26]\u001b[A\n",
      " 37%|███▋      | 191/512 [00:04<00:06, 47.44it/s, loss=1.25]\u001b[A\n",
      " 37%|███▋      | 191/512 [00:04<00:06, 47.36it/s, loss=1.24]\u001b[A\n",
      " 37%|███▋      | 191/512 [00:04<00:06, 47.26it/s, loss=1.24]\u001b[A\n",
      " 37%|███▋      | 191/512 [00:04<00:06, 47.16it/s, loss=1.22]\u001b[A\n",
      " 37%|███▋      | 191/512 [00:04<00:06, 47.05it/s, loss=1.22]\u001b[A\n",
      " 37%|███▋      | 191/512 [00:04<00:06, 46.95it/s, loss=1.2] \u001b[A\n",
      " 40%|███▉      | 204/512 [00:04<00:06, 50.09it/s, loss=1.2]\u001b[A\n",
      " 40%|███▉      | 204/512 [00:04<00:06, 50.01it/s, loss=1.2]\u001b[A\n",
      " 40%|███▉      | 204/512 [00:04<00:06, 49.93it/s, loss=1.19]\u001b[A\n",
      " 40%|███▉      | 204/512 [00:04<00:06, 49.84it/s, loss=1.2] \u001b[A\n",
      " 40%|███▉      | 204/512 [00:04<00:06, 49.75it/s, loss=1.19]\u001b[A\n",
      " 40%|███▉      | 204/512 [00:04<00:06, 49.66it/s, loss=1.18]\u001b[A\n",
      " 40%|███▉      | 204/512 [00:04<00:06, 49.58it/s, loss=1.18]\u001b[A\n",
      " 40%|███▉      | 204/512 [00:04<00:06, 49.51it/s, loss=1.17]\u001b[A\n",
      " 40%|███▉      | 204/512 [00:04<00:06, 49.44it/s, loss=1.17]\u001b[A\n",
      " 40%|███▉      | 204/512 [00:04<00:06, 49.32it/s, loss=1.17]\u001b[A\n",
      " 40%|███▉      | 204/512 [00:04<00:06, 49.24it/s, loss=1.16]\u001b[A\n",
      " 40%|███▉      | 204/512 [00:04<00:06, 49.12it/s, loss=1.16]\u001b[A\n",
      " 40%|███▉      | 204/512 [00:04<00:06, 49.02it/s, loss=1.17]\u001b[A\n",
      " 40%|███▉      | 204/512 [00:04<00:06, 48.91it/s, loss=1.17]\u001b[A\n",
      " 42%|████▏     | 217/512 [00:04<00:05, 51.99it/s, loss=1.17]\u001b[A\n",
      " 42%|████▏     | 217/512 [00:04<00:05, 51.90it/s, loss=1.17]\u001b[A\n",
      " 42%|████▏     | 217/512 [00:04<00:05, 51.80it/s, loss=1.17]\u001b[A\n",
      " 42%|████▏     | 217/512 [00:04<00:05, 51.69it/s, loss=1.17]\u001b[A\n",
      " 42%|████▏     | 217/512 [00:04<00:05, 51.61it/s, loss=1.16]\u001b[A\n",
      " 42%|████▏     | 217/512 [00:04<00:05, 51.53it/s, loss=1.17]\u001b[A\n",
      " 42%|████▏     | 217/512 [00:04<00:05, 51.44it/s, loss=1.16]\u001b[A\n",
      " 42%|████▏     | 217/512 [00:04<00:05, 51.37it/s, loss=1.16]\u001b[A\n",
      " 42%|████▏     | 217/512 [00:04<00:05, 51.27it/s, loss=1.15]\u001b[A\n",
      " 42%|████▏     | 217/512 [00:04<00:05, 51.18it/s, loss=1.15]\u001b[A\n",
      " 42%|████▏     | 217/512 [00:04<00:05, 51.09it/s, loss=1.14]\u001b[A\n",
      " 42%|████▏     | 217/512 [00:04<00:05, 51.00it/s, loss=1.15]\u001b[A\n",
      " 42%|████▏     | 217/512 [00:04<00:05, 50.86it/s, loss=1.15]\u001b[A\n",
      " 42%|████▏     | 217/512 [00:04<00:05, 50.76it/s, loss=1.14]\u001b[A\n",
      " 45%|████▍     | 230/512 [00:04<00:05, 53.76it/s, loss=1.14]\u001b[A\n",
      " 45%|████▍     | 230/512 [00:04<00:05, 53.65it/s, loss=1.13]\u001b[A\n",
      " 45%|████▍     | 230/512 [00:04<00:05, 53.56it/s, loss=1.13]\u001b[A\n",
      " 45%|████▍     | 230/512 [00:04<00:05, 53.47it/s, loss=1.12]\u001b[A\n",
      " 45%|████▍     | 230/512 [00:04<00:05, 53.40it/s, loss=1.12]\u001b[A\n",
      " 45%|████▍     | 230/512 [00:04<00:05, 53.31it/s, loss=1.1] \u001b[A\n",
      " 45%|████▍     | 230/512 [00:04<00:05, 53.20it/s, loss=1.09]\u001b[A\n",
      " 45%|████▍     | 230/512 [00:04<00:05, 53.08it/s, loss=1.09]\u001b[A\n",
      " 45%|████▍     | 230/512 [00:04<00:05, 52.99it/s, loss=1.08]\u001b[A\n",
      " 45%|████▍     | 230/512 [00:04<00:05, 52.91it/s, loss=1.08]\u001b[A\n"
     ]
    },
    {
     "name": "stdout",
     "output_type": "stream",
     "text": [
      " 45%|████▍     | 230/512 [00:04<00:05, 52.83it/s, loss=1.06]\u001b[A\n",
      " 45%|████▍     | 230/512 [00:04<00:05, 52.76it/s, loss=1.06]\u001b[A\n",
      " 45%|████▍     | 230/512 [00:04<00:05, 52.68it/s, loss=1.06]\u001b[A\n",
      " 45%|████▍     | 230/512 [00:04<00:05, 52.62it/s, loss=1.04]\u001b[A\n",
      " 45%|████▍     | 230/512 [00:04<00:05, 52.52it/s, loss=1.04]\u001b[A\n",
      " 48%|████▊     | 244/512 [00:04<00:04, 55.64it/s, loss=1.04]\u001b[A\n",
      " 48%|████▊     | 244/512 [00:04<00:04, 55.55it/s, loss=1.04]\u001b[A\n",
      " 48%|████▊     | 244/512 [00:04<00:04, 55.45it/s, loss=1.05]\u001b[A\n",
      " 48%|████▊     | 244/512 [00:04<00:04, 55.37it/s, loss=1.04]\u001b[A\n",
      " 48%|████▊     | 244/512 [00:04<00:04, 55.27it/s, loss=1.03]\u001b[A\n",
      " 48%|████▊     | 244/512 [00:04<00:04, 55.17it/s, loss=1.03]\u001b[A\n",
      " 48%|████▊     | 244/512 [00:04<00:04, 55.06it/s, loss=1.03]\u001b[A\n",
      " 48%|████▊     | 244/512 [00:04<00:04, 54.96it/s, loss=1.02]\u001b[A\n",
      " 48%|████▊     | 244/512 [00:04<00:04, 54.85it/s, loss=1.03]\u001b[A\n",
      " 48%|████▊     | 244/512 [00:04<00:04, 54.75it/s, loss=1.02]\u001b[A\n",
      " 48%|████▊     | 244/512 [00:04<00:04, 54.66it/s, loss=1.01]\u001b[A\n",
      " 48%|████▊     | 244/512 [00:04<00:04, 54.52it/s, loss=1]   \u001b[A\n",
      " 48%|████▊     | 244/512 [00:04<00:04, 54.41it/s, loss=1.02]\u001b[A\n",
      " 48%|████▊     | 244/512 [00:04<00:04, 54.32it/s, loss=1.02]\u001b[A\n",
      " 50%|█████     | 257/512 [00:04<00:04, 57.16it/s, loss=1.02]\u001b[A\n",
      " 50%|█████     | 257/512 [00:04<00:04, 57.05it/s, loss=1.02]\u001b[A\n",
      " 50%|█████     | 257/512 [00:04<00:04, 56.96it/s, loss=1.01]\u001b[A\n",
      " 50%|█████     | 257/512 [00:04<00:04, 56.85it/s, loss=1.01]\u001b[A\n",
      " 50%|█████     | 257/512 [00:04<00:04, 56.77it/s, loss=1.01]\u001b[A\n",
      " 50%|█████     | 257/512 [00:04<00:04, 56.67it/s, loss=1.01]\u001b[A\n",
      " 50%|█████     | 257/512 [00:04<00:04, 56.57it/s, loss=1.01]\u001b[A\n",
      " 50%|█████     | 257/512 [00:04<00:04, 56.47it/s, loss=1.01]\u001b[A\n",
      " 50%|█████     | 257/512 [00:04<00:04, 56.36it/s, loss=1]   \u001b[A\n",
      " 50%|█████     | 257/512 [00:04<00:04, 56.29it/s, loss=0.996]\u001b[A\n",
      " 50%|█████     | 257/512 [00:04<00:04, 56.20it/s, loss=0.992]\u001b[A\n",
      " 50%|█████     | 257/512 [00:04<00:04, 56.11it/s, loss=0.995]\u001b[A\n",
      " 50%|█████     | 257/512 [00:04<00:04, 56.03it/s, loss=1]    \u001b[A\n",
      " 50%|█████     | 257/512 [00:04<00:04, 55.95it/s, loss=0.996]\u001b[A\n",
      " 53%|█████▎    | 270/512 [00:04<00:04, 58.75it/s, loss=0.996]\u001b[A\n",
      " 53%|█████▎    | 270/512 [00:04<00:04, 58.65it/s, loss=0.991]\u001b[A\n",
      " 53%|█████▎    | 270/512 [00:04<00:04, 58.56it/s, loss=0.99] \u001b[A\n",
      " 53%|█████▎    | 270/512 [00:04<00:04, 58.45it/s, loss=0.987]\u001b[A\n",
      " 53%|█████▎    | 270/512 [00:04<00:04, 58.34it/s, loss=0.974]\u001b[A\n",
      " 53%|█████▎    | 270/512 [00:04<00:04, 58.20it/s, loss=0.968]\u001b[A\n",
      " 53%|█████▎    | 270/512 [00:04<00:04, 58.11it/s, loss=0.961]\u001b[A\n",
      " 53%|█████▎    | 270/512 [00:04<00:04, 58.02it/s, loss=0.947]\u001b[A\n",
      " 53%|█████▎    | 270/512 [00:04<00:04, 57.93it/s, loss=0.941]\u001b[A\n",
      " 53%|█████▎    | 270/512 [00:04<00:04, 57.85it/s, loss=0.941]\u001b[A\n",
      " 53%|█████▎    | 270/512 [00:04<00:04, 57.76it/s, loss=0.929]\u001b[A\n",
      " 53%|█████▎    | 270/512 [00:04<00:04, 57.67it/s, loss=0.934]\u001b[A\n",
      " 53%|█████▎    | 270/512 [00:04<00:04, 57.56it/s, loss=0.938]\u001b[A\n",
      " 53%|█████▎    | 270/512 [00:04<00:04, 57.48it/s, loss=0.924]\u001b[A\n",
      " 55%|█████▌    | 283/512 [00:04<00:03, 60.20it/s, loss=0.924]\u001b[A\n",
      " 55%|█████▌    | 283/512 [00:04<00:03, 60.11it/s, loss=0.919]\u001b[A\n",
      " 55%|█████▌    | 283/512 [00:04<00:03, 60.03it/s, loss=0.922]\u001b[A\n",
      " 55%|█████▌    | 283/512 [00:04<00:03, 59.96it/s, loss=0.914]\u001b[A\n",
      " 55%|█████▌    | 283/512 [00:04<00:03, 59.88it/s, loss=0.919]\u001b[A\n",
      " 55%|█████▌    | 283/512 [00:04<00:03, 59.75it/s, loss=0.92] \u001b[A\n",
      " 55%|█████▌    | 283/512 [00:04<00:03, 59.65it/s, loss=0.909]\u001b[A\n",
      " 55%|█████▌    | 283/512 [00:04<00:03, 59.55it/s, loss=0.898]\u001b[A\n",
      " 55%|█████▌    | 283/512 [00:04<00:03, 59.47it/s, loss=0.895]\u001b[A\n",
      " 55%|█████▌    | 283/512 [00:04<00:03, 59.40it/s, loss=0.905]\u001b[A\n",
      " 55%|█████▌    | 283/512 [00:04<00:03, 59.32it/s, loss=0.901]\u001b[A\n",
      " 55%|█████▌    | 283/512 [00:04<00:03, 59.21it/s, loss=0.897]\u001b[A\n",
      " 55%|█████▌    | 283/512 [00:04<00:03, 59.11it/s, loss=0.901]\u001b[A\n",
      " 55%|█████▌    | 283/512 [00:04<00:03, 59.04it/s, loss=0.91] \u001b[A\n",
      " 55%|█████▌    | 283/512 [00:04<00:03, 58.95it/s, loss=0.914]\u001b[A\n",
      " 58%|█████▊    | 297/512 [00:04<00:03, 61.82it/s, loss=0.914]\u001b[A\n",
      " 58%|█████▊    | 297/512 [00:04<00:03, 61.71it/s, loss=0.915]\u001b[A\n",
      " 58%|█████▊    | 297/512 [00:04<00:03, 61.62it/s, loss=0.92] \u001b[A\n",
      " 58%|█████▊    | 297/512 [00:04<00:03, 61.54it/s, loss=0.917]\u001b[A\n",
      " 58%|█████▊    | 297/512 [00:04<00:03, 61.40it/s, loss=0.918]\u001b[A\n",
      " 58%|█████▊    | 297/512 [00:04<00:03, 61.31it/s, loss=0.915]\u001b[A\n",
      " 58%|█████▊    | 297/512 [00:04<00:03, 61.20it/s, loss=0.903]\u001b[A\n",
      " 58%|█████▊    | 297/512 [00:04<00:03, 61.11it/s, loss=0.909]\u001b[A\n",
      " 58%|█████▊    | 297/512 [00:04<00:03, 61.01it/s, loss=0.902]\u001b[A\n",
      " 58%|█████▊    | 297/512 [00:04<00:03, 60.92it/s, loss=0.895]\u001b[A\n",
      " 58%|█████▊    | 297/512 [00:04<00:03, 60.78it/s, loss=0.891]\u001b[A\n",
      " 58%|█████▊    | 297/512 [00:04<00:03, 60.68it/s, loss=0.888]\u001b[A\n",
      " 58%|█████▊    | 297/512 [00:04<00:03, 60.57it/s, loss=0.88] \u001b[A\n",
      " 58%|█████▊    | 297/512 [00:04<00:03, 60.48it/s, loss=0.875]\u001b[A\n",
      " 61%|██████    | 310/512 [00:04<00:03, 63.08it/s, loss=0.875]\u001b[A\n",
      " 61%|██████    | 310/512 [00:04<00:03, 62.98it/s, loss=0.878]\u001b[A\n",
      " 61%|██████    | 310/512 [00:04<00:03, 62.88it/s, loss=0.876]\u001b[A\n",
      " 61%|██████    | 310/512 [00:04<00:03, 62.77it/s, loss=0.871]\u001b[A\n",
      " 61%|██████    | 310/512 [00:04<00:03, 62.68it/s, loss=0.866]\u001b[A\n",
      " 61%|██████    | 310/512 [00:04<00:03, 62.57it/s, loss=0.863]\u001b[A\n",
      " 61%|██████    | 310/512 [00:04<00:03, 62.47it/s, loss=0.862]\u001b[A\n",
      " 61%|██████    | 310/512 [00:04<00:03, 62.36it/s, loss=0.856]\u001b[A\n",
      " 61%|██████    | 310/512 [00:04<00:03, 62.26it/s, loss=0.853]\u001b[A\n",
      " 61%|██████    | 310/512 [00:04<00:03, 62.15it/s, loss=0.853]\u001b[A\n",
      " 61%|██████    | 310/512 [00:04<00:03, 62.04it/s, loss=0.842]\u001b[A\n",
      " 61%|██████    | 310/512 [00:05<00:03, 61.95it/s, loss=0.845]\u001b[A\n",
      " 61%|██████    | 310/512 [00:05<00:03, 61.85it/s, loss=0.844]\u001b[A\n",
      " 61%|██████    | 310/512 [00:05<00:03, 61.73it/s, loss=0.847]\u001b[A\n",
      " 63%|██████▎   | 323/512 [00:05<00:02, 64.27it/s, loss=0.847]\u001b[A\n",
      " 63%|██████▎   | 323/512 [00:05<00:02, 64.15it/s, loss=0.843]\u001b[A\n",
      " 63%|██████▎   | 323/512 [00:05<00:02, 64.03it/s, loss=0.852]\u001b[A\n",
      " 63%|██████▎   | 323/512 [00:05<00:02, 63.92it/s, loss=0.85] \u001b[A\n",
      " 63%|██████▎   | 323/512 [00:05<00:02, 63.82it/s, loss=0.846]\u001b[A\n",
      " 63%|██████▎   | 323/512 [00:05<00:02, 63.73it/s, loss=0.854]\u001b[A\n",
      " 63%|██████▎   | 323/512 [00:05<00:02, 63.65it/s, loss=0.855]\u001b[A\n",
      " 63%|██████▎   | 323/512 [00:05<00:02, 63.54it/s, loss=0.858]\u001b[A\n",
      " 63%|██████▎   | 323/512 [00:05<00:02, 63.44it/s, loss=0.858]\u001b[A\n",
      " 63%|██████▎   | 323/512 [00:05<00:02, 63.33it/s, loss=0.85] \u001b[A\n",
      " 63%|██████▎   | 323/512 [00:05<00:02, 63.23it/s, loss=0.843]\u001b[A\n",
      " 63%|██████▎   | 323/512 [00:05<00:02, 63.12it/s, loss=0.832]\u001b[A\n",
      " 63%|██████▎   | 323/512 [00:05<00:02, 63.02it/s, loss=0.827]\u001b[A\n",
      " 63%|██████▎   | 323/512 [00:05<00:03, 62.91it/s, loss=0.828]\u001b[A\n",
      " 66%|██████▌   | 336/512 [00:05<00:02, 65.39it/s, loss=0.828]\u001b[A\n",
      " 66%|██████▌   | 336/512 [00:05<00:02, 65.28it/s, loss=0.829]\u001b[A\n",
      " 66%|██████▌   | 336/512 [00:05<00:02, 65.17it/s, loss=0.824]\u001b[A\n",
      " 66%|██████▌   | 336/512 [00:05<00:02, 65.07it/s, loss=0.825]\u001b[A\n",
      " 66%|██████▌   | 336/512 [00:05<00:02, 64.97it/s, loss=0.835]\u001b[A\n",
      " 66%|██████▌   | 336/512 [00:05<00:02, 64.87it/s, loss=0.829]\u001b[A\n",
      " 66%|██████▌   | 336/512 [00:05<00:02, 64.78it/s, loss=0.842]\u001b[A\n",
      " 66%|██████▌   | 336/512 [00:05<00:02, 64.67it/s, loss=0.846]\u001b[A\n",
      " 66%|██████▌   | 336/512 [00:05<00:02, 64.57it/s, loss=0.847]\u001b[A\n",
      " 66%|██████▌   | 336/512 [00:05<00:02, 64.50it/s, loss=0.846]\u001b[A\n",
      " 66%|██████▌   | 336/512 [00:05<00:02, 64.42it/s, loss=0.843]\u001b[A\n",
      " 66%|██████▌   | 336/512 [00:05<00:02, 64.34it/s, loss=0.842]\u001b[A\n",
      " 66%|██████▌   | 336/512 [00:05<00:02, 64.25it/s, loss=0.841]\u001b[A\n",
      " 66%|██████▌   | 336/512 [00:05<00:02, 64.17it/s, loss=0.852]\u001b[A\n",
      " 68%|██████▊   | 349/512 [00:05<00:02, 66.61it/s, loss=0.852]\u001b[A\n",
      " 68%|██████▊   | 349/512 [00:05<00:02, 66.51it/s, loss=0.848]\u001b[A\n",
      " 68%|██████▊   | 349/512 [00:05<00:02, 66.41it/s, loss=0.855]\u001b[A\n",
      " 68%|██████▊   | 349/512 [00:05<00:02, 66.28it/s, loss=0.855]\u001b[A\n",
      " 68%|██████▊   | 349/512 [00:05<00:02, 66.20it/s, loss=0.856]\u001b[A\n",
      " 68%|██████▊   | 349/512 [00:05<00:02, 66.11it/s, loss=0.871]\u001b[A\n",
      " 68%|██████▊   | 349/512 [00:05<00:02, 66.00it/s, loss=0.87] \u001b[A\n",
      " 68%|██████▊   | 349/512 [00:05<00:02, 65.91it/s, loss=0.865]\u001b[A\n",
      " 68%|██████▊   | 349/512 [00:05<00:02, 65.81it/s, loss=0.866]\u001b[A\n",
      " 68%|██████▊   | 349/512 [00:05<00:02, 65.71it/s, loss=0.873]\u001b[A\n",
      " 68%|██████▊   | 349/512 [00:05<00:02, 65.62it/s, loss=0.867]\u001b[A\n",
      " 68%|██████▊   | 349/512 [00:05<00:02, 65.53it/s, loss=0.861]\u001b[A\n",
      " 68%|██████▊   | 349/512 [00:05<00:02, 65.41it/s, loss=0.849]\u001b[A\n",
      " 68%|██████▊   | 349/512 [00:05<00:02, 65.29it/s, loss=0.837]\u001b[A\n",
      " 71%|███████   | 362/512 [00:05<00:02, 67.65it/s, loss=0.837]\u001b[A\n",
      " 71%|███████   | 362/512 [00:05<00:02, 67.55it/s, loss=0.829]\u001b[A\n",
      " 71%|███████   | 362/512 [00:05<00:02, 67.45it/s, loss=0.83] \u001b[A\n",
      " 71%|███████   | 362/512 [00:05<00:02, 67.36it/s, loss=0.847]\u001b[A\n",
      " 71%|███████   | 362/512 [00:05<00:02, 67.27it/s, loss=0.841]\u001b[A\n",
      " 71%|███████   | 362/512 [00:05<00:02, 67.18it/s, loss=0.847]\u001b[A\n",
      " 71%|███████   | 362/512 [00:05<00:02, 67.10it/s, loss=0.839]\u001b[A\n",
      " 71%|███████   | 362/512 [00:05<00:02, 67.02it/s, loss=0.83] \u001b[A\n",
      " 71%|███████   | 362/512 [00:05<00:02, 66.94it/s, loss=0.832]\u001b[A\n",
      " 71%|███████   | 362/512 [00:05<00:02, 66.86it/s, loss=0.826]\u001b[A\n",
      " 71%|███████   | 362/512 [00:05<00:02, 66.76it/s, loss=0.829]\u001b[A\n",
      " 71%|███████   | 362/512 [00:05<00:02, 66.67it/s, loss=0.822]\u001b[A\n",
      " 71%|███████   | 362/512 [00:05<00:02, 66.57it/s, loss=0.813]\u001b[A\n",
      " 71%|███████   | 362/512 [00:05<00:02, 66.46it/s, loss=0.807]\u001b[A\n",
      " 73%|███████▎  | 375/512 [00:05<00:01, 68.79it/s, loss=0.807]\u001b[A\n",
      " 73%|███████▎  | 375/512 [00:05<00:01, 68.69it/s, loss=0.809]\u001b[A\n",
      " 73%|███████▎  | 375/512 [00:05<00:01, 68.58it/s, loss=0.812]\u001b[A\n",
      " 73%|███████▎  | 375/512 [00:05<00:02, 68.49it/s, loss=0.81] \u001b[A\n",
      " 73%|███████▎  | 375/512 [00:05<00:02, 68.37it/s, loss=0.812]\u001b[A\n",
      " 73%|███████▎  | 375/512 [00:05<00:02, 68.27it/s, loss=0.813]\u001b[A\n",
      " 73%|███████▎  | 375/512 [00:05<00:02, 68.14it/s, loss=0.804]\u001b[A\n",
      " 73%|███████▎  | 375/512 [00:05<00:02, 68.05it/s, loss=0.804]\u001b[A\n",
      " 73%|███████▎  | 375/512 [00:05<00:02, 67.95it/s, loss=0.817]\u001b[A\n",
      " 73%|███████▎  | 375/512 [00:05<00:02, 67.86it/s, loss=0.81] \u001b[A\n",
      " 73%|███████▎  | 375/512 [00:05<00:02, 67.78it/s, loss=0.813]\u001b[A\n",
      " 73%|███████▎  | 375/512 [00:05<00:02, 67.70it/s, loss=0.809]\u001b[A\n",
      " 73%|███████▎  | 375/512 [00:05<00:02, 67.63it/s, loss=0.798]\u001b[A\n",
      " 73%|███████▎  | 375/512 [00:05<00:02, 67.53it/s, loss=0.793]\u001b[A\n",
      " 76%|███████▌  | 388/512 [00:05<00:01, 69.82it/s, loss=0.793]\u001b[A\n",
      " 76%|███████▌  | 388/512 [00:05<00:01, 69.74it/s, loss=0.788]\u001b[A\n",
      " 76%|███████▌  | 388/512 [00:05<00:01, 69.66it/s, loss=0.788]\u001b[A\n",
      " 76%|███████▌  | 388/512 [00:05<00:01, 69.57it/s, loss=0.784]\u001b[A\n",
      " 76%|███████▌  | 388/512 [00:05<00:01, 69.47it/s, loss=0.781]\u001b[A\n",
      " 76%|███████▌  | 388/512 [00:05<00:01, 69.36it/s, loss=0.778]\u001b[A\n",
      " 76%|███████▌  | 388/512 [00:05<00:01, 69.26it/s, loss=0.786]\u001b[A\n",
      " 76%|███████▌  | 388/512 [00:05<00:01, 69.19it/s, loss=0.785]\u001b[A\n",
      " 76%|███████▌  | 388/512 [00:05<00:01, 69.10it/s, loss=0.787]\u001b[A\n",
      " 76%|███████▌  | 388/512 [00:05<00:01, 69.03it/s, loss=0.797]\u001b[A\n",
      " 76%|███████▌  | 388/512 [00:05<00:01, 68.91it/s, loss=0.792]\u001b[A\n",
      " 76%|███████▌  | 388/512 [00:05<00:01, 68.80it/s, loss=0.784]\u001b[A\n",
      " 76%|███████▌  | 388/512 [00:05<00:01, 68.71it/s, loss=0.78] \u001b[A\n",
      " 76%|███████▌  | 388/512 [00:05<00:01, 68.63it/s, loss=0.784]\u001b[A\n",
      " 78%|███████▊  | 401/512 [00:05<00:01, 70.88it/s, loss=0.784]\u001b[A\n",
      " 78%|███████▊  | 401/512 [00:05<00:01, 70.79it/s, loss=0.784]\u001b[A\n",
      " 78%|███████▊  | 401/512 [00:05<00:01, 70.70it/s, loss=0.786]\u001b[A\n",
      " 78%|███████▊  | 401/512 [00:05<00:01, 70.58it/s, loss=0.786]\u001b[A\n",
      " 78%|███████▊  | 401/512 [00:05<00:01, 70.48it/s, loss=0.787]\u001b[A\n",
      " 78%|███████▊  | 401/512 [00:05<00:01, 70.39it/s, loss=0.784]\u001b[A\n",
      " 78%|███████▊  | 401/512 [00:05<00:01, 70.29it/s, loss=0.78] \u001b[A\n",
      " 78%|███████▊  | 401/512 [00:05<00:01, 70.20it/s, loss=0.769]\u001b[A\n",
      " 78%|███████▊  | 401/512 [00:05<00:01, 70.11it/s, loss=0.773]\u001b[A\n",
      " 78%|███████▊  | 401/512 [00:05<00:01, 70.00it/s, loss=0.779]\u001b[A\n",
      " 78%|███████▊  | 401/512 [00:05<00:01, 69.83it/s, loss=0.781]\u001b[A\n",
      " 78%|███████▊  | 401/512 [00:05<00:01, 69.72it/s, loss=0.782]\u001b[A\n",
      " 78%|███████▊  | 401/512 [00:05<00:01, 69.62it/s, loss=0.775]\u001b[A\n",
      " 78%|███████▊  | 401/512 [00:05<00:01, 69.52it/s, loss=0.773]\u001b[A\n",
      " 81%|████████  | 414/512 [00:05<00:01, 71.74it/s, loss=0.773]\u001b[A\n",
      " 81%|████████  | 414/512 [00:05<00:01, 71.64it/s, loss=0.774]\u001b[A\n",
      " 81%|████████  | 414/512 [00:05<00:01, 71.53it/s, loss=0.776]\u001b[A\n",
      " 81%|████████  | 414/512 [00:05<00:01, 71.44it/s, loss=0.782]\u001b[A\n",
      " 81%|████████  | 414/512 [00:05<00:01, 71.29it/s, loss=0.78] \u001b[A\n",
      " 81%|████████  | 414/512 [00:05<00:01, 71.18it/s, loss=0.785]\u001b[A\n",
      " 81%|████████  | 414/512 [00:05<00:01, 71.08it/s, loss=0.785]\u001b[A\n",
      " 81%|████████  | 414/512 [00:05<00:01, 70.97it/s, loss=0.791]\u001b[A\n",
      " 81%|████████  | 414/512 [00:05<00:01, 70.87it/s, loss=0.796]\u001b[A\n",
      " 81%|████████  | 414/512 [00:05<00:01, 70.77it/s, loss=0.798]\u001b[A\n",
      " 81%|████████  | 414/512 [00:05<00:01, 70.64it/s, loss=0.784]\u001b[A\n",
      " 81%|████████  | 414/512 [00:05<00:01, 70.54it/s, loss=0.794]\u001b[A\n",
      " 81%|████████  | 414/512 [00:05<00:01, 70.45it/s, loss=0.797]\u001b[A\n",
      " 81%|████████  | 414/512 [00:05<00:01, 70.35it/s, loss=0.793]\u001b[A\n",
      " 83%|████████▎ | 427/512 [00:05<00:01, 72.52it/s, loss=0.793]\u001b[A\n",
      " 83%|████████▎ | 427/512 [00:05<00:01, 72.40it/s, loss=0.801]\u001b[A\n",
      " 83%|████████▎ | 427/512 [00:05<00:01, 72.30it/s, loss=0.803]\u001b[A\n",
      " 83%|████████▎ | 427/512 [00:05<00:01, 72.19it/s, loss=0.8]  \u001b[A\n",
      " 83%|████████▎ | 427/512 [00:05<00:01, 72.12it/s, loss=0.791]\u001b[A\n",
      " 83%|████████▎ | 427/512 [00:05<00:01, 72.05it/s, loss=0.787]\u001b[A\n",
      " 83%|████████▎ | 427/512 [00:05<00:01, 71.94it/s, loss=0.785]\u001b[A\n",
      " 83%|████████▎ | 427/512 [00:05<00:01, 71.79it/s, loss=0.778]\u001b[A\n",
      " 83%|████████▎ | 427/512 [00:05<00:01, 71.69it/s, loss=0.78] \u001b[A\n",
      " 83%|████████▎ | 427/512 [00:05<00:01, 71.58it/s, loss=0.774]\u001b[A\n",
      " 83%|████████▎ | 427/512 [00:05<00:01, 71.49it/s, loss=0.771]\u001b[A\n",
      " 83%|████████▎ | 427/512 [00:05<00:01, 71.40it/s, loss=0.769]\u001b[A\n",
      " 83%|████████▎ | 427/512 [00:05<00:01, 71.33it/s, loss=0.765]\u001b[A\n",
      " 86%|████████▌ | 439/512 [00:05<00:00, 73.30it/s, loss=0.765]\u001b[A\n",
      " 86%|████████▌ | 439/512 [00:05<00:00, 73.20it/s, loss=0.763]\u001b[A\n",
      " 86%|████████▌ | 439/512 [00:06<00:00, 73.12it/s, loss=0.756]\u001b[A\n",
      " 86%|████████▌ | 439/512 [00:06<00:00, 73.03it/s, loss=0.746]\u001b[A\n",
      " 86%|████████▌ | 439/512 [00:06<00:01, 72.95it/s, loss=0.749]\u001b[A\n",
      "\n",
      " 86%|████████▌ | 439/512 [00:06<00:01, 72.83it/s, loss=0.743]\u001b[A\n",
      " 86%|████████▌ | 439/512 [00:06<00:01, 72.73it/s, loss=0.74] \u001b[A\n",
      " 86%|████████▌ | 439/512 [00:06<00:01, 72.61it/s, loss=0.741]\u001b[A\n",
      " 86%|████████▌ | 439/512 [00:06<00:01, 72.51it/s, loss=0.758]\u001b[A\n",
      " 86%|████████▌ | 439/512 [00:06<00:01, 72.39it/s, loss=0.757]\u001b[A\n",
      " 91%|█████████▏| 468/512 [00:06<00:00, 75.10it/s, loss=0.756]\u001b[A"
     ]
    },
    {
     "name": "stderr",
     "output_type": "stream",
     "text": [
      "Exception in thread Thread-5:\n",
      "Traceback (most recent call last):\n",
      "  File \"/home/bmn/anaconda3/envs/fastai/lib/python3.6/threading.py\", line 916, in _bootstrap_inner\n",
      "    self.run()\n",
      "  File \"/home/bmn/anaconda3/envs/fastai/lib/python3.6/site-packages/tqdm/_tqdm.py\", line 144, in run\n",
      "    for instance in self.tqdm_cls._instances:\n",
      "  File \"/home/bmn/anaconda3/envs/fastai/lib/python3.6/_weakrefset.py\", line 60, in __iter__\n",
      "    for itemref in self.data:\n",
      "RuntimeError: Set changed size during iteration\n",
      "\n",
      "Exception in thread Thread-6:\n",
      "Traceback (most recent call last):\n",
      "  File \"/home/bmn/anaconda3/envs/fastai/lib/python3.6/threading.py\", line 916, in _bootstrap_inner\n",
      "    self.run()\n",
      "  File \"/home/bmn/anaconda3/envs/fastai/lib/python3.6/site-packages/tqdm/_tqdm.py\", line 144, in run\n",
      "    for instance in self.tqdm_cls._instances:\n",
      "  File \"/home/bmn/anaconda3/envs/fastai/lib/python3.6/_weakrefset.py\", line 60, in __iter__\n",
      "    for itemref in self.data:\n",
      "RuntimeError: Set changed size during iteration\n",
      "\n"
     ]
    },
    {
     "name": "stdout",
     "output_type": "stream",
     "text": [
      "[ 0.       0.71181  0.38996  0.87647]                        \n",
      "[ 1.       0.4987   0.33829  0.8916 ]                        \n",
      "[ 2.       0.45136  0.32376  0.90039]                        \n",
      "[ 3.       0.35559  0.31249  0.89779]                        \n",
      "[ 4.       0.33732  0.32538  0.89551]                        \n",
      "\n"
     ]
    }
   ],
   "source": [
    "learn.fit(1e-2, 5)"
   ]
  },
  {
   "cell_type": "code",
   "execution_count": 10,
   "metadata": {
    "scrolled": false
   },
   "outputs": [
    {
     "data": {
      "application/vnd.jupyter.widget-view+json": {
       "model_id": "0d187807d5c546289d7dd1d0aca94704",
       "version_major": 2,
       "version_minor": 0
      },
      "text/plain": [
       "A Jupyter Widget"
      ]
     },
     "metadata": {},
     "output_type": "display_data"
    },
    {
     "name": "stdout",
     "output_type": "stream",
     "text": [
      "  0%|          | 1/512 [00:00<04:24,  1.93it/s, loss=0.697]"
     ]
    },
    {
     "name": "stderr",
     "output_type": "stream",
     "text": [
      "/home/bmn/anaconda3/envs/fastai/lib/python3.6/site-packages/torch/nn/modules/container.py:72: UserWarning: Implicit dimension choice for log_softmax has been deprecated. Change the call to include dim=X as an argument.\n",
      "  input = module(input)\n"
     ]
    },
    {
     "name": "stdout",
     "output_type": "stream",
     "text": [
      "[ 0.       0.42931  0.29581  0.90869]                        \n",
      "[ 1.       0.38918  0.27946  0.91357]                        \n",
      "[ 2.       0.36557  0.28564  0.90869]                        \n",
      "[ 3.       0.32716  0.29681  0.90967]                        \n",
      "[ 4.       0.29095  0.28576  0.9082 ]                        \n",
      "\n"
     ]
    }
   ],
   "source": [
    "learn.precompute = False\n",
    "learn.fit(1e-2, 5, cycle_len=1)"
   ]
  },
  {
   "cell_type": "code",
   "execution_count": 11,
   "metadata": {},
   "outputs": [],
   "source": [
    "learn.save('dogbreed_299_resnext_pre_differential_lr')"
   ]
  },
  {
   "cell_type": "code",
   "execution_count": 14,
   "metadata": {},
   "outputs": [
    {
     "data": {
      "application/vnd.jupyter.widget-view+json": {
       "model_id": "2d20a272dbca4f5c907aea2526282bc7",
       "version_major": 2,
       "version_minor": 0
      },
      "text/plain": [
       "A Jupyter Widget"
      ]
     },
     "metadata": {},
     "output_type": "display_data"
    },
    {
     "name": "stdout",
     "output_type": "stream",
     "text": [
      "\n"
     ]
    }
   ],
   "source": [
    "learn.set_data(get_data(299, bs))\n",
    "learn.freeze()"
   ]
  },
  {
   "cell_type": "code",
   "execution_count": 14,
   "metadata": {},
   "outputs": [],
   "source": [
    "# learn.save('dogbreed_299_resnext_pre_differential_lr')\n",
    "learn.load('dogbreed_299_resnext_pre_differential_lr')"
   ]
  },
  {
   "cell_type": "code",
   "execution_count": 15,
   "metadata": {
    "scrolled": true
   },
   "outputs": [
    {
     "data": {
      "application/vnd.jupyter.widget-view+json": {
       "model_id": "3f22c4ccd2c2474480184f8782b9c45a",
       "version_major": 2,
       "version_minor": 0
      },
      "text/plain": [
       "A Jupyter Widget"
      ]
     },
     "metadata": {},
     "output_type": "display_data"
    },
    {
     "name": "stdout",
     "output_type": "stream",
     "text": [
      "  0%|          | 1/293 [00:00<04:23,  1.11it/s, loss=0.19]"
     ]
    },
    {
     "name": "stderr",
     "output_type": "stream",
     "text": [
      "/home/bmn/anaconda3/envs/fastai/lib/python3.6/site-packages/torch/nn/modules/container.py:72: UserWarning: Implicit dimension choice for log_softmax has been deprecated. Change the call to include dim=X as an argument.\n",
      "  input = module(input)\n"
     ]
    },
    {
     "name": "stdout",
     "output_type": "stream",
     "text": [
      "[ 0.       0.29714  0.24583  0.92759]                        \n",
      "[ 1.       0.40986  0.24652  0.9183 ]                        \n",
      "[ 2.       0.33729  0.24857  0.92417]                        \n",
      "\n"
     ]
    }
   ],
   "source": [
    "learn.fit(1e-2, 3, cycle_len=1)"
   ]
  },
  {
   "cell_type": "code",
   "execution_count": 14,
   "metadata": {},
   "outputs": [],
   "source": [
    "learn.save('dogbreed_299_resnext_pre_differential_lr')"
   ]
  },
  {
   "cell_type": "code",
   "execution_count": null,
   "metadata": {
    "scrolled": true
   },
   "outputs": [],
   "source": [
    "learn.load('dogbreed_299_resnext_pre_differential_lr')"
   ]
  },
  {
   "cell_type": "code",
   "execution_count": 12,
   "metadata": {
    "scrolled": false
   },
   "outputs": [
    {
     "data": {
      "application/vnd.jupyter.widget-view+json": {
       "model_id": "a2e284b49a5549aca05bb3c2b44e6a1d",
       "version_major": 2,
       "version_minor": 0
      },
      "text/plain": [
       "A Jupyter Widget"
      ]
     },
     "metadata": {},
     "output_type": "display_data"
    },
    {
     "name": "stdout",
     "output_type": "stream",
     "text": [
      "\r",
      "  0%|          | 0/512 [00:00<?, ?it/s]"
     ]
    },
    {
     "name": "stderr",
     "output_type": "stream",
     "text": [
      "/home/bmn/anaconda3/envs/fastai/lib/python3.6/site-packages/torch/nn/modules/container.py:72: UserWarning: Implicit dimension choice for log_softmax has been deprecated. Change the call to include dim=X as an argument.\n",
      "  input = module(input)\n"
     ]
    },
    {
     "name": "stdout",
     "output_type": "stream",
     "text": [
      "[ 0.       0.31767  0.30625  0.90576]                        \n",
      "\n",
      "CPU times: user 7min 4s, sys: 20.2 s, total: 7min 24s\n",
      "Wall time: 3min 15s\n"
     ]
    }
   ],
   "source": [
    "learn.unfreeze()\n",
    "learn.bn_freeze(True)\n",
    "%time learn.fit([1e-5, 1e-4, 1e-2], 1, cycle_len=1)"
   ]
  },
  {
   "cell_type": "code",
   "execution_count": null,
   "metadata": {},
   "outputs": [
    {
     "data": {
      "application/vnd.jupyter.widget-view+json": {
       "model_id": "23f159c43f64499a8af5b786b3cf37ca",
       "version_major": 2,
       "version_minor": 0
      },
      "text/plain": [
       "A Jupyter Widget"
      ]
     },
     "metadata": {},
     "output_type": "display_data"
    },
    {
     "name": "stdout",
     "output_type": "stream",
     "text": [
      "\r",
      "  0%|          | 0/512 [00:00<?, ?it/s]"
     ]
    },
    {
     "name": "stderr",
     "output_type": "stream",
     "text": [
      "/home/bmn/anaconda3/envs/fastai/lib/python3.6/site-packages/torch/nn/modules/container.py:72: UserWarning: Implicit dimension choice for log_softmax has been deprecated. Change the call to include dim=X as an argument.\n",
      "  input = module(input)\n"
     ]
    },
    {
     "name": "stdout",
     "output_type": "stream",
     "text": [
      "[  0.00000e+00   3.25355e+27   2.69875e+27   9.76600e-03]       \n",
      "  7%|▋         | 36/512 [00:13<02:59,  2.65it/s, loss=5.86e+27]"
     ]
    }
   ],
   "source": [
    "learn.precompute=False\n",
    "learn.fit(1e-2, 5, cycle_len=1)"
   ]
  },
  {
   "cell_type": "code",
   "execution_count": 26,
   "metadata": {},
   "outputs": [],
   "source": [
    "learn.freeze()"
   ]
  },
  {
   "cell_type": "code",
   "execution_count": 16,
   "metadata": {},
   "outputs": [
    {
     "data": {
      "application/vnd.jupyter.widget-view+json": {
       "model_id": "a23f0af1c3af435dbf09ced4b66ab658",
       "version_major": 2,
       "version_minor": 0
      },
      "text/plain": [
       "A Jupyter Widget"
      ]
     },
     "metadata": {},
     "output_type": "display_data"
    },
    {
     "name": "stdout",
     "output_type": "stream",
     "text": [
      "  0%|          | 0/293 [00:01<?, ?it/s, loss=0.168]"
     ]
    },
    {
     "name": "stderr",
     "output_type": "stream",
     "text": [
      "/home/bmn/anaconda3/envs/fastai/lib/python3.6/site-packages/torch/nn/modules/container.py:72: UserWarning: Implicit dimension choice for log_softmax has been deprecated. Change the call to include dim=X as an argument.\n",
      "  input = module(input)\n"
     ]
    },
    {
     "name": "stdout",
     "output_type": "stream",
     "text": [
      "[ 0.       0.28778  0.23749  0.92368]                        \n",
      "[ 1.       0.37317  0.24873  0.91928]                        \n",
      "[ 2.       0.27177  0.24645  0.92466]                        \n",
      "[ 3.       0.27153  0.26103  0.91683]                        \n",
      "[ 4.       0.26659  0.24944  0.92368]                        \n",
      "[ 5.       0.24938  0.23721  0.92661]                        \n",
      "[ 6.       0.24254  0.23708  0.92661]                        \n",
      "\n"
     ]
    }
   ],
   "source": [
    "learn.fit(1e-2, 3, cycle_len=1, cycle_mult=2)"
   ]
  },
  {
   "cell_type": "code",
   "execution_count": 28,
   "metadata": {},
   "outputs": [],
   "source": [
    "learn.save('dogbreed_299_resnext_post_differential_lr')"
   ]
  },
  {
   "cell_type": "code",
   "execution_count": 29,
   "metadata": {
    "scrolled": false
   },
   "outputs": [
    {
     "data": {
      "application/vnd.jupyter.widget-view+json": {
       "model_id": "fafc3253f3cd4566bb7f4fcc425afd60",
       "version_major": 2,
       "version_minor": 0
      },
      "text/plain": [
       "A Jupyter Widget"
      ]
     },
     "metadata": {},
     "output_type": "display_data"
    },
    {
     "name": "stdout",
     "output_type": "stream",
     "text": [
      "\r",
      "  0%|          | 0/293 [00:00<?, ?it/s]"
     ]
    },
    {
     "name": "stderr",
     "output_type": "stream",
     "text": [
      "/home/bmn/anaconda3/envs/fastai/lib/python3.6/site-packages/torch/nn/modules/container.py:72: UserWarning: Implicit dimension choice for log_softmax has been deprecated. Change the call to include dim=X as an argument.\n",
      "  input = module(input)\n"
     ]
    },
    {
     "name": "stdout",
     "output_type": "stream",
     "text": [
      "[ 0.       0.33069  0.25178  0.92172]                        \n",
      "[ 1.       0.21445  0.24171  0.92564]                        \n",
      "[ 2.       0.23283  0.25192  0.92123]                        \n",
      "[ 3.       0.23341  0.24152  0.92612]                        \n",
      "[ 4.       0.23494  0.24155  0.92906]                        \n",
      "[ 5.       0.20339  0.24405  0.92955]                        \n",
      "\n"
     ]
    }
   ],
   "source": [
    "learn.fit(1e-2, 2, cycle_mult=2, cycle_len=2)"
   ]
  },
  {
   "cell_type": "code",
   "execution_count": 30,
   "metadata": {
    "scrolled": false
   },
   "outputs": [
    {
     "name": "stderr",
     "output_type": "stream",
     "text": [
      "/home/bmn/anaconda3/envs/fastai/lib/python3.6/site-packages/torch/nn/modules/container.py:72: UserWarning: Implicit dimension choice for log_softmax has been deprecated. Change the call to include dim=X as an argument.\n",
      "  input = module(input)\n"
     ]
    },
    {
     "name": "stdout",
     "output_type": "stream",
     "text": [
      "CPU times: user 7min 11s, sys: 19.1 s, total: 7min 30s\n",
      "Wall time: 1min 53s\n"
     ]
    },
    {
     "data": {
      "text/plain": [
       "(0.23763760957244082, 0.93248532289628183)"
      ]
     },
     "execution_count": 30,
     "metadata": {},
     "output_type": "execute_result"
    }
   ],
   "source": [
    "%time log_preds, y = learn.TTA()\n",
    "metrics.log_loss(y, np.exp(log_preds)), accuracy(log_preds, y)\n",
    "# probs = np.exp(log_preds)"
   ]
  },
  {
   "cell_type": "code",
   "execution_count": 31,
   "metadata": {},
   "outputs": [],
   "source": [
    "learn.save('dogbreed_299_resnext_post_differential_lr')"
   ]
  },
  {
   "cell_type": "code",
   "execution_count": 32,
   "metadata": {},
   "outputs": [
    {
     "name": "stderr",
     "output_type": "stream",
     "text": [
      "/home/bmn/anaconda3/envs/fastai/lib/python3.6/site-packages/torch/nn/modules/container.py:72: UserWarning: Implicit dimension choice for log_softmax has been deprecated. Change the call to include dim=X as an argument.\n",
      "  input = module(input)\n"
     ]
    },
    {
     "name": "stdout",
     "output_type": "stream",
     "text": [
      "CPU times: user 41min 21s, sys: 1min 51s, total: 43min 13s\n",
      "Wall time: 13min 18s\n"
     ]
    }
   ],
   "source": [
    "%time test_log_preds, y = learn.TTA(is_test=True)\n",
    "# metrics.log_loss(y, np.exp(log_preds)), accuracy(log_preds, y)\n",
    "probs = np.exp(test_log_preds)"
   ]
  },
  {
   "cell_type": "code",
   "execution_count": 33,
   "metadata": {},
   "outputs": [],
   "source": [
    "preds = np.argmax(test_log_preds, axis=1)\n",
    "probs = np.exp(test_log_preds)"
   ]
  },
  {
   "cell_type": "code",
   "execution_count": 34,
   "metadata": {},
   "outputs": [],
   "source": [
    "from sklearn.metrics import confusion_matrix\n",
    "cm = confusion_matrix(y, preds)"
   ]
  },
  {
   "cell_type": "code",
   "execution_count": 35,
   "metadata": {},
   "outputs": [
    {
     "name": "stdout",
     "output_type": "stream",
     "text": [
      "[[14  0  0 ...,  0  0  0]\n",
      " [ 0 24  0 ...,  0  0  0]\n",
      " [ 0  0 15 ...,  0  0  0]\n",
      " ..., \n",
      " [ 0  0  0 ..., 16  0  0]\n",
      " [ 0  0  0 ...,  0 14  0]\n",
      " [ 0  0  0 ...,  0  0 13]]\n"
     ]
    },
    {
     "data": {
      "image/png": "[encoded data removed]",
      "text/plain": [
       "<matplotlib.figure.Figure at 0x7f9dc0734588>"
      ]
     },
     "metadata": {},
     "output_type": "display_data"
    }
   ],
   "source": [
    "plot_confusion_matrix(cm, data.classes)"
   ]
  },
  {
   "cell_type": "code",
   "execution_count": 46,
   "metadata": {
    "scrolled": false
   },
   "outputs": [
    {
     "name": "stderr",
     "output_type": "stream",
     "text": [
      "/home/bmn/anaconda3/envs/fastai/lib/python3.6/site-packages/torch/nn/modules/container.py:72: UserWarning: Implicit dimension choice for log_softmax has been deprecated. Change the call to include dim=X as an argument.\n",
      "  input = module(input)\n"
     ]
    },
    {
     "name": "stdout",
     "output_type": "stream",
     "text": [
      "CPU times: user 37min 15s, sys: 2min 54s, total: 40min 10s\n",
      "Wall time: 11min 56s\n"
     ]
    }
   ],
   "source": [
    "%time log_preds, y = learn.TTA(is_test=True)"
   ]
  },
  {
   "cell_type": "code",
   "execution_count": 55,
   "metadata": {},
   "outputs": [],
   "source": [
    "probs = np.exp(log_preds)"
   ]
  },
  {
   "cell_type": "code",
   "execution_count": 28,
   "metadata": {
    "scrolled": true
   },
   "outputs": [
    {
     "data": {
      "image/png": "[encoded data removed]",
      "text/plain": [
       "<matplotlib.figure.Figure at 0x7fe3261888d0>"
      ]
     },
     "metadata": {},
     "output_type": "display_data"
    }
   ],
   "source": [
    "#2:05:20\n",
    "learn.sched.plot_loss()"
   ]
  },
  {
   "cell_type": "code",
   "execution_count": 48,
   "metadata": {},
   "outputs": [
    {
     "data": {
      "text/plain": [
       "['test/2ce015d0d017c595bb64627a5749e3bd.jpg',\n",
       " 'test/5bad43e776606caab0912c9e7f0e75ff.jpg',\n",
       " 'test/89357a5cef0812f2ba888041de62a243.jpg',\n",
       " 'test/b8da90f454f62fb33c83715a404aca3b.jpg',\n",
       " 'test/000621fb3cbb32d8935728e48679680e.jpg',\n",
       " 'test/00102ee9d8eb90812350685311fe5890.jpg',\n",
       " 'test/0012a730dfa437f5f3613fb75efcd4ce.jpg',\n",
       " 'test/001510bc8570bbeee98c8d80c8a95ec1.jpg',\n",
       " 'test/001a5f3114548acdefa3d4da05474c2e.jpg',\n",
       " 'test/00225dcd3e4d2410dd53239f95c0352f.jpg',\n",
       " 'test/002c2a3117c2193b4d26400ce431eebd.jpg',\n",
       " 'test/002c58d413a521ae8d1a5daeb35fc803.jpg',\n",
       " 'test/002f80396f1e3db687c5932d7978b196.jpg',\n",
       " 'test/0036c6bcec6031be9e62a257b1c3c442.jpg',\n",
       " 'test/0041940322116ae58c38130f5a6f71f9.jpg',\n",
       " 'test/0042d6bf3e5f3700865886db32689436.jpg',\n",
       " 'test/00485d47de966a9437ad3b33ac193b6f.jpg',\n",
       " 'test/00496f65de6cc319145ce97bd6e90360.jpg',\n",
       " 'test/004bf14426d1a830d459a9e0c0721309.jpg',\n",
       " 'test/004c3721eb88358f462cdcec6b2380b7.jpg',\n",
       " 'test/00559f56aab7e0a7749220f6aed65162.jpg',\n",
       " 'test/005b281f1a4d6f29d527c9585e9bd33c.jpg',\n",
       " 'test/005b6c6c76fefd6b458ef6fb6e54da6e.jpg',\n",
       " 'test/006870b49353779b25eeb91fed43c31a.jpg',\n",
       " 'test/0068f3a21b159ece126a28580cdad7a0.jpg',\n",
       " 'test/0069b1cc4546fc98f84f981bf9a0696a.jpg',\n",
       " 'test/0077bc3c63486ff09d3774d956af8f76.jpg',\n",
       " 'test/00780e5d2bf4f7e4b5f96d08ddde669a.jpg',\n",
       " 'test/0081831ceb49cd64212c32b884036b82.jpg',\n",
       " 'test/00846c0edd5aa4f10ee5e9b84d7310a6.jpg',\n",
       " 'test/0092bd9e90a13403373fc0e9e1218938.jpg',\n",
       " 'test/009a3c4f6626e4750f74ceb8e8ed8760.jpg',\n",
       " 'test/00a3edd22dc7859c487a64777fc8d093.jpg',\n",
       " 'test/00a558277e1f03b71d8c813e03344ddf.jpg',\n",
       " 'test/00a6892e5c7f92c1f465e213fd904582.jpg',\n",
       " 'test/00b29dbc49177cd4faeac3c485330af9.jpg',\n",
       " 'test/00b43aa6064fa6733a391d41fe4c6803.jpg',\n",
       " 'test/00b965deff7c711cfeaa927ce52f8653.jpg',\n",
       " 'test/00bbbcb2bf285af6304bd4da0c10299e.jpg',\n",
       " 'test/00bbfaa5b2bff32a3dc8ce1563e484a3.jpg',\n",
       " 'test/00c610a43b661e4fc612d06db96ce258.jpg',\n",
       " 'test/00c6e480ca61e3d2da272d7b6bee0a9e.jpg',\n",
       " 'test/00d3ae5326883e4330fd4af3db8f2997.jpg',\n",
       " 'test/00d6e16493e6af2886292fa8823bdfe0.jpg',\n",
       " 'test/00d9537c197b7c4c4cdbd5d03c34b58a.jpg',\n",
       " 'test/00e3fd599b69899cba0a4939f66a1745.jpg',\n",
       " 'test/00e51308952848ae67b3ff8b53895119.jpg',\n",
       " 'test/00e71e327e114433191f34054c6bf6f5.jpg',\n",
       " 'test/00e7391275cb71dd573ad429d3d933d6.jpg',\n",
       " 'test/00e98b2021242014c466574d5b6ebc0c.jpg',\n",
       " 'test/00fe03513ca95a133d4ad7cbbdc1da28.jpg',\n",
       " 'test/00ff1cba799d51b0042915e33a823b28.jpg',\n",
       " 'test/0110fb82ad93572bd6f5dae4b048037d.jpg',\n",
       " 'test/011891ea9c5d8f160e21daa97f774e7f.jpg',\n",
       " 'test/012ca7efe684c5cdfb83f35e8fbafe1b.jpg',\n",
       " 'test/0130e4d83375e4b33a6db2c2b59324d5.jpg',\n",
       " 'test/01335e3d4849ec81cc1578aa915227b9.jpg',\n",
       " 'test/0137b490cbe148729cdff53326a41504.jpg',\n",
       " 'test/0138c08d1623fc7c8e8ece99ca1ce78e.jpg',\n",
       " 'test/013c030b78079c77fbe8133d74d58acd.jpg',\n",
       " 'test/013c469ce5bd1117b248883dee30a38d.jpg',\n",
       " 'test/0143aa47cc7cb5926cc32daf3a6a3b3d.jpg',\n",
       " 'test/014da249523b906a840f8c33ae055cf3.jpg',\n",
       " 'test/015a6039ba5ca1a76b7f856c654ee9a1.jpg',\n",
       " 'test/01641548f4a2988ee7a2ec783d177a98.jpg',\n",
       " 'test/0169ed6715e26c0c5fb460941c8d3bee.jpg',\n",
       " 'test/017aa2284919402a4da3032182417622.jpg',\n",
       " 'test/018103a0629c87eeba67eda67c235cb7.jpg',\n",
       " 'test/0187ee2ec2367ed4fd060cca9681742a.jpg',\n",
       " 'test/019545d00bc1a0641d7471c1afde42c4.jpg',\n",
       " 'test/0196984af8d9e25aaff3dd2a9df372fa.jpg',\n",
       " 'test/01b09dccd56851eadb6ac3f2add3c822.jpg',\n",
       " 'test/01b2d28b2d793d02043220cb469d87e5.jpg',\n",
       " 'test/01b52961a39ed2f83e5b18ca9e069850.jpg',\n",
       " 'test/01b6b6a0a6fddda170de5b1db776326a.jpg',\n",
       " 'test/01b7405f4c920e98e0a462f3a99b542c.jpg',\n",
       " 'test/004476c96f575879af4af471af65cae8.jpg',\n",
       " 'test/007ed71136966728f5c0936e23c8286b.jpg',\n",
       " 'test/00c14d34a725db12068402e4ce714d4c.jpg',\n",
       " 'test/010a0d3eb52479f4af474662ee0f67ee.jpg',\n",
       " 'test/015a6a8a46302983fad0e5ea258b351a.jpg',\n",
       " 'test/01b77c99d6ecf7aee49c8ec326bcb07c.jpg',\n",
       " 'test/0201de3d74ad48774e0bd55d04d2966d.jpg',\n",
       " 'test/02653e78d9f92bfcf002bd51395b65b7.jpg',\n",
       " 'test/02bddf9bf24c6c04e2177d57e23040b1.jpg',\n",
       " 'test/02effd5d2e24c8388c716e172261606e.jpg',\n",
       " 'test/03461e6eb363992db018686fc1986452.jpg',\n",
       " 'test/01c5377f30398c17dd5b23a32fa66760.jpg',\n",
       " 'test/01cb4c4d181a23e157429168e948fe5a.jpg',\n",
       " 'test/01cb83d33e905e825df41b88dd4ef277.jpg',\n",
       " 'test/01cd792c6360ff9300ca60be40487549.jpg',\n",
       " 'test/01ce0bd1dff470548ac5c5122aa2d44f.jpg',\n",
       " 'test/01d333d5c288be97bffd76005f559f41.jpg',\n",
       " 'test/01d5ffa4de01074483149bec0f6e5a59.jpg',\n",
       " 'test/01d9fc5195f7cd2ca9e12b9c9e3eaca2.jpg',\n",
       " 'test/01deef5e85f2573f4689780b94aa58c0.jpg',\n",
       " 'test/01df86b786d0a5b4cde3713a1314ceaf.jpg',\n",
       " 'test/01f3be56aaa63fb47fd576a17f1f60b6.jpg',\n",
       " 'test/01fc8d4fec16bb8dcb5a0e60db1dc7fb.jpg',\n",
       " 'test/02094b19b383b85741353fc00c085895.jpg',\n",
       " 'test/020999e4f2b9509d90a59de565a0c723.jpg',\n",
       " 'test/020d14c04769cdc0aba82befd41816da.jpg',\n",
       " 'test/02113c6c2c25cb7bfe1d743c17a93b0d.jpg',\n",
       " 'test/021ad1825ea4fc5c0af6edc805fbcb8e.jpg',\n",
       " 'test/02215f26ca6ece8786daecc15c60e774.jpg',\n",
       " 'test/0223272e92ee6b7e9fc4cf48dbd7d167.jpg',\n",
       " 'test/023c0a9675c4e09e7de76be0fad3d52f.jpg',\n",
       " 'test/0243ae2c5882404028214ebc9806b453.jpg',\n",
       " 'test/0248cea990be4ebfbbba3c584f43a645.jpg',\n",
       " 'test/025156133d8d8700f6c7027371b1b8e0.jpg',\n",
       " 'test/0259f8dda68116cff1170758a5fea1db.jpg',\n",
       " 'test/026fd54ef87fdc261fb0fb49cddfddd1.jpg',\n",
       " 'test/0277800862437e1e637bc6e73a928b96.jpg',\n",
       " 'test/02804190c4ffc82b073d9f0036f66bc6.jpg',\n",
       " 'test/028bd6c628883784fd39841e9e26a02c.jpg',\n",
       " 'test/028f76e33c078292b0f5687a7179f15e.jpg',\n",
       " 'test/0292b3dfcab314b7b2bf705f80565508.jpg',\n",
       " 'test/0298eb3d74444d2c405639d51c220bc2.jpg',\n",
       " 'test/02a3052cd5eaf8af934c30bffbd268d3.jpg',\n",
       " 'test/02ad3d182823ba4055223ab2cf7d2ef9.jpg',\n",
       " 'test/02b0ccb5d316cf4662e8784a68e7a3d2.jpg',\n",
       " 'test/02b9adaa40397a4977b9646cc6c939dc.jpg',\n",
       " 'test/02bac257d1266986775db090b547123f.jpg',\n",
       " 'test/02c0b96061207aabfb04efe8b969feca.jpg',\n",
       " 'test/02cc60bd987fc625224fa28da98f1fac.jpg',\n",
       " 'test/02ce818b70734ce460d0ffc47e6b9682.jpg',\n",
       " 'test/02d4d079928a6435f1154b35d97e0f7f.jpg',\n",
       " 'test/02d71ba8d4464a641ccf16814ba1558b.jpg',\n",
       " 'test/02db0128479b6544c07b3ed247ebc937.jpg',\n",
       " 'test/02e34caac2af8f176f1a0f864e111f61.jpg',\n",
       " 'test/02e513d277125b33ecfac5944dcc8bdb.jpg',\n",
       " 'test/02e9084491b5bad9e905dfef50a85be7.jpg',\n",
       " 'test/02ea6166d772f24caf112171fabd1011.jpg',\n",
       " 'test/02ec16651b25ff76fd995f70a18a56d7.jpg',\n",
       " 'test/02efe659755a4c9d2da69035c43fa5fb.jpg',\n",
       " 'test/02f7caf2655b4b2e31aae3eb63f482e3.jpg',\n",
       " 'test/0308b64972608efa38a5a6b8fc481ba8.jpg',\n",
       " 'test/030e2fa57c7321bd36e7b8c1da96e10b.jpg',\n",
       " 'test/0310279723a11838ba4590b2e25ab4f0.jpg',\n",
       " 'test/03205e3e568c87e1568a8415272a8da4.jpg',\n",
       " 'test/0327f511c69dd282bf222f74c7861674.jpg',\n",
       " 'test/03281ed4ff1f0f4265d9f3d9940a839e.jpg',\n",
       " 'test/0328ce0d5f48e3dbaef86e830e2e9241.jpg',\n",
       " 'test/032b031f2c08f87b76608b2c19851725.jpg',\n",
       " 'test/032b415cb78da68bc4cb6fc86547b310.jpg',\n",
       " 'test/03320bdf508289b449b8cad06fb34bcf.jpg',\n",
       " 'test/033410aef5def3da55d9f0057b46d7a2.jpg',\n",
       " 'test/0348bdc26f3ddab7bb839fe245f9062f.jpg',\n",
       " 'test/034beab81ed7a5806e3324a08b89b60b.jpg',\n",
       " 'test/03522703178358081aa1775e69d2b891.jpg',\n",
       " 'test/0352bccf264c3928f2b60c6bf20208f9.jpg',\n",
       " 'test/035360df46ab0b91629423b0c1104fe2.jpg',\n",
       " 'test/035cd6cf8f1719fb7e29279610bbe9a3.jpg',\n",
       " 'test/036205f601ec9fc663c913fdb92fa012.jpg',\n",
       " 'test/036a43c7c11584469998cd47c1f27f03.jpg',\n",
       " 'test/036da4b340288c17e5f7f60d2e09a530.jpg',\n",
       " 'test/03700033c5426871aef41ec4b88ff8ec.jpg',\n",
       " 'test/03756256e62264c41917230686526f34.jpg',\n",
       " 'test/037afe7f3a0c7a7fb07e3b07cc5b187d.jpg',\n",
       " 'test/038c1c66830a013735970ebed41b2c84.jpg',\n",
       " 'test/039014444919fd5af1d6a33e82a7c0ae.jpg',\n",
       " 'test/0398565dfe69896dca15f8d18a194d85.jpg',\n",
       " 'test/039af4fb60da073f735372d28e0b44c2.jpg',\n",
       " 'test/03a5b7602a741f9c4b5e2afcade4968e.jpg',\n",
       " 'test/03a6a16f43df5f175d99cff6b2bf62bc.jpg',\n",
       " 'test/03a6a4c713d657d53a804ebe1fb2b02c.jpg',\n",
       " 'test/03a6fb1fa2d7812587004a60ade66fed.jpg',\n",
       " 'test/03aeba655b1ad29b77991e44d0230a95.jpg',\n",
       " 'test/03af4f193acc5c87c79b9c8aabcafc7c.jpg',\n",
       " 'test/03af64f714d918ca61ba22d011816beb.jpg',\n",
       " 'test/03b2345b235cda7611adda97fedfd5b5.jpg',\n",
       " 'test/03b9fadcc1d3f7814294924f20619227.jpg',\n",
       " 'test/03bb0c67dce7792133b3ca579992d370.jpg',\n",
       " 'test/03be4f5a87ec964230a128664c67ca92.jpg',\n",
       " 'test/03c10d7392570e61b4ca96dab7808b33.jpg',\n",
       " 'test/03cd468831ad32cd337a73a7bde9dafa.jpg',\n",
       " 'test/03d495a97c75d45a069d5b86af52197f.jpg',\n",
       " 'test/03f3173218d97d4e386d2daf76622ffe.jpg',\n",
       " 'test/03f71314095db3cb0baadd1a4123ace5.jpg',\n",
       " 'test/04042019929218a5d9ba73e4e568f397.jpg',\n",
       " 'test/0415a2754ad5177df59e62a461604c14.jpg',\n",
       " 'test/041cf5964ef88d5a9bc2484c2fb35e19.jpg',\n",
       " 'test/042bfeb459b50977f590a341dfb20c93.jpg',\n",
       " 'test/0441fda84f1eab8ddc72a8262a66e626.jpg',\n",
       " 'test/0448e6bdef9a5b0e3748028a76c4dfb0.jpg',\n",
       " 'test/04495ca69f279d9b2c38af99670dbb56.jpg',\n",
       " 'test/044b55c0f3ddceb089854c891c1fc01b.jpg',\n",
       " 'test/0457c8590e1ade1797e9896346e8815f.jpg',\n",
       " 'test/045e084e6ca9f5af87fb0f033670621c.jpg',\n",
       " 'test/045e64275a84a8fef942704c046ad98b.jpg',\n",
       " 'test/0464d087e3f88c601758bd46acfb38a8.jpg',\n",
       " 'test/0467770f34410f3fafd2482342d69f77.jpg',\n",
       " 'test/04713db71e256ff9339b36f8005bae13.jpg',\n",
       " 'test/0476e431ee08d486f1175f1a401dfafc.jpg',\n",
       " 'test/04790ec052c44f082c7f99b1ff26a78c.jpg',\n",
       " 'test/048d0f89d66b8a2e7c2b2290f9325e7a.jpg',\n",
       " 'test/0491165f7caba51689465517c89ba6f5.jpg',\n",
       " 'test/049d9283a00a92897209b746362ae0a4.jpg',\n",
       " 'test/04a3ad7890ae7f47daf684021b741d60.jpg',\n",
       " 'test/04b1c700d0afa863c570bacce1fe5512.jpg',\n",
       " 'test/04b1d0a727b5e8a3e0580dbd52aba21a.jpg',\n",
       " 'test/04b9d32fffe1aeb7a22fde9bd859f18f.jpg',\n",
       " 'test/04c32040845967cee2d50a4d97fcd9bd.jpg',\n",
       " 'test/04c3801167f7055e2ed581e05be88902.jpg',\n",
       " 'test/04c7f6600b20b9255b04a76fe6e55023.jpg',\n",
       " 'test/04c946030025d1f2d2d3f5b158f9f30a.jpg',\n",
       " 'test/04d36eed15fe648c54a88e0b5c49deb2.jpg',\n",
       " 'test/04d5ea35b89c28e085a1923fd2370d67.jpg',\n",
       " 'test/04de2de8a19aedea44e26c6bf06923f5.jpg',\n",
       " 'test/04ec9d02010d787f46ded19a75429b8b.jpg',\n",
       " 'test/04ecb983b82a9fe8629ca78d15219adb.jpg',\n",
       " 'test/04ed8aeed03953dac6f575148bcb21e1.jpg',\n",
       " 'test/04fb867d6aa1f604d2146196580f209f.jpg',\n",
       " 'test/04fc2616e5e491538a989b7eb80d7860.jpg',\n",
       " 'test/0510df462ecb01edd8ab54deb566ddf6.jpg',\n",
       " 'test/05119632960d53cf29f9409de7694258.jpg',\n",
       " 'test/0518d41fa95b141f8267a3d2e2cef756.jpg',\n",
       " 'test/051c1add9677ef6d143bb2f3f84b0b43.jpg',\n",
       " 'test/051cd7e2894925acccc0afcd9b4dbfe0.jpg',\n",
       " 'test/0533f637900fd6c5a654ee50d3332ac3.jpg',\n",
       " 'test/0536a5378c2bb64f2d458b53994f1b32.jpg',\n",
       " 'test/0537a0ff8ec176736b1b005c08977684.jpg',\n",
       " 'test/054ac219ecd4e281c2cf1b2ee635bb99.jpg',\n",
       " 'test/054d889adc4050ca15d78e2cd2486d1e.jpg',\n",
       " 'test/0551436dc38f714b0444949cd6f46073.jpg',\n",
       " 'test/0551d6061247bb9cb351e94ae392d0ae.jpg',\n",
       " 'test/0552e89f6c0ffaaf0de95ee3fc40d68f.jpg',\n",
       " 'test/055cb4e6ba1540c275d6ccd2c0b52c27.jpg',\n",
       " 'test/055fff6a0ed209707c9b6467a7dd6cbd.jpg',\n",
       " 'test/0568885d3278881be3fa98b4b7e85efb.jpg',\n",
       " 'test/056eca95930e26c627c11e14cd9e1b3a.jpg',\n",
       " 'test/058088311a4ff2c40acd1648ed8363fd.jpg',\n",
       " 'test/058449b1062e42da9c45cb434c69d647.jpg',\n",
       " 'test/0584516c9a8865f4cd37f312ff710cbe.jpg',\n",
       " 'test/05863e46ff72f425fb9da5ffcef06c1c.jpg',\n",
       " 'test/058fa786a6a1132e61ba816471262f51.jpg',\n",
       " 'test/058fce4f4149de234daa00bdfd0f80ac.jpg',\n",
       " 'test/059e2ebb636a77c8f8acee87d52d4077.jpg',\n",
       " 'test/05a3c8bda27ea3fc224704ad70779913.jpg',\n",
       " 'test/05b192656006544dc5c12975546ba9db.jpg',\n",
       " 'test/05b5fae69139329bef42256d8dfdedba.jpg',\n",
       " 'test/05bb6919c2dc679ea70ffc632f68ee2b.jpg',\n",
       " 'test/05bf0e1ba6ac406b0881ca42bd9eea97.jpg',\n",
       " 'test/05d59b50dbf5846845aa3f704393477a.jpg',\n",
       " 'test/05e55165cd0b46a63020f8bfafe694e9.jpg',\n",
       " 'test/05e789faff69d1c30cda54e44d7f0059.jpg',\n",
       " 'test/05eb4d66296f21bc9782688414fdbe17.jpg',\n",
       " 'test/05ee6c4435fb7a602ba89659d5d3ad1a.jpg',\n",
       " 'test/05f2d8cdffa7c13db8940afa9a5fec10.jpg',\n",
       " 'test/05f3b87382efabd41d035224574623c3.jpg',\n",
       " 'test/05f560d4d947f07dcda5199191579122.jpg',\n",
       " 'test/05fba1b035d12542ad00a38461b10c17.jpg',\n",
       " 'test/0603b37c2d81e9ae2e50d68e0a29ffdb.jpg',\n",
       " 'test/0608afccc6d9b117730a2ffdb3314d18.jpg',\n",
       " 'test/0609652d9cc0aa749ec8995ca35fd370.jpg',\n",
       " 'test/06123f6d7878605bbe7b17ae80bac9b0.jpg',\n",
       " 'test/062258efb92f99896b96ddeb35b61dfe.jpg',\n",
       " 'test/06245dd80c187262e48f84b13d4b4dea.jpg',\n",
       " 'test/062aa6e6659df80de9399df3742acb98.jpg',\n",
       " 'test/062e065c77d4b759619612133e318dbe.jpg',\n",
       " 'test/0630bc53549c1169cb9c081907a8cb05.jpg',\n",
       " 'test/06356064e630ddcffe936df4c4ba0a6c.jpg',\n",
       " 'test/063ade625f86df218a08dc82ffa12c9d.jpg',\n",
       " 'test/064068bb6bbbba0d460155fd0e6db81e.jpg',\n",
       " 'test/06465c0f73b6cbc78bf6d809c7d63572.jpg',\n",
       " 'test/06482b717bf262e4da3f029d942c4de6.jpg',\n",
       " 'test/0651dce0bd91b1be37dca4299217b0bc.jpg',\n",
       " 'test/0656848af0bcfa6437e08a084baa1a48.jpg',\n",
       " 'test/0656e4606d4a98f2e8c8452416ac1ea0.jpg',\n",
       " 'test/0658d98859dbf3976a4a2008097e2dfb.jpg',\n",
       " 'test/065e0b70a690e06a826885b454622928.jpg',\n",
       " 'test/06603bac954d5a150ac83836f2bd6c9b.jpg',\n",
       " 'test/06644044c8bbdb99346813d4836aa7af.jpg',\n",
       " 'test/0664df7dcc26386a0adbfa3d875022be.jpg',\n",
       " 'test/066546afd3f63a7d3fd90c5a361ff527.jpg',\n",
       " 'test/066ff75ee40e88d2f0ae78b07935fa2c.jpg',\n",
       " 'test/067e053858f0cdbc2417c0ce58cdfafe.jpg',\n",
       " 'test/0684c3415499ddfd78e945c725066034.jpg',\n",
       " 'test/06884c40e2376b67269360f13ef71b85.jpg',\n",
       " 'test/06937730f6c9fbf37d2875c5f00940e3.jpg',\n",
       " 'test/06965d9a055465dc84fcb6e0b7814ece.jpg',\n",
       " 'test/069895f837ed5098e394b082609e94eb.jpg',\n",
       " 'test/069b5a158f61f32d6b43964395beaa49.jpg',\n",
       " 'test/069f97f28c811705453d84528a7af240.jpg',\n",
       " 'test/06a141751c9327ab3afcdea3b0d92968.jpg',\n",
       " 'test/06aed832e3a1e4593a63e3b6490064d9.jpg',\n",
       " 'test/06b3a4da7b96404349e51551bf611551.jpg',\n",
       " 'test/06b727fc8e24e46fd7ea78b08091cab5.jpg',\n",
       " 'test/06be2fe757a1daa5fbcb51fdf2f5c613.jpg',\n",
       " 'test/06c5fbbfbd83eba3dd3993191df0f7ae.jpg',\n",
       " 'test/06c65731c3bb87dfadb14cbc4e7504c7.jpg',\n",
       " 'test/06d2d441aceceb5db8599311e8b1c4a3.jpg',\n",
       " 'test/06e39dddab2ff9c09b1e734b68bd219c.jpg',\n",
       " 'test/06e9d34793f7cb6915f3f2b2e6f7fabe.jpg',\n",
       " 'test/06eb6e8527837abe14e0c05b310a5de9.jpg',\n",
       " 'test/06ebeba909aa6f0c21eb28796a8d9fbb.jpg',\n",
       " 'test/06ecb29a374579fb320c1c7d2801cbe1.jpg',\n",
       " 'test/06ed14407c9ba6d19add971f9b730dd3.jpg',\n",
       " 'test/06fb0df3d5a54b2f8f4d9295c0c6f4d5.jpg',\n",
       " 'test/07078b939febab04a2b84cefb6f50dd8.jpg',\n",
       " 'test/0708b9e0cb58e97f01afc9033482f88a.jpg',\n",
       " 'test/071524aa73c1fa1fdd60aa54ebfd5719.jpg',\n",
       " 'test/0716352373a28d687d5df097512c5374.jpg',\n",
       " 'test/0716b7a11a2dd4141f3f1a8aa14eea2d.jpg',\n",
       " 'test/07217f9dab968cf02c4cb37acf2acc28.jpg',\n",
       " 'test/073b0f066231ef6c0b2a0e1142dae338.jpg',\n",
       " 'test/0745215532a68e30976e45ea0389ea61.jpg',\n",
       " 'test/07525d1433a6ea0cb8ef07baa6a392bf.jpg',\n",
       " 'test/075c02a433329d00eb726434d8431efd.jpg',\n",
       " 'test/076144231ddb6a687889696e1978edfc.jpg',\n",
       " 'test/0763ebab76bfd9cbfaac696cc604d35e.jpg',\n",
       " 'test/076a3243b06a0e4f304950c212ca5430.jpg',\n",
       " 'test/076bc1ea1425b47d2ed010c3fb3d8617.jpg',\n",
       " 'test/076d962aa496391d14bcf7dd8878a24c.jpg',\n",
       " 'test/0770fe4187dd10984ea1afa07757dc8c.jpg',\n",
       " 'test/03b4aee397e5dacdc21da01e5a5beeee.jpg',\n",
       " 'test/04378b6550e324c2edfe51a23ed2f2ee.jpg',\n",
       " 'test/04864e3dd820187bf2d0baba8b94554d.jpg',\n",
       " 'test/04d4dea3ff696392df705c3ef41f470b.jpg',\n",
       " 'test/05240d66709e32c9a6d41ce80f62ce33.jpg',\n",
       " 'test/058020dbdbd003cd198e88468b139013.jpg',\n",
       " 'test/05c32f1b14ec8971333500427eccd98c.jpg',\n",
       " 'test/060ee0b8632da146446eec70629904fa.jpg',\n",
       " 'test/0655d32154c2ea4f2c4715ad0ff00652.jpg',\n",
       " 'test/068a1de8f738cd6b99657974c84f5d40.jpg',\n",
       " 'test/06d0f5ea2a6042fa1dec8b734148edd0.jpg',\n",
       " 'test/077688a43b63922f7879b2fd66d32509.jpg',\n",
       " 'test/077b4c62007a362be52711169abfa4fd.jpg',\n",
       " 'test/077b4fc2385787eaad45dafe0a7a1a20.jpg',\n",
       " 'test/0782d774b978c07620c89cfcb6fb3b9a.jpg',\n",
       " 'test/078a52db2d156257696c771487a6a316.jpg',\n",
       " 'test/078f84bedc233aec44cad8a333be7e83.jpg',\n",
       " 'test/079a40f22b0fad9a66f76797b62bb930.jpg',\n",
       " 'test/079e0634a90b3de0e5c799dda0ca8fd3.jpg',\n",
       " 'test/079f17fc6713f7089e13d0e009bb62b4.jpg',\n",
       " 'test/07a61998ec9044e9c977274476e07681.jpg',\n",
       " 'test/07ad1a0d014793de8c2e104b801c6cda.jpg',\n",
       " 'test/07ad25df7e380e29aa4a5788a96cef73.jpg',\n",
       " 'test/07b9276c1a3b39979d0f75027fb10dc6.jpg',\n",
       " 'test/07be196f3517e9afe16c0ddc61824628.jpg',\n",
       " 'test/07cbc12094a8f4a54700054222a25da3.jpg',\n",
       " 'test/07ce92f83426286eaba1b9459d305fca.jpg',\n",
       " 'test/07d5ab48d42c8e67b8720ae221ad1962.jpg',\n",
       " 'test/07d94fdf5371753b114f7ce7505d0fe2.jpg',\n",
       " 'test/07d9d2f42eb35dd4d84b184abc4e8412.jpg',\n",
       " 'test/07e4edc428816ffe6b8dd1024bed2782.jpg',\n",
       " 'test/07e56f8e36196be69405e4c524c99b98.jpg',\n",
       " 'test/07e62ee044a6b7d6a45e92c65ff44f4e.jpg',\n",
       " 'test/07ec68dd37d6b9f89e551820f5ca946f.jpg',\n",
       " 'test/07eee2f7339d2ed306bfa6d032b1eee2.jpg',\n",
       " 'test/07f7c5497dd9bd91f62b7d292973393b.jpg',\n",
       " 'test/07fecc50840c8da8284ce5dc6552ae8e.jpg',\n",
       " 'test/07ff89277767ddc115adeee8a6f0ceec.jpg',\n",
       " 'test/080a64bd87b1e0f5c96b37acea9da4ee.jpg',\n",
       " 'test/08152b214c5b628d9e70f609230fd51c.jpg',\n",
       " 'test/0820dacdc8a994a932d0bae3abd0a15b.jpg',\n",
       " 'test/0821ea02386d4a714d7b6e39ee5e66e8.jpg',\n",
       " 'test/0823d77ad63ec4493ee762db7edd1ab0.jpg',\n",
       " 'test/0829420985a1d5b647b969d44af3e844.jpg',\n",
       " 'test/0829a60da0c03d84426d455ee8a8de24.jpg',\n",
       " 'test/082d768e587edd63163873ecf146de0b.jpg',\n",
       " 'test/083969d1802423c9d5b1a9f1bb613b67.jpg',\n",
       " 'test/083ee921f066ce08459cb978094fe2cb.jpg',\n",
       " 'test/084585fd8a9fcef3c7261669cacbc1be.jpg',\n",
       " 'test/0845cc245f85d15f4bbd847be7d28e8c.jpg',\n",
       " 'test/084a88db5888d01ee4cdc4607f461ee5.jpg',\n",
       " 'test/0854e34e53c9dd84579d4c37086dbdf5.jpg',\n",
       " 'test/085b91ca1ad46fcd9edd0edbe2b1385f.jpg',\n",
       " 'test/085ee840fecbb0fc74d69d7d8858ebf4.jpg',\n",
       " 'test/08615ed58e50996f7fb47f039e1a7101.jpg',\n",
       " 'test/08680f416f6cf8ab00fcdf51c217b5f7.jpg',\n",
       " 'test/0868fa59f5b4e8c92e3ea230cf912328.jpg',\n",
       " 'test/08699bdbc18bde158cdc4969b6c51d81.jpg',\n",
       " 'test/086a6fe01b1805017e8cef3c9ccb52ab.jpg',\n",
       " 'test/088463756041ddbc5f9b905b6ed9a940.jpg',\n",
       " 'test/088caa7edc676bfd9ecb154e1cb4d720.jpg',\n",
       " 'test/0890c992ea2d00c3c2de9e588081a3b9.jpg',\n",
       " 'test/089347d3bc5f6b4a4a7d38d10c8f5d90.jpg',\n",
       " 'test/08b34271d7d196d13bbeeea99504e099.jpg',\n",
       " 'test/08c1a66912af795920a43e563acfe5aa.jpg',\n",
       " 'test/08d5f16507943be640f4592c9d08a798.jpg',\n",
       " 'test/08db69ad154c401de7951c11a15ebf26.jpg',\n",
       " 'test/08db8163ff5451ae44b7496b5c9ee05a.jpg',\n",
       " 'test/08dc47beafdfdc5702dbf168c7eb3456.jpg',\n",
       " 'test/08f4ff17cc6bf754d798eb3b39fafebe.jpg',\n",
       " 'test/08f5846ac17ac1b421305a4cc82c6824.jpg',\n",
       " 'test/090179e04f4d8bf313d0fc97c1879b3f.jpg',\n",
       " 'test/0910c194c44f79721d282c8416016dab.jpg',\n",
       " 'test/0917cea14ed14bb43c7ca5ead4f38266.jpg',\n",
       " 'test/092376c380c9d09c4af6e98ef2278925.jpg',\n",
       " 'test/0925832e4d19da79b186f1fc89d59229.jpg',\n",
       " 'test/092b3603e559d05e09e226b56bf5f788.jpg',\n",
       " 'test/093429fa3735918cf4501c167b41aad1.jpg',\n",
       " 'test/093b8af8f6a470fe25730c1d1c891805.jpg',\n",
       " 'test/09427dd054f40eda66d2dc064822c9e6.jpg',\n",
       " 'test/094773990d99685caef6ffbb32e1a248.jpg',\n",
       " 'test/0952c09e62d7de5d54df49e5219517cb.jpg',\n",
       " 'test/0953e8a5ff606ad468a9113317627652.jpg',\n",
       " 'test/095aeed9500cd0916d0f8e0a39fd3677.jpg',\n",
       " 'test/095c7d9c973beb0e81bdd2fd7ad102cd.jpg',\n",
       " 'test/09612c47e84bcdf06c8e5a99ac1a8bd2.jpg',\n",
       " 'test/096660fd535bca4359ab3f19882aaaf5.jpg',\n",
       " 'test/09711f031a35c1c8eac66d3fa3cdb000.jpg',\n",
       " 'test/0980f210e23bf1d422f00f1a6f168d20.jpg',\n",
       " 'test/098bfb54af7aa639101b59206962e686.jpg',\n",
       " 'test/098f700ef2234a1ca91614ec51ce3c2b.jpg',\n",
       " 'test/099c7e227b6beaa4e87c893d25f56c63.jpg',\n",
       " 'test/09b770df98721d813129ba5c789b08a5.jpg',\n",
       " 'test/09be34319680d5e6a5608f74d4825271.jpg',\n",
       " 'test/09cbd98c55f58ad0535b5066c72e6e42.jpg',\n",
       " 'test/09d8b8ff0e64f4e8f908827efdd114ae.jpg',\n",
       " 'test/09db0bb220cdbbc0adca63e38e64ab38.jpg',\n",
       " 'test/09e339bf702691a9f75b0d30cfca4314.jpg',\n",
       " 'test/09e51e17e2b756ff2ace8a87bd1443fa.jpg',\n",
       " 'test/09ef5442c370eb7eeb08e6796c5ff5b5.jpg',\n",
       " 'test/09fddf304d2789cfbb55935237dbac13.jpg',\n",
       " 'test/0a01f3b0c6d250c08785716c562e2d4d.jpg',\n",
       " 'test/0a053ff8908375e9579ead9f3965e0ce.jpg',\n",
       " 'test/0a0b97441050bba8e733506de4655ea1.jpg',\n",
       " 'test/0a0f82d4557f70718efa26f8a8a7773f.jpg',\n",
       " 'test/0a1be1191b5c9d91392bb1e373600259.jpg',\n",
       " 'test/0a28fe94aa27ebd0fa587c8a474117a1.jpg',\n",
       " 'test/0a2b5dcf7aac8c4a282ed09b8b5e93f2.jpg',\n",
       " 'test/0a30903466bc4f7532843b0ccdd09e2a.jpg',\n",
       " 'test/0a342feb5c2100a12bcd15326cf266c6.jpg',\n",
       " 'test/0a3900f02e38cd042f23a6be538b95d6.jpg',\n",
       " 'test/0a3f1f6f5f0ede7ea6e27427994d5f62.jpg',\n",
       " 'test/0a4ef19459cd2100977b052de5f46231.jpg',\n",
       " 'test/0a50246e67da6ea8baa16d59a90810e8.jpg',\n",
       " 'test/0a50874d29b277cc889c0aa1cc8cd03c.jpg',\n",
       " 'test/0a51fbac72fac75df279e18e4b1c042f.jpg',\n",
       " 'test/0a54ce47525781f2caa66f65291dddf8.jpg',\n",
       " 'test/0a59d3205cff15e31ee30213b9988e7e.jpg',\n",
       " 'test/0a5b12a0f9fe595d6db6ee36b43725df.jpg',\n",
       " 'test/0a73cae7b4156ca912b24747880aeb65.jpg',\n",
       " 'test/0a7c46f223c4a4b7e7a2f25e8e023d73.jpg',\n",
       " 'test/0a859b76a52d4fac456653a1d45ddf3d.jpg',\n",
       " 'test/0a8d8dda0e354c0571c8d47600ab39a3.jpg',\n",
       " 'test/0a942a4a0b42a50c397ddce75ace89b0.jpg',\n",
       " 'test/0aa1ef16c5738686429329816f3eba76.jpg',\n",
       " 'test/0ab1253d4d22b51d057be123e1585429.jpg',\n",
       " 'test/0ab368e15107ceba01c03f37abf55e66.jpg',\n",
       " 'test/0ab5fe07cda87c279b880a445681ee86.jpg',\n",
       " 'test/0ab729417a79665dc0df24df7e8d000e.jpg',\n",
       " 'test/0ab808aa3571846e50ed74a204662c52.jpg',\n",
       " 'test/0ac820001998537915e7769da3746d27.jpg',\n",
       " 'test/0ada9d43a90298132d5c390f41af325f.jpg',\n",
       " 'test/0ae295e67635319202b6fbc2b0be2fcb.jpg',\n",
       " 'test/0ae4367c7f7149a43b0e5b1c07ce7ed9.jpg',\n",
       " 'test/0ae94221b81d49e01b8fae3dd0f4f882.jpg',\n",
       " 'test/0aedda5dba90a84794d461b6a2f3daec.jpg',\n",
       " 'test/0aee2e38a7ac39c80dbf0dbc81e830a5.jpg',\n",
       " 'test/0aef0a7e7a79092235213555be0e1f52.jpg',\n",
       " 'test/0afdd7296357eed0c69a63fb228645d1.jpg',\n",
       " 'test/0b0053a16fa3093c826e5211ee55a1d2.jpg',\n",
       " 'test/0b0411aa35fd85a85e504793064fc3de.jpg',\n",
       " 'test/0b0a5091be4e49c6b47192a0b88e32b6.jpg',\n",
       " 'test/0b13ba12e03f7d59a2ec9d72abcc64b3.jpg',\n",
       " 'test/0b246617d6e9e0898cad352a7d5cc82c.jpg',\n",
       " 'test/0b255f836ab0e2c1a76479588fb678b5.jpg',\n",
       " 'test/0b297c77f3c031ee31ae2095e6a72405.jpg',\n",
       " 'test/0b34da5b754b8600edf49e02ce365988.jpg',\n",
       " 'test/0b549d7b0a972428bfca5bec213ce494.jpg',\n",
       " 'test/0b5784f22b6f62ce04c6e1abb72b72a2.jpg',\n",
       " 'test/0b69acfc61048e94c7ba772a1f55012b.jpg',\n",
       " 'test/0b69e164a553cb6397e0a4d15d8539d2.jpg',\n",
       " 'test/0b73c34b32b7cfdec418cccd9b8a1edd.jpg',\n",
       " 'test/0b7fd1d896090abe6b0278995be700cc.jpg',\n",
       " 'test/0b8044ce57a6e825db342168ea2cdf17.jpg',\n",
       " 'test/0b8132fc7939d41b92e13ebffec83261.jpg',\n",
       " 'test/07737ae303594890f1ba38b87399ba40.jpg',\n",
       " 'test/07ae657216e11b5b5d78d89faca53314.jpg',\n",
       " 'test/07f36df95c5fc473f2fbf51c0929ee7d.jpg',\n",
       " 'test/083ee6a9bf4958f0acb86ffe3e5aefff.jpg',\n",
       " 'test/088106301addda7fc9f5a9bd6b79836f.jpg',\n",
       " 'test/08ffbdb8c2abc705348260533f3a0659.jpg',\n",
       " 'test/0954e09deca15b755d04a7826264da61.jpg',\n",
       " 'test/09d5118c848bc579eff8cfb669fd7aa1.jpg',\n",
       " 'test/0a2a4ced84f11101720e47f4846945c6.jpg',\n",
       " 'test/0a5f4f224f4660a3453a7fa327bec893.jpg',\n",
       " 'test/0ad84b0d9083b4e0dd5840ab77c4623b.jpg',\n",
       " 'test/0b98d2c4d26387ae0e105aa930a7ce09.jpg',\n",
       " 'test/0b9a8b5c4346c33e21923f10984c8fda.jpg',\n",
       " 'test/0bacfc339a38770af17ed464da321641.jpg',\n",
       " 'test/0bb31d2e7e30340a947dc809f1143b63.jpg',\n",
       " 'test/0bb3fbcaac7d24aa3f24517355d62a27.jpg',\n",
       " 'test/0bb4e3868bcbe0da6779f8fdf3ed3e92.jpg',\n",
       " 'test/0bb63e30692f00bc7bf0ab5ac787b162.jpg',\n",
       " 'test/0bce736f42515d9c8d100f27bc6f42f3.jpg',\n",
       " 'test/0bd08711dd75d82507a002b300f9fc61.jpg',\n",
       " 'test/0bd8f413246354189f1b7f3b0579d209.jpg',\n",
       " 'test/0bdba03280f895fc33c54457fd63bdf2.jpg',\n",
       " 'test/0bdcd4044c3b61e2dc05f7f0cb8ab8e2.jpg',\n",
       " 'test/0bf31cf6e8951bca71c2774b3a13e7e2.jpg',\n",
       " 'test/0bf8341365578c865159c299b6c99b83.jpg',\n",
       " 'test/0c0187eb836f871551d1fe2de8061dc9.jpg',\n",
       " 'test/0c0387c405af8bea156fe936837f6bd2.jpg',\n",
       " 'test/0c07dc94a848d6628d118c6934773a1e.jpg',\n",
       " 'test/0c0b3758c1b177b2a2961c1483159898.jpg',\n",
       " 'test/0c1190ac6d3af71a509db2530e78a4d9.jpg',\n",
       " 'test/0c1dcbc3c7d2ce6399fb7aa68a70dcda.jpg',\n",
       " 'test/0c2291678c73982bab16d08c093e69ed.jpg',\n",
       " 'test/0c278ed448bfd1b7f06854a5a9be7128.jpg',\n",
       " 'test/0c2bb0fd894691f734d27c1bbcb149bc.jpg',\n",
       " 'test/0c33d563a236f54a54edaca656ad73ab.jpg',\n",
       " 'test/0c3aff87f7d7f4263b2da9d322393ef9.jpg',\n",
       " 'test/0c4748f4416edb56b232fa715696abcf.jpg',\n",
       " 'test/0c4e4a613e16d0de30c4d13a01d2f8c1.jpg',\n",
       " 'test/0c537142d9389cd3f4a08b689e8185fd.jpg',\n",
       " 'test/0c56abba9f7ff87afbbd1021364739af.jpg',\n",
       " 'test/0c614cc38cd3f9fd0abfbcc502904ead.jpg',\n",
       " 'test/0c6176b396e31ce7666185aa435be7e0.jpg',\n",
       " 'test/0c65c361ccaf8d7e79036a67d6290802.jpg',\n",
       " 'test/0c6d22c1780ac7e3a56af788a7c9c37e.jpg',\n",
       " 'test/0c6e1f42e718ab9b308d12b766797761.jpg',\n",
       " 'test/0c8160a60d1eab51c11cf6d65313047f.jpg',\n",
       " 'test/0c82ccebd8e7cf9b232fe9b294863c69.jpg',\n",
       " 'test/0c8383a09304fff32064f2054a12153c.jpg',\n",
       " 'test/0c83baf5da23970139017e2cbc54aecf.jpg',\n",
       " 'test/0c84d273699cada291a635c6edd33390.jpg',\n",
       " 'test/0c86aa25b14fcc51db69e652cf399775.jpg',\n",
       " 'test/0c8afe874cdaa93402af403b8720cdbe.jpg',\n",
       " 'test/0c8c480c7a385be3ab227159ab481938.jpg',\n",
       " 'test/0c98f1cc700594739b13255084b2e64b.jpg',\n",
       " 'test/0c998727aba57f2717402d75f1a13f95.jpg',\n",
       " 'test/0c9e9cedfbc9d87afe78eecbbec16b2d.jpg',\n",
       " 'test/0caac09489270f8de833aff88f01c0e6.jpg',\n",
       " 'test/0cac203626ab292bc76e79f266207ce4.jpg',\n",
       " 'test/0cb0cc50ad302ff64f3297ce361ec485.jpg',\n",
       " 'test/0cc1b906fda4a6fca942e9f9c10d5ebb.jpg',\n",
       " 'test/0cc20872856b216481952df6d06700bf.jpg',\n",
       " 'test/0cc2a9144cd3a2292a108a28d68c17fe.jpg',\n",
       " 'test/0cc65de0d59f5cb7b7d4b9f8f3265fe3.jpg',\n",
       " 'test/0cc8563200ce8bc07f58bfc07e6f26e8.jpg',\n",
       " 'test/0ccf9351b3b9825b3a66d0542aea348e.jpg',\n",
       " 'test/0cd0200ed88e2deae77d9407a4975f3f.jpg',\n",
       " 'test/0cd23332299c3aff0eaff055e00f55b4.jpg',\n",
       " 'test/0cd8ea2638d5234b80d8836cf98a41d7.jpg',\n",
       " 'test/0cdc399d2f92c6800bf8d3f723040ad4.jpg',\n",
       " 'test/0ce3f883d80da4cbfce335fcfc38b1b2.jpg',\n",
       " 'test/0ce403d6456ed3001f9c9521083c9b30.jpg',\n",
       " 'test/0cef2f815d1a18a2db6f4134c1228445.jpg',\n",
       " 'test/0cf7c74a10aa9c602d194717ab781794.jpg',\n",
       " 'test/0cfa9ee8a8e0912bb06bfd575f70bfb7.jpg',\n",
       " 'test/0d08bca9c153c3721da8dce6f10ee757.jpg',\n",
       " 'test/0d0964db201a2c0765bde74ca28148ef.jpg',\n",
       " 'test/0d13cb748810b8fca2fe3facc6e9aee4.jpg',\n",
       " 'test/0d14f14ba65c762cb7307c5cfa5f5164.jpg',\n",
       " 'test/0d1985ada774f6522afc2a881396158a.jpg',\n",
       " 'test/0d1e036ce1a811deaf6aceb405e34d50.jpg',\n",
       " 'test/0d2052c227baab35a97ea9d0b767967f.jpg',\n",
       " 'test/0d20ec872931053d937381013e38ddc2.jpg',\n",
       " 'test/0d232196ff8e67750201aa6111e252e1.jpg',\n",
       " 'test/0d2421d1aaeb809587a95def06c4ae4d.jpg',\n",
       " 'test/0d2eabeabab223d84cc00ffa8aacd16d.jpg',\n",
       " 'test/0d4cf10273dbfdab06eb069fd6cdfa34.jpg',\n",
       " 'test/0d5043156904a8ade08741ce8006fa28.jpg',\n",
       " 'test/0d580b0000ec6948330c3f60db39bf12.jpg',\n",
       " 'test/0d5b801bfeff4eefb3994b8fc59bc2ff.jpg',\n",
       " 'test/0d61e4885d53a0abad1112c4edfa9fda.jpg',\n",
       " 'test/0d6909043999ac138c3ceaaa064ff715.jpg',\n",
       " 'test/0d6a4703b8989cb5c5402b15e7efbdda.jpg',\n",
       " 'test/0d6cef015f132e67900dc13137425a30.jpg',\n",
       " 'test/0d74c3102be15724083f197376478395.jpg',\n",
       " 'test/0d81ae5c4b549b678c83b83f5fbccbbb.jpg',\n",
       " 'test/0d8ce6159135b56cbc62081ec3b674ac.jpg',\n",
       " 'test/0d8d03b785f5f0e1f5476966cf7dcb25.jpg',\n",
       " 'test/0d907500951c7c38dd9f8a94adb899f7.jpg',\n",
       " 'test/0d995d97a3a9b34790f46a4d39cab12a.jpg',\n",
       " 'test/0da09e8ff1c1fe09c4ff0b18f01f3c70.jpg',\n",
       " 'test/0da82b2cc4e16d44eb83c7b71d7407b3.jpg',\n",
       " 'test/0dac129eab2cf6e788807087e8fbd806.jpg',\n",
       " 'test/0db3f774655ada5d6f78f2a3c31fd295.jpg',\n",
       " 'test/0db93e224b1144f48aa1c9572fa849b1.jpg',\n",
       " 'test/0dbbfd6f80c227c60a79312fb143e6dd.jpg',\n",
       " 'test/0dbf7db28f587285602ef41acfd2d009.jpg',\n",
       " 'test/0dc570ec7086bab004a7e357164c04b8.jpg',\n",
       " 'test/0dd90b931c1817e7e3106a1d3c56545e.jpg',\n",
       " 'test/0de953decddc94fe55b0edfdee1936d4.jpg',\n",
       " 'test/0dee0e6895ebcc7c6d0fe88772619b38.jpg',\n",
       " 'test/0def85fa5e00a462e57fae1db3947a0e.jpg',\n",
       " 'test/0df5d0e873f58e89111b5de3d3fab9d2.jpg',\n",
       " 'test/0dfae5f3f2489c3eb8fba1a9883a31e3.jpg',\n",
       " 'test/0e01744db60c4f9933f9a85022b25324.jpg',\n",
       " 'test/0e052388023bf1ebe8c0d8679e70b989.jpg',\n",
       " 'test/0e0ba1c25d4f30cd8a6b87ecc54f38b6.jpg',\n",
       " 'test/0e116c1a6ba0c9c4fccac09033d3c393.jpg',\n",
       " 'test/0e1ea29028a5b914632b0c30ecf4d3ee.jpg',\n",
       " 'test/0e22117d085da91cba31ad4cc3bf0403.jpg',\n",
       " 'test/0e38176c43c4bfc1db5433fe4d607f1e.jpg',\n",
       " 'test/0e39ccd1021cefe374b0e38fd35b4356.jpg',\n",
       " 'test/0e40ecbb196cf0d7d325a10c32400999.jpg',\n",
       " 'test/0e4b38eb8de2969f87b0f224dfae2af1.jpg',\n",
       " 'test/0e4c14d014ad3e0421933ab29ad7b16c.jpg',\n",
       " 'test/0e4edb98eae12cd4332ff2e2d2c6f1c4.jpg',\n",
       " 'test/0e5df48c6a720cdce7bfcd8064e86f88.jpg',\n",
       " 'test/0e5e614226a9f90dadc315bfba52458f.jpg',\n",
       " 'test/0e5f1ea483aacbd4d42209b1fc69b056.jpg',\n",
       " 'test/0e6885657425d9f98f77422d4a91893d.jpg',\n",
       " 'test/0e6e4329b4f6d74e3225bbf3bb027473.jpg',\n",
       " 'test/0e78b2e7c587a7f503fcfd5be25c23c0.jpg',\n",
       " 'test/0e7c2ef54e84c8d021e1c0ea96cad523.jpg',\n",
       " 'test/0e7c7475259b9f0088e6922d5562f36d.jpg',\n",
       " 'test/0e826c710afd789f8db9ff522a7a04c0.jpg',\n",
       " 'test/0e8d997db26798c7c1612847319973e5.jpg',\n",
       " 'test/0e961b7d3738affb462c0ae2528e922f.jpg',\n",
       " 'test/0e9c363076ca2a8fb7b7a1182a7528f1.jpg',\n",
       " 'test/0ea853dcbeabf192889a19926f7fc2fd.jpg',\n",
       " 'test/0eb22da796bce296261373cfc4f3c2c8.jpg',\n",
       " 'test/0ecde220a6c5bc116534f0c79426a09f.jpg',\n",
       " 'test/0ecfbc51c3d5a40221c92a3c54b664b3.jpg',\n",
       " 'test/0ed4f500b04714eb648c0cb21060ec5b.jpg',\n",
       " 'test/0ee14feea6dcd9f065469b85e822546b.jpg',\n",
       " 'test/0ef5cb06089e8b91d88a4221cdbe5a1d.jpg',\n",
       " 'test/0ef9fe72e2072e640d8a8a8c6bf9d3e3.jpg',\n",
       " 'test/0efe03910c7c5f576cf52c9e7c28beaa.jpg',\n",
       " 'test/0efe6a6dda65dbb2eb9f3f77fddc97ee.jpg',\n",
       " 'test/0f06bc9d173a94c0c79dcf1cac9511a3.jpg',\n",
       " 'test/0f075ef05225932dba12fb636783680c.jpg',\n",
       " 'test/0f08f61fcbbc43e07a991f52e3e64af4.jpg',\n",
       " 'test/0f09d93e5acf4df2d9038501d434d5e5.jpg',\n",
       " 'test/0f119eb2566f6f11c6cdab8608575f5d.jpg',\n",
       " 'test/0f133e2a0b51fe16f5bacb8b4a980ae6.jpg',\n",
       " 'test/0f13a35521e28485de8cc802e429b324.jpg',\n",
       " 'test/0f15c5e059726aba8d1c3341ffb14881.jpg',\n",
       " 'test/0b8d0cef885d10a5fb4092a406477345.jpg',\n",
       " 'test/0be4fb2606e70ec63a47250467ca169f.jpg',\n",
       " 'test/0c3a0c2dfc46e6eb972e6553d364c71f.jpg',\n",
       " 'test/0c83197665c5b99ad02dc6f07fb15e69.jpg',\n",
       " 'test/0cbe1df9ac49399277c5bcbc4c163f88.jpg',\n",
       " 'test/0ce7c1e240ceed52d8789289fe9f3432.jpg',\n",
       " 'test/0d23734888782ba88da4bb3c19a12688.jpg',\n",
       " 'test/0d89ad8385e4871589195df66f386b4b.jpg',\n",
       " 'test/0dd0c324a6f4a599756b3b750165c41a.jpg',\n",
       " 'test/0e2f282cd63cb0f4798678a2e658e910.jpg',\n",
       " 'test/0e7baab11c3e1a71d364720ff43aa5b4.jpg',\n",
       " 'test/0f1bb5b5510c245aa1ec48bdad3495a7.jpg',\n",
       " 'test/0f1f058522972750c6afe200c02a027c.jpg',\n",
       " 'test/0f21800e7f10cc35725b82d34da94ce8.jpg',\n",
       " 'test/0f341494dfeb1318b50d43a4ae74e138.jpg',\n",
       " 'test/0f364859de4b5475265681eab503728e.jpg',\n",
       " 'test/0f3a0d6d2bbac0176da5c1a4b23bec47.jpg',\n",
       " 'test/0f3ac08b6178ce79358ac3f172820258.jpg',\n",
       " 'test/0f3dc83b50a8405f6079ad13c4b727e6.jpg',\n",
       " 'test/0f3f071f6d0afc5bc906aee0cfb3297b.jpg',\n",
       " 'test/0f40071bb6be117fc8ace2c2d2244761.jpg',\n",
       " 'test/0f407611b8b63474157e3de80b4c01bd.jpg',\n",
       " 'test/0f4a636da3a7f4dd52a4498a74653a8a.jpg',\n",
       " 'test/0f56064b344e608e11a41e3523eb3b89.jpg',\n",
       " 'test/0f58dffab12b3e92964731f3801ee4b1.jpg',\n",
       " 'test/0f59213057ba694005c0f5d8f32172d7.jpg',\n",
       " 'test/0f629dac2ecc2279f9a9038c7f5787b6.jpg',\n",
       " 'test/0f65462c046af1b3be56b2bc112b90b6.jpg',\n",
       " 'test/0f68ebbd575038862faadf8a59aaa439.jpg',\n",
       " 'test/0f74bcf6beaf43013d8fbacd632f72d7.jpg',\n",
       " 'test/0f76bc5bfac3d245fc0ebb8a231ecac0.jpg',\n",
       " 'test/0f9011ef7da2c18797410191fe7c3e0d.jpg',\n",
       " 'test/0f92e6a8360ab5dfee99711a55a2a6bf.jpg',\n",
       " 'test/0f9c64778bf451d709e54c66868ff8de.jpg',\n",
       " 'test/0fa39bc6bbb7107ae27cba8e244a7e4a.jpg',\n",
       " 'test/0fab604aeee38ca9e533498dff7bbfe6.jpg',\n",
       " 'test/0fb39410b417652816759e4ae87f5f57.jpg',\n",
       " 'test/0fb4de8ba53b256e5b66d432c347ba92.jpg',\n",
       " 'test/0fb5e83ed166d82503b89da3f177aa62.jpg',\n",
       " 'test/0fbce224c3342dfd4fbd5fbe9f911c10.jpg',\n",
       " 'test/0fc0f2141b0ccaf394c6ff12948cd952.jpg',\n",
       " 'test/0fc9788c669fafe1f5c5a6da882d6356.jpg',\n",
       " 'test/0fd64246ae04e2f33cf815ab34b14f04.jpg',\n",
       " 'test/0fda8797dabbe5a4014cd3d0cdecac4e.jpg',\n",
       " 'test/0fe8cd548b03f238fc63415d15228849.jpg',\n",
       " 'test/0fe91bc1fe542f04aaf9a010ef37c2b6.jpg',\n",
       " 'test/0fe9386d16a008c40f260dbf3bef4a00.jpg',\n",
       " 'test/0feb3e06b50cada6f4339058eef8d1b0.jpg',\n",
       " 'test/0ff1051e3806b2f6778db35278de079a.jpg',\n",
       " 'test/0ff286d9ddd36a08df220910ec46a4be.jpg',\n",
       " 'test/0ff3a251ebaa1892f8ee83a5140c87af.jpg',\n",
       " 'test/0ff55c6329f9bfe0f49a02d2d6c20cb4.jpg',\n",
       " 'test/0ff94e4e2944acacbd5e6b0cb8fe381f.jpg',\n",
       " 'test/10026d03b0105b2066cd1f9e1b1d17fa.jpg',\n",
       " 'test/100a74b1948ae91672b2a9f78bae03ee.jpg',\n",
       " 'test/100c1d41e92d58bf47f23ed2492be2b7.jpg',\n",
       " 'test/100c3f2b6b4f8f0b8d256d5da7f75895.jpg',\n",
       " 'test/100db647a48e687caec19226c0834b6c.jpg',\n",
       " 'test/101957d48b542794672e84eeae2f6595.jpg',\n",
       " 'test/103544aea218de82742b8c7630eccd9d.jpg',\n",
       " 'test/103cdc14a648474fa9a85c3542d6821e.jpg',\n",
       " 'test/103fc49f170b6a86eddc9097f2827730.jpg',\n",
       " 'test/1041051d5868744bdbb557de4bcadd64.jpg',\n",
       " 'test/1041538881a6287d803bdfa79743400d.jpg',\n",
       " 'test/104dcfea5f3ab572029acae587e42a79.jpg',\n",
       " 'test/104f49e346bad0509899046665a6292e.jpg',\n",
       " 'test/10599ab6821a2a0a16f4e91ca28b7353.jpg',\n",
       " 'test/10627d3a10a1445e80b99bacc6e169ce.jpg',\n",
       " 'test/10630ca7791c65508f5a460f43c90de7.jpg',\n",
       " 'test/1068f009dde547e7f1b472a538a1348d.jpg',\n",
       " 'test/107016d4f631b9ee6c236b864612fe6f.jpg',\n",
       " 'test/107cfd7192dd926f205ad8d48fe6a17e.jpg',\n",
       " 'test/10863e6d9d1cb526cc9d90f30a585719.jpg',\n",
       " 'test/108994037a7be72823f6de12a7ccb819.jpg',\n",
       " 'test/1089db65c1121fbf48af002d8db7fe04.jpg',\n",
       " 'test/109433cf9ef7501a038d31f2f4b3f619.jpg',\n",
       " 'test/1098c26307f8cd01a7ba182b090f5e55.jpg',\n",
       " 'test/109a75098635e01f334c4e4281e15276.jpg',\n",
       " 'test/109e30067a68f7b7ab62af7683ab1826.jpg',\n",
       " 'test/10a25198b6d293a07b4c8dcee0c8a5d6.jpg',\n",
       " 'test/10b2f665b8dc7303d020e91d362f4806.jpg',\n",
       " 'test/10c4c824396380cbc41c36f28b1b9baf.jpg',\n",
       " 'test/10cd1f206da577eb0ef2ba6ce012b385.jpg',\n",
       " 'test/10dd4c08b975b10fe0af5cbc0fcac3db.jpg',\n",
       " 'test/10f5107a94eaa2355bc66f095e1ee9fc.jpg',\n",
       " 'test/10f80b8de09cb45fa1b66d5f0502e33b.jpg',\n",
       " 'test/10fa39f9e7509328be0ca0d352fcbf37.jpg',\n",
       " 'test/10faaeac53d791eaab517fc05b6a7145.jpg',\n",
       " 'test/110027dd4a1b9de5081064ad66ebc678.jpg',\n",
       " 'test/1103c50b153945c81f75511b8a3fcf44.jpg',\n",
       " 'test/11080bc5dd7d5a15b68fded6d2e19e67.jpg',\n",
       " 'test/1118565dbfef8fe21f68b28100c7c4ef.jpg',\n",
       " 'test/1119c5511941dd992da0f8f66b34e55c.jpg',\n",
       " 'test/111a7820d56b8cca8792215d7def8213.jpg',\n",
       " 'test/111e05cb4c025aa20a1e4c9c854b126d.jpg',\n",
       " 'test/11257c237f45cf3482fa033fe809d6a9.jpg',\n",
       " 'test/1125d4384fb215196990c5788a73b0b3.jpg',\n",
       " 'test/1128f324fd4c6bda8ee3914c6df29a06.jpg',\n",
       " 'test/112a5af56da4fba655809ad07a24dcfe.jpg',\n",
       " 'test/112cf5a77c123e8e8a024f26b4154a2d.jpg',\n",
       " 'test/1130570a4b97ef8917dc92463ca6c6b4.jpg',\n",
       " 'test/113ca01bc889d3b8c34fac5e2e3fc50d.jpg',\n",
       " 'test/113e3722370b3cd0d1cfbb44e5b3b840.jpg',\n",
       " 'test/1140e6284f80fc0bc1d668438a417a29.jpg',\n",
       " 'test/114740c10ad87f44b2f7f97ef7c95a91.jpg',\n",
       " 'test/1149cffb0d6c5fe3a8f3cc11e66c6714.jpg',\n",
       " 'test/114a4a1fe266429ccb8ae42b5f8556cf.jpg',\n",
       " 'test/114cdd56bf41af845a83404b1a57ab82.jpg',\n",
       " 'test/115207097231aeb2bd45ff9a87b97018.jpg',\n",
       " 'test/11536b27e26da85d43fe32f3b5e03d55.jpg',\n",
       " 'test/115e90d8a953820b54e2a63199223b0a.jpg',\n",
       " 'test/115e99fcb5d2b82c22d58df7d0011069.jpg',\n",
       " 'test/116880ac65a9eb9e5b4a226d7adc5c6e.jpg',\n",
       " 'test/1170736b52a554f7bdfb3425d6ce8980.jpg',\n",
       " 'test/11752752be98909829638b08dbc4eb33.jpg',\n",
       " 'test/11754ee6d33fceb7a8dab2c33f3ba008.jpg',\n",
       " 'test/117b24208be9b26f6604a48f8f2be1b1.jpg',\n",
       " 'test/117ea9f58dbe47140f9f1c3297b0a4b1.jpg',\n",
       " 'test/118784064864f82da57ee41ede5fd59b.jpg',\n",
       " 'test/11901bce1f422ef3babd9e37d799a9d8.jpg',\n",
       " 'test/119f675da55ad20f8033218d33d3ec7b.jpg',\n",
       " 'test/11a126ba3ccaed35f95547b5f787ea61.jpg',\n",
       " 'test/11a1f410bc886bcd880fb90462c58f23.jpg',\n",
       " 'test/11a2226cad4e1bcebb4015c28fd2c7e3.jpg',\n",
       " 'test/11afb2f9fb9fa4cc2bd7bdb01ba61f55.jpg',\n",
       " 'test/11b5a669c42cb18ce0f354de59d7bf70.jpg',\n",
       " 'test/11b6d3d460aa9c03baa3cdd090307e23.jpg',\n",
       " 'test/11b9304325e35c1689108ba4632daedf.jpg',\n",
       " 'test/11ba3daa43c68b88bc27dc3ff0af397e.jpg',\n",
       " 'test/11da794edbcb3f36ab3bb60427252404.jpg',\n",
       " 'test/11e7cf5d0c964af74cb3418f4d1cd082.jpg',\n",
       " 'test/11f1d13042c0409b87fb39414f189e52.jpg',\n",
       " 'test/11f97a2aa89580a78f440a2b320b8a65.jpg',\n",
       " 'test/11f9a644c6e7a1ec847b917e99462e72.jpg',\n",
       " 'test/11fc120159d97b9f6f27e107666e93f6.jpg',\n",
       " 'test/11fd8887c88af2cad11b1f0824bbb3b2.jpg',\n",
       " 'test/1210c8fbfb9ea74e249043df0aade4d0.jpg',\n",
       " 'test/1217ee8c4a27f7d7d3c2175baac8afc2.jpg',\n",
       " 'test/121af8c54411f9e7459e92b62f9e7767.jpg',\n",
       " 'test/122417fa3c0d4cb9bafc24f46727ff9b.jpg',\n",
       " 'test/1226562b158218585b22d807ce5501b9.jpg',\n",
       " 'test/1228d5ff93a39830f6c36012a106f4c5.jpg',\n",
       " 'test/1246d7db07b4d4fab063b13cf3f08578.jpg',\n",
       " 'test/124b1ccaba3b9edbd96720b992a30a54.jpg',\n",
       " 'test/124d981715bbd47ed3f80e726ea1d71d.jpg',\n",
       " 'test/12509a44ca95d95a1e803b0a3fba8ce7.jpg',\n",
       " 'test/1253e8ab759fce7e9f9d8831517d7e9a.jpg',\n",
       " 'test/1255d7d9db559f1c70b04dc74b002a98.jpg',\n",
       " 'test/12576fadf1319d363ea0d8d6f29a2895.jpg',\n",
       " 'test/12595290a6be01f4edc990edd1e69a64.jpg',\n",
       " 'test/126ae77a807276714d6d1ea12d6a2007.jpg',\n",
       " 'test/126ee1ee0d0a37e1f5980a73e92703f3.jpg',\n",
       " 'test/1275db6de36ab20a71d3f631085821c2.jpg',\n",
       " 'test/127d5024643ecc0734ea9c2c8c8cbf19.jpg',\n",
       " 'test/129107cbe7b96bdd10d61811c8f70686.jpg',\n",
       " 'test/0f19ffd8d0614958442cee26bc199d41.jpg',\n",
       " 'test/0f4b246cbf26bf1e6f6c89472443bf13.jpg',\n",
       " 'test/0fa8b51dbcf4db355110909c624fb37f.jpg',\n",
       " 'test/0fea0c2478fcd1e0c53fc025bb2b0183.jpg',\n",
       " 'test/101b04a9285eaa095ff49fd96fa1c322.jpg',\n",
       " 'test/1078b2b256e6b80c89bdca36d76f7d63.jpg',\n",
       " 'test/10dbf30635323f90703abc5d76493902.jpg',\n",
       " 'test/111fb27f743d10119c071278ee65d131.jpg',\n",
       " 'test/114b457d11f8ece14dd82ea525683a1f.jpg',\n",
       " 'test/118e6d01dfdf00c1fc90a52501295d6a.jpg',\n",
       " 'test/11ef436b9b2fcafb39fa824d6b9511d0.jpg',\n",
       " 'test/12a5a3abbcb676f7eaf490073d30f978.jpg',\n",
       " 'test/12a8312dcf3d19999da1d4ce3c529015.jpg',\n",
       " 'test/12adb23a6969f47b596b2b05af391a3a.jpg',\n",
       " 'test/12befc23d4fc8e63325b22c449d0c30a.jpg',\n",
       " 'test/12c3287c880cb83dfbc9cbce3d2952be.jpg',\n",
       " 'test/12d213e502b778cbe2ee799eb8b0be3f.jpg',\n",
       " 'test/12de4497b6e8192acf57ece5594307af.jpg',\n",
       " 'test/12e5137dc606e09c78c9b27a1891ea87.jpg',\n",
       " 'test/12eb5437f03772e0cbb27269310a3964.jpg',\n",
       " 'test/12fbe9c28a931d4ed89a1ce769d685b0.jpg',\n",
       " 'test/12fc8d15f26d5cb004e386e74a80dcd0.jpg',\n",
       " 'test/13057d95b7696cf26e4884f2273c7f57.jpg',\n",
       " 'test/131bdd75158af3e5c2816a330e6f83dd.jpg',\n",
       " 'test/1321965032ec4a37b44a9a3ac62e2f0b.jpg',\n",
       " 'test/1326e98b42f5026ecd51389c4afde535.jpg',\n",
       " 'test/13310834f9938630a69940a37a8be953.jpg',\n",
       " 'test/133ced46ba8853fb83cdd814ca572112.jpg',\n",
       " 'test/1342e9e4ae5b8823d9b8e4a673578bb9.jpg',\n",
       " 'test/13439e269acd95d1173c11e465961aa6.jpg',\n",
       " 'test/1343ec8b64545f22bb76c2668c8cbe9a.jpg',\n",
       " 'test/13557ec58aad7410efbc8f843754988b.jpg',\n",
       " 'test/135bd15fefabe5b16f8c93be850fc36e.jpg',\n",
       " 'test/13649222b59612a699a235551fcd3fdc.jpg',\n",
       " 'test/13671c9ee26df3edcaff33d43c16e9bc.jpg',\n",
       " 'test/136c9656679fd881443a2c83f81696df.jpg',\n",
       " 'test/13733ca862e8b3881e35f1bf1a02a8ce.jpg',\n",
       " 'test/13802b88269d75c9bda1c8a2489abc5c.jpg',\n",
       " 'test/1381912fe152f7873af101cf0d51bbaf.jpg',\n",
       " 'test/13837b605ad3176d3114c5f6bd6a653c.jpg',\n",
       " 'test/138698f34f99fb04361bbcf222235bc6.jpg',\n",
       " 'test/138a5ce524f0ef30818208492eb169e3.jpg',\n",
       " 'test/138aaaa3ad8bdee8167bda4ba8dd3875.jpg',\n",
       " 'test/139431b6f6bffc551bf88f65d2e4d170.jpg',\n",
       " 'test/1397ba1a338af3502945e1beec7efabf.jpg',\n",
       " 'test/13992bae26f099e9b8df55860b8acda6.jpg',\n",
       " 'test/13a381ae2724b106211dc638931b43c0.jpg',\n",
       " 'test/13ae7a8703585a08642d9598aeb2fbb7.jpg',\n",
       " 'test/13b4953cc9afdcf603692f74a7cf8048.jpg',\n",
       " 'test/13b4ff9966c0eb2586caff2225cac832.jpg',\n",
       " 'test/13b6f9b3dcbab9a4ba4b5c3de3cd5f6f.jpg',\n",
       " 'test/13bbf5b7a9d2372c266af16905acfa25.jpg',\n",
       " 'test/13c4c05d309fd5f8d307735515cc74c4.jpg',\n",
       " 'test/13cce51b2d667bdf3f05beb9a64be795.jpg',\n",
       " 'test/13d4e348df7d68efc1cc4da882c8485b.jpg',\n",
       " 'test/13d754a5773abf7b3671c1b426fb71df.jpg',\n",
       " 'test/13d7f2f5ce86397e813dcf24d6cc449d.jpg',\n",
       " 'test/13dbf5ece2fbece654f6007c0dd9dfe7.jpg',\n",
       " 'test/13dc58cba81afbfeffc64b17c35a44b1.jpg',\n",
       " 'test/13e8727d23e2bb8c8f453379edb2e93e.jpg',\n",
       " 'test/1403ae02b539f0f2aef5b98809b2fb6b.jpg',\n",
       " 'test/1408272ff346207e3bd3c7537412c398.jpg',\n",
       " 'test/1414953b0f826c6f091221629416250a.jpg',\n",
       " 'test/141f98b125b912c3d3e2c4ce431316e4.jpg',\n",
       " 'test/1420501cefa777f0fc62d5e79a1b9628.jpg',\n",
       " 'test/14241fe74d70226c3c9aaf41f0fa7818.jpg',\n",
       " 'test/142cd6e7fec3cb25f5297258999829b9.jpg',\n",
       " 'test/1432736589ff3278a536203f0725fcba.jpg',\n",
       " 'test/1439e842cb9f8b2c3fcc64806cf82728.jpg',\n",
       " 'test/143c4a06b4f57482282f69df69836986.jpg',\n",
       " 'test/1443444abbb6e1d0974a0c8db8b42db9.jpg',\n",
       " 'test/1448ce088a417e359510c6ec0b847daf.jpg',\n",
       " 'test/14495a39476bf7fb3ef0971c1edd76cb.jpg',\n",
       " 'test/144a87a697d9e819322ff0b8f57075e1.jpg',\n",
       " 'test/145dcdaf22ce5dca3bab26ea4eca752e.jpg',\n",
       " 'test/145e1b4570fd32057e82c8d5754576e5.jpg',\n",
       " 'test/14679a610485f8741de7472af7b22c38.jpg',\n",
       " 'test/147189dcaeffe1678893377fa4916cf1.jpg',\n",
       " 'test/1475328e0e3f2ef000606db1df2dfb3e.jpg',\n",
       " 'test/1479dff3f12686564bab8f9c016f3118.jpg',\n",
       " 'test/14831db5108c3b9c056efe04329a3916.jpg',\n",
       " 'test/148d0eefa7e51f564d04c43bb1a22821.jpg',\n",
       " 'test/148e793bb3b9d3c45de681e744752fcf.jpg',\n",
       " 'test/14957811daeeec6832cf1a03f56341b7.jpg',\n",
       " 'test/149727c54d9ca9e4757bc139afbd7183.jpg',\n",
       " 'test/149bd3015bd10ce3173d14d4450339e3.jpg',\n",
       " 'test/14b0dfc136f86ca7b07dcc5d1837b8b1.jpg',\n",
       " 'test/14bf19a775ba09562b39a639d15e7c01.jpg',\n",
       " 'test/14c184c41c90fdcca3411e730ae4737c.jpg',\n",
       " 'test/14c213ac8dee633a006a846c30fc5801.jpg',\n",
       " 'test/14cc1817643b420a63d4a86b7a2484ce.jpg',\n",
       " 'test/14cc27d72512eded5b580e642fecbe95.jpg',\n",
       " 'test/14ce33cdebd8d5dddeb10af3c1f135b2.jpg',\n",
       " 'test/14dac63a8e92005b685c7d39ddd8ed40.jpg',\n",
       " 'test/14defd8af56bb99f3585114425e4f4dd.jpg',\n",
       " 'test/14e4f44bf8f6cbdb439c7e230ba12f96.jpg',\n",
       " 'test/14edac8c1c5ff73be5da45c527f756a1.jpg',\n",
       " 'test/1509e27988119ea9293c2df2fc1b4b45.jpg',\n",
       " 'test/150d13d574dba18e286f2029ae99b7df.jpg',\n",
       " 'test/1512039a69dd4fd3a0a4a55812f45a1c.jpg',\n",
       " 'test/151b1e8efd6f63184058b983e10ff829.jpg',\n",
       " 'test/151f75753aa3c7533bbf9a67af7eab27.jpg',\n",
       " 'test/152352bc0fca6b9a1081aebf0fd49bde.jpg',\n",
       " 'test/152d976d1498996b68a2ad4c1fba695f.jpg',\n",
       " 'test/1532b029543eac71cc42099d20758c41.jpg',\n",
       " 'test/15394667f518c3a114c389b69afd1e07.jpg',\n",
       " 'test/153c31d4e8da93c86414568a2d6629ce.jpg',\n",
       " 'test/1549f7a7bd97b1bffad5146b8c7bb73a.jpg',\n",
       " 'test/156a868bd55b6c19a26fd9d92f813085.jpg',\n",
       " 'test/157202e0e3111c28ca1e9fe44a5e5cad.jpg',\n",
       " 'test/157acf40281d77f6fa1e73df81dd91ba.jpg',\n",
       " 'test/157f367e8f71662d79445034b8b7507a.jpg',\n",
       " 'test/15843a88e6981a66185a2a6c85a6168d.jpg',\n",
       " 'test/158601ca828c9c90ed9640d2a6ad2811.jpg',\n",
       " 'test/158e88cf3cb41d3a88308d163eaa2176.jpg',\n",
       " 'test/159ad1ae82deb9139e629a3ac10bbd15.jpg',\n",
       " 'test/15ae8b2ff3d848d68a507281595a04f0.jpg',\n",
       " 'test/15bf9b209d1e2a227028408b617822b2.jpg',\n",
       " 'test/15cc70e270c48a1e19125a172e90a147.jpg',\n",
       " 'test/15d58b312740384cd1fdd289735ca6b5.jpg',\n",
       " 'test/15d67a6eac16feef4d12f44cbcbe289d.jpg',\n",
       " 'test/15dc293771e16bf634691bf78c7da0a7.jpg',\n",
       " 'test/15e18e644542e0c8777d0cc04d5f1469.jpg',\n",
       " 'test/15e1e7f0c942bc77e04097abcf18f6e3.jpg',\n",
       " 'test/15e309c647d4775893d4bc09c4aeed7a.jpg',\n",
       " 'test/15e3385bb48b60e73b0daf9a02749b0b.jpg',\n",
       " 'test/15e68e9c0c2d81303fdfa1b0cfd290f8.jpg',\n",
       " 'test/15eb91d38d13be03d41639899e923053.jpg',\n",
       " 'test/15f7d6903c4de20523875cf8afb7012e.jpg',\n",
       " 'test/15f9bce2f39a0855b04d1fcc173e5f7a.jpg',\n",
       " 'test/15f9e1944262b31e59787377fff818c3.jpg',\n",
       " 'test/1603b769f84e574a2cf30f31d6f0c571.jpg',\n",
       " 'test/160b9c3dca1c3031e1e76ffb8ee0a7eb.jpg',\n",
       " 'test/1610cb0315227b74d9c28bb64cb79503.jpg',\n",
       " 'test/161141d06b50fd30b2cf61b2735fb105.jpg',\n",
       " 'test/1611e247bb7055f705bbe0de950ce81e.jpg',\n",
       " 'test/16163a6f2e8065b225219d0f087a6b72.jpg',\n",
       " 'test/1618763d5cd4c51c555ea05a3048a117.jpg',\n",
       " 'test/161b2a67618d2217940282d01d27c32a.jpg',\n",
       " 'test/161d635a663fca71167b03b6957be911.jpg',\n",
       " 'test/16297a865821f0d7e68340892521ea7f.jpg',\n",
       " 'test/162ae1aea046d2fef40ddf3bc40afc08.jpg',\n",
       " 'test/1631337dcfe0e7da41ee17346f76d8cf.jpg',\n",
       " 'test/1650377ecff48b7449679b7a13083e4e.jpg',\n",
       " 'test/1653005c7bbba1773aa2ddaa949f051f.jpg',\n",
       " 'test/1653d81818079fce0df5db5d9782f53f.jpg',\n",
       " 'test/16550223e691b695df211f649806e380.jpg',\n",
       " 'test/1658042653b53e33372bc4c5fa1ed04b.jpg',\n",
       " 'test/165b0e6408da3a3ec2edcaae70b30b5d.jpg',\n",
       " 'test/165f33c2289a91271048b887941ccf44.jpg',\n",
       " 'test/166b2dcefef9810ef83093f9ca3267b5.jpg',\n",
       " 'test/166e1d76d8d3ebceb9d33944b1353c80.jpg',\n",
       " 'test/166eb761eb90853d24e6d6ca5f89db8c.jpg',\n",
       " 'test/167092ac5cf49b2f6e4cbb4899ab5e84.jpg',\n",
       " 'test/1670edd54db5c0e74147052f5e5c8c13.jpg',\n",
       " 'test/129edeb395f0b7aa68cc2f886803dd9d.jpg',\n",
       " 'test/1305f4db926583cce8a427c84166d875.jpg',\n",
       " 'test/136c4388809b3854c866a81a85bcc4ca.jpg',\n",
       " 'test/13ac212ccfb9ab1b85bf2aa5da2a96bb.jpg',\n",
       " 'test/13df0e8382cdcb5ed60c853079a3958e.jpg',\n",
       " 'test/1443f05f5281e3fe986fc40f7ee55c34.jpg',\n",
       " 'test/1493c4814ac4a2094162a8005fdff7f7.jpg',\n",
       " 'test/14e30f71501187fd727a31132162f9d4.jpg',\n",
       " 'test/153e0d8f86691d96db98b4c34c0a62b7.jpg',\n",
       " 'test/15d19747ffe5fb9f8a3cb1aa0974483c.jpg',\n",
       " 'test/15ff3e68e2352305e87acf8905591f9b.jpg',\n",
       " 'test/037b1d74a130519ab8b98f70cac57d51.jpg',\n",
       " 'test/07165cea9be18c57a340345c02a3e885.jpg',\n",
       " 'test/0b14484aa2b3035fffa3ad68aafad99c.jpg',\n",
       " 'test/0ee1a7f6c3469bf308c4bed1d844f221.jpg',\n",
       " 'test/1249cdab2bcf45c77fd7f3e94a185e75.jpg',\n",
       " 'test/1638e407075b037a3f024fedaaa0953d.jpg',\n",
       " 'test/19edaa27d65bb14aa6140ac05910cf80.jpg',\n",
       " 'test/1dac364849934707c3dc109b86a92e5c.jpg',\n",
       " 'test/215331029c73c634fb9ac037345e94fe.jpg',\n",
       " 'test/258249e68571456825b92610e7c65d6c.jpg',\n",
       " 'test/28d6506ec1073e9bbd756cc1a49a886d.jpg',\n",
       " 'test/16767d3cf7be73cc574069ce77dd5c3c.jpg',\n",
       " 'test/1676f01e2a8b79dd3d2aa846da91889a.jpg',\n",
       " 'test/167750ceffff7fb01e189998bbc78541.jpg',\n",
       " 'test/167efda2a6e2b3f7e378094c0ce98ad9.jpg',\n",
       " 'test/16816a9d4db979b3abc8c92404ab67e3.jpg',\n",
       " 'test/168f29c365b28f51c879db88ae3e36ef.jpg',\n",
       " 'test/168fcad3c9a90af9b0d3426ce7577c0c.jpg',\n",
       " 'test/169018ac77af866ad53ff23b2ef1063d.jpg',\n",
       " 'test/1696bdbb672d81a099fa365b41c7dfd2.jpg',\n",
       " 'test/16a6150b6b5a84a2f0ee2c07f79125ff.jpg',\n",
       " 'test/16a7e9f6d674462e90c403dd2044f462.jpg',\n",
       " 'test/16ba21d0aa8ebc2830260518f66efafc.jpg',\n",
       " 'test/16c99eae8d1d81d632d5a76fa9448a68.jpg',\n",
       " 'test/16cd0ecab645b8d0629296fe0ee728f0.jpg',\n",
       " 'test/16d1f5bfb4ff87c4865f158d8c4a915d.jpg',\n",
       " 'test/16d37a5c6ddaf444ab5585627be4adce.jpg',\n",
       " 'test/16d7e06f92d7def2ff74136dde7a36e1.jpg',\n",
       " 'test/16e8523182b15d1fd9119070fdc56ac8.jpg',\n",
       " 'test/16e979f5cd47a91d0c9aa629668b3487.jpg',\n",
       " 'test/16ead4e130b3e89220eb965932a8682c.jpg',\n",
       " 'test/1701ba292ae8b39d708b155ff95e5293.jpg',\n",
       " 'test/1703181ee84a6931a6d665da5f98d36f.jpg',\n",
       " 'test/1703d520452a9eb5f9c770db0021d302.jpg',\n",
       " 'test/1704866a26e172e1bdf79b2dd8be3dd8.jpg',\n",
       " 'test/172023a5d50cf0b694e5de405f855d07.jpg',\n",
       " 'test/1720270afa855d0a9eb09a67f2b13d0c.jpg',\n",
       " 'test/1727a53c33d666e3734dc7a11d7dd9a1.jpg',\n",
       " 'test/17280cd4e9a80457d02070d32a73f053.jpg',\n",
       " 'test/1734b70b47ec49ab9e7dc6a119331ffe.jpg',\n",
       " 'test/174e1bc31c5da607dda786cc43eeaa50.jpg',\n",
       " 'test/174fea6abe703dd3f16a9df66d0c4665.jpg',\n",
       " 'test/175988f267bc03d07e7ad7e406abd144.jpg',\n",
       " 'test/175c6d58a4514b8ea8814d26f015cbef.jpg',\n",
       " 'test/175e30d0794ea318192d9a06538f24cf.jpg',\n",
       " 'test/176c320550e2c70f821b43fa452f54fb.jpg',\n",
       " 'test/176db83947685a07cd11fa338bc629d6.jpg',\n",
       " 'test/1780847606b8e5ae281c97b2027127ec.jpg',\n",
       " 'test/178e636aafb169a385215a6daf1cbf5a.jpg',\n",
       " 'test/178ed7eb28e5e914eba9a4ee69e572ea.jpg',\n",
       " 'test/178f52ba324c3408ef540a81307a54a0.jpg',\n",
       " 'test/1790ffb5176e566be9c957bd92265e0a.jpg',\n",
       " 'test/1791edb2de366e05039b6df1dd40c704.jpg',\n",
       " 'test/1799b329a758f8f9411337f44a7765de.jpg',\n",
       " ...]"
      ]
     },
     "execution_count": 48,
     "metadata": {},
     "output_type": "execute_result"
    }
   ],
   "source": [
    "data.test_ds.fnames"
   ]
  },
  {
   "cell_type": "code",
   "execution_count": 34,
   "metadata": {},
   "outputs": [
    {
     "data": {
      "text/plain": [
       "(10357, 120)"
      ]
     },
     "execution_count": 34,
     "metadata": {},
     "output_type": "execute_result"
    }
   ],
   "source": [
    "probs.shape"
   ]
  },
  {
   "cell_type": "code",
   "execution_count": 35,
   "metadata": {},
   "outputs": [],
   "source": [
    "df = pd.DataFrame(probs)\n",
    "df.columns = data.classes"
   ]
  },
  {
   "cell_type": "code",
   "execution_count": 36,
   "metadata": {},
   "outputs": [
    {
     "data": {
      "text/html": [
       "<div>\n",
       "<style scoped>\n",
       "    .dataframe tbody tr th:only-of-type {\n",
       "        vertical-align: middle;\n",
       "    }\n",
       "\n",
       "    .dataframe tbody tr th {\n",
       "        vertical-align: top;\n",
       "    }\n",
       "\n",
       "    .dataframe thead th {\n",
       "        text-align: right;\n",
       "    }\n",
       "</style>\n",
       "<table border=\"1\" class=\"dataframe\">\n",
       "  <thead>\n",
       "    <tr style=\"text-align: right;\">\n",
       "      <th></th>\n",
       "      <th>affenpinscher</th>\n",
       "      <th>afghan_hound</th>\n",
       "      <th>african_hunting_dog</th>\n",
       "      <th>airedale</th>\n",
       "      <th>american_staffordshire_terrier</th>\n",
       "      <th>appenzeller</th>\n",
       "      <th>australian_terrier</th>\n",
       "      <th>basenji</th>\n",
       "      <th>basset</th>\n",
       "      <th>beagle</th>\n",
       "      <th>...</th>\n",
       "      <th>toy_poodle</th>\n",
       "      <th>toy_terrier</th>\n",
       "      <th>vizsla</th>\n",
       "      <th>walker_hound</th>\n",
       "      <th>weimaraner</th>\n",
       "      <th>welsh_springer_spaniel</th>\n",
       "      <th>west_highland_white_terrier</th>\n",
       "      <th>whippet</th>\n",
       "      <th>wire-haired_fox_terrier</th>\n",
       "      <th>yorkshire_terrier</th>\n",
       "    </tr>\n",
       "  </thead>\n",
       "  <tbody>\n",
       "    <tr>\n",
       "      <th>0</th>\n",
       "      <td>1.271619e-09</td>\n",
       "      <td>4.914671e-10</td>\n",
       "      <td>1.566088e-09</td>\n",
       "      <td>7.981370e-08</td>\n",
       "      <td>2.539702e-08</td>\n",
       "      <td>6.013794e-06</td>\n",
       "      <td>4.151496e-09</td>\n",
       "      <td>7.133666e-10</td>\n",
       "      <td>3.402509e-09</td>\n",
       "      <td>2.706627e-10</td>\n",
       "      <td>...</td>\n",
       "      <td>5.386099e-10</td>\n",
       "      <td>1.123894e-10</td>\n",
       "      <td>1.255398e-08</td>\n",
       "      <td>1.147299e-09</td>\n",
       "      <td>7.792850e-09</td>\n",
       "      <td>3.801880e-10</td>\n",
       "      <td>5.663496e-11</td>\n",
       "      <td>9.785718e-11</td>\n",
       "      <td>1.408829e-10</td>\n",
       "      <td>4.467561e-09</td>\n",
       "    </tr>\n",
       "    <tr>\n",
       "      <th>1</th>\n",
       "      <td>5.728948e-06</td>\n",
       "      <td>2.926408e-05</td>\n",
       "      <td>1.530834e-04</td>\n",
       "      <td>1.277289e-05</td>\n",
       "      <td>5.498644e-05</td>\n",
       "      <td>3.413648e-05</td>\n",
       "      <td>1.934480e-06</td>\n",
       "      <td>5.169741e-07</td>\n",
       "      <td>4.555795e-06</td>\n",
       "      <td>9.446680e-06</td>\n",
       "      <td>...</td>\n",
       "      <td>1.384327e-05</td>\n",
       "      <td>1.553171e-06</td>\n",
       "      <td>5.094542e-06</td>\n",
       "      <td>9.626209e-05</td>\n",
       "      <td>4.134172e-05</td>\n",
       "      <td>5.477110e-04</td>\n",
       "      <td>5.909183e-07</td>\n",
       "      <td>2.716726e-06</td>\n",
       "      <td>4.461092e-06</td>\n",
       "      <td>3.241010e-06</td>\n",
       "    </tr>\n",
       "    <tr>\n",
       "      <th>2</th>\n",
       "      <td>4.553908e-07</td>\n",
       "      <td>3.060049e-08</td>\n",
       "      <td>1.898515e-06</td>\n",
       "      <td>8.458304e-08</td>\n",
       "      <td>4.407557e-05</td>\n",
       "      <td>6.785196e-08</td>\n",
       "      <td>7.570343e-08</td>\n",
       "      <td>2.817219e-06</td>\n",
       "      <td>4.115308e-06</td>\n",
       "      <td>5.555830e-05</td>\n",
       "      <td>...</td>\n",
       "      <td>3.652467e-07</td>\n",
       "      <td>2.613235e-03</td>\n",
       "      <td>7.560913e-04</td>\n",
       "      <td>4.663273e-03</td>\n",
       "      <td>7.737905e-06</td>\n",
       "      <td>1.062649e-07</td>\n",
       "      <td>1.024330e-05</td>\n",
       "      <td>1.202352e-06</td>\n",
       "      <td>1.721969e-04</td>\n",
       "      <td>4.107025e-07</td>\n",
       "    </tr>\n",
       "    <tr>\n",
       "      <th>3</th>\n",
       "      <td>4.926000e-09</td>\n",
       "      <td>3.497408e-07</td>\n",
       "      <td>3.391270e-08</td>\n",
       "      <td>5.308528e-09</td>\n",
       "      <td>9.333236e-07</td>\n",
       "      <td>4.167810e-08</td>\n",
       "      <td>1.398285e-09</td>\n",
       "      <td>7.375650e-08</td>\n",
       "      <td>5.131314e-09</td>\n",
       "      <td>5.000814e-10</td>\n",
       "      <td>...</td>\n",
       "      <td>1.807108e-08</td>\n",
       "      <td>1.903928e-07</td>\n",
       "      <td>1.163108e-07</td>\n",
       "      <td>5.610588e-07</td>\n",
       "      <td>2.267823e-07</td>\n",
       "      <td>1.664766e-09</td>\n",
       "      <td>4.594023e-10</td>\n",
       "      <td>4.922148e-06</td>\n",
       "      <td>1.817432e-09</td>\n",
       "      <td>5.148814e-09</td>\n",
       "    </tr>\n",
       "    <tr>\n",
       "      <th>4</th>\n",
       "      <td>4.845546e-08</td>\n",
       "      <td>7.598171e-09</td>\n",
       "      <td>1.488603e-09</td>\n",
       "      <td>1.533750e-10</td>\n",
       "      <td>1.456950e-10</td>\n",
       "      <td>6.076951e-10</td>\n",
       "      <td>2.561577e-10</td>\n",
       "      <td>9.093000e-10</td>\n",
       "      <td>7.886691e-10</td>\n",
       "      <td>4.291540e-08</td>\n",
       "      <td>...</td>\n",
       "      <td>8.652032e-09</td>\n",
       "      <td>1.724250e-08</td>\n",
       "      <td>3.950603e-09</td>\n",
       "      <td>2.750967e-09</td>\n",
       "      <td>3.964242e-09</td>\n",
       "      <td>4.796978e-10</td>\n",
       "      <td>3.499065e-09</td>\n",
       "      <td>4.922326e-10</td>\n",
       "      <td>9.055356e-10</td>\n",
       "      <td>8.087949e-09</td>\n",
       "    </tr>\n",
       "  </tbody>\n",
       "</table>\n",
       "<p>5 rows × 120 columns</p>\n",
       "</div>"
      ],
      "text/plain": [
       "   affenpinscher  afghan_hound  african_hunting_dog      airedale  \\\n",
       "0   1.271619e-09  4.914671e-10         1.566088e-09  7.981370e-08   \n",
       "1   5.728948e-06  2.926408e-05         1.530834e-04  1.277289e-05   \n",
       "2   4.553908e-07  3.060049e-08         1.898515e-06  8.458304e-08   \n",
       "3   4.926000e-09  3.497408e-07         3.391270e-08  5.308528e-09   \n",
       "4   4.845546e-08  7.598171e-09         1.488603e-09  1.533750e-10   \n",
       "\n",
       "   american_staffordshire_terrier   appenzeller  australian_terrier  \\\n",
       "0                    2.539702e-08  6.013794e-06        4.151496e-09   \n",
       "1                    5.498644e-05  3.413648e-05        1.934480e-06   \n",
       "2                    4.407557e-05  6.785196e-08        7.570343e-08   \n",
       "3                    9.333236e-07  4.167810e-08        1.398285e-09   \n",
       "4                    1.456950e-10  6.076951e-10        2.561577e-10   \n",
       "\n",
       "        basenji        basset        beagle        ...            toy_poodle  \\\n",
       "0  7.133666e-10  3.402509e-09  2.706627e-10        ...          5.386099e-10   \n",
       "1  5.169741e-07  4.555795e-06  9.446680e-06        ...          1.384327e-05   \n",
       "2  2.817219e-06  4.115308e-06  5.555830e-05        ...          3.652467e-07   \n",
       "3  7.375650e-08  5.131314e-09  5.000814e-10        ...          1.807108e-08   \n",
       "4  9.093000e-10  7.886691e-10  4.291540e-08        ...          8.652032e-09   \n",
       "\n",
       "    toy_terrier        vizsla  walker_hound    weimaraner  \\\n",
       "0  1.123894e-10  1.255398e-08  1.147299e-09  7.792850e-09   \n",
       "1  1.553171e-06  5.094542e-06  9.626209e-05  4.134172e-05   \n",
       "2  2.613235e-03  7.560913e-04  4.663273e-03  7.737905e-06   \n",
       "3  1.903928e-07  1.163108e-07  5.610588e-07  2.267823e-07   \n",
       "4  1.724250e-08  3.950603e-09  2.750967e-09  3.964242e-09   \n",
       "\n",
       "   welsh_springer_spaniel  west_highland_white_terrier       whippet  \\\n",
       "0            3.801880e-10                 5.663496e-11  9.785718e-11   \n",
       "1            5.477110e-04                 5.909183e-07  2.716726e-06   \n",
       "2            1.062649e-07                 1.024330e-05  1.202352e-06   \n",
       "3            1.664766e-09                 4.594023e-10  4.922148e-06   \n",
       "4            4.796978e-10                 3.499065e-09  4.922326e-10   \n",
       "\n",
       "   wire-haired_fox_terrier  yorkshire_terrier  \n",
       "0             1.408829e-10       4.467561e-09  \n",
       "1             4.461092e-06       3.241010e-06  \n",
       "2             1.721969e-04       4.107025e-07  \n",
       "3             1.817432e-09       5.148814e-09  \n",
       "4             9.055356e-10       8.087949e-09  \n",
       "\n",
       "[5 rows x 120 columns]"
      ]
     },
     "execution_count": 36,
     "metadata": {},
     "output_type": "execute_result"
    }
   ],
   "source": [
    "df.head()"
   ]
  },
  {
   "cell_type": "code",
   "execution_count": 37,
   "metadata": {},
   "outputs": [],
   "source": [
    "def save_array(fname, arr):\n",
    "    c=bcolz.carray(arr, rootdir=fname, mode='w'); \n",
    "    c.flush()"
   ]
  },
  {
   "cell_type": "code",
   "execution_count": 38,
   "metadata": {},
   "outputs": [],
   "source": [
    "save_array(f'{PATH}preds.bc', df)"
   ]
  },
  {
   "cell_type": "code",
   "execution_count": 39,
   "metadata": {},
   "outputs": [],
   "source": [
    "df.insert(0, 'id', [o[5:-4] for o in data.test_ds.fnames])"
   ]
  },
  {
   "cell_type": "code",
   "execution_count": 40,
   "metadata": {},
   "outputs": [
    {
     "data": {
      "text/html": [
       "<div>\n",
       "<style scoped>\n",
       "    .dataframe tbody tr th:only-of-type {\n",
       "        vertical-align: middle;\n",
       "    }\n",
       "\n",
       "    .dataframe tbody tr th {\n",
       "        vertical-align: top;\n",
       "    }\n",
       "\n",
       "    .dataframe thead th {\n",
       "        text-align: right;\n",
       "    }\n",
       "</style>\n",
       "<table border=\"1\" class=\"dataframe\">\n",
       "  <thead>\n",
       "    <tr style=\"text-align: right;\">\n",
       "      <th></th>\n",
       "      <th>id</th>\n",
       "      <th>affenpinscher</th>\n",
       "      <th>afghan_hound</th>\n",
       "      <th>african_hunting_dog</th>\n",
       "      <th>airedale</th>\n",
       "      <th>american_staffordshire_terrier</th>\n",
       "      <th>appenzeller</th>\n",
       "      <th>australian_terrier</th>\n",
       "      <th>basenji</th>\n",
       "      <th>basset</th>\n",
       "      <th>...</th>\n",
       "      <th>toy_poodle</th>\n",
       "      <th>toy_terrier</th>\n",
       "      <th>vizsla</th>\n",
       "      <th>walker_hound</th>\n",
       "      <th>weimaraner</th>\n",
       "      <th>welsh_springer_spaniel</th>\n",
       "      <th>west_highland_white_terrier</th>\n",
       "      <th>whippet</th>\n",
       "      <th>wire-haired_fox_terrier</th>\n",
       "      <th>yorkshire_terrier</th>\n",
       "    </tr>\n",
       "  </thead>\n",
       "  <tbody>\n",
       "    <tr>\n",
       "      <th>0</th>\n",
       "      <td>2ce015d0d017c595bb64627a5749e3bd</td>\n",
       "      <td>1.271619e-09</td>\n",
       "      <td>4.914671e-10</td>\n",
       "      <td>1.566088e-09</td>\n",
       "      <td>7.981370e-08</td>\n",
       "      <td>2.539702e-08</td>\n",
       "      <td>6.013794e-06</td>\n",
       "      <td>4.151496e-09</td>\n",
       "      <td>7.133666e-10</td>\n",
       "      <td>3.402509e-09</td>\n",
       "      <td>...</td>\n",
       "      <td>5.386099e-10</td>\n",
       "      <td>1.123894e-10</td>\n",
       "      <td>1.255398e-08</td>\n",
       "      <td>1.147299e-09</td>\n",
       "      <td>7.792850e-09</td>\n",
       "      <td>3.801880e-10</td>\n",
       "      <td>5.663496e-11</td>\n",
       "      <td>9.785718e-11</td>\n",
       "      <td>1.408829e-10</td>\n",
       "      <td>4.467561e-09</td>\n",
       "    </tr>\n",
       "    <tr>\n",
       "      <th>1</th>\n",
       "      <td>5bad43e776606caab0912c9e7f0e75ff</td>\n",
       "      <td>5.728948e-06</td>\n",
       "      <td>2.926408e-05</td>\n",
       "      <td>1.530834e-04</td>\n",
       "      <td>1.277289e-05</td>\n",
       "      <td>5.498644e-05</td>\n",
       "      <td>3.413648e-05</td>\n",
       "      <td>1.934480e-06</td>\n",
       "      <td>5.169741e-07</td>\n",
       "      <td>4.555795e-06</td>\n",
       "      <td>...</td>\n",
       "      <td>1.384327e-05</td>\n",
       "      <td>1.553171e-06</td>\n",
       "      <td>5.094542e-06</td>\n",
       "      <td>9.626209e-05</td>\n",
       "      <td>4.134172e-05</td>\n",
       "      <td>5.477110e-04</td>\n",
       "      <td>5.909183e-07</td>\n",
       "      <td>2.716726e-06</td>\n",
       "      <td>4.461092e-06</td>\n",
       "      <td>3.241010e-06</td>\n",
       "    </tr>\n",
       "    <tr>\n",
       "      <th>2</th>\n",
       "      <td>89357a5cef0812f2ba888041de62a243</td>\n",
       "      <td>4.553908e-07</td>\n",
       "      <td>3.060049e-08</td>\n",
       "      <td>1.898515e-06</td>\n",
       "      <td>8.458304e-08</td>\n",
       "      <td>4.407557e-05</td>\n",
       "      <td>6.785196e-08</td>\n",
       "      <td>7.570343e-08</td>\n",
       "      <td>2.817219e-06</td>\n",
       "      <td>4.115308e-06</td>\n",
       "      <td>...</td>\n",
       "      <td>3.652467e-07</td>\n",
       "      <td>2.613235e-03</td>\n",
       "      <td>7.560913e-04</td>\n",
       "      <td>4.663273e-03</td>\n",
       "      <td>7.737905e-06</td>\n",
       "      <td>1.062649e-07</td>\n",
       "      <td>1.024330e-05</td>\n",
       "      <td>1.202352e-06</td>\n",
       "      <td>1.721969e-04</td>\n",
       "      <td>4.107025e-07</td>\n",
       "    </tr>\n",
       "    <tr>\n",
       "      <th>3</th>\n",
       "      <td>b8da90f454f62fb33c83715a404aca3b</td>\n",
       "      <td>4.926000e-09</td>\n",
       "      <td>3.497408e-07</td>\n",
       "      <td>3.391270e-08</td>\n",
       "      <td>5.308528e-09</td>\n",
       "      <td>9.333236e-07</td>\n",
       "      <td>4.167810e-08</td>\n",
       "      <td>1.398285e-09</td>\n",
       "      <td>7.375650e-08</td>\n",
       "      <td>5.131314e-09</td>\n",
       "      <td>...</td>\n",
       "      <td>1.807108e-08</td>\n",
       "      <td>1.903928e-07</td>\n",
       "      <td>1.163108e-07</td>\n",
       "      <td>5.610588e-07</td>\n",
       "      <td>2.267823e-07</td>\n",
       "      <td>1.664766e-09</td>\n",
       "      <td>4.594023e-10</td>\n",
       "      <td>4.922148e-06</td>\n",
       "      <td>1.817432e-09</td>\n",
       "      <td>5.148814e-09</td>\n",
       "    </tr>\n",
       "    <tr>\n",
       "      <th>4</th>\n",
       "      <td>000621fb3cbb32d8935728e48679680e</td>\n",
       "      <td>4.845546e-08</td>\n",
       "      <td>7.598171e-09</td>\n",
       "      <td>1.488603e-09</td>\n",
       "      <td>1.533750e-10</td>\n",
       "      <td>1.456950e-10</td>\n",
       "      <td>6.076951e-10</td>\n",
       "      <td>2.561577e-10</td>\n",
       "      <td>9.093000e-10</td>\n",
       "      <td>7.886691e-10</td>\n",
       "      <td>...</td>\n",
       "      <td>8.652032e-09</td>\n",
       "      <td>1.724250e-08</td>\n",
       "      <td>3.950603e-09</td>\n",
       "      <td>2.750967e-09</td>\n",
       "      <td>3.964242e-09</td>\n",
       "      <td>4.796978e-10</td>\n",
       "      <td>3.499065e-09</td>\n",
       "      <td>4.922326e-10</td>\n",
       "      <td>9.055356e-10</td>\n",
       "      <td>8.087949e-09</td>\n",
       "    </tr>\n",
       "  </tbody>\n",
       "</table>\n",
       "<p>5 rows × 121 columns</p>\n",
       "</div>"
      ],
      "text/plain": [
       "                                 id  affenpinscher  afghan_hound  \\\n",
       "0  2ce015d0d017c595bb64627a5749e3bd   1.271619e-09  4.914671e-10   \n",
       "1  5bad43e776606caab0912c9e7f0e75ff   5.728948e-06  2.926408e-05   \n",
       "2  89357a5cef0812f2ba888041de62a243   4.553908e-07  3.060049e-08   \n",
       "3  b8da90f454f62fb33c83715a404aca3b   4.926000e-09  3.497408e-07   \n",
       "4  000621fb3cbb32d8935728e48679680e   4.845546e-08  7.598171e-09   \n",
       "\n",
       "   african_hunting_dog      airedale  american_staffordshire_terrier  \\\n",
       "0         1.566088e-09  7.981370e-08                    2.539702e-08   \n",
       "1         1.530834e-04  1.277289e-05                    5.498644e-05   \n",
       "2         1.898515e-06  8.458304e-08                    4.407557e-05   \n",
       "3         3.391270e-08  5.308528e-09                    9.333236e-07   \n",
       "4         1.488603e-09  1.533750e-10                    1.456950e-10   \n",
       "\n",
       "    appenzeller  australian_terrier       basenji        basset  \\\n",
       "0  6.013794e-06        4.151496e-09  7.133666e-10  3.402509e-09   \n",
       "1  3.413648e-05        1.934480e-06  5.169741e-07  4.555795e-06   \n",
       "2  6.785196e-08        7.570343e-08  2.817219e-06  4.115308e-06   \n",
       "3  4.167810e-08        1.398285e-09  7.375650e-08  5.131314e-09   \n",
       "4  6.076951e-10        2.561577e-10  9.093000e-10  7.886691e-10   \n",
       "\n",
       "         ...            toy_poodle   toy_terrier        vizsla  walker_hound  \\\n",
       "0        ...          5.386099e-10  1.123894e-10  1.255398e-08  1.147299e-09   \n",
       "1        ...          1.384327e-05  1.553171e-06  5.094542e-06  9.626209e-05   \n",
       "2        ...          3.652467e-07  2.613235e-03  7.560913e-04  4.663273e-03   \n",
       "3        ...          1.807108e-08  1.903928e-07  1.163108e-07  5.610588e-07   \n",
       "4        ...          8.652032e-09  1.724250e-08  3.950603e-09  2.750967e-09   \n",
       "\n",
       "     weimaraner  welsh_springer_spaniel  west_highland_white_terrier  \\\n",
       "0  7.792850e-09            3.801880e-10                 5.663496e-11   \n",
       "1  4.134172e-05            5.477110e-04                 5.909183e-07   \n",
       "2  7.737905e-06            1.062649e-07                 1.024330e-05   \n",
       "3  2.267823e-07            1.664766e-09                 4.594023e-10   \n",
       "4  3.964242e-09            4.796978e-10                 3.499065e-09   \n",
       "\n",
       "        whippet  wire-haired_fox_terrier  yorkshire_terrier  \n",
       "0  9.785718e-11             1.408829e-10       4.467561e-09  \n",
       "1  2.716726e-06             4.461092e-06       3.241010e-06  \n",
       "2  1.202352e-06             1.721969e-04       4.107025e-07  \n",
       "3  4.922148e-06             1.817432e-09       5.148814e-09  \n",
       "4  4.922326e-10             9.055356e-10       8.087949e-09  \n",
       "\n",
       "[5 rows x 121 columns]"
      ]
     },
     "execution_count": 40,
     "metadata": {},
     "output_type": "execute_result"
    }
   ],
   "source": [
    "df.head()"
   ]
  },
  {
   "cell_type": "code",
   "execution_count": 41,
   "metadata": {},
   "outputs": [],
   "source": [
    "SUBM = f'{PATH}subm/'\n",
    "os.makedirs(SUBM, exist_ok=True)\n",
    "df.to_csv(f'{SUBM}subm.gz', compression='gzip', index=False)"
   ]
  },
  {
   "cell_type": "code",
   "execution_count": 42,
   "metadata": {},
   "outputs": [
    {
     "data": {
      "text/html": [
       "<a href='data/dogbreed/subm/subm.gz' target='_blank'>data/dogbreed/subm/subm.gz</a><br>"
      ],
      "text/plain": [
       "/home/bmn/src/ai.learn/fast.ai/fastai/courses/dl1/data/dogbreed/subm/subm.gz"
      ]
     },
     "execution_count": 42,
     "metadata": {},
     "output_type": "execute_result"
    }
   ],
   "source": [
    "FileLink(f'{SUBM}subm.gz')"
   ]
  },
  {
   "cell_type": "code",
   "execution_count": 36,
   "metadata": {},
   "outputs": [],
   "source": [
    "save_array('preds_final.bc', df)"
   ]
  },
  {
   "cell_type": "code",
   "execution_count": null,
   "metadata": {},
   "outputs": [],
   "source": []
  }
 ],
 "metadata": {
  "kernelspec": {
   "display_name": "Python 3",
   "language": "python",
   "name": "python3"
  },
  "language_info": {
   "codemirror_mode": {
    "name": "ipython",
    "version": 3
   },
   "file_extension": ".py",
   "mimetype": "text/x-python",
   "name": "python",
   "nbconvert_exporter": "python",
   "pygments_lexer": "ipython3",
   "version": "3.6.4"
  }
 },
 "nbformat": 4,
 "nbformat_minor": 2
}
