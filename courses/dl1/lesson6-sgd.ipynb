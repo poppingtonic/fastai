{
 "cells": [
  {
   "cell_type": "markdown",
   "metadata": {
    "toc": "true"
   },
   "source": [
    "# Table of Contents\n",
    " <p><div class=\"lev1 toc-item\"><a href=\"#Linear-Regression-problem\" data-toc-modified-id=\"Linear-Regression-problem-1\"><span class=\"toc-item-num\">1&nbsp;&nbsp;</span>Linear Regression problem</a></div><div class=\"lev1 toc-item\"><a href=\"#Gradient-Descent\" data-toc-modified-id=\"Gradient-Descent-2\"><span class=\"toc-item-num\">2&nbsp;&nbsp;</span>Gradient Descent</a></div><div class=\"lev1 toc-item\"><a href=\"#Gradient-Descent---Classification\" data-toc-modified-id=\"Gradient-Descent---Classification-3\"><span class=\"toc-item-num\">3&nbsp;&nbsp;</span>Gradient Descent - Classification</a></div><div class=\"lev1 toc-item\"><a href=\"#Gradient-descent-with-numpy\" data-toc-modified-id=\"Gradient-descent-with-numpy-4\"><span class=\"toc-item-num\">4&nbsp;&nbsp;</span>Gradient descent with numpy</a></div>"
   ]
  },
  {
   "cell_type": "code",
   "execution_count": 2,
   "metadata": {},
   "outputs": [],
   "source": [
    "%matplotlib inline\n",
    "from fastai.learner import *"
   ]
  },
  {
   "cell_type": "markdown",
   "metadata": {},
   "source": [
    "In this part of the lecture we explain Stochastic Gradient Descent (SGD) which is an **optimization** method commonly used in neural networks. We will illustrate the concepts with concrete examples."
   ]
  },
  {
   "cell_type": "markdown",
   "metadata": {},
   "source": [
    "#  Linear Regression problem"
   ]
  },
  {
   "cell_type": "markdown",
   "metadata": {},
   "source": [
    "The goal of linear regression is to fit a line to a set of points."
   ]
  },
  {
   "cell_type": "code",
   "execution_count": 3,
   "metadata": {},
   "outputs": [],
   "source": [
    "# Here we generate some fake data\n",
    "def lin(a,b,x): return a*x+b\n",
    "\n",
    "def gen_fake_data(n, a, b):\n",
    "    x = s = np.random.uniform(0,1,n) \n",
    "    y = lin(a,b,x) + 0.1 * np.random.normal(0,3,n)\n",
    "    return x, y\n",
    "\n",
    "x, y = gen_fake_data(50, 3., 8.)"
   ]
  },
  {
   "cell_type": "code",
   "execution_count": 4,
   "metadata": {
    "scrolled": true
   },
   "outputs": [
    {
     "data": {
      "image/png": "[encoded data removed]",
      "text/plain": [
       "<Figure size 432x288 with 1 Axes>"
      ]
     },
     "metadata": {},
     "output_type": "display_data"
    }
   ],
   "source": [
    "plt.scatter(x,y, s=8); plt.xlabel(\"x\"); plt.ylabel(\"y\"); "
   ]
  },
  {
   "cell_type": "code",
   "execution_count": 6,
   "metadata": {},
   "outputs": [],
   "source": [
    "df = pd.DataFrame.from_dict({'x': x, 'y': y})"
   ]
  },
  {
   "cell_type": "code",
   "execution_count": 11,
   "metadata": {},
   "outputs": [],
   "source": [
    "df['sstot'] = np.square(df.y - df.y.mean())"
   ]
  },
  {
   "cell_type": "code",
   "execution_count": 12,
   "metadata": {},
   "outputs": [],
   "source": [
    "df['ssres'] = np.square(df.y - df.x)"
   ]
  },
  {
   "cell_type": "code",
   "execution_count": 15,
   "metadata": {},
   "outputs": [],
   "source": [
    "df['rsq'] = 1 - (df.ssres / df.sstot)"
   ]
  },
  {
   "cell_type": "code",
   "execution_count": 16,
   "metadata": {},
   "outputs": [
    {
     "data": {
      "text/plain": [
       "0    -5.694418e+02\n",
       "1    -2.844013e+03\n",
       "2    -3.856970e+01\n",
       "3    -3.607065e+01\n",
       "4    -2.963617e+01\n",
       "5    -1.796300e+03\n",
       "6    -3.271170e+01\n",
       "7    -1.105981e+02\n",
       "8    -3.722200e+01\n",
       "9    -6.457465e+02\n",
       "10   -1.366149e+02\n",
       "11   -5.992018e+01\n",
       "12   -9.247275e+01\n",
       "13   -6.181344e+02\n",
       "14   -4.250684e+02\n",
       "15   -2.999410e+03\n",
       "16   -9.652133e+01\n",
       "17   -2.403074e+01\n",
       "18   -4.104856e+01\n",
       "19   -1.198096e+03\n",
       "20   -4.003977e+02\n",
       "21   -3.247565e+02\n",
       "22   -9.517867e+01\n",
       "23   -1.298796e+03\n",
       "24   -3.825534e+07\n",
       "25   -1.535050e+01\n",
       "26   -1.424097e+02\n",
       "27   -9.198196e+01\n",
       "28   -1.452618e+02\n",
       "29   -5.316519e+01\n",
       "30   -2.054637e+02\n",
       "31   -1.300812e+01\n",
       "32   -8.935405e+01\n",
       "33   -2.789560e+02\n",
       "34   -8.098818e+01\n",
       "35   -2.591001e+02\n",
       "36   -5.159938e+02\n",
       "37   -6.120404e+01\n",
       "38   -8.567928e+01\n",
       "39   -6.793650e+01\n",
       "40   -3.790862e+02\n",
       "41   -1.180695e+05\n",
       "42   -6.412744e+03\n",
       "43   -5.751465e+01\n",
       "44   -4.110758e+02\n",
       "45   -4.244367e+02\n",
       "46   -3.450776e+03\n",
       "47   -5.153856e+01\n",
       "48   -1.805209e+02\n",
       "49   -4.083783e+01\n",
       "Name: rsq, dtype: float64"
      ]
     },
     "execution_count": 16,
     "metadata": {},
     "output_type": "execute_result"
    }
   ],
   "source": [
    "df.rsq"
   ]
  },
  {
   "cell_type": "markdown",
   "metadata": {},
   "source": [
    "You want to find **parameters** (weights) $a$ and $b$ such that you minimize the *error* between the points and the line $a\\cdot x + b$. Note that here $a$ and $b$ are unknown. For a regression problem the most common *error function* or *loss function* is the **mean squared error**. "
   ]
  },
  {
   "cell_type": "code",
   "execution_count": 8,
   "metadata": {},
   "outputs": [],
   "source": [
    "def mse(y_hat, y): return ((y_hat - y) ** 2).mean()"
   ]
  },
  {
   "cell_type": "markdown",
   "metadata": {},
   "source": [
    "Suppose we believe $a = 10$ and $b = 5$ then we can compute `y_hat` which is our *prediction* and then compute our error."
   ]
  },
  {
   "cell_type": "code",
   "execution_count": 10,
   "metadata": {},
   "outputs": [
    {
     "data": {
      "text/plain": [
       "3.6766268987924544"
      ]
     },
     "execution_count": 10,
     "metadata": {},
     "output_type": "execute_result"
    }
   ],
   "source": [
    "y_hat = lin(10,5,x)\n",
    "mse(y_hat, y)"
   ]
  },
  {
   "cell_type": "code",
   "execution_count": 11,
   "metadata": {},
   "outputs": [],
   "source": [
    "def mse_loss(a, b, x, y): return mse(lin(a,b,x), y)"
   ]
  },
  {
   "cell_type": "code",
   "execution_count": 12,
   "metadata": {},
   "outputs": [
    {
     "data": {
      "text/plain": [
       "3.6766268987924544"
      ]
     },
     "execution_count": 12,
     "metadata": {},
     "output_type": "execute_result"
    }
   ],
   "source": [
    "mse_loss(10, 5, x, y)"
   ]
  },
  {
   "cell_type": "markdown",
   "metadata": {},
   "source": [
    "So far we have specified the *model* (linear regression) and the *evaluation criteria* (or *loss function*). Now we need to handle *optimization*; that is, how do we find the best values for $a$ and $b$? How do we find the best *fitting* linear regression."
   ]
  },
  {
   "cell_type": "markdown",
   "metadata": {
    "heading_collapsed": true
   },
   "source": [
    "# Gradient Descent"
   ]
  },
  {
   "cell_type": "markdown",
   "metadata": {
    "hidden": true
   },
   "source": [
    "For a fixed dataset $x$ and $y$ `mse_loss(a,b)` is a function of $a$ and $b$. We would like to find the values of $a$ and $b$ that minimize that function.\n",
    "\n",
    "**Gradient descent** is an algorithm that minimizes functions. Given a function defined by a set of parameters, gradient descent starts with an initial set of parameter values and iteratively moves toward a set of parameter values that minimize the function. This iterative minimization is achieved by taking steps in the negative direction of the function gradient.\n",
    "\n",
    "Here is gradient descent implemented in [PyTorch](http://pytorch.org/)."
   ]
  },
  {
   "cell_type": "code",
   "execution_count": 13,
   "metadata": {
    "hidden": true
   },
   "outputs": [
    {
     "data": {
      "text/plain": [
       "((10000,), (10000,))"
      ]
     },
     "execution_count": 13,
     "metadata": {},
     "output_type": "execute_result"
    }
   ],
   "source": [
    "# generate some more data\n",
    "x, y = gen_fake_data(10000, 3., 8.)\n",
    "x.shape, y.shape"
   ]
  },
  {
   "cell_type": "code",
   "execution_count": 14,
   "metadata": {
    "hidden": true
   },
   "outputs": [],
   "source": [
    "x,y = V(x),V(y)"
   ]
  },
  {
   "cell_type": "code",
   "execution_count": 15,
   "metadata": {
    "hidden": true
   },
   "outputs": [
    {
     "data": {
      "text/plain": [
       "(Variable containing:\n",
       " -0.5342\n",
       " [torch.FloatTensor of size 1], Variable containing:\n",
       " -0.3449\n",
       " [torch.FloatTensor of size 1])"
      ]
     },
     "execution_count": 15,
     "metadata": {},
     "output_type": "execute_result"
    }
   ],
   "source": [
    "# Create random weights a and b, and wrap them in Variables.\n",
    "a = V(np.random.randn(1), requires_grad=True)\n",
    "b = V(np.random.randn(1), requires_grad=True)\n",
    "a,b"
   ]
  },
  {
   "cell_type": "code",
   "execution_count": 16,
   "metadata": {
    "hidden": true
   },
   "outputs": [
    {
     "name": "stdout",
     "output_type": "stream",
     "text": [
      "103.2415771484375\n",
      "0.7690687775611877\n",
      "0.12176155298948288\n",
      "0.11154710501432419\n",
      "0.1067400649189949\n",
      "0.10306715220212936\n",
      "0.10024633258581161\n",
      "0.09807989746332169\n",
      "0.0964159220457077\n",
      "0.09513799101114273\n"
     ]
    }
   ],
   "source": [
    "learning_rate = 1e-3\n",
    "for t in range(10000):\n",
    "    # Forward pass: compute predicted y using operations on Variables\n",
    "    loss = mse_loss(a,b,x,y)\n",
    "    if t % 1000 == 0: print(loss.data[0])\n",
    "    \n",
    "    # Computes the gradient of loss with respect to all Variables with requires_grad=True.\n",
    "    # After this call a.grad and b.grad will be Variables holding the gradient\n",
    "    # of the loss with respect to a and b respectively\n",
    "    loss.backward()\n",
    "    \n",
    "    # Update a and b using gradient descent; a.data and b.data are Tensors,\n",
    "    # a.grad and b.grad are Variables and a.grad.data and b.grad.data are Tensors\n",
    "    a.data -= learning_rate * a.grad.data\n",
    "    b.data -= learning_rate * b.grad.data\n",
    "    \n",
    "    # Zero the gradients\n",
    "    a.grad.data.zero_()\n",
    "    b.grad.data.zero_()    "
   ]
  },
  {
   "cell_type": "markdown",
   "metadata": {
    "hidden": true
   },
   "source": [
    "Nearly all of deep learning is powered by one very important algorithm: **stochastic gradient descent (SGD)**. SGD can be seeing as an approximation of **gradient descent** (GD). In GD you have to run through *all* the samples in your training set to do a single itaration. In SGD you use *only one* or *a subset*  of training samples to do the update for a parameter in a particular iteration. The subset use in every iteration is called a **batch** or **minibatch**."
   ]
  },
  {
   "cell_type": "markdown",
   "metadata": {
    "heading_collapsed": true
   },
   "source": [
    "# Gradient Descent - Classification"
   ]
  },
  {
   "cell_type": "markdown",
   "metadata": {
    "hidden": true
   },
   "source": [
    "For a fixed dataset $x$ and $y$ `mse_loss(a,b)` is a function of $a$ and $b$. We would like to find the values of $a$ and $b$ that minimize that function.\n",
    "\n",
    "**Gradient descent** is an algorithm that minimizes functions. Given a function defined by a set of parameters, gradient descent starts with an initial set of parameter values and iteratively moves toward a set of parameter values that minimize the function. This iterative minimization is achieved by taking steps in the negative direction of the function gradient.\n",
    "\n",
    "Here is gradient descent implemented in [PyTorch](http://pytorch.org/)."
   ]
  },
  {
   "cell_type": "code",
   "execution_count": 17,
   "metadata": {
    "hidden": true
   },
   "outputs": [],
   "source": [
    "def gen_fake_data2(n, a, b):\n",
    "    x = s = np.random.uniform(0,1,n) \n",
    "    y = lin(a,b,x) + 0.1 * np.random.normal(0,3,n)\n",
    "    return x, np.where(y>10, 1, 0).astype(np.float32)"
   ]
  },
  {
   "cell_type": "code",
   "execution_count": 18,
   "metadata": {
    "hidden": true
   },
   "outputs": [],
   "source": [
    "x,y = gen_fake_data2(10000, 3., 8.)\n",
    "x,y = V(x),V(y)"
   ]
  },
  {
   "cell_type": "code",
   "execution_count": 19,
   "metadata": {
    "hidden": true
   },
   "outputs": [],
   "source": [
    "def nll(y_hat, y):\n",
    "    y_hat = torch.clamp(y_hat, 1e-5, 1-1e-5)\n",
    "    return (y*y_hat.log() + (1-y)*(1-y_hat).log()).mean()"
   ]
  },
  {
   "cell_type": "code",
   "execution_count": 20,
   "metadata": {
    "hidden": true
   },
   "outputs": [],
   "source": [
    "a = V(np.random.randn(1), requires_grad=True)\n",
    "b = V(np.random.randn(1), requires_grad=True)"
   ]
  },
  {
   "cell_type": "code",
   "execution_count": 21,
   "metadata": {
    "hidden": true
   },
   "outputs": [
    {
     "ename": "RuntimeError",
     "evalue": "Can't call numpy() on Variable that requires grad. Use var.detach().numpy() instead.",
     "output_type": "error",
     "traceback": [
      "\u001b[0;31m---------------------------------------------------------------------------\u001b[0m",
      "\u001b[0;31mAttributeError\u001b[0m                            Traceback (most recent call last)",
      "\u001b[0;32m~/anaconda3/envs/fastai/lib/python3.6/site-packages/numpy/core/fromnumeric.py\u001b[0m in \u001b[0;36m_wrapfunc\u001b[0;34m(obj, method, *args, **kwds)\u001b[0m\n\u001b[1;32m     56\u001b[0m     \u001b[0;32mtry\u001b[0m\u001b[0;34m:\u001b[0m\u001b[0;34m\u001b[0m\u001b[0m\n\u001b[0;32m---> 57\u001b[0;31m         \u001b[0;32mreturn\u001b[0m \u001b[0mgetattr\u001b[0m\u001b[0;34m(\u001b[0m\u001b[0mobj\u001b[0m\u001b[0;34m,\u001b[0m \u001b[0mmethod\u001b[0m\u001b[0;34m)\u001b[0m\u001b[0;34m(\u001b[0m\u001b[0;34m*\u001b[0m\u001b[0margs\u001b[0m\u001b[0;34m,\u001b[0m \u001b[0;34m**\u001b[0m\u001b[0mkwds\u001b[0m\u001b[0;34m)\u001b[0m\u001b[0;34m\u001b[0m\u001b[0m\n\u001b[0m\u001b[1;32m     58\u001b[0m \u001b[0;34m\u001b[0m\u001b[0m\n",
      "\u001b[0;31mAttributeError\u001b[0m: 'Variable' object has no attribute 'clip'",
      "\nDuring handling of the above exception, another exception occurred:\n",
      "\u001b[0;31mRuntimeError\u001b[0m                              Traceback (most recent call last)",
      "\u001b[0;32m<ipython-input-21-99e65ec4591a>\u001b[0m in \u001b[0;36m<module>\u001b[0;34m()\u001b[0m\n\u001b[1;32m      3\u001b[0m     \u001b[0mp\u001b[0m \u001b[0;34m=\u001b[0m \u001b[0;34m(\u001b[0m\u001b[0;34m-\u001b[0m\u001b[0mlin\u001b[0m\u001b[0;34m(\u001b[0m\u001b[0ma\u001b[0m\u001b[0;34m,\u001b[0m\u001b[0mb\u001b[0m\u001b[0;34m,\u001b[0m\u001b[0mx\u001b[0m\u001b[0;34m)\u001b[0m\u001b[0;34m)\u001b[0m\u001b[0;34m.\u001b[0m\u001b[0mexp\u001b[0m\u001b[0;34m(\u001b[0m\u001b[0;34m)\u001b[0m\u001b[0;34m\u001b[0m\u001b[0m\n\u001b[1;32m      4\u001b[0m     \u001b[0my_hat\u001b[0m \u001b[0;34m=\u001b[0m \u001b[0;36m1\u001b[0m\u001b[0;34m/\u001b[0m\u001b[0;34m(\u001b[0m\u001b[0;36m1\u001b[0m\u001b[0;34m+\u001b[0m\u001b[0mp\u001b[0m\u001b[0;34m)\u001b[0m\u001b[0;34m\u001b[0m\u001b[0m\n\u001b[0;32m----> 5\u001b[0;31m     \u001b[0mloss\u001b[0m \u001b[0;34m=\u001b[0m \u001b[0mnll\u001b[0m\u001b[0;34m(\u001b[0m\u001b[0my_hat\u001b[0m\u001b[0;34m,\u001b[0m\u001b[0my\u001b[0m\u001b[0;34m)\u001b[0m\u001b[0;34m\u001b[0m\u001b[0m\n\u001b[0m\u001b[1;32m      6\u001b[0m     \u001b[0;32mif\u001b[0m \u001b[0mt\u001b[0m \u001b[0;34m%\u001b[0m \u001b[0;36m1000\u001b[0m \u001b[0;34m==\u001b[0m \u001b[0;36m0\u001b[0m\u001b[0;34m:\u001b[0m\u001b[0;34m\u001b[0m\u001b[0m\n\u001b[1;32m      7\u001b[0m         \u001b[0mprint\u001b[0m\u001b[0;34m(\u001b[0m\u001b[0mloss\u001b[0m\u001b[0;34m.\u001b[0m\u001b[0mdata\u001b[0m\u001b[0;34m[\u001b[0m\u001b[0;36m0\u001b[0m\u001b[0;34m]\u001b[0m\u001b[0;34m,\u001b[0m \u001b[0mnp\u001b[0m\u001b[0;34m.\u001b[0m\u001b[0mmean\u001b[0m\u001b[0;34m(\u001b[0m\u001b[0mto_np\u001b[0m\u001b[0;34m(\u001b[0m\u001b[0my\u001b[0m\u001b[0;34m)\u001b[0m\u001b[0;34m==\u001b[0m\u001b[0;34m(\u001b[0m\u001b[0mto_np\u001b[0m\u001b[0;34m(\u001b[0m\u001b[0my_hat\u001b[0m\u001b[0;34m)\u001b[0m\u001b[0;34m>\u001b[0m\u001b[0;36m0.5\u001b[0m\u001b[0;34m)\u001b[0m\u001b[0;34m)\u001b[0m\u001b[0;34m)\u001b[0m\u001b[0;34m\u001b[0m\u001b[0m\n",
      "\u001b[0;32m<ipython-input-19-30484270c42d>\u001b[0m in \u001b[0;36mnll\u001b[0;34m(y_hat, y)\u001b[0m\n\u001b[1;32m      1\u001b[0m \u001b[0;32mdef\u001b[0m \u001b[0mnll\u001b[0m\u001b[0;34m(\u001b[0m\u001b[0my_hat\u001b[0m\u001b[0;34m,\u001b[0m \u001b[0my\u001b[0m\u001b[0;34m)\u001b[0m\u001b[0;34m:\u001b[0m\u001b[0;34m\u001b[0m\u001b[0m\n\u001b[0;32m----> 2\u001b[0;31m     \u001b[0my_hat\u001b[0m \u001b[0;34m=\u001b[0m \u001b[0mnp\u001b[0m\u001b[0;34m.\u001b[0m\u001b[0mclip\u001b[0m\u001b[0;34m(\u001b[0m\u001b[0my_hat\u001b[0m\u001b[0;34m,\u001b[0m \u001b[0;36m1e-5\u001b[0m\u001b[0;34m,\u001b[0m \u001b[0;36m1\u001b[0m\u001b[0;34m-\u001b[0m\u001b[0;36m1e-5\u001b[0m\u001b[0;34m)\u001b[0m\u001b[0;34m\u001b[0m\u001b[0m\n\u001b[0m\u001b[1;32m      3\u001b[0m     \u001b[0;32mreturn\u001b[0m \u001b[0;34m(\u001b[0m\u001b[0my\u001b[0m\u001b[0;34m*\u001b[0m\u001b[0my_hat\u001b[0m\u001b[0;34m.\u001b[0m\u001b[0mlog\u001b[0m\u001b[0;34m(\u001b[0m\u001b[0;34m)\u001b[0m \u001b[0;34m+\u001b[0m \u001b[0;34m(\u001b[0m\u001b[0;36m1\u001b[0m\u001b[0;34m-\u001b[0m\u001b[0my\u001b[0m\u001b[0;34m)\u001b[0m\u001b[0;34m*\u001b[0m\u001b[0;34m(\u001b[0m\u001b[0;36m1\u001b[0m\u001b[0;34m-\u001b[0m\u001b[0my_hat\u001b[0m\u001b[0;34m)\u001b[0m\u001b[0;34m.\u001b[0m\u001b[0mlog\u001b[0m\u001b[0;34m(\u001b[0m\u001b[0;34m)\u001b[0m\u001b[0;34m)\u001b[0m\u001b[0;34m.\u001b[0m\u001b[0mmean\u001b[0m\u001b[0;34m(\u001b[0m\u001b[0;34m)\u001b[0m\u001b[0;34m\u001b[0m\u001b[0m\n",
      "\u001b[0;32m~/anaconda3/envs/fastai/lib/python3.6/site-packages/numpy/core/fromnumeric.py\u001b[0m in \u001b[0;36mclip\u001b[0;34m(a, a_min, a_max, out)\u001b[0m\n\u001b[1;32m   1725\u001b[0m \u001b[0;34m\u001b[0m\u001b[0m\n\u001b[1;32m   1726\u001b[0m     \"\"\"\n\u001b[0;32m-> 1727\u001b[0;31m     \u001b[0;32mreturn\u001b[0m \u001b[0m_wrapfunc\u001b[0m\u001b[0;34m(\u001b[0m\u001b[0ma\u001b[0m\u001b[0;34m,\u001b[0m \u001b[0;34m'clip'\u001b[0m\u001b[0;34m,\u001b[0m \u001b[0ma_min\u001b[0m\u001b[0;34m,\u001b[0m \u001b[0ma_max\u001b[0m\u001b[0;34m,\u001b[0m \u001b[0mout\u001b[0m\u001b[0;34m=\u001b[0m\u001b[0mout\u001b[0m\u001b[0;34m)\u001b[0m\u001b[0;34m\u001b[0m\u001b[0m\n\u001b[0m\u001b[1;32m   1728\u001b[0m \u001b[0;34m\u001b[0m\u001b[0m\n\u001b[1;32m   1729\u001b[0m \u001b[0;34m\u001b[0m\u001b[0m\n",
      "\u001b[0;32m~/anaconda3/envs/fastai/lib/python3.6/site-packages/numpy/core/fromnumeric.py\u001b[0m in \u001b[0;36m_wrapfunc\u001b[0;34m(obj, method, *args, **kwds)\u001b[0m\n\u001b[1;32m     65\u001b[0m     \u001b[0;31m# a downstream library like 'pandas'.\u001b[0m\u001b[0;34m\u001b[0m\u001b[0;34m\u001b[0m\u001b[0m\n\u001b[1;32m     66\u001b[0m     \u001b[0;32mexcept\u001b[0m \u001b[0;34m(\u001b[0m\u001b[0mAttributeError\u001b[0m\u001b[0;34m,\u001b[0m \u001b[0mTypeError\u001b[0m\u001b[0;34m)\u001b[0m\u001b[0;34m:\u001b[0m\u001b[0;34m\u001b[0m\u001b[0m\n\u001b[0;32m---> 67\u001b[0;31m         \u001b[0;32mreturn\u001b[0m \u001b[0m_wrapit\u001b[0m\u001b[0;34m(\u001b[0m\u001b[0mobj\u001b[0m\u001b[0;34m,\u001b[0m \u001b[0mmethod\u001b[0m\u001b[0;34m,\u001b[0m \u001b[0;34m*\u001b[0m\u001b[0margs\u001b[0m\u001b[0;34m,\u001b[0m \u001b[0;34m**\u001b[0m\u001b[0mkwds\u001b[0m\u001b[0;34m)\u001b[0m\u001b[0;34m\u001b[0m\u001b[0m\n\u001b[0m\u001b[1;32m     68\u001b[0m \u001b[0;34m\u001b[0m\u001b[0m\n\u001b[1;32m     69\u001b[0m \u001b[0;34m\u001b[0m\u001b[0m\n",
      "\u001b[0;32m~/anaconda3/envs/fastai/lib/python3.6/site-packages/numpy/core/fromnumeric.py\u001b[0m in \u001b[0;36m_wrapit\u001b[0;34m(obj, method, *args, **kwds)\u001b[0m\n\u001b[1;32m     45\u001b[0m     \u001b[0;32mexcept\u001b[0m \u001b[0mAttributeError\u001b[0m\u001b[0;34m:\u001b[0m\u001b[0;34m\u001b[0m\u001b[0m\n\u001b[1;32m     46\u001b[0m         \u001b[0mwrap\u001b[0m \u001b[0;34m=\u001b[0m \u001b[0;32mNone\u001b[0m\u001b[0;34m\u001b[0m\u001b[0m\n\u001b[0;32m---> 47\u001b[0;31m     \u001b[0mresult\u001b[0m \u001b[0;34m=\u001b[0m \u001b[0mgetattr\u001b[0m\u001b[0;34m(\u001b[0m\u001b[0masarray\u001b[0m\u001b[0;34m(\u001b[0m\u001b[0mobj\u001b[0m\u001b[0;34m)\u001b[0m\u001b[0;34m,\u001b[0m \u001b[0mmethod\u001b[0m\u001b[0;34m)\u001b[0m\u001b[0;34m(\u001b[0m\u001b[0;34m*\u001b[0m\u001b[0margs\u001b[0m\u001b[0;34m,\u001b[0m \u001b[0;34m**\u001b[0m\u001b[0mkwds\u001b[0m\u001b[0;34m)\u001b[0m\u001b[0;34m\u001b[0m\u001b[0m\n\u001b[0m\u001b[1;32m     48\u001b[0m     \u001b[0;32mif\u001b[0m \u001b[0mwrap\u001b[0m\u001b[0;34m:\u001b[0m\u001b[0;34m\u001b[0m\u001b[0m\n\u001b[1;32m     49\u001b[0m         \u001b[0;32mif\u001b[0m \u001b[0;32mnot\u001b[0m \u001b[0misinstance\u001b[0m\u001b[0;34m(\u001b[0m\u001b[0mresult\u001b[0m\u001b[0;34m,\u001b[0m \u001b[0mmu\u001b[0m\u001b[0;34m.\u001b[0m\u001b[0mndarray\u001b[0m\u001b[0;34m)\u001b[0m\u001b[0;34m:\u001b[0m\u001b[0;34m\u001b[0m\u001b[0m\n",
      "\u001b[0;32m~/anaconda3/envs/fastai/lib/python3.6/site-packages/numpy/core/numeric.py\u001b[0m in \u001b[0;36masarray\u001b[0;34m(a, dtype, order)\u001b[0m\n\u001b[1;32m    529\u001b[0m \u001b[0;34m\u001b[0m\u001b[0m\n\u001b[1;32m    530\u001b[0m     \"\"\"\n\u001b[0;32m--> 531\u001b[0;31m     \u001b[0;32mreturn\u001b[0m \u001b[0marray\u001b[0m\u001b[0;34m(\u001b[0m\u001b[0ma\u001b[0m\u001b[0;34m,\u001b[0m \u001b[0mdtype\u001b[0m\u001b[0;34m,\u001b[0m \u001b[0mcopy\u001b[0m\u001b[0;34m=\u001b[0m\u001b[0;32mFalse\u001b[0m\u001b[0;34m,\u001b[0m \u001b[0morder\u001b[0m\u001b[0;34m=\u001b[0m\u001b[0morder\u001b[0m\u001b[0;34m)\u001b[0m\u001b[0;34m\u001b[0m\u001b[0m\n\u001b[0m\u001b[1;32m    532\u001b[0m \u001b[0;34m\u001b[0m\u001b[0m\n\u001b[1;32m    533\u001b[0m \u001b[0;34m\u001b[0m\u001b[0m\n",
      "\u001b[0;32m~/anaconda3/envs/fastai/lib/python3.6/site-packages/torch/autograd/variable.py\u001b[0m in \u001b[0;36m__array__\u001b[0;34m(self, dtype)\u001b[0m\n\u001b[1;32m    363\u001b[0m     \u001b[0;32mdef\u001b[0m \u001b[0m__array__\u001b[0m\u001b[0;34m(\u001b[0m\u001b[0mself\u001b[0m\u001b[0;34m,\u001b[0m \u001b[0mdtype\u001b[0m\u001b[0;34m=\u001b[0m\u001b[0;32mNone\u001b[0m\u001b[0;34m)\u001b[0m\u001b[0;34m:\u001b[0m\u001b[0;34m\u001b[0m\u001b[0m\n\u001b[1;32m    364\u001b[0m         \u001b[0;32mif\u001b[0m \u001b[0mdtype\u001b[0m \u001b[0;32mis\u001b[0m \u001b[0;32mNone\u001b[0m\u001b[0;34m:\u001b[0m\u001b[0;34m\u001b[0m\u001b[0m\n\u001b[0;32m--> 365\u001b[0;31m             \u001b[0;32mreturn\u001b[0m \u001b[0mself\u001b[0m\u001b[0;34m.\u001b[0m\u001b[0mcpu\u001b[0m\u001b[0;34m(\u001b[0m\u001b[0;34m)\u001b[0m\u001b[0;34m.\u001b[0m\u001b[0mnumpy\u001b[0m\u001b[0;34m(\u001b[0m\u001b[0;34m)\u001b[0m\u001b[0;34m\u001b[0m\u001b[0m\n\u001b[0m\u001b[1;32m    366\u001b[0m         \u001b[0;32melse\u001b[0m\u001b[0;34m:\u001b[0m\u001b[0;34m\u001b[0m\u001b[0m\n\u001b[1;32m    367\u001b[0m             \u001b[0;32mreturn\u001b[0m \u001b[0mself\u001b[0m\u001b[0;34m.\u001b[0m\u001b[0mcpu\u001b[0m\u001b[0;34m(\u001b[0m\u001b[0;34m)\u001b[0m\u001b[0;34m.\u001b[0m\u001b[0mnumpy\u001b[0m\u001b[0;34m(\u001b[0m\u001b[0;34m)\u001b[0m\u001b[0;34m.\u001b[0m\u001b[0mastype\u001b[0m\u001b[0;34m(\u001b[0m\u001b[0mdtype\u001b[0m\u001b[0;34m,\u001b[0m \u001b[0mcopy\u001b[0m\u001b[0;34m=\u001b[0m\u001b[0;32mFalse\u001b[0m\u001b[0;34m)\u001b[0m\u001b[0;34m\u001b[0m\u001b[0m\n",
      "\u001b[0;31mRuntimeError\u001b[0m: Can't call numpy() on Variable that requires grad. Use var.detach().numpy() instead."
     ]
    }
   ],
   "source": [
    "learning_rate = 1e-2\n",
    "for t in range(3000):\n",
    "    p = (-lin(a,b,x)).exp()\n",
    "    y_hat = 1/(1+p)\n",
    "    loss = nll(y_hat,y)\n",
    "    if t % 1000 == 0:\n",
    "        print(loss.data[0], np.mean(to_np(y)==(to_np(y_hat)>0.5)))\n",
    "#         print(y_hat)\n",
    "    \n",
    "    loss.backward()\n",
    "    a.data -= learning_rate * a.grad.data\n",
    "    b.data -= learning_rate * b.grad.data\n",
    "    a.grad.data.zero_()\n",
    "    b.grad.data.zero_()    "
   ]
  },
  {
   "cell_type": "markdown",
   "metadata": {
    "hidden": true
   },
   "source": [
    "Nearly all of deep learning is powered by one very important algorithm: **stochastic gradient descent (SGD)**. SGD can be seeing as an approximation of **gradient descent** (GD). In GD you have to run through *all* the samples in your training set to do a single itaration. In SGD you use *only one* or *a subset*  of training samples to do the update for a parameter in a particular iteration. The subset use in every iteration is called a **batch** or **minibatch**."
   ]
  },
  {
   "cell_type": "markdown",
   "metadata": {},
   "source": [
    "# Gradient descent with numpy"
   ]
  },
  {
   "cell_type": "code",
   "execution_count": 22,
   "metadata": {},
   "outputs": [],
   "source": [
    "from matplotlib import rcParams, animation, rc\n",
    "from ipywidgets import interact, interactive, fixed\n",
    "from ipywidgets.widgets import *\n",
    "rc('animation', html='html5')\n",
    "rcParams['figure.figsize'] = 3, 3"
   ]
  },
  {
   "cell_type": "code",
   "execution_count": 23,
   "metadata": {},
   "outputs": [],
   "source": [
    "x, y = gen_fake_data(50, 3., 8.)"
   ]
  },
  {
   "cell_type": "code",
   "execution_count": 24,
   "metadata": {},
   "outputs": [
    {
     "data": {
      "text/plain": [
       "65.148274608071048"
      ]
     },
     "execution_count": 24,
     "metadata": {},
     "output_type": "execute_result"
    }
   ],
   "source": [
    "a_guess,b_guess = -1., 1.\n",
    "mse_loss(a_guess, b_guess, x, y)"
   ]
  },
  {
   "cell_type": "code",
   "execution_count": 25,
   "metadata": {},
   "outputs": [],
   "source": [
    "lr=0.01\n",
    "def upd():\n",
    "    global a_guess, b_guess\n",
    "    y_pred = lin(a_guess, b_guess, x)\n",
    "    dydb = 2 * (y_pred - y)\n",
    "    dyda = x*dydb\n",
    "    a_guess -= lr*dyda.mean()\n",
    "    b_guess -= lr*dydb.mean()"
   ]
  },
  {
   "cell_type": "code",
   "execution_count": 26,
   "metadata": {},
   "outputs": [
    {
     "data": {
      "text/html": [
       "<video width=\"500\" height=\"400\" controls autoplay loop>\n",
       "  <source type=\"video/mp4\" src=\"data:video/mp4;base64,AAAAHGZ0eXBNNFYgAAACAGlzb21pc28yYXZjMQAAAAhmcmVlAABC9G1kYXQAAAKvBgX//6vcRem9\n",
       "5tlIt5Ys2CDZI+7veDI2NCAtIGNvcmUgMTQ4IHIyNjQzIDVjNjU3MDQgLSBILjI2NC9NUEVHLTQg\n",
       "QVZDIGNvZGVjIC0gQ29weWxlZnQgMjAwMy0yMDE1IC0gaHR0cDovL3d3dy52aWRlb2xhbi5vcmcv\n",
       "eDI2NC5odG1sIC0gb3B0aW9uczogY2FiYWM9MSByZWY9MyBkZWJsb2NrPTE6MDowIGFuYWx5c2U9\n",
       "MHgzOjB4MTEzIG1lPWhleCBzdWJtZT03IHBzeT0xIHBzeV9yZD0xLjAwOjAuMDAgbWl4ZWRfcmVm\n",
       "PTEgbWVfcmFuZ2U9MTYgY2hyb21hX21lPTEgdHJlbGxpcz0xIDh4OGRjdD0xIGNxbT0wIGRlYWR6\n",
       "b25lPTIxLDExIGZhc3RfcHNraXA9MSBjaHJvbWFfcXBfb2Zmc2V0PS0yIHRocmVhZHM9MTIgbG9v\n",
       "a2FoZWFkX3RocmVhZHM9MiBzbGljZWRfdGhyZWFkcz0wIG5yPTAgZGVjaW1hdGU9MSBpbnRlcmxh\n",
       "Y2VkPTAgYmx1cmF5X2NvbXBhdD0wIGNvbnN0cmFpbmVkX2ludHJhPTAgYmZyYW1lcz0zIGJfcHly\n",
       "YW1pZD0yIGJfYWRhcHQ9MSBiX2JpYXM9MCBkaXJlY3Q9MSB3ZWlnaHRiPTEgb3Blbl9nb3A9MCB3\n",
       "ZWlnaHRwPTIga2V5aW50PTI1MCBrZXlpbnRfbWluPTEwIHNjZW5lY3V0PTQwIGludHJhX3JlZnJl\n",
       "c2g9MCByY19sb29rYWhlYWQ9NDAgcmM9Y3JmIG1idHJlZT0xIGNyZj0yMy4wIHFjb21wPTAuNjAg\n",
       "cXBtaW49MCBxcG1heD02OSBxcHN0ZXA9NCBpcF9yYXRpbz0xLjQwIGFxPTE6MS4wMACAAAAa7mWI\n",
       "hAAQ//73gb8yy18iuslx+ed9LKzPPOQ8cl2JrrjQAAADAAADAnTFsu53XQ2mHYAAAqwv/wWSuLYB\n",
       "NLykuinx4Xqj2A1HwP1Ur2xSYht5xG7EpLfR6V+a9Hh/D0gz3/095V+74kvKk1NO4wUh4W5M0Jgw\n",
       "GXlv+kY92ejAAZe1blv4Ws819Yavts3WpGF3HOHuSMeQ91GXCuJ4IE5MigtNBKdqyPlCdPjK/zpy\n",
       "IXestV3kV7ALVrX9q4QO23Lu44b4Q5YgBX7P03zs5NZ+s1ChKcJ3CJqmmpoZlupXepLX83HSXkkr\n",
       "D6cN4g9vvO5ilOT1cMzRC8WoG9n6Nj3onbS1675G3Sko3la9mvoxcksEfHS6jufFIOYIeF5d7nHu\n",
       "IJ3Rqj5nwPqZwBo+cEQDlvND9vMxIifRFuSlNFSCSxTZuO3RZ5BPx5h+lptkPwjVD7AK68HTKkxm\n",
       "uBpyeIG5D+Kc8O/vmt78JFk0ot84cfut6Cx70fGoquUpTevJZfxrlgBsp/USbtyX2WwW1tS3eCKi\n",
       "9T7xlZFuQhsr1s9zlU02xcKAtzhINgnPG+7pS4SoUzmFZa/B0tomT+7Zt4wfK60yWhNx7M0sQW8x\n",
       "Ci9HJ7tDqJ9VpDok60K4aHVKMr+rVaJuNj1R3X+HsG7zkMWgdPEs5/Ql27ocS/Lk8uOl9JA5jJYb\n",
       "ggzhfXQFRujYsBEizmacqRfz8PQZ8UXe53D5DR8kSU3JH8UdeZU+Y3my91T4WsSTY+htVqPz4yj6\n",
       "0/CHhbN/cUWtrqIfwAyEdTOmKqQIiqYVE8hUrSuwGhqAE4bD4bkJEqSqVLke0r6K8xAwykywIFKG\n",
       "Yow/e24ienaN+FubedkIBoG2g0AtvnZuh7+S5dY5L4b+a2Vbol73KrLlhO5ZFSiLQTwlSbXx3VDA\n",
       "rXIQKvswnHzmh8jZGgEZ8JMKlqPfc8DHnHS3HJRtNrSmpNQKFvU/z5mNewDviYbp255mmPF6iUVr\n",
       "c0IpWZrR/spwbZn387Z6O+eEJ68xtUI25+s43MZftI6PEkSOfoPDwg73vkV8nz1TtGCeIT9Y+Lqv\n",
       "5EtVuYfM5Z0wR8s8Zo9mUOUtJFXNJKYaVheh8uQFJr6D9rtc42Yn9o6Nj71WvdzXo/Q62/O6pWhT\n",
       "fSR2//ocvPX8/ECTrKpL9GvZWixnci5v+jMbSVm6Cq6d1C8hK3ypaKAmDoASHpVyVy9+A4ATH7dP\n",
       "xZ683W9UiyfCSz9aSU10g9gVQu8wpytuCGT6b9k4B9K4gRfwaPvCL320p8UzWFF1ZtoLRvisDKZ3\n",
       "pOvstJLcTef4SUaltcvLjC7X/fpxaboEnctifYdTNn0LOfX/+m3Y/ALDazfPZ93KMQRrlalj8/ba\n",
       "fyuRJgVxHqD2PUTLZA2qcwcj/T1Ll7MXW8AG83NXtK2DCBbg6pHPxWBO9Zwvu5OLb0OzKyEPhv+P\n",
       "Oom1QtreJkRd9dqIjEKh+drSEH0CJDvt6O+h+gP1wCefyUJsQo2Zv6DKcj8gOnde8lRXNNC+ODYR\n",
       "+Een/YyHt0eMOHSx1wLiW+idNbGnDoXR/mB1zkrNiBwpGpHIw7tvYeaIes2DMud67xaXDxdjcABp\n",
       "8XNggkqHrlZfTUGnSP1XPDtu+ohryI3KVpXxP5ie+kSggDW8rxNz6FRDw7G6iPzQLFADbk/WvjVX\n",
       "qP+l/u1aHOV2T4t9EE5GB37olbqLV8zsk/V58xKoNF1iDDE5kuwik2Y1gSgXywuANMSEz94d9VrR\n",
       "MYc80ajFipEhZUZjSgMGM4FVDh7VXDbGaRmlnD4A4DQDq2xKZjdzrzbp1drU2igoh1LL6s1OSXL+\n",
       "azwkJGmKqdqgXs+IPOdUtgnjbwq+2cbS1VJOTQEbsr/6lLqBLeZXi62cpbbepPIhhVPNS3zmkivK\n",
       "gajVfbsPsrKbOSewhTf4kTOgPEwInZqO+QpLatpCwDzWGogCXiXrZZ/hC/5X9XfK5cpfu1o/wTVB\n",
       "dwZ1nmPCHBfcN4l33oULq0iD02lPD5EQfpeykKC/CCsPULCqRlJq7aMN9L7serIVOXXsWuVeJ8CH\n",
       "94bVqU/TkdzqB+yKC2pOa2rOyu/GuZOwhPpjffwOoDuMlR20CrGxMNP5dOhc23nZ241cGxjiktHY\n",
       "qSdKEmvhOjKBqDFQlc1w2H5Cq/QUmbvwS497HB0EtByncdaxNpO9ATudMxRkX5UGd9iZn37Nw0Ui\n",
       "Cqb5HGS7CVMH/Iu2emi9dUiUwnrNvr+MLrQhGPUrWbUQtGJZf0mUOG4ci2eG1GLpC+XtY2/Pic/O\n",
       "Paxy1ThSlQhiEz7RN7G/7JOWwbANOYfz9376brcZfiTfDpabeEbcNpDPPSeHG5IKj2PzdMgKPh0l\n",
       "nTJDOQwmKQ+SIZhqeAPQZ0VBheUCl2z/b51J9oULTSha2yYIU93l1WD7IK3pZhb7wdwQaKMmeXjs\n",
       "hCqHRz4bLOjG5/eapKSGKikeN6To/jvcEsMVWPa+cnVVlvB+xVh4/ZW3tQeSXQMIzCS3z29U7mVo\n",
       "O1NHrg7A2TeJx1g5IFkjYZpE521yd9Qb+H1rjZgm7QQRAtgUkBVSI+W/IxpF3QEjQIMkAjABOOky\n",
       "LlQ1yUK4MMMqQJ+yEWhkR2SzEZ4vTDIHHHH/Xq2MOJo5qTIqJl87gKe3vMcC3jnspUvdfF++e3hB\n",
       "Ipo5lxiiUvtxJeGjPxTiJxJ+T+7cTPauNskIY1v3/348H0VSRtId9GqgsSxjvusrTa25uZVFhj9A\n",
       "ySy1kVBWHBWPO2EZuw2qqiKfUJDTukSV5XWAy7yEWJfNYX1SlDeJftEjFXSmN+d3+FiQnHuUDqkj\n",
       "qNyoD/ECPiTyrh5PNXXgx0V5dUZz9nZpsWJlRYrh5X/cTRELku3cCzz0sfDFInxX7XGYID0JjCu0\n",
       "NBh57CQGuBcmeDyJ5/7qozz4EN03o8eV579jcNLMfqMCUF2yaN9cmCAzV4aX0xi7NFyXg/+0xG42\n",
       "jWv3udvNxvRcDX+o+qdqBgG9ruliyJDX4p6scROLeWAUSwzPYy9rU7B9aeB5OkAKa+NE+HbrpRk1\n",
       "N1CJ9Kon/7MrZqRpzJ8j7tb6S9I4NJxn3iW3ZvxQWNml0/RlDRNLpRsJ4efIJY8uSisi+qxXrmFM\n",
       "9PDrAKV63CmxtvSY29vXIzvRllwqkiWeANk/XWqNSH5oKn+5CRmDCFnbbkgfevl3C5xa+RuOcvph\n",
       "33/S7w3YHWYY2RhKbBBqJQroouPJYOi0qpTziXVwxc+E2dKsTZ0u6vuqUqy+R8hCpqDhhxZGRD/h\n",
       "geFBuh9sNhaVgFX1zW3wU6xaUHpHaSs7tBZRLff2zxz+Q8sWusTx9zHfPD6+a+gBGD8885RHZJal\n",
       "my2L5gkD8LL+bApHxT1o0iUECGNU3gluH+Dm1TkTO3KQWSafRdBGN23IeQGNeG6QegzBUWSHHWSs\n",
       "nzNC2Bxwqhp86Nk+X1AYAPZcVSzIEavMVusdy0SxO7aKM7w75cpSdXQ2IfOBHicBDbTW/DlFMPEL\n",
       "UkTj9pfa3lDDW2Jx+iUA8P4kLm/u7X0Sp6M76WZEItNuSkbQDABX53bZQtgsx0J+GO4SQJBqLL79\n",
       "j4Tq84jepveHO1l+BMyxqTtgROocQTd5Dx3uuxwidZWYfQTktINFmNQr/UuivlqNtLMyJ4zkCYa/\n",
       "4nI8Wk9GVmGHgIBydjzKhDggP8kwp20FXCx3UT4Jjc48SOxItQwdpjpsPsTGLlYNx/4aAlQNOq1R\n",
       "D+DCxZYMniKORQiFt9SNAxGgIwNhfMA7ItBVGpy/c0uuNA9utXt7veG4YpG8nIc7ijOg338dB5bc\n",
       "wpPJiEMXtSuIYHiEtaoB2nQJmo4qQMMOH/X+s/v0GoJPXDm8yRv4zDCP8dGM5R3phgt0d+YdU8O+\n",
       "t4lIWt8coNV4sUPBiJbvDXOOJR767h++J94VYdTEuy/MOTYIvx24BWF+lp9HEfkUHy1NE//8ht2h\n",
       "RcXxpAKFMruom0Kv9XtERtC713aUyc9tCWS6Fa02bjzrowfpI6OhzhER36GW/sW4C6c1f3WP5Hns\n",
       "U9LxXvqXlW6cfQd8L5T1PPzMccvB3VQ7Fm1GjzLGnhw1EqAray1uIEgG9r210+6+1Y/dDlHW4M9B\n",
       "8zHAxetLq2ifcvJm6gFaZdBlm8jA5LqgIBANkUbQB1D/lMixLZ2HSQwnS54uBGk/GBKatQosAu/K\n",
       "CSHc4uFcMSLP2eVW2oV2CRhCkqVji7Zz3lQAOGT4m+7zoX/JPVbv4lSDbax6T3bNhpQXKj0RCSMM\n",
       "UaeXnJ4pWoaVRBnRfTU4elaA7fLnENWIv/qonHK59HQuwENYOHIGERPCGdcqKFw4N49/DxtiPHHr\n",
       "2oZ/h3d+KeiLpXZMZ3IsN19bQoxxwSBvALaApQfZzflN0RMwtQP7zqKCK3hMZaL1FzWkAzhHGl/l\n",
       "xi2LXs7ZWa27Sr2KiA5peH1i2Yg5DI4xpA9LQrypLUBFWaAYzBF3AMLVFI+P7BhHcuFkEZ7Vigcm\n",
       "bzIWmLzZSLs1NAFEUwsCORibRHDKAyLC8qS5sfg6xQS+ObAJHffX+h9QnPNlKEoY13BIk/fGtNaN\n",
       "WyeHjfRdoQEYXUEoUbv15Z9pV6tofV+pbx31zM0Pi4E9XRWvubqMWyJd14v1GVxHWEZiv/pyUNcX\n",
       "D4CDAuGVBTooe+LBRdgyH3Dp0PVDjI6g0HU9/3isbQTOnT8x+nisfJWCadVOTbSJQ4xM+sEUL51O\n",
       "onpaa10MiH0zXo/QiDXIGZh7tQdcUDiFHd7dcxnyvDyzQi2h6UtndnePUQh0OY0WU74FOXvsqf5Q\n",
       "fC2VdHo3Go5z1b49KnKcC5C5Yx4hDwzwsnvdys73NY7m8h39Xf8OnQnzU6895ghaTRvBGbJK4ymz\n",
       "8hHmL4ngtEfp/UAUNDUlN7nAlUAoQk8XWGvnrq4q3YcQYJQvRtKACBCjESOCwFZ6OMy10c97LCip\n",
       "36OXNiDJB6xWML5eIdhQFSGLxnLTCVbtF6980/lmmeV++7JJFruw0vFoIU+qeJo/SaHPc8C9OC/T\n",
       "+H3YB2HqT2GwQXWqaZ0GsY6vqfgQO1kF6DUGRrCh/nhwmVlCWKri5m5NDQD7x0w3O3HAFjOHzXZa\n",
       "SBoP1YoORL3aYISQM1KUplJNFOv3RoOeDI9jba0DIHMS7IR2u353X8CDnRjb2hRmPdB+d9oldi2U\n",
       "/J6IVvxqijKANnHeibAiT6Mml2W7/MwOrPc/NFs28JsrZQ/2vPqbu1rWtoGlTKu8SlXuXyXtOuPY\n",
       "ILQC1L+Ane7uaROlkTSyEwOO+aTdP/rENy6sfaM/K64HRzN9L7ru8s794weXesG9nKI2xEsyZX0E\n",
       "6K6WwUNYgmefLvZMtd9sZ6m5IDIyTYNE5f9O/SV/NGFzz7x0q89P5nEGe8W9PmbuOOFX5uVmdz+H\n",
       "f2v9M6xfQt+M3t079o8nK84W3t4Rs0k7Q9IY3l4UiBFxX04tTvuuVKLVOZCicQBDrQDxQ8thio7Z\n",
       "01l28xRehRh/Gn4c4j+1wfSG9TmzlA1aMUfjS6rgoQaSRh4THXlsNVpHcCalIcuswRMYadBBlIWf\n",
       "4zQrcQLCjVf4JOSa4d7bmWv5DTQHZ81RWALDMdFr5v5YvCToLTtz5+D2GsoxF9QyaIEWHtqcE8MN\n",
       "PywmpPPlUA/qCvEWzWpc7KeMKU2Z9dt5bFYc8w+m5IatGL+nfalndyJ/4fT1it8M5ztKMMfnpNsu\n",
       "ueTc9cQ9Ccx+6fERWaNsXjhEmlK465YbVR/ApqKQB6TEainIv2AO4qkyiJIzMOl1VSgLs5WSmqkq\n",
       "Aico0tdd67MlQHBPBWkVV1f05kN9i/Q3m6RM14qx0zd13lILC/i3MKA3EFiGD4zsIPnvYw3X5jH4\n",
       "S4oPXdfhOhFNXcQ8Cdu/syEfJflYlNaW8L7OMYHn4ZRQGThUX3EZbE0V0q7Cv9bN0v4djauxkcoF\n",
       "unbrM0kj5+H0SMxqFseG0rVcsU9HE4OLggUbFNC+IQHvAdM1SGYxoPqamkVwO6QUonHBMwoF8Sro\n",
       "zVMlJceDnPQe1uaA3BD2JEYF5KE/xmuvB8jXSl4nCoXL40tw/UQcR8XhFfSID9yPj2Z0AHBPfCZM\n",
       "Bb0dHxSu5nHekndLY2VR40Woj6Kg9ynqcqP+W7zdjw+IKTNQxupsr3RUgSeKttbDecIRZHw9WMfp\n",
       "AChsnz0QscaDdRIMvi3YflB5tz7W5+JTjJaDlVV1z2UnmZMNLNbNxacqtv/wgKm60en/vDG9SQQD\n",
       "WWelQ7GSkbGnsrqG5HuzcKsORwpcvS8UNLS3VpIMqP5XfzorLgAZ5Lpg+mJJolm7i6lGtrjTgTI5\n",
       "0INUbpvLnDiXrRxRY9JxqksyX7yC3C/A2x6A4d1XDfxr+8hmB3uwkyNvRuy0t/pPWwUTkHZmeD3l\n",
       "uqJS9d7w2LLNm6Mu6zB6ExvgJXepI73GJD6Isrb1QkLSirIqLIElcL9muZQCxT8+cvhVPjEWYDuS\n",
       "SyVVAOzewPeOKTgchmA7M6CLLq04ytH1z+iTbWV/+tYJq3tGQa0j87Q3lBvjAfDQEBtChm96Vwgq\n",
       "nKlqSlJgyCAZMz9V8+7inZW+vNPOEOsUGbM5vR0ZrBEG9ZeqgtPKqdxeyBvNiALBzj+wQY1ZJFyG\n",
       "iBqzFQuf+veeWryrda+tISTgbLhCox2jaMGfy9xcnhS1p+SJipA/AfcxIqbFjZk32kOqhVht23w7\n",
       "CHmzZwEp5Y8K4ZOtjYnMCvjGH6Qz6w/kWmeZQ+P75H1S+AAYLEzg/UWHm3jCZQJrcJeRn6Gb05DS\n",
       "616gfoNgQQXSSJCOn/VuUHPdto1/yWNWPCCYiGiHR2FL4BykMt3OZsEa5HsPu+x6hwT1VUtqrCIg\n",
       "HvChs1CeBSdvjTA7ORrh0fiy5HBbPNWOstOdOoh+PQ+DlBQAfoL/HWsAbjTeBj/i3mWWsfAoC3yg\n",
       "PIi58/s4MxZ79jzARcJr8ov8ycwCvoD7nvPbUiD29BRXlHqpTwKF3Uxk8LywoMTcwEml8gnmB98a\n",
       "EJALRHJqvmh432JQ8GrDitPER02TIPS7spL0vcKRYN6anZznMaur2w/taz3mU8qyut958wcrs6Gd\n",
       "y/bHzTMZoqO76JkZQoOFT8OEXe/61YIYb3wABQM/fNd7c1hsZgjEFd/67Jlji/2PYYetG92mh5LG\n",
       "O6BQYiaX+amtoUaYh48DY6v1I/b3o8Cz7yzAA0zAtUogH+L4gC9HsuX9Nz30FOemwF6qRqENRrMV\n",
       "ocTMHo2H6JNJBK0ne+Wd655drisOYRurJSMxzOdqsV2dVy0IoJQMl88paEDFBY65svPCB5uHyEmA\n",
       "CcJfLqiduO7tGL/AfIAfhamKVm9lQ209XImiNRxY7Gnw/F1KZwrQAH7eIpiyPvp+roQUPL03UFzb\n",
       "QxnB4FwoZPzW/8a9Lb/fPk3YiVnIeDjUVpPKR+UzpRIAJzKJmHZzpfaQM4NyNeOFG7uV2hYz+EiD\n",
       "m9tzOQPIFsSuPTRXN6a47EA6GQ9SI7rPGOzIwXMBckHo21JOcOLiScwTd4iY7WF0Luwm1K2WmJP7\n",
       "qX3FeDU5sp3jqALmrh1J1cvcML/t6o+j9+CJU2GhynVZyb7B+W6aQpax7W+lcnTPat6ksES065ZS\n",
       "h4FBF9sG7tQD3QpfyF0QVmsloex9/3Jta7ZA2CF1RLNzg7JkXBSQa+5Vr4ACXR/+5BPm2MNssUwl\n",
       "8+sJLpNdaSvjfvd7+OP55mqtfjeytDbgonQ2zoY/VHIiXf9Sf44/Dp1Btf+MMAmfebKvdV/spps9\n",
       "nnI714dKC2IdqB93tPIkgIFdZvxB8gHmZQrEkaJglS8t1YhywRQ6qm96XiwDzelz6uHmnMhI3TNv\n",
       "IaL5O9gtzyvQyibd2tT1yED53rHL7iqAxz0gf+4yHxUcC1yUzJbUXdSmO2NerUlpfVDhM6vt4Y7s\n",
       "1zoZxc/mbartYwijqLAD7S8UDOTewPGCOO3sV1zjK/Inb1YDebUl1D7q1pvsSwMP8CBdB/eiTmhw\n",
       "BNxRv+CX+uv6jcF0PC+4DHps9gRt64aMjJk18n583HagmL36AsZiJRfuIfymENcWxv0A5fCL3S1T\n",
       "iPbSWq+ePRwjOogyelScFFdwDXJ7f8vbR8pPSoSu+e1MwpcGZMQ6xhIUFl1u4Xt5ZJsrAMwrS1Nv\n",
       "BXaLT+x/Hp6mibV/X8NkFHUi/IduBvyOeeTTJy9/h4UxM2MWButrGWd6izW8UD9ouMpO84SnZxS8\n",
       "3oVzSsBcY9QTXfu3uImmDSMbDuXdJEQCsmedLO32KCQkq6HHQ+1gAls8eR4OSCxmQ3btDY8AQzWQ\n",
       "PcNYu0ulrNHRdfdIbDKwfgPfg7dNqRrovgJQUa+JwjtO2WjB6Kc48DZ+26P69D+MXYROQHIFHEsT\n",
       "eBA325YrvxL2mo6FqG4iYT3Kt5bts7cWaxZwDrDOWrDd7QFoyx5DGjSxYx3go7auH5IV1FbT+hg9\n",
       "bzGA28/dMqcGvP3f9gJC+E/5j/alFn5T7ljQwtmMaLtWfqCLbnvhvmqXxuqjwR3H4tOVTis7I7WO\n",
       "ummu3XQaVwwBDZ4gyqjijsWjI6iQ8HbAG+wU4jDYfCpsIlBXEGnnkW1ROcYZG/c2JlviW0UJQobr\n",
       "+i/UfeCGqM9lG2Iwg+MTVj94gsL8LvaV5ERGjzE0nFxACAAAAwEKUuIib4KEQ8TK5l67HHflri8M\n",
       "JMptTBWc6Ycx+/Qias3mmM/UWnD79mon430UIxTaPVYpUjWCm8BgZcCW1ZC/D4meN6Vr2qAx2IK1\n",
       "TbToWqUJj2czX/6dDAgONQ8IWXjLC375aRB89AtgNCMCi5hj6/KICOoBx/jKiowCbbMHMj1QLchH\n",
       "P5PtM6SX9mn/TcZOgUr8wWbzVV/PH7LuftW7ActFK36bSlz1PFMeU7sxPYRGerf681Hcj6qD88ga\n",
       "ALqERo4Wpd/QGo7BTrL2oRVf/LJvrefjKLZmQID2h9HGscBAC2CX1bP/9XI1GQvpLn3ggeaMVcRo\n",
       "wC/VxUzfnExLvha3dYs1v2GVIx2yLKvFKBA0/ARCG8ZzgasW21GYZlbh65TDKqJvHpisPuzE2NR7\n",
       "384MQXMl8a1ZDLr/WzZJvfy2goepJ28CWZRvxAXbdkYvX94XhUNNgOg+DGy0bOE7iOjHu+oaCaxY\n",
       "XXQIHRVACki7b16mTdr0L8QwK2cVw1ZUUT+N4IoAKqbTE6chYW6FtDbgQTSj4QADJAAm4QAABPZB\n",
       "miFsQQ/+qlUADAYfAAHSW4ynxqLISwmokFyQL53+5bWFND9AkZyYaA8vIXO4miJLdGdFCOhPhhMg\n",
       "qWTll4wCD5YMvytLJeGoJfTxtwTH4SSLWEDx/xgC4Rm9s2DJvkH8I5sCr6PqHS7/5pOMTF6x19Sl\n",
       "/iFqpJ/oDQgXWbdU9/KmJeIKtyxGr2/3BSa8WaieauEWDmDFa22JkM53YTSoNU3YKMoMrF8DgdzM\n",
       "aYXCDJaOj4BsBPzOFfsXZ2IACLbmIhK4Y+5M/0jo52qCdDSsk00HgI0aQp+Kgg+4VLphd2GvJbp9\n",
       "bBNprD09hxML6jFvMSkd0vpjiz1yzuHlyfGnsov1bfD7As1Dj2F9DcJoaCvtTcFzv4Mkonzi2jJy\n",
       "LLRnpFdy3F+UZGOXqzPXkraxHhZbz6eiUmaGYGpwFsraOmGvx+cvN7gMeqUEtjPjaZ3q7L/jjsSQ\n",
       "70ekPV1dBskykDljTEHlZbTubgYKgfjPTajpiVsVJPi0GFlN6p6H+KATPPZHkC5a4rFB7J5kM7hG\n",
       "5Q7FzqIUsy8iHRuFXZU/YDd3D3pMWArzOHPP8kgXpqfZfomM0ccfPLIHrbzPYFdoM3tQ91yVq53h\n",
       "99vcakvtzaiABH1w6xGnuT1VoF713hX2MVybkhCD37+gpbYUhDxooQn77mEGB5mDOHMaYbscxbw4\n",
       "jZn4vqSM2DURbT8HNDEXSAMPCAhLL4M3ucHY9ka5YBQCXjSN2xLqQ10Uyjom8MKjUpeGF7FT6T/X\n",
       "llKPzYBNoUjkEOA/9UwDDz8NbiI/fJasdVGF2atECwRkHALZXQPct6RXX/QD/xufbA9g3LqbqOtD\n",
       "6qjLCFkvJjTChc5yBhKsGH4zDmwN3JT8MQPxMJOHCnYIPqrDiqONN1Fy3EnD5peQ2HRUvo4dutc9\n",
       "sVsZhOvciGQc/ho12KnL1ov+W1+XIFj8D4lfLlYLbveNx6og8ZBpZ+j+oc73PdpHGSCLlMWLOuLy\n",
       "tKXqZ3BJB0iab9dh0GPFBfOI9KuwJ7a04uVdR0kI6tHM7nxu0HjmxmvUZz3WJHl0eU0eON/zPaHt\n",
       "uAAKSx4RrOLB8xXLV0ZLEYTXGAfbwYHkmTaziNxXCIPGj4xj2wxkcSgdLPQQCG76rzdJpSlfzESi\n",
       "M9x2mtYPGBJaxGsIGRj7c/exWAR89f3a6DbDN5EPK3vepp9GMyAJL9wuDiDrIut88nFRILtL/7GA\n",
       "px7z/P6E+o8iWI5C/TrUJqbobo7iwHRhdqqFpKKkUr5sk1fZ8n2PjMWSUohiXP2NKv6jNEyHWMsQ\n",
       "RCDUH1oq1D20q5+KW23DrRJaX8DrXD68iFUrMFUZqd8Gc65/LvJxOZ5R3st31yQZHnIkj0Eh/TH5\n",
       "xANWgXgJ09aPU32slj/I48rCXROgJSffmx8i8RkxDFAjW/FoVAQ0iz59bM2tjR9V0QLnQBf2nuzE\n",
       "ShTkgSBQ4b2n4120olLCpFMS5SECUxN8EzQNkmw9SzB7TgxDcRIjx4fj57F36cgPS1PFyn6JhA0c\n",
       "sXVO3XYTU+lARgDqnKMEYidk0+IJEWZAmBGMm6q0rUVATdnPAuMijmkemo3CicEfZziI0JanaEZq\n",
       "ssAAAAMAFdivOwX8Bs9A3dIFz7jBHTXLHddZmC5okmPNldQeE9zqy/BUwIfstRrL7Q0qQsY3GiIG\n",
       "lqkwxZ91XuqNHlytSCkgAAAGYEGaRTwhkymEP//+qZYAFA6baAFfjda54DA/v+fwV0JSnzxQwseE\n",
       "OtLTEG+9lUdu1tTaXRmMH/eCIQsrG4Qn/S3pCBZ0LEdps5Pp/s2ZQJCfcWx3BpksUIN/wW0e0cbG\n",
       "70lUdS8vrrMMsXo6VtlsA/ddAooqT/ypxJmXVQ068R7h88Asxtnh7S/Kup8rH0lXn0We7W5i//zK\n",
       "+XWmvfps5xyUEfxoKCgjEkHJJpXlMsZ+8SIGEzDN6/csAuEHrMyka/i60/BZJXF2FB/4dBZ96daG\n",
       "w7DfdZem4+CNQDfYe8pVt5+KsCNkFEeVEN8DJRBTCAjPQeKxjEJbYq3UNoBEkCcW5WWNpIMsgnYb\n",
       "UPFp50xiqw617awtS3t2Bp99ZDImcY6ugbESeFVBbu+05FMCnqcnR1RYnLGtRjcAng9Jah9N6kDI\n",
       "BfpgtDgUPqtA0uCwbsO7U2EePZT0v95sg/JeqLM/rtw2WIVkYlcUq/uvKMUctkAD6dPOfxnOFVkx\n",
       "WCUeol8gC6oUtB7Bu+M3SIIsYtdB/SOP7PiLXHuh2fpW8CC6u1CRsF3xSHKMlRWRXSQJFa2uOUwy\n",
       "oV0VEaBwz9qGI0MqaWZY7L3tc9ski5kpipBOM1XOAY0mFbPeGLtmSrRvaSMB7vyg1iQqJXSGk4hq\n",
       "P7Xx9fm1S7qXeb2fDaxdZa+T1DbBBF4jZ34Y4lJATGuYYxuB3U/pLn/jIbVyP27wqm1PS/uhGfFC\n",
       "LMnW0IEZXnDzmbxcPO+YWev7SCJ7iyiPjCWwkWG3EUX66XQK3rle+kFtAAYsfOQ97bfQAXHHdedh\n",
       "F1ytEl5d9efvjt0LoIldN1QU6dL+5DBk16/d07H6YNsLCswJLtrqcryp5C9SjP6GTPLuNOS78NFc\n",
       "aLQLDcWtXvf03SIRc8etSMC29gP1v1xivN9+ZZixQzRoeAZtMQ+xAAodG1WCz6S/memLRvwWVQo2\n",
       "qyTY+tuM8w9vadpxPuVGOtZoT+97A3RxDb/xgaCIvTZt513hvXiDxIXjrcCf8LP7wy+/t+93z/rX\n",
       "k8Q1kJmgJ+9QcNdBZS1nOkbPpV/fwan8M05RxJj0Xr4hU/bPFzOsn+yQHBDDWnmKAkrgg6cJz7aE\n",
       "wuLvqMkTFM/dVt5XCE+MC8gnGXGnPzY5ooXObUmJZIdeb6yXEL1a0a7E74LrYs9+jLrmWvVgpyvS\n",
       "GwB/h4yxYUkeM9VQbjLfc63jqacCe+B4RP084ax+RsvTJNVcmlOi9ebaW3/1TqunsPyDoqlFTakk\n",
       "6x3KMTf18TThPNhHhUmaDYTTganKwZVD/CZcFaE2BoLE0D9aMEPwoDcREiAAxiyGRsSCbTe4G8Qv\n",
       "wDd7n8QHXjdM6Wikzw+hnx9GNWBqhyP0aQ8J64nnhPTC1RTfh+XqcnqDtd+/P8/pDPmD0m2NjRDd\n",
       "SQMd/pJx7+OoBe8N9XRsNANTZbvM/QbuEXCmSZxwen/AX4qEEFkR/ZhqB8lk32VAgF3wfZWUzA1C\n",
       "Knew58LysF6b5z6U/4afAdiUWkoOReiM7Nff+z2EcKNQX1Isu3TzUDoqytSs+zLdWsWDHMeM3CvP\n",
       "6IcdNfo7TlnUETGlxlnIDN6nP+eAsYFVlhGPz1bUm1Uw/r9jicFuJprqkN7eQ8uRkkt6kmVX1fuG\n",
       "YG84moM0t4dYQf+xZL5N/7xQ7PmIuefZJugtC22GnmRkTf4EOmocng9bEPmZ0oWBd+9QUaoGo66Q\n",
       "zlyphDjXDw81rGpYnuV2GyX0zALodmGbq36F3GiYDGeQi0HYRMPBBo9d+lM+gTP5W/00XgyxDHWL\n",
       "5YVZO+Gaw/UNE+zp7tXmzRZbxsloSZiFF0PjtTfpOCq74AFtgftPjY10XyiSepUuNjmA9hGwkQY5\n",
       "SDExEd5idg/3p+5Xo/uCn5lV3fDbcsy4d6VLZbohSaIb21G/zCpkOZ1qsgLpKSKp1PpifwH5ubMM\n",
       "p9CKDU/Tpx75dLYdgUMSITaqB4q9nM80DeFxcCaFmcDw/7hTWYLIUeTFooABYejAjF8nkwyI8tDH\n",
       "mQv93GbNZPZzaAee6VG7cfNDUfFxFrmonumOWIDew1+LWp0O08P1p4OIAyjRheDormROtBeSh8sb\n",
       "Q4OorHkP8FsRKpMcwnpH7SA0Hz9qPWc9hn0xy6/v/FrnuAL+IiEAEr8jpTH8CieVAIYkgADpgQAA\n",
       "A+tBnmNqU8O/AAoKrrH7UMUHgA2lBqQdw6q3kfBUVi+7ZsWUklRq9wI+7O6OgY38yhvV15JlNVxo\n",
       "7JTaBxfezklG8C8qNBmI60jXvX/aOHB5T/NHqEHRCc4OEjwi9MF/t8SYjcx9R937OLzXlhz5YkBj\n",
       "fdddnXf1pszobmOITJijEEyS9uFgVM98fQaMq1JNyHKGg/otBEAXhZI3iRp7/S4hRfvrnlnS7xE9\n",
       "qYfPNgaNKjTWuISoid0pif2nZyblqcaZSY0P4Vv3vEvpE3UeNFJnz786g4J09iG+f/a9WFg8P/Zk\n",
       "l6yOqTxRvD+NQLn/onSwgBlapu1k9l4rjglz8FeaAjOpWes5nFqQlAax4p+nYyVB+c0USkwSZy6p\n",
       "uTnD9JhoNsOxiTFR0uefCvOjowC8e/dZoUO16ykH0Q/nbqAY01lA73RPGsA00YmQ7JFzlQsnGhF1\n",
       "UBmkMi+UfcLqMTWdPBhqeYpovsoDFanM8V9Hni8WTEnjj8FRAdwp5iz65+fpgn4LnPNweewg4XWO\n",
       "kaSQtkfIg63tM38j2+b2C6cS0mxmk0I9swBYGKv0Ti6z4Cgeq9VHuLNW0X0zoqWfmMo0tL0RII71\n",
       "iCjntoiZxO3gttUqM8pbXJAy+wnPpeW7c/aEdu2XoV6hRe1Fh4MTLelfIyARVeWZd1dbAQKvdqrX\n",
       "vrbqolvEQlQ2pXCXC3vruMestjRt3KW+apQyMv7bMCGHSPi019tjFyt/Ri3O4ADEJcvOVgQv0/Bt\n",
       "KWN8mGsqvk7DTg3NSI34kEvTekmEW2/+f/1JQF1QgwLR5VfA4h3FFSMDIDeF4JRN2/GunMEyWJV6\n",
       "KL6c1UvRfKGX4q8TXebn+tmyWH+5P+5rmP2x3Q/pVtCNDSMqy2BCHCIpX1SDj7oFABhteYURpmWz\n",
       "qk1JypANSGo4PR996iX/5Z8zM9i6fmG6EL4DZniDIHYScQFSRiKqFCywJ0mCYbCVbtowpXbfkW0b\n",
       "wiSBDB0+43lqgK2Ph5lezqwtPjkEhnldR2Px1Dwd/XzVkNs7lr8ykJKEb4vAs/SxmrrMAdst6aBU\n",
       "QrIHdzuF5Qav5/L8j7LNo4dmhNp1iD0nI6N9u5q5iRb+xXDs1/0ieocEN7iY7ILpLnelMFIKO9/x\n",
       "9o/Kley19Kg+9sjHMoGJCgsX6VxgJxK/Vfb6ys3ISqTQyo2Dhqa+SdxgdK1Wy6PdJlZGjRb//6uo\n",
       "f5DizAuv273ZlqiUH8OA/qVWCj+FwzdX8ABPkxjQMQCSxb/k65uN/TN3yubZbrvPmeNNkSeGfdPJ\n",
       "aOKVsmFpo1QUcmsXdaxJ8Fb7LzkrzTEWPlBjQVcdFgWgAA+YAAAEtgGegnRDfwANMhXO1wGaVjaN\n",
       "5S0GwAfwfM5Plc/38f3tr1vAf5rQvJIP35nWbcs5wpEry8eFnBJyX4oZtHFOTSeMf/tD61lECjld\n",
       "pimTZE6QwbPws5MltpGSR2st7rEzoOrYYdbGGd6hTKa48KE0sggFNXeTUD7aZQnqpbdMzKaHpV9l\n",
       "CALd0S0ilg22jSFW7Gk+MsARd0SfnqL3ePYY3kTyDblQTn0pvxscN+OUeNbfBWoOz3dTVblthepa\n",
       "s3YKHyi0139HJOMAT2OmKxpsnciYh8spaYdjzg1CCxLjDwDIb7/TIAmQ3zZ8ocZii/R1A4og3uj3\n",
       "FyS9WPFn3eyGb6w5SRXf2Xny+sRT99UG0Mm9cHTPm1UTwoFePI+/Le50hVjwQa0zxjPJtzJaBh5a\n",
       "HbuoaYR2oionmdxZ5THZB5TzofUPG5v0yz9aXDlHkMCb+WLZWj70XvJhLb75gU+E4+vp8RCmS0QN\n",
       "QGedmmAb1AAf5m3f/XCb+Xq734ddoN72ZAKjzPngytF5aaE2ucRtB1gLSqezwFBiBCAmaFKnG/1X\n",
       "v4aGK3i1F5GEzXZglovH4QQljdF1Wkww7TdqTadQA4KQH88W9TmoQsiilhR5JHKqhH5AoWSVlqOP\n",
       "8u/qtelMXkTQxfbC7ciH3JiFu+CtpMvNfThkn/1OEuQUhHz+8xcHhS5oEILI88B4pPhE4CKQtjUh\n",
       "JS+YwWsCA1MxGvwTsFqkDmC0uYCnuF4MqWxZD1hZaecTXF+eNPYS8Yum4HtacIILLQ1D25QhIQRt\n",
       "fsGlq5QxCA0sukmzLnbqBHE0rDf/IzYOwTnzgmA0wo7/mI6oAo679e8rmtQn/UOoAV9ciY86tpHY\n",
       "jN1Qu7W1+A+U2zdHgFFs/hXaagqjuN34vpwtAEE5uqSWb5+4xDQ7OyeYtai5NCq+8AHzIRlNqIQj\n",
       "mcywXYmBJiJc9CIOEMC+6tZmVyrcR4qSjK6xY1Z8E5mYUDu/LAhAowl8ugQl6eh/WcjWr7PxzKPk\n",
       "PzxXoiHd9PVmBvfRpuuqpfDg22oV70T5K3PJuyzA2wiwgksZhOM7zTQMhw8Zxpy6RGklsZd2vH4P\n",
       "Uv7+MGljzLXXuqTf6piFq3LFvXmJgBq4oFVEPL3axzni1Qt7RZkdz7MOgPExjGialxy0l1jYmdos\n",
       "UuDE2HWtNJbZn2hIlyU1ICthCx61+CDO1Mvv3yBs7Qbhq7NkXEOHLBFE5YsrzXg5Y/U/oQFWEH9g\n",
       "gCbB5Xc8UQsaXAX7K6tzXe/QTCXWXZqUCWvLxW1HrUAB+9RzNQilVdAptHYD425btWJZQm/KCtqA\n",
       "JzBxJMRNsDUGhX4ffLqS6fXZ3rcdrkkdmZo6Y2M34DqO4yX1nO0HMNFnDsfF+68oevFevVUl6NTK\n",
       "0eWqvkRM9MTcxvz3kc+4xyJu14QOj+BH/nkOnyMDHEghtriHm2lwNBHBEHBOhwCb2otBOgYeljl7\n",
       "95BtKinQxduYwVBS2But4Zb0UHLkOW1jRpNXgXfW0WMIkUHGeLTdHFAvZInEalcBTJyMFa7fAj4P\n",
       "LMoec35qjBcudw2albTSjiqLFwb65zG3Jl2A04QkvB3xf2fq5PCoAY5pdTy45iAD5wAAAl0BnoRq\n",
       "Q38ADilCDHkAEP1rNetulguICbROA/uwQzFCO7Lrjw+2c7QWgTFJxVyg5y8jjHaCq5vmt6TSlY8I\n",
       "7Cj3txOILrwmFLzvP9wNQp+0IWs3nmYk1b/RmCbEEJg1gPUYCci9pLHwEwDnU2xhL5/0XmR6mNtH\n",
       "MK921FJIxwWSPKfEyuEmNgNSAKPsMEraV0AZvAEzELozndxdcKXbkeer3ln6YlgsP+C7PKrmrvaR\n",
       "/4Ge6jPQQ39MfcHTw/4005yqKM4+oor/zd5IAaQ9ROiD3WePOyz0hO4lYaaHKrNHISmiNlCMnn4w\n",
       "zAK+PCpH3hZf4xOe7k0ccIkxdWmQ5ow1mBqG8UpyVXRySKPx8nCk2aWPQFY8o97oN0DdeAsxUzQR\n",
       "nx7wu2N2YQNBwgCyJ0flZdYRJvzDaVtz3tUsC7j+Y7CXiJVaRJDiTYVjl+AtqfVqtFMieJTcRIcP\n",
       "skYq9TJERHPj9e7Fe7yw/XX2O5ZC4JaCKGNVYgG+6Ubs9S70mi40J7f2wI0c0H1a/OmLUjZxQz3v\n",
       "hjB/awV+tvlRuuh8Hjs1JBU8RNDZsuwqYeHsl66Zk44vFI7QdCAokdMlqLfDSvKV+hGil6GJv8mm\n",
       "K8LRIf/0SMrab75x24NbIupQY54/5c2NqsMOyVXNCrma87jMHQfSSzzRUzbA5jGRXE9gxMICx8yD\n",
       "HW0dVI3+ZHVYHjeUdBtEjghQ/tRhyudtkrYQwCdD1+susfNQbbvR2/kE4tKz2zVc3CZi4VMHWLRN\n",
       "7eN2zxSWQ+Qh8DwV5+tbHuekHmLVlkj0tOwvIAACvwAABFZBmoZJqEFomUwIIf/+qlUABSxgnZ/A\n",
       "CCHzBTqlNRsftQvlxG5tHI5nMCaSRkkOqoA63wh1GsioOIVoDR0eaCpLa7KFyw758dKlI6mPlnhd\n",
       "Sk/txwu/5VeYCP867i3cGA65+TX2zLArdpRn40WGscPRAbPoLDhJt8zQbVoEYRbiRS95e6EBOd56\n",
       "EztdYEJh9Y50mOX9HB5J58Wp+qf+OFVgrUY3JfN87+Lhd6WLpe7WbMsOIU+4MYXruDKXtFp2QUu0\n",
       "CJpWHdX42m6vA4pLhMiRFB1hHxnk3dFK1BoqUHMpY8x9km2053ypZQtOJgxFSZhH/ICwdziTvr9U\n",
       "J8igGOk24Xvb82ftru8N9IJoYUPk1EnibGvXJSMgiLcq0YfQA65vFDkO0BJdR//pW8Ch78GFJ96k\n",
       "DkQzqmZm8iQKFZXyzknMVmJgsrssnm4J26jTkedim+nroLW+79GyqzvFWjmA0aCFDHptzX7gi3b3\n",
       "6AFjEytdVOH6D1UsHSecepxHXaiDgHrtPexV/0LfkCgA4byh7AXTxUgkoWUe5Mx4lMamu1DWjo1w\n",
       "2gNK9qB4MH1D9L+6SHeLveRUi+n3uqIM5WqDwzicyA9MAy9cMbjhMwHsUkZquplhj93hlTE9Vo/N\n",
       "vtK6iEHMcNGovpAZCHh6gXSpP2qItQ8QimXWBQnfyXiR8UlxiOhNDUuBvu+owVkQe8n5c9f0h5ly\n",
       "CGjUDszw2bsjIHSj/X2DzoakrQ1QR6dKmDS1fFxg8qEO92DZo4jqGqIp2v3tj5qCaAXC9Bhi9jrX\n",
       "IXEHFuZqUI7fd7UZOw3QbjPfqSMlhFpbb3iFm346DUfh0KVy14Wm/Yp7QishTvMTeTQwjeIT8Z+w\n",
       "sK703NjPt2PSszqiGzi4U8jXGfziHlKcFLaaWwJnyoNDm1th/Ye7OFsBoJ45C0J52/jv3s6XNli9\n",
       "3pQ0ruLm76o3xfvTqKp1xCnuqed8QAXUi9jrh0Kxzq53ezUdGwB38p/S/poWb/U+MRC7QY1AE1/G\n",
       "ndBRy5EJdOF4CIagOIxRjsyHtl6BeCkb23adCCoCVZDG2OYRXafSphsrM1xtjEhCPJIBVfLYHTZb\n",
       "lMfLdZb7vTasvSlnRpAxLvG/RMGokQ/vbR7Rc2wxksDrmyKeu3WkB+QaqVO5DJ7dYncoBHDAM9G2\n",
       "JDyuF8lwyfMDoKoOs/82CdB7+bLJT5yn509yUV8my71YBZi/zapfOgpTZXkKv/Rma4Pr4ALDQhqj\n",
       "2UmhOAtIVLHnHwd1A+J447zNQOY9+MyBXELpGEYwtCCX3zwyn0QgaWc5zvtLbkQT66pvnc7QTet/\n",
       "p00fftTTn5xRSylQY+uGOyLTMOlDAPgxp1y6/n2prfdRXpWnI2b6TimYINK8sjNjf4dP8y3jZGSf\n",
       "RLziahMYpaFZP0Ac065yk3ZmR6f8dJMRuGj/V5ExeOCx70haSRUz2r7HUUNkohf//mjoEJR8hBD+\n",
       "0x12qmEAAAO+QZqnSeEKUmUwIIf//qpVAAUnxN4ARiiBSXa7pBnaDmwz8cZBuXqU0qwwJ9zRbi5D\n",
       "2X26PjsQ6ThzZbA9Lfnnlyi6r0HNnY1oys6Op681jYp89WSOYHyC0LFP7moGzR8C/GgxHWshFPBQ\n",
       "Vhbn1tL/Syi8vWqSS8W4B1QvTLNHPbeAU+Oxy9CpyxfAhGirXnWjdIj1HmwOraTiRMDIw6b/nDv9\n",
       "Et5why/vCqc73GXW9MVlEtk8b9n6RWj+r0VK77nrisg68iOWoS5UK1tOEj87JrOTKjYE2EvLzHKz\n",
       "Gyhw7ywGgTWOOzFk1fb8Fvl2Ve6H4zMsg+6iWkQ1Jlb2CSsGUXcxzzuTtrnomqjSL6yCdmRw75uv\n",
       "WaGwqUwnPh35e8OY3568UXh5mNwLtsJO5h8UEyAR3rVkK32zwG4lFWSm9VceGUQd3bw1UlRlObp+\n",
       "4mlDGA2SgJ7vclsvj2u2GG9zClh/qBqDoBWByJW6p1r99wskdt4XZlMpSQ2t9UJwaFiogTBGvQAy\n",
       "lLkZGiGUdTtR+hzSN8txzEB7H525WwkgAQLfd+thV0ux3gpyPI80ASwH7cRIGx/i8KKipuTMiXU6\n",
       "LwPiRRTb1BJOBKC928ojbcSzb847Tud0MaOHk2mqrapB3uOQxNfaejjTyxwGrg97DtgNPtuNbA+S\n",
       "2VYmMAbRzW0F82/4xFB8SsqOlnTObzdX5MdJOgYzl+EmZABalLdNEkvihVBVoHA6VmVSJ1dPe2p1\n",
       "+ZdGV/3k1BO+zNRdVAb9nD6hJy0V7npcCuKJBWeBVAp+DQPwZwQqwvkaUvwYKHG/CfnzuB4l1QJQ\n",
       "NOk0AYdpxg0x99hEnd8yWtX/UqF9eHN76WEQCn8M4p+YgKX6jMCr6V7gm8BlWx2DBQylhfe7VCw+\n",
       "cIvzhjWqs13cf0yu5BNE/PjSlle8DeqXpxeZzbWyJZ/6P9O8kyHOIxhKqpI/tLTuSQsTVyytEtfx\n",
       "ygBxBPuWQH0NWo5D/i1/B2TgBoeqUvXhSyCWqRF/QO8eOvvjM9yRvubqQkICDnNIcRwYE4Y6jobk\n",
       "2JRL7B8e6AniemwLm7CMOk7p5fmxckICAxqpAt+sLenUOLPDfagaEAPU8R6DDXolp7TjXyW1K2XR\n",
       "nZ8nxffzppz+md5Bs9bjGyZ6CTVYO8SN14IWJSbJC88sOT+h2qsrr7jQoUrVrZHYn9hPzC+UNqmF\n",
       "QGTvXHqwexC4Q18cxAgALEtUU1XHot2hJEbsfdjInX9HTMS+CCC4QHVZChZT8aJeINaLcwAFDQAA\n",
       "ArhBmshJ4Q6JlMCCP/61KoAClFDqABuiSsh1VgnJ2WyKkxh8VooOSI1XtZiA0dIvKPjco/iAUA5Z\n",
       "IX7JsD8mRdJRRd+qen5Vc1oNQDFeC71GjFIgofpbae1D+KlYhA/cj+fd4bP6uY/pMZQ/6D8EB9wW\n",
       "DzfvFbAnXzGIgdl/+HKwUheAAA8WvoNLFIi5oDykFdBYn1vEPpmS46twBf+/neWYgZTMfZAbPrck\n",
       "hU0gc9Eq12tM2PkwrTrssd8hanFnHoVNchYh19eBXqDzPNqKSKDMgle4zVhnI22Qz5SdfbteqgrI\n",
       "4zlgvtjX2HsKxDmDNGRIs5+maRGpu9qjz/3bntsh4ugKEnkO2YLZTFvTq/ih8IKbo9G4rAK+ff2y\n",
       "tKaBWkRajZGMwIgEf7JN3KzaXbmMEyIyJqpgPNCTsMCIOqym+PQfRRdS8/cELAURKjfPeuIDaiH0\n",
       "QKL1UaZYXmx6+1JWY9K2Li3OyjFgFQnEji/KNYOWUhWIEpawZvNXOEttWH9GOs52zZzFMb4FzoYE\n",
       "uBya1+by+D5T2lozd9/MMWrqAyvRZOS2jawujoVlsuBOtaaMe3v65cBwJubsRJhQKyGXRiKDXkCl\n",
       "DTLh6bVV2DsdZJ1vFxaX+PXhEzIrLySr2eZMCXrRjetuYfN29PQaKbMEJvaltOo0uHjoKLwMyLJN\n",
       "08e7xP7oQLlTdov7CKG/qZ54RqErpQoHy6PwZVFqyxPRljchQkSp08mjjvsSN9Oo+pfm037zmJDw\n",
       "Q9yH/s6DteW6A8EFHYWw4SMHFAQr9GiQr3YZQzG8LneX0Ddv+L3hGZbCKMWlhF/lI4sBA1YaWq9y\n",
       "NNjKNXiN54QmbIjxfEkpvKP0zXpOwHRBMnwKn/7zZUxNsGj2aDFti4L2HKVn1E3gAFnHHoITLbvx\n",
       "XtugCWjsZSGkmwYADZgAAAJDQZrsSeEPJlMCCH/+qlUABSp5gwwAbhmpKBZ32qEBo+b+owGUppGD\n",
       "gUMHH+mrcqHt+L8QqMarEY8IuM0vrCx/CgZeI7DJoYIY8mgse/aWLCxVIqXxOaoRopINq9ksaehn\n",
       "ucaQvd+zWhHydks7VZ+/z5cTKfHzgoPzwMAnayk2RiHZkeZMZNx6NWFpFQj/lbsaOfR2SMAcY3jC\n",
       "QFo8PtEVL7xEuW6QjSqEu7BtvTEJK/TvJ/ZQ4UR2gyVV5ZGloQ+kTZ67j64AtgSgTK65ilbrW2x1\n",
       "Oip7T1iOmL6cxfvoibPI2e1r86RzvptRFegZXwOJupZL+dKC+6Kd1BEPU91nZGlXVUYTU3k8bMpb\n",
       "Ud7+AKIb0Br4xC1pxGL8Cn0AUNtG5xpmZl6/kavaHn6AaGbn6hBUHgpmsyJXwZxHdq8l7da2po6G\n",
       "O+w0B3ermIvhmpqi1nldkglfBj/IWY/OXvaREUv8k2O7gZVW30hYKrycNscqW4qtg+CkMVQf8kUt\n",
       "cocTAnvsdzbr3qjYOwPL64Y2AJRX4ZvxSLj254u7UxqkZdhws20a+e27aioh9BdntkgGhkVYq+Sj\n",
       "HwJx5PQlPdmzDDRTTGylW6+oydDILEU3jMlMcj84lVPJsON/DHa62zYxYSAHXzQlmHaTFfecOg1n\n",
       "X1py30z8WCTTSwL2pr1Dx5m9AM5MsgUG4whAL66PhHb1LYWN/FCTusaHuQXdB4GHCRT3B/u0ZEga\n",
       "aGv78VYqDFQqmEvzI4diruXyCyUSlkPKAAeEAAAAXUGfCkURPDv/AAnDq30AE7T00yzARTg2MxNS\n",
       "7DR2tFIC/pfb6yGoFhzxX+Szo2jisHoTQ5q82vNhOK8w3OR3hdloIQxOjnl+2Dz/yp916DrOI1Y1\n",
       "sVZSrrzewABKwQAAADEBnyl0Q38ADXwplWFFW7CevstBABsf61TI+fU/ff4Fr8aPB+uDllAb6Oic\n",
       "zSqgAGVAAAAAJAGfK2pDfwAHw7nLVh0EpKbvYyG7vGeLj6ujtYOHVyhV0QABLwAAAERBmzBJqEFo\n",
       "mUwIf//+qZYAFA7AmAEr+VA8PlYXWkTt4o9fwSaeKmqDrBqj7upRoDKGZgbGi6jNMN4U82LRmj1H\n",
       "HgArYQAAACRBn05FESw7/wAEgcrQ3RX8rFzLrO7Ic/UvIkaZ5epPEQAAYsEAAAAbAZ9tdEN/AA4m\n",
       "nhqstnjgeOBARGB0azAAAOqBAAAAFQGfb2pDfwADtlEW62oMOblgM0gE7AAAABtBm3NJqEFsmUwI\n",
       "b//+p4QAENUHtlzVo8AAXkAAAAAaQZ+SQhv/AAO2pWQRONUzjFlkRgR1HQAAFJEAAAAZAZ+xaRDf\n",
       "AAYgVLnEDTaMrKI2NUg5OgAZ8AAABAdtb292AAAAbG12aGQAAAAAAAAAAAAAAAAAAAPoAAAH0AAB\n",
       "AAABAAAAAAAAAAAAAAAAAQAAAAAAAAAAAAAAAAAAAAEAAAAAAAAAAAAAAAAAAEAAAAAAAAAAAAAA\n",
       "AAAAAAAAAAAAAAAAAAAAAAAAAAACAAADMXRyYWsAAABcdGtoZAAAAAMAAAAAAAAAAAAAAAEAAAAA\n",
       "AAAH0AAAAAAAAAAAAAAAAAAAAAAAAQAAAAAAAAAAAAAAAAAAAAEAAAAAAAAAAAAAAAAAAEAAAAAB\n",
       "9AAAAZAAAAAAACRlZHRzAAAAHGVsc3QAAAAAAAAAAQAAB9AAAAgAAAEAAAAAAqltZGlhAAAAIG1k\n",
       "aGQAAAAAAAAAAAAAAAAAACgAAABQAFXEAAAAAAAtaGRscgAAAAAAAAAAdmlkZQAAAAAAAAAAAAAA\n",
       "AFZpZGVvSGFuZGxlcgAAAAJUbWluZgAAABR2bWhkAAAAAQAAAAAAAAAAAAAAJGRpbmYAAAAcZHJl\n",
       "ZgAAAAAAAAABAAAADHVybCAAAAABAAACFHN0YmwAAAC0c3RzZAAAAAAAAAABAAAApGF2YzEAAAAA\n",
       "AAAAAQAAAAAAAAAAAAAAAAAAAAAB9AGQAEgAAABIAAAAAAAAAAEAAAAAAAAAAAAAAAAAAAAAAAAA\n",
       "AAAAAAAAAAAAAAAAAAAY//8AAAAyYXZjQwFkABb/4QAZZ2QAFqzZQIAz5+EAAAMAAQAAAwAUDxYt\n",
       "lgEABmjr48siwAAAABx1dWlka2hA8l8kT8W6OaUbzwMj8wAAAAAAAAAYc3R0cwAAAAAAAAABAAAA\n",
       "FAAABAAAAAAUc3RzcwAAAAAAAAABAAAAAQAAAJhjdHRzAAAAAAAAABEAAAACAAAIAAAAAAEAABQA\n",
       "AAAAAQAACAAAAAABAAAAAAAAAAEAAAQAAAAAAwAACAAAAAABAAAUAAAAAAEAAAgAAAAAAQAAAAAA\n",
       "AAABAAAEAAAAAAEAABQAAAAAAQAACAAAAAABAAAAAAAAAAEAAAQAAAAAAQAAEAAAAAABAAAIAAAA\n",
       "AAEAAAAAAAAAHHN0c2MAAAAAAAAAAQAAAAEAAAAUAAAAAQAAAGRzdHN6AAAAAAAAAAAAAAAUAAAd\n",
       "pQAABPoAAAZkAAAD7wAABLoAAAJhAAAEWgAAA8IAAAK8AAACRwAAAGEAAAA1AAAAKAAAAEgAAAAo\n",
       "AAAAHwAAABkAAAAfAAAAHgAAAB0AAAAUc3RjbwAAAAAAAAABAAAALAAAAGJ1ZHRhAAAAWm1ldGEA\n",
       "AAAAAAAAIWhkbHIAAAAAAAAAAG1kaXJhcHBsAAAAAAAAAAAAAAAALWlsc3QAAAAlqXRvbwAAAB1k\n",
       "YXRhAAAAAQAAAABMYXZmNTYuNDAuMTAx\n",
       "\">\n",
       "  Your browser does not support the video tag.\n",
       "</video>"
      ],
      "text/plain": [
       "<matplotlib.animation.FuncAnimation at 0x7f3a5625bf60>"
      ]
     },
     "execution_count": 26,
     "metadata": {},
     "output_type": "execute_result"
    }
   ],
   "source": [
    "fig = plt.figure(dpi=100, figsize=(5, 4))\n",
    "plt.scatter(x,y)\n",
    "line, = plt.plot(x,lin(a_guess,b_guess,x))\n",
    "plt.close()\n",
    "\n",
    "def animate(i):\n",
    "    line.set_ydata(lin(a_guess,b_guess,x))\n",
    "    for i in range(30): upd()\n",
    "    return line,\n",
    "\n",
    "ani = animation.FuncAnimation(fig, animate, np.arange(0, 20), interval=100)\n",
    "ani"
   ]
  },
  {
   "cell_type": "code",
   "execution_count": null,
   "metadata": {
    "collapsed": true
   },
   "outputs": [],
   "source": []
  }
 ],
 "metadata": {
  "kernelspec": {
   "display_name": "Python 3",
   "language": "python",
   "name": "python3"
  },
  "language_info": {
   "codemirror_mode": {
    "name": "ipython",
    "version": 3
   },
   "file_extension": ".py",
   "mimetype": "text/x-python",
   "name": "python",
   "nbconvert_exporter": "python",
   "pygments_lexer": "ipython3",
   "version": "3.6.4"
  },
  "nav_menu": {},
  "toc": {
   "colors": {
    "hover_highlight": "#DAA520",
    "navigate_num": "#000000",
    "navigate_text": "#333333",
    "running_highlight": "#FF0000",
    "selected_highlight": "#FFD700",
    "sidebar_border": "#EEEEEE",
    "wrapper_background": "#FFFFFF"
   },
   "moveMenuLeft": true,
   "nav_menu": {
    "height": "116px",
    "width": "251px"
   },
   "navigate_menu": true,
   "number_sections": true,
   "sideBar": true,
   "threshold": 4,
   "toc_cell": true,
   "toc_section_display": "block",
   "toc_window_display": false,
   "widenNotebook": false
  },
  "widgets": {
   "state": {},
   "version": "1.1.2"
  }
 },
 "nbformat": 4,
 "nbformat_minor": 1
}
