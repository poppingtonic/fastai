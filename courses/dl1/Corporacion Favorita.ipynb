{
 "cells": [
  {
   "cell_type": "code",
   "execution_count": 1,
   "metadata": {},
   "outputs": [],
   "source": [
    "%matplotlib inline\n",
    "%reload_ext autoreload\n",
    "%autoreload 2"
   ]
  },
  {
   "cell_type": "code",
   "execution_count": 2,
   "metadata": {},
   "outputs": [],
   "source": [
    "from fastai.structured import *\n",
    "from fastai.column_data import *\n",
    "np.set_printoptions(threshold=50, edgeitems=20)\n",
    "\n",
    "PATH='data/corporacion-favorita/'"
   ]
  },
  {
   "cell_type": "code",
   "execution_count": 6,
   "metadata": {
    "collapsed": true
   },
   "outputs": [],
   "source": [
    "table_names = ['oil', 'test', 'items', 'train', 'stores', 'transactions', 'holidays_events']\n",
    "types = {'train': {'id': 'int64',\n",
    "                   'item_nbr': 'int32',\n",
    "                   'store_nbr': 'int8',\n",
    "                   'unit_sales': 'float32',\n",
    "                   'onpromotion': 'object'},\n",
    "         'oil': {'dcoilwitco': 'float32'}, \n",
    "         'test': {}, \n",
    "         'items': {'item_nbr': 'int32',\n",
    "                   'class': 'int32',\n",
    "                   'perishable': 'int8',\n",
    "                   ''}, \n",
    "         'stores': {}, \n",
    "         'transactions': {}, \n",
    "         'holidays_events': {'date': 'date'}}"
   ]
  },
  {
   "cell_type": "code",
   "execution_count": null,
   "metadata": {
    "collapsed": true
   },
   "outputs": [],
   "source": [
    "tables = [pd.read_csv(f'{PATH}{fname}.csv', ) for fname in table_names]"
   ]
  },
  {
   "cell_type": "code",
   "execution_count": 3,
   "metadata": {},
   "outputs": [
    {
     "data": {
      "text/plain": [
       "'/home/bmn/src/ai.learn/fast.ai/fastai/courses/dl1'"
      ]
     },
     "execution_count": 3,
     "metadata": {},
     "output_type": "execute_result"
    }
   ],
   "source": [
    "import os; os.getcwd()"
   ]
  },
  {
   "cell_type": "code",
   "execution_count": 4,
   "metadata": {},
   "outputs": [
    {
     "name": "stdout",
     "output_type": "stream",
     "text": [
      "adamw-sgdw-demo.ipynb\r\n",
      "Amazon Fine Food.ipynb\r\n",
      "blood-cells-classification-resnext.ipynb\r\n",
      "blood-cells.ipynb\r\n",
      "cifar10.ipynb\r\n",
      "cifar10-simplenet.ipynb\r\n",
      "collaborative-filtering-from-scratch-pytorch.ipynb\r\n",
      "Corporacion Favorita.ipynb\r\n",
      "\u001b[0m\u001b[01;36mdata\u001b[0m@\r\n",
      "embedding_refactoring_unit_tests.ipynb\r\n",
      "\u001b[01;34mexcel\u001b[0m/\r\n",
      "\u001b[01;36mfastai\u001b[0m@\r\n",
      "fish.ipynb\r\n",
      "\u001b[01;34mimages\u001b[0m/\r\n",
      "Jigsaw Toxic Comment Classification.ipynb\r\n",
      "keras_lesson1.ipynb\r\n",
      "lang_model-arxiv.ipynb\r\n",
      "lang_model.ipynb\r\n",
      "language-model.ipynb\r\n",
      "lesson1.ipynb\r\n",
      "lesson1-rxt50-Copy1.ipynb\r\n",
      "lesson1-rxt50-Copy2.ipynb\r\n",
      "lesson1-rxt50.ipynb\r\n",
      "lesson1-vgg.ipynb\r\n",
      "lesson2-image_models.ipynb\r\n",
      "lesson3-rossman.ipynb\r\n",
      "lesson4-imdb.ipynb\r\n",
      "lesson5-movielens.ipynb\r\n",
      "lesson6-rnn.ipynb\r\n",
      "lesson6-sgd.ipynb\r\n",
      "lesson7-CAM.ipynb\r\n",
      "lesson7-cifar10.ipynb\r\n",
      "nasnet.ipynb\r\n",
      "nlp-arxiv.ipynb\r\n",
      "nlp.ipynb\r\n",
      "numer.ai solenoid #1.ipynb\r\n",
      "{PATH}labels.csv\r\n",
      "planet_cv.ipynb\r\n",
      "planet.py\r\n",
      "plant_disease_detection_resnext50.ipynb\r\n",
      "plant.ipynb\r\n",
      "PlantVillage Plant Disease Detection.ipynb\r\n",
      "Porto Seguro Safe Driver Prediction.ipynb\r\n",
      "\u001b[01;34mppt\u001b[0m/\r\n",
      "\u001b[01;34m__pycache__\u001b[0m/\r\n",
      "resnext50-dogbreeds.ipynb\r\n",
      "resnext50-dogscats.ipynb\r\n",
      "RNN Tutorial.ipynb\r\n",
      "rossman_exp.py\r\n",
      "\u001b[01;34mscripts\u001b[0m/\r\n",
      "sentiment140.ipynb\r\n",
      "Sentiment140.ipynb\r\n",
      "SPIDERS! SCORPIONS!.ipynb\r\n",
      "Swahili Wikipedia.ipynb\r\n",
      "test comics.ipynb\r\n",
      "test_transforms.ipynb\r\n",
      "wid2018.ipynb\r\n",
      "\u001b[01;34mx\u001b[0m/\r\n",
      "xor.ipynb\r\n"
     ]
    }
   ],
   "source": [
    "ls"
   ]
  },
  {
   "cell_type": "code",
   "execution_count": null,
   "metadata": {
    "collapsed": true
   },
   "outputs": [],
   "source": []
  }
 ],
 "metadata": {
  "kernelspec": {
   "display_name": "Python 3",
   "language": "python",
   "name": "python3"
  },
  "language_info": {
   "codemirror_mode": {
    "name": "ipython",
    "version": 3
   },
   "file_extension": ".py",
   "mimetype": "text/x-python",
   "name": "python",
   "nbconvert_exporter": "python",
   "pygments_lexer": "ipython3",
   "version": "3.6.4"
  }
 },
 "nbformat": 4,
 "nbformat_minor": 2
}
